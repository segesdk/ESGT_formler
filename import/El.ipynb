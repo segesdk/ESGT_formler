{
 "cells": [
  {
   "attachments": {},
   "cell_type": "markdown",
   "metadata": {},
   "source": [
    "# **El**\n",
    "\n",
    "## **Bedriftsaftryk**\n",
    "\n",
    "$$ El = (E_{ind} - E_{egen}) \\cdot O_{el}$$\n",
    "\n",
    "Hvor: \n",
    "\n",
    "* E<sub>ind</sub>: indkøbt el (blanding af vedvarende og fossile energikilder) = indtastes af bruger [kWh]\n",
    "* E<sub>egen</sub>: egenproduceret el = indtastes af bruger [kWh] (OBS hvis E<sub>egen</sub> > E<sub>ind</sub>, sættes strømforbruget til 0, da man ellers risikerer greenwashing)\n",
    "* O<sub>el</sub>: omregningsfaktor for el = 0,136 [kg CO2/kWh] [link](https://seges.sharepoint.com/:x:/s/GreenAction/EVQQ6Qbgx0VAor-_FAIU2QQBsfQB4lRJfW1TxuOVm5ZJCg?e=Xqmu2x) Kolonne AA\n",
    "\n",
    "\n",
    "## **Produktaftryk (mark)**\n",
    "\n",
    "El der skal indgå i beregningen til produktaftrykket, findes ved at trække egenproduceret el fra total forbruget af el.\n",
    "\n",
    "**Vanding**\n",
    "\n",
    "For at finde produktaftrykket, P, er det nødvendigt at fordele det samlede elforbrug fra vanding på de afgrøder/marker, der vandes. \n",
    "I MO kendes oplysningen på mark “kan vandes”, men oftest er det ikke oplyst om marken reelt _er_ vandet. Derfor kan vi i første version af produktaftrykket fordele el forbruget i marken på marker der kan vandes.\n",
    "\n",
    "$$P_{a, el} = \\frac{F_v}{\\sum ha_v} \\cdot ha_a$$\n",
    "\n",
    "Hvor:\n",
    "\n",
    "* F<sub>v</sub>: Elforbrug total til vanding i kWh (indtastet af bruger). \n",
    "* ha<sub>v</sub>: Sum af hektar, der kan vandes\n",
    "* ha<sub>a</sub>: Antal ha pr. mark \n",
    "\n",
    "**Andet el (tørring mv.)**\n",
    "\n",
    "For at finde produktaftrykket, P, er det nødvendigt at fordele elforbruget, der ikke bruges til vanding, på de afgrøder/marker, der har afgrøder til modenhed (tørring m.v.)\n",
    "I regnearket findes en kolonne hvor ja betyder at afgrøden høstet til modenhed.\n",
    "\n",
    "$$P_{b, el} = \\frac{F_t}{\\sum ha_m} \\cdot ha_a$$\n",
    "\n",
    "Hvor:\n",
    "\n",
    "* F<sub>t</sub>: Elforbrug total til tørring mv. i kWh (indtastet af bruger). \n",
    "* ha<sub>m</sub>: Sum af hektar, der har afgrøder, der høstet til modenhed\n",
    "* ha<sub>a</sub>: Antal ha pr. mark \n",
    "\n",
    "\n",
    " ----\n",
    "\n",
    " ## **Testcases**"
   ]
  },
  {
   "cell_type": "code",
   "execution_count": 1,
   "metadata": {
    "dotnet_interactive": {
     "language": "csharp"
    },
    "polyglot_notebook": {
     "kernelName": "csharp"
    }
   },
   "outputs": [
    {
     "name": "stdout",
     "output_type": "stream",
     "text": [
      "Udledning fra electricitet i alt: 1,836 kg CO2e\r\n"
     ]
    }
   ],
   "source": [
    "// konstanter - nix pille \n",
    "double O_el = 0.136;\n",
    "\n",
    "// Input - Test andre scenarier, ved at ændre i input-værdierne herunder\n",
    "double E_ind = 44.0;\n",
    "double E_egen = 30.5;\n",
    "\n",
    "// Beregning\n",
    "double CO2e = (E_ind - E_egen) * O_el;\n",
    "Console.WriteLine($\"Udledning fra electricitet i alt: {CO2e} kg CO2e\");"
   ]
  }
 ],
 "metadata": {
  "kernelspec": {
   "display_name": ".NET (C#)",
   "language": "C#",
   "name": ".net-csharp"
  },
  "language_info": {
   "name": "polyglot-notebook"
  },
  "polyglot_notebook": {
   "kernelInfo": {
    "defaultKernelName": "csharp",
    "items": [
     {
      "aliases": [],
      "name": ".NET"
     },
     {
      "aliases": [
       "C#",
       "c#"
      ],
      "languageName": "C#",
      "name": "csharp"
     },
     {
      "aliases": [
       "F#",
       "f#"
      ],
      "languageName": "F#",
      "name": "fsharp"
     },
     {
      "aliases": [],
      "languageName": "HTML",
      "name": "html"
     },
     {
      "aliases": [
       "js"
      ],
      "languageName": "JavaScript",
      "name": "javascript"
     },
     {
      "aliases": [],
      "languageName": "KQL",
      "name": "kql"
     },
     {
      "aliases": [],
      "languageName": "Mermaid",
      "name": "mermaid"
     },
     {
      "aliases": [
       "powershell"
      ],
      "languageName": "PowerShell",
      "name": "pwsh"
     },
     {
      "aliases": [],
      "languageName": "SQL",
      "name": "sql"
     },
     {
      "aliases": [],
      "name": "value"
     },
     {
      "aliases": [
       "frontend"
      ],
      "name": "vscode"
     },
     {
      "aliases": [],
      "name": "webview"
     }
    ]
   }
  }
 },
 "nbformat": 4,
 "nbformat_minor": 2
}
