{
 "cells": [
  {
   "attachments": {},
   "cell_type": "markdown",
   "metadata": {
    "dotnet_interactive": {
     "language": "csharp"
    },
    "polyglot_notebook": {
     "kernelName": "csharp"
    }
   },
   "source": [
    "# **El**\n",
    "\n",
    "## **Bedriftsaftryk**\n",
    "\n",
    "$$ El = (E_{ind} - E_{egen}) \\cdot OMV$$\n",
    "\n",
    "Hvor: \n",
    "\n",
    "* E<sub>ind</sub>: indkøbt el (blanding af vedvarende og fossile energikilder) = indtastes af bruger [kWh]\n",
    "* E<sub>egen</sub>: egenproduceret el = indtastes af bruger [kWh]\n",
    "* OMV: omregningsfaktor for el = 0,136 [kg CO2/kWh]\n",
    "[link](https://seges.sharepoint.com/:x:/s/GreenAction/EVQQ6Qbgx0VAor-_FAIU2QQBsfQB4lRJfW1TxuOVm5ZJCg?e=Xqmu2x) Kolonne AA\n",
    "\n",
    "\n",
    "## **Produktaftryk (mark)**\n",
    "\n",
    "**Vanding**\n",
    "\n",
    "For at finde produktaftrykket, P, er det nødvendigt at fordele det samlede elforbrug fra vanding på de afgrøder/marker, der vandes. \n",
    "I MO kendes oplysningen på mark “kan vandes”, men oftest er det ikke oplyst om marken reelt _er_ vandet. Derfor kan vi i første version af produktaftrykket fordele el forbruget i marken på marker der kan vandes.\n",
    "\n",
    "$$P_{a, el} = \\frac{F_v}{\\sum ha_v} \\cdot ha_a$$\n",
    "\n",
    "Hvor:\n",
    "\n",
    "* F<sub>v</sub>: Elforbrug total til vanding i kWh (indtastet af bruger). \n",
    "* ha<sub>v</sub>: Sum af hektar, der kan vandes\n",
    "* ha<sub>a</sub>: Antal ha pr. mark \n",
    "\n",
    "**Andet el (tørring mv.)**\n",
    "\n",
    "For at finde produktaftrykket, P, er det nødvendigt at fordele elforbruget, der ikke bruges til vanding, på de afgrøder/marker, der har afgrøder til modenhed (tørring m.v.)\n",
    "I regnearket findes en kolonne hvor ja betyder at afgrøden høstet til modenhed.\n",
    "\n",
    "$$P_{b, el} = \\frac{F_t}{\\sum ha_m} \\cdot ha_a$$\n",
    "\n",
    "Hvor:\n",
    "\n",
    "* F<sub>t</sub>: Elforbrug total til tørring mv. i kWh (indtastet af bruger). \n",
    "* ha<sub>m</sub>: Sum af hektar, der har afgrøder, der høstet til modenhed\n",
    "* ha<sub>a</sub>: Antal ha pr. mark \n",
    "\n",
    "\n",
    " ----\n",
    "\n",
    " ## **Testcases**"
   ]
  },
  {
   "cell_type": "code",
   "execution_count": 8,
   "metadata": {
    "dotnet_interactive": {
     "language": "csharp"
    },
    "polyglot_notebook": {
     "kernelName": "csharp"
    },
    "vscode": {
     "languageId": "polyglot-notebook"
    }
   },
   "outputs": [
    {
     "name": "stdout",
     "output_type": "stream",
     "text": [
      "Udledning fra electricitet i alt: 6,7195 kg CO2e\r\n"
     ]
    }
   ],
   "source": [
    "// konstanter - nix pille \n",
    "double OMV = 0.0;\n",
    "double OMF = 0.151;\n",
    "\n",
    "// Input - Test andre scenarier, ved at ændre i input-værdierne herunder\n",
    "double E_v = 17.0;\n",
    "double E_f = 44.5;\n",
    "\n",
    "// Beregning\n",
    "double CO2e = E_f * OMF + E_v * OMV;\n",
    "Console.WriteLine($\"Udledning fra electricitet i alt: {CO2e} kg CO2e\");"
   ]
  }
 ],
 "metadata": {
  "kernelspec": {
   "display_name": ".NET (C#)",
   "language": "C#",
   "name": ".net-csharp"
  },
  "polyglot_notebook": {
   "kernelInfo": {
    "defaultKernelName": "csharp",
    "items": [
     {
      "aliases": [
       "c#",
       "C#"
      ],
      "languageName": "C#",
      "name": "csharp"
     },
     {
      "aliases": [
       "frontend"
      ],
      "name": "vscode"
     },
     {
      "aliases": [],
      "name": ".NET"
     },
     {
      "aliases": [
       "f#",
       "F#"
      ],
      "languageName": "F#",
      "name": "fsharp"
     },
     {
      "aliases": [],
      "languageName": "HTML",
      "name": "html"
     },
     {
      "aliases": [
       "js"
      ],
      "languageName": "JavaScript",
      "name": "javascript"
     },
     {
      "aliases": [],
      "languageName": "KQL",
      "name": "kql"
     },
     {
      "aliases": [],
      "languageName": "Mermaid",
      "name": "mermaid"
     },
     {
      "aliases": [
       "powershell"
      ],
      "languageName": "PowerShell",
      "name": "pwsh"
     },
     {
      "aliases": [],
      "languageName": "SQL",
      "name": "sql"
     },
     {
      "aliases": [],
      "name": "value"
     },
     {
      "aliases": [],
      "name": "webview"
     }
    ]
   }
  }
 },
 "nbformat": 4,
 "nbformat_minor": 2
}
