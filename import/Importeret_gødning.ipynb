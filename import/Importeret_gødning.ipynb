{
 "cells": [
  {
   "attachments": {},
   "cell_type": "markdown",
   "metadata": {},
   "source": [
    "# **Importeret handelsgødning**\n",
    "\n",
    "### **Beregning af kg CO<sub>2</sub>e fra importeret gødning pr mark** \n",
    "\n",
    "$$ CO_2e = (N \\cdot K_N + P \\cdot K_P + K \\cdot K_K) \\cdot A $$\n",
    "\n",
    "Hvor\n",
    "* N: sum af kg N fra alle udbringninger af handelsgødning = fra MO [kg/ha]\n",
    "* P: sum af kg P fra alle udbringninger af handelsgødning = fra MO [kg/ha]\n",
    "* K: sum af kg K fra alle udbringninger af handelsgødning = fra MO [kg/ha]\n",
    "* K<sub>N</sub>: handelsgødningskonstant N = 3,67\n",
    "* K<sub>P</sub>: handelsgødningskonstant P = 2,32\n",
    "* K<sub>K</sub>: handelsgødningkonstant K = 0,69\n",
    "* A: markens areal = fra MO [ha]\n",
    "\n",
    " ----\n",
    "\n",
    " ## **Testcases**"
   ]
  },
  {
   "cell_type": "code",
   "execution_count": 1,
   "metadata": {
    "dotnet_interactive": {
     "language": "csharp"
    },
    "polyglot_notebook": {
     "kernelName": "csharp"
    }
   },
   "outputs": [
    {
     "name": "stdout",
     "output_type": "stream",
     "text": [
      "importeret gødning til bedriften: 211.8238 kg CO2e\r\n"
     ]
    }
   ],
   "source": [
    "// konstanter - nix pille \n",
    "double NK = 3.67;\n",
    "double PK = 2.32;\n",
    "double KK = 0.69;\n",
    "\n",
    "// Input - Test andre scenarier, ved at ændre i input-værdierne herunder\n",
    "double N_total = 44.5;\n",
    "double P_total = 17.34;\n",
    "double K_total = 12.0;\n",
    "double A = 1.0;\n",
    "\n",
    "// Beregning\n",
    "double CO2e = (N_total * NK + P_total * PK + K_total * KK) * A;\n",
    "Console.WriteLine($\"importeret gødning til bedriften: {CO2e} kg CO2e\");"
   ]
  }
 ],
 "metadata": {
  "kernelspec": {
   "display_name": ".NET (C#)",
   "language": "C#",
   "name": ".net-csharp"
  },
  "language_info": {
   "name": "polyglot-notebook"
  },
  "polyglot_notebook": {
   "kernelInfo": {
    "defaultKernelName": "csharp",
    "items": [
     {
      "aliases": [],
      "name": ".NET"
     },
     {
      "aliases": [
       "C#",
       "c#"
      ],
      "languageName": "C#",
      "name": "csharp"
     },
     {
      "aliases": [
       "F#",
       "f#"
      ],
      "languageName": "F#",
      "name": "fsharp"
     },
     {
      "aliases": [],
      "languageName": "HTML",
      "name": "html"
     },
     {
      "aliases": [
       "js"
      ],
      "languageName": "JavaScript",
      "name": "javascript"
     },
     {
      "aliases": [],
      "languageName": "KQL",
      "name": "kql"
     },
     {
      "aliases": [],
      "languageName": "Mermaid",
      "name": "mermaid"
     },
     {
      "aliases": [
       "powershell"
      ],
      "languageName": "PowerShell",
      "name": "pwsh"
     },
     {
      "aliases": [],
      "languageName": "SQL",
      "name": "sql"
     },
     {
      "aliases": [],
      "name": "value"
     },
     {
      "aliases": [
       "frontend"
      ],
      "name": "vscode"
     },
     {
      "aliases": [],
      "name": "webview"
     }
    ]
   }
  }
 },
 "nbformat": 4,
 "nbformat_minor": 2
}
