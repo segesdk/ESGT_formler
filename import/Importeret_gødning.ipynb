{
 "cells": [
  {
   "attachments": {},
   "cell_type": "markdown",
   "metadata": {
    "dotnet_interactive": {
     "language": "csharp"
    },
    "polyglot_notebook": {
     "kernelName": "csharp"
    }
   },
   "source": [
    "# **Importeret gødning**\n",
    "\n",
    "### **Beregning af kg CO<sub>2</sub>e fra importeret gødning** \n",
    "\n",
    "$$ CO_2e = N \\cdot NK + P \\cdot PK + K \\cdot KK $$\n",
    "\n",
    "Hvor\n",
    "* N: sum af kg N fra alle marker = fra MO\n",
    "* P: sum af kg P fra alle marker = fra MO\n",
    "* K: sum af kg K fra alle marker = fra MO\n",
    "* NK: handelsgødningskonstant N = 3,3 (Publikation fra International Fertilizer Society hvor 3,3 kg CO2e pr. kg N er et gennemsnit for europæiske producenter af handelsgødning)\n",
    "* PK: handelsgødningskonstant P = 3,6\n",
    "* KK: handelsgødningkonstant K = 0,7\n",
    "\n",
    " ----\n",
    "\n",
    " ## **Testcases**"
   ]
  },
  {
   "cell_type": "code",
   "execution_count": 3,
   "metadata": {
    "dotnet_interactive": {
     "language": "csharp"
    },
    "polyglot_notebook": {
     "kernelName": "csharp"
    },
    "vscode": {
     "languageId": "polyglot-notebook"
    }
   },
   "outputs": [
    {
     "name": "stdout",
     "output_type": "stream",
     "text": [
      "importeret gødning til bedriften: 217,674 kg CO2e\r\n"
     ]
    }
   ],
   "source": [
    "// konstanter - nix pille \n",
    "double NK = 3.3;\n",
    "double PK = 3.6;\n",
    "double KK = 0.7;\n",
    "\n",
    "// Input - Test andre scenarier, ved at ændre i input-værdierne herunder\n",
    "double N_total = 44.5;\n",
    "double P_total = 17.34;\n",
    "double K_total = 12.0;\n",
    "\n",
    "// Beregning\n",
    "double CO2e = N_total * NK + P_total * PK + K_total * KK;\n",
    "Console.WriteLine($\"importeret gødning til bedriften: {CO2e} kg CO2e\");"
   ]
  }
 ],
 "metadata": {
  "kernelspec": {
   "display_name": ".NET (C#)",
   "language": "C#",
   "name": ".net-csharp"
  },
  "polyglot_notebook": {
   "kernelInfo": {
    "defaultKernelName": "csharp",
    "items": [
     {
      "aliases": [
       "c#",
       "C#"
      ],
      "languageName": "C#",
      "name": "csharp"
     },
     {
      "aliases": [
       "frontend"
      ],
      "name": "vscode"
     },
     {
      "aliases": [],
      "name": ".NET"
     },
     {
      "aliases": [
       "f#",
       "F#"
      ],
      "languageName": "F#",
      "name": "fsharp"
     },
     {
      "aliases": [],
      "languageName": "HTML",
      "name": "html"
     },
     {
      "aliases": [
       "js"
      ],
      "languageName": "JavaScript",
      "name": "javascript"
     },
     {
      "aliases": [],
      "languageName": "KQL",
      "name": "kql"
     },
     {
      "aliases": [],
      "languageName": "Mermaid",
      "name": "mermaid"
     },
     {
      "aliases": [
       "powershell"
      ],
      "languageName": "PowerShell",
      "name": "pwsh"
     },
     {
      "aliases": [],
      "languageName": "SQL",
      "name": "sql"
     },
     {
      "aliases": [],
      "name": "value"
     },
     {
      "aliases": [],
      "name": "webview"
     }
    ]
   }
  }
 },
 "nbformat": 4,
 "nbformat_minor": 2
}
