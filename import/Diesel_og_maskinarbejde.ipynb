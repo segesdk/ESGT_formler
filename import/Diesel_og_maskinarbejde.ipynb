{
 "cells": [
  {
   "attachments": {},
   "cell_type": "markdown",
   "metadata": {
    "dotnet_interactive": {
     "language": "csharp"
    },
    "polyglot_notebook": {
     "kernelName": "csharp"
    }
   },
   "source": [
    "# **Diesel og maskinarbejde**\n",
    "\n",
    "## Bedriftsaftryk\n",
    "\n",
    "### Diesel\n",
    "Dieselforbrug, D, opdeles i scope 1 og scope 3. Scope 1 er den direkte udledning ved afbrændingen af diesel på bedriften: \n",
    "\n",
    "$$ D_{scope1} = D \\cdot \\theta_{D1}$$\n",
    "\n",
    "Scope 3 er udledningen fra *produktionen* af diesel:\n",
    "\n",
    "$$ D_{scope3} = D \\cdot \\theta_{D3}$$\n",
    "\n",
    "Hvor \n",
    "\n",
    "* D: Det totale dieselforbrug på bedriften = Input fra bruger  [L]\n",
    "* θ<sub>D1</sub>: Omregningsfaktor for L diesel til CO<sub>2</sub>e = 2,626 [kg CO<sub>2</sub>e/L]\n",
    "* θ<sub>D3</sub>: Omregningsfaktor for L dieselproduktion til CO<sub>2</sub>e = 0,51 [kg CO<sub>2</sub>e/L]\n",
    "\n",
    "### Maskinarbejde\n",
    "\n",
    "$$ M = (P_k \\cdot \\theta_M - P_s \\cdot \\theta_M ) \\cdot \\theta_D$$\n",
    "\n",
    "Hvor \n",
    "\n",
    "* P<sub>k/s</sub>: Prisen for maskinarbejde købt/solgt = Input fra bruger [kr]\n",
    "* θ<sub>M</sub>: Omregningsfaktor for kr maskinarbejde til L diesel = 0,02 [L/kr]\n",
    "* θ<sub>D</sub>: Omregningsfaktor for L diesel (forbrug + produktion) til CO<sub>2</sub>e = 3,136 [kg CO<sub>2</sub>e/L]\n",
    "\n",
    "## Produktaftryk\n",
    "\n",
    "Produktaftrykket, P, for en afgrøde, a, findes ved at fordele den totale mængde diesel (forbrug ± maskinarbejde) vha. en fordelingsnøgle:\n",
    "\n",
    "$$ P_{a, diesel} = \\frac{H_a \\cdot T_a}{\\sum_{i=1}^n H_i \\cdot T_i} \\cdot (D \\pm M) \\cdot \\theta_D$$\n",
    "\n",
    "Hvor \n",
    "\n",
    "* H<sub>a</sub>: Det totale antal hektar på bedriften med afgrøde a = indlæses fra MO\n",
    "* T<sub>a</sub>: Typetal for afgrøde a's dieselforbrug = Ses i [regnearket](https://seges.sharepoint.com/:x:/r/sites/GreenAction/_layouts/15/Doc.aspx?sourcedoc=%7BA8797CF8-D09C-4577-B972-E4D9C79AF9FF%7D&file=Afgr%C3%B8der_data_g%C3%B8dnings%C3%A5r%202020-2021_FOREL%C3%98BIG.xlsx&activeCell=%27Data%27!V1&action=embedview)\n",
    "* H<sub>i</sub>: Det totale antal hektar på bedriften med den i'te afgrøde = indlæses fra MO\n",
    "* T<sub>i</sub>: Typetal for den i'te afgrødes dieselforbrug = Ses i [regnearket](https://seges.sharepoint.com/:x:/r/sites/GreenAction/_layouts/15/Doc.aspx?sourcedoc=%7BA8797CF8-D09C-4577-B972-E4D9C79AF9FF%7D&file=Afgr%C3%B8der_data_g%C3%B8dnings%C3%A5r%202020-2021_FOREL%C3%98BIG.xlsx&activeCell=%27Data%27!V1&action=embedview)\n",
    "* n: Antal forskellige afgrøder på bedriften = indlæses fra MO\n"
   ]
  },
  {
   "attachments": {},
   "cell_type": "markdown",
   "metadata": {
    "dotnet_interactive": {
     "language": "csharp"
    },
    "polyglot_notebook": {
     "kernelName": "csharp"
    }
   },
   "source": [
    " ----\n",
    "\n",
    " ## **Testcases**"
   ]
  },
  {
   "cell_type": "code",
   "execution_count": 18,
   "metadata": {
    "dotnet_interactive": {
     "language": "csharp"
    },
    "polyglot_notebook": {
     "kernelName": "csharp"
    },
    "vscode": {
     "languageId": "polyglot-notebook"
    }
   },
   "outputs": [],
   "source": [
    "// konstanter - nix pille \n",
    "double theta_D = 2.626;\n",
    "double theta_M = 0.02;"
   ]
  },
  {
   "attachments": {},
   "cell_type": "markdown",
   "metadata": {
    "dotnet_interactive": {
     "language": "csharp"
    },
    "polyglot_notebook": {
     "kernelName": "csharp"
    }
   },
   "source": [
    "**Diesel**"
   ]
  },
  {
   "cell_type": "code",
   "execution_count": 19,
   "metadata": {
    "dotnet_interactive": {
     "language": "csharp"
    },
    "polyglot_notebook": {
     "kernelName": "csharp"
    },
    "vscode": {
     "languageId": "polyglot-notebook"
    }
   },
   "outputs": [
    {
     "name": "stdout",
     "output_type": "stream",
     "text": [
      "dieselforbrug omregnet til CO2e: 1156,753 kg CO2e\r\n"
     ]
    }
   ],
   "source": [
    "// Input - Test andre scenarier, ved at ændre i input-værdierne herunder\n",
    "double D = 440.5;\n",
    "\n",
    "// Beregning\n",
    "double CO2e = D * theta_D;\n",
    "Console.WriteLine($\"dieselforbrug omregnet til CO2e: {CO2e} kg CO2e\");"
   ]
  },
  {
   "attachments": {},
   "cell_type": "markdown",
   "metadata": {
    "dotnet_interactive": {
     "language": "csharp"
    },
    "polyglot_notebook": {
     "kernelName": "csharp"
    }
   },
   "source": [
    "**Maskinarbejde**"
   ]
  },
  {
   "cell_type": "code",
   "execution_count": 20,
   "metadata": {
    "dotnet_interactive": {
     "language": "csharp"
    },
    "polyglot_notebook": {
     "kernelName": "csharp"
    },
    "vscode": {
     "languageId": "polyglot-notebook"
    }
   },
   "outputs": [
    {
     "name": "stdout",
     "output_type": "stream",
     "text": [
      "maskinarbejde omregnet til CO2e: -207,9792 kg CO2e\r\n"
     ]
    }
   ],
   "source": [
    "// Input - Test andre scenarier, ved at ændre i input-værdierne herunder\n",
    "double P_k = 440.5;\n",
    "double P_s = 4400.5;\n",
    "\n",
    "// Beregning\n",
    "double CO2e = (P_k * theta_M - P_s * theta_M) * theta_D;\n",
    "Console.WriteLine($\"maskinarbejde omregnet til CO2e: {CO2e} kg CO2e\");"
   ]
  }
 ],
 "metadata": {
  "kernelspec": {
   "display_name": ".NET (C#)",
   "language": "C#",
   "name": ".net-csharp"
  },
  "polyglot_notebook": {
   "kernelInfo": {
    "defaultKernelName": "csharp",
    "items": [
     {
      "aliases": [
       "c#",
       "C#"
      ],
      "languageName": "C#",
      "name": "csharp"
     },
     {
      "aliases": [
       "frontend"
      ],
      "name": "vscode"
     },
     {
      "aliases": [],
      "name": ".NET"
     },
     {
      "aliases": [
       "f#",
       "F#"
      ],
      "languageName": "F#",
      "name": "fsharp"
     },
     {
      "aliases": [],
      "languageName": "HTML",
      "name": "html"
     },
     {
      "aliases": [],
      "languageName": "KQL",
      "name": "kql"
     },
     {
      "aliases": [],
      "languageName": "Mermaid",
      "name": "mermaid"
     },
     {
      "aliases": [
       "powershell"
      ],
      "languageName": "PowerShell",
      "name": "pwsh"
     },
     {
      "aliases": [],
      "languageName": "SQL",
      "name": "sql"
     },
     {
      "aliases": [],
      "name": "value"
     }
    ]
   }
  }
 },
 "nbformat": 4,
 "nbformat_minor": 2
}
