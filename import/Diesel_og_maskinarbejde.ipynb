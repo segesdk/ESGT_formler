{
 "cells": [
  {
   "attachments": {},
   "cell_type": "markdown",
   "metadata": {},
   "source": [
    "# **Diesel og maskinarbejde**\n",
    "\n",
    "## **Bedriftsaftryk**\n",
    "\n",
    "### Dieselforbrug, D, opdeles i scope 1 og scope 3\n",
    "Scope 1 er den direkte udledning ved *afbrændingen* af diesel på bedriften: \n",
    "\n",
    "$$ D_{scope1} = (D \\pm M) \\cdot \\theta_{D1}$$\n",
    "\n",
    "Scope 3 er udledningen fra *produktionen* af diesel:\n",
    "\n",
    "$$ D_{scope3} = (D \\pm M) \\cdot \\theta_{D3}$$\n",
    "\n",
    "Hvor \n",
    "\n",
    "* D: Det totale dieselforbrug på bedriften = Input fra bruger  [L]\n",
    "* M: Mængden af diesel fra indkøbt og solgt maskinarbejde, beregnes nedenfor\n",
    "* θ<sub>D1</sub>: Omregningsfaktor for L diesel til CO<sub>2</sub>e = [Tabelværdi](https://seges.sharepoint.com/:x:/r/sites/GreenAction/_layouts/15/Doc.aspx?sourcedoc=%7B9A7C8AFB-287A-47A1-A82C-6B52646CF928%7D&file=GlobalCoefficients.xlsx&activeCell=%27Coefficients%27!B9&action=embedview) [kg CO<sub>2</sub>e/L]\n",
    "* θ<sub>D3</sub>: Omregningsfaktor for L dieselproduktion til CO<sub>2</sub>e = [Tabelværdi](https://seges.sharepoint.com/:x:/r/sites/GreenAction/_layouts/15/Doc.aspx?sourcedoc=%7B9A7C8AFB-287A-47A1-A82C-6B52646CF928%7D&file=GlobalCoefficients.xlsx&activeCell=%27Coefficients%27!B10&action=embedview) [kg CO<sub>2</sub>e/L]\n",
    "\n",
    "### Maskinarbejde\n",
    "\n",
    "$$ M = P_k \\cdot \\theta_M - P_s \\cdot \\theta_M $$\n",
    "\n",
    "Hvor \n",
    "\n",
    "* P<sub>k</sub>: Prisen for maskinarbejde købt = Input fra bruger [kr]\n",
    "* P<sub>s</sub>: Prisen for maskinarbejde solgt = Input fra bruger [kr]\n",
    "* θ<sub>M</sub>: Omregningsfaktor for kr maskinarbejde til L diesel = [Tabelværdi](https://seges.sharepoint.com/:x:/r/sites/GreenAction/_layouts/15/Doc.aspx?sourcedoc=%7BA8797CF8-D09C-4577-B972-E4D9C79AF9FF%7D&file=Afgr%C3%B8der_data_g%C3%B8dnings%C3%A5r%202020-2021_FOREL%C3%98BIG.xlsx&activeCell=%27Coefficients%27!B20&action=embedview) [L/kr]\n",
    "\n",
    "## Produktaftryk\n",
    "\n",
    "Produktaftrykket, P, for en afgrøde, a, findes ved at fordele den totale mængde diesel (forbrug ± maskinarbejde) vha. en fordelingsnøgle:\n",
    "\n",
    "$$ P_{a, diesel} = \\frac{H_a \\cdot T_a}{\\sum_{i=1}^n H_i \\cdot T_i} \\cdot (D \\pm M) \\cdot \\theta_D$$\n",
    "\n",
    "Hvor \n",
    "\n",
    "* H<sub>a</sub>: Det totale antal hektar på bedriften med afgrøde a = indlæses fra MO\n",
    "* T<sub>a</sub>: Typetal for afgrøde a's dieselforbrug = Ses i [regnearket](https://seges.sharepoint.com/:x:/r/sites/GreenAction/_layouts/15/Doc.aspx?sourcedoc=%7BA8797CF8-D09C-4577-B972-E4D9C79AF9FF%7D&file=Afgr%C3%B8der_data_g%C3%B8dnings%C3%A5r%202020-2021_FOREL%C3%98BIG.xlsx&activeCell=%27Data%27!V1&action=embedview)\n",
    "* H<sub>i</sub>: Det totale antal hektar på bedriften med den i'te afgrøde = indlæses fra MO\n",
    "* T<sub>i</sub>: Typetal for den i'te afgrødes dieselforbrug = Ses i [regnearket](https://seges.sharepoint.com/:x:/r/sites/GreenAction/_layouts/15/Doc.aspx?sourcedoc=%7BA8797CF8-D09C-4577-B972-E4D9C79AF9FF%7D&file=Afgr%C3%B8der_data_g%C3%B8dnings%C3%A5r%202020-2021_FOREL%C3%98BIG.xlsx&activeCell=%27Data%27!V1&action=embedview)\n",
    "* n: Antal forskellige afgrøder på bedriften = indlæses fra MO\n",
    "* θ<sub>D</sub>: Omregningsfaktor for L diesel (forbrug + produktion) til CO<sub>2</sub>e = [Tabelværdi](https://seges.sharepoint.com/:x:/r/sites/GreenAction/_layouts/15/Doc.aspx?sourcedoc=%7B9A7C8AFB-287A-47A1-A82C-6B52646CF928%7D&file=GlobalCoefficients.xlsx&activeCell=%27Coefficients%27!B13&action=embedview) [kg CO<sub>2</sub>e/L]\n"
   ]
  },
  {
   "attachments": {},
   "cell_type": "markdown",
   "metadata": {},
   "source": [
    " ----\n",
    "\n",
    " ## **Testcases**"
   ]
  },
  {
   "cell_type": "code",
   "execution_count": 3,
   "metadata": {
    "dotnet_interactive": {
     "language": "csharp"
    },
    "polyglot_notebook": {
     "kernelName": "csharp"
    }
   },
   "outputs": [],
   "source": [
    "// konstanter - nix pille \n",
    "double theta_D1 = 2.68;\n",
    "double theta_D3 = 0.46;\n",
    "double theta_M = 0.02;"
   ]
  },
  {
   "attachments": {},
   "cell_type": "markdown",
   "metadata": {},
   "source": [
    "**Diesel**"
   ]
  },
  {
   "cell_type": "code",
   "execution_count": 4,
   "metadata": {
    "dotnet_interactive": {
     "language": "csharp"
    },
    "polyglot_notebook": {
     "kernelName": "csharp"
    }
   },
   "outputs": [
    {
     "name": "stdout",
     "output_type": "stream",
     "text": [
      "scope 1 dieselforbrug omregnet til CO2e: 1105.0712 kg CO2e\n",
      "scope 3 dieselproduktion omregnet til CO2e: 189.67640000000003 kg CO2e\n"
     ]
    }
   ],
   "source": [
    "// Input - Test andre scenarier, ved at ændre i input-værdierne herunder\n",
    "double D = 501;\n",
    "double P_s = 4400.0;\n",
    "double P_k = 17.0;\n",
    "\n",
    "// Beregning\n",
    "double M = P_k * theta_M - P_s * theta_M;\n",
    "double Scope1 = (D + M) * theta_D1;\n",
    "double Scope3 = (D + M) * theta_D3;\n",
    "Console.WriteLine($\"scope 1 dieselforbrug omregnet til CO2e: {Scope1} kg CO2e\");\n",
    "Console.WriteLine($\"scope 3 dieselproduktion omregnet til CO2e: {Scope3} kg CO2e\");"
   ]
  }
 ],
 "metadata": {
  "kernelspec": {
   "display_name": ".NET (C#)",
   "language": "C#",
   "name": ".net-csharp"
  },
  "language_info": {
   "name": "polyglot-notebook"
  },
  "polyglot_notebook": {
   "kernelInfo": {
    "defaultKernelName": "csharp",
    "items": [
     {
      "aliases": [],
      "name": ".NET"
     },
     {
      "aliases": [
       "C#",
       "c#"
      ],
      "languageName": "C#",
      "name": "csharp"
     },
     {
      "aliases": [
       "F#",
       "f#"
      ],
      "languageName": "F#",
      "name": "fsharp"
     },
     {
      "aliases": [],
      "languageName": "HTML",
      "name": "html"
     },
     {
      "aliases": [
       "js"
      ],
      "languageName": "JavaScript",
      "name": "javascript"
     },
     {
      "aliases": [],
      "languageName": "KQL",
      "name": "kql"
     },
     {
      "aliases": [],
      "languageName": "Mermaid",
      "name": "mermaid"
     },
     {
      "aliases": [
       "powershell"
      ],
      "languageName": "PowerShell",
      "name": "pwsh"
     },
     {
      "aliases": [],
      "languageName": "SQL",
      "name": "sql"
     },
     {
      "aliases": [],
      "name": "value"
     },
     {
      "aliases": [
       "frontend"
      ],
      "name": "vscode"
     },
     {
      "aliases": [],
      "name": "webview"
     }
    ]
   }
  }
 },
 "nbformat": 4,
 "nbformat_minor": 2
}
