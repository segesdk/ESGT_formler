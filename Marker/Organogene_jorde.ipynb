{
 "cells": [
  {
   "cell_type": "markdown",
   "metadata": {},
   "source": [
    "# **Organogene jorde**\n",
    "\n",
    "### **Beregning af CO<sub>2</sub> fra organogene jorde** \n",
    "\n",
    "I resultatkolonnen skal resultatet vises i CO<sub>2</sub>e:\n",
    "\n",
    "$$CO_2, tons_{total} = CO_2, ton_{kulstof} + CO_2, tons_{N_20} + CO_2, tons_{CH_4} $$\n",
    "\n",
    "Hvor:\n",
    "\n",
    "Samlet tons CO<sub>2</sub> fra kulstof\n",
    "\n",
    "$$CO_2, ton_{kulstof} = 1a +2a + 3a + 4a + 5a  $$\n",
    "\n",
    "(Samlet tons CO<sub>2</sub> fra kulstof skal ikke vises men gemmes)\n",
    "\n",
    "Samlet tons CO<sub>2</sub>e fra N2O \n",
    "\n",
    "$$CO_2, tons_{N_20} = 1b +2b + 3b + 4b + 5b  $$\n",
    "\n",
    "(omregnet til tons N<sub>2</sub>O (lattergas): = samlet tons CO<sub>2</sub>e fra N<sub>2</sub>O/298 (skal ikke vises men gemmes))\n",
    "\n",
    "Samlet tons CO<sub>2</sub>e fra CH4 \n",
    "\n",
    "$$CO_2, tons_{CH_4} = 1c +2c + 3c + 4c + 5c  $$\n",
    "\n",
    "(Omregnet til ton CH<sub>4</sub> (metan) = samlet tons CO<sub>2</sub>e fra CH<sub>4</sub>/25 (skal ikke vises men gemmes))\n",
    "\n",
    "### **Regler** \n",
    "### *Hvis marken er ”i omdrift” og har ”lav vandstand”:*\n",
    "\n",
    "*1. og indeholder ”6-12% kulstof”*\n",
    "\n",
    "_a. CO<sub>2</sub> fra kulstof_\n",
    "$$CO_2, tons = H \\cdot 21,08 tons/ha $$\n",
    "\n",
    "_b. CO<sub>2</sub> fra N<sub>2</sub>0_\n",
    "$$CO_2, tons = 0$$\n",
    "\n",
    "_c. CO<sub>2</sub> fra CH<sub>4</sub>_\n",
    "$$CO_2, tons = 0$$\n",
    "\n",
    "*2. og hvis kulstofkategori ændret til ”>12% kulstof”*\n",
    "\n",
    "_a. CO<sub>2</sub> fra kulstof_\n",
    "$$CO_2, tons = H \\cdot 42,17 tons/ha $$\n",
    "\n",
    "_b. CO<sub>2</sub> fra N<sub>2</sub>0_\n",
    "$$CO_2, tons = H \\cdot 3,87 tons/ha$$\n",
    "\n",
    "_c. CO<sub>2</sub> fra CH<sub>4</sub>_\n",
    "$$CO_2, tons = 0$$\n",
    "\n",
    "\n",
    "### *Hvis marken er ”ikke i omdrift” og har ”lav vandstand”*\n",
    "\n",
    "*3. værdi ”>12% kulstof”*\n",
    "\n",
    "_a. CO<sub>2</sub> fra kulstof_\n",
    "$$CO_2, tons = H \\cdot 30,8 tons/ha $$\n",
    "\n",
    "_b. CO<sub>2</sub> fra N<sub>2</sub>0_\n",
    "$$CO_2, tons = H \\cdot 2,44 tons/ha$$\n",
    "\n",
    "_c. CO<sub>2</sub> fra CH<sub>4</sub>_\n",
    "$$CO_2, tons = 0$$\n",
    "\n",
    "\n",
    "*4. og hvis kulstofkategori ændret til ”6-12% kulstof”*\n",
    "\n",
    "_a. CO<sub>2</sub> fra kulstof_\n",
    "$$CO_2, tons = H \\cdot 15,4 tons/ha $$\n",
    "\n",
    "_b. CO<sub>2</sub> fra N<sub>2</sub>0_\n",
    "$$CO_2, tons = 0$$\n",
    "\n",
    "_c. CO<sub>2</sub> fra CH<sub>4</sub>_\n",
    "$$CO_2, tons = 0$$\n",
    "\n",
    "### *Hvis marken er ”ikke i omdrift” og har ”høj vandstand”*\n",
    "\n",
    "*5. (Her betyder kulstofindholdet ingenting)*\n",
    "\n",
    "_a. CO<sub>2</sub> fra kulstof_\n",
    "$$CO_2, tons = 0$$\n",
    "\n",
    "_b. CO<sub>2</sub> fra N<sub>2</sub>0_\n",
    "$$CO_2, tons = 0$$\n",
    "\n",
    "_c. CO<sub>2</sub> fra CH<sub>4</sub>_\n",
    "$$CO_2, tons = H \\cdot 6,8 tons/ha$$\n",
    " \n",
    "\n",
    "Hvor:\n",
    "\n",
    "* H = antal ha marken\n"
   ]
  },
  {
   "cell_type": "markdown",
   "metadata": {},
   "source": [
    "## **Testcases**\n",
    "\n",
    "Hvis du selv vil lege med beregningerne i testcases kan du køre notebooken i google colab [HER](https://colab.research.google.com/github.com/segesdk/ESGT_formler/blob/main/Marker/Organogene_jorde.ipynb) (kræver login på din google konto)"
   ]
  },
  {
   "cell_type": "markdown",
   "metadata": {},
   "source": [
    "Marker **i omdrift** og med **lav vandstand** (6-12% kulstof)"
   ]
  },
  {
   "cell_type": "code",
   "execution_count": 18,
   "metadata": {},
   "outputs": [
    {
     "name": "stdout",
     "output_type": "stream",
     "text": [
      "<class 'float'>\n",
      "Samlet CO2 for marken: 210.79999999999998 ton\n"
     ]
    }
   ],
   "source": [
    "#Input - Test andre scenarier, ved at ændre i input-værdierne herunder\n",
    "H = 10\n",
    "\n",
    "#Beregning\n",
    "CO2_org_jord = H * 21.08\n",
    "print(f'Samlet CO2 for marken: {CO2_org_jord} ton')"
   ]
  },
  {
   "cell_type": "markdown",
   "metadata": {},
   "source": [
    "Marker **i omdrift** og med **lav vandstand** (>12% kulstof)"
   ]
  },
  {
   "cell_type": "code",
   "execution_count": 7,
   "metadata": {},
   "outputs": [
    {
     "name": "stdout",
     "output_type": "stream",
     "text": [
      "Samlet CO2 for marken: 460.40000000000003 ton\n"
     ]
    }
   ],
   "source": [
    "#Input - Test andre scenarier, ved at ændre i input-værdierne herunder\n",
    "H = 10\n",
    "\n",
    "#Beregning\n",
    "CO2_org_jord = H * 42.17 + H * 3.87\n",
    "print(f'Samlet CO2 for marken: {CO2_org_jord} ton')"
   ]
  },
  {
   "cell_type": "markdown",
   "metadata": {},
   "source": [
    "Marker **ikke i omdrift** og med **lav vandstand** (>12% kulstof)"
   ]
  },
  {
   "cell_type": "code",
   "execution_count": 19,
   "metadata": {},
   "outputs": [
    {
     "name": "stdout",
     "output_type": "stream",
     "text": [
      "Samlet CO2 for marken: 332.4 ton\n"
     ]
    }
   ],
   "source": [
    "#Input - Test andre scenarier, ved at ændre i input-værdierne herunder\n",
    "H = 10\n",
    "\n",
    "#Beregning\n",
    "CO2_org_jord = H * 30.8 + H * 2.44\n",
    "print(f'Samlet CO2 for marken: {CO2_org_jord} ton')"
   ]
  },
  {
   "cell_type": "markdown",
   "metadata": {},
   "source": [
    "Marker **ikke i omdrift** og med **lav vandstand** (6-12% kulstof)"
   ]
  },
  {
   "cell_type": "code",
   "execution_count": 21,
   "metadata": {},
   "outputs": [
    {
     "name": "stdout",
     "output_type": "stream",
     "text": [
      "Samlet CO2 for marken: 154.0 ton\n"
     ]
    }
   ],
   "source": [
    "#Input - Test andre scenarier, ved at ændre i input-værdierne herunder\n",
    "H = 10\n",
    "\n",
    "#Beregning\n",
    "CO2_org_jord = H * 15.4\n",
    "print(f'Samlet CO2 for marken: {CO2_org_jord} ton')"
   ]
  },
  {
   "cell_type": "markdown",
   "metadata": {},
   "source": [
    "Marker **ikke i omdrift** og med **høj vandstand** (6-12% + >12% kulstof)"
   ]
  },
  {
   "cell_type": "code",
   "execution_count": 5,
   "metadata": {},
   "outputs": [
    {
     "name": "stdout",
     "output_type": "stream",
     "text": [
      "Samlet CO2 for marken: 68.0\n"
     ]
    }
   ],
   "source": [
    "#Input - Test andre scenarier, ved at ændre i input-værdierne herunder\n",
    "H = 10\n",
    "\n",
    "#Beregning\n",
    "CO2_org_jord = H * 6.8\n",
    "print(f'Samlet CO2 for marken: {CO2_org_jord}')"
   ]
  }
 ],
 "metadata": {
  "kernelspec": {
   "display_name": "Python 3.10.5 64-bit",
   "language": "python",
   "name": "python3"
  },
  "language_info": {
   "codemirror_mode": {
    "name": "ipython",
    "version": 3
   },
   "file_extension": ".py",
   "mimetype": "text/x-python",
   "name": "python",
   "nbconvert_exporter": "python",
   "pygments_lexer": "ipython3",
   "version": "3.10.5"
  },
  "orig_nbformat": 4,
  "vscode": {
   "interpreter": {
    "hash": "bab84105c52ccadeb85d61dc9a1d15bd1feb821a6dbda7c8ceb9873f369b5223"
   }
  }
 },
 "nbformat": 4,
 "nbformat_minor": 2
}
