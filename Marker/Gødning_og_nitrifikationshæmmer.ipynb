{
 "cells": [
  {
   "attachments": {},
   "cell_type": "markdown",
   "metadata": {},
   "source": [
    "# **Gødning og nitrifikationshæmmer på marken**\n",
    "\n",
    "## **Gødning**\n",
    "\n",
    "\n",
    "### **Beregning af N<sub>2</sub>O fra '_handelsgødning_', '_husdyrgødning og anden organisk gødning_' samt '_gødning afsat under afgræsning_'**\n",
    "\n",
    "$$N_2O_{gødning} = N_2O_{jord}  + N_2O_{NH_3}  + N_2O_{NOx}$$\n",
    "\n",
    "**Beregning af N<sub>2</sub>O fra jord**\n",
    "\n",
    "$$N_2O_{jord} = N_{total} \\cdot A \\cdot EF_{N_2O} \\cdot \\frac{44}{28}$$\n",
    "\n",
    "Hvor:\n",
    "\n",
    "* N<sub>total</sub> = fra MO, kg N i gødningstypen pr. ha (summering af AppliedN i gødningstypen for alle handlingerne på marken) [kg/ha]\n",
    "* A: markens totale areal = fra MO [ha]\n",
    "* EF<sub>N<sub>2</sub>O</sub> = 0,01 for handelsgødning + husdyrgødning/anden org gødning og 0,02 for husdyrgødning afsat under afgræsning\n",
    "\n",
    "**Beregning af N<sub>2</sub>O fra ammoniak og NOx**\n",
    "\n",
    "$$N_2O_{NH_3} = N_{total} \\cdot A \\cdot EF_{NH_3} \\cdot  EF_{N_2O}\\cdot \\frac{44}{28}$$\n",
    "\n",
    "$$N_2O_{NOx} = \\frac{N_{total} \\cdot A \\cdot EF_{NOx}}{\\frac{46}{14}} \\cdot EF_{N_2O} \\cdot \\frac{44}{28}$$\n",
    "\n",
    "Hvor:\n",
    "* N<sub>total</sub> = fra MO, kg N i gødningstypen pr. ha (summering af AppliedN i gødningstypen for alle handlingerne på marken) [kg/ha]\n",
    "* A: markens totale areal = fra MO [ha]\n",
    "* EF<sub>N<sub>2</sub>O</sub> = 0,01 for alle gødningstyper\n",
    "* EF<sub>NH<sub>3</sub></sub> = 0,04 for handelsgødning, 0,114 for husdyrgødning/anden org gødning og 0,084 for husdyrgødning afsat under afgræsning fra kvæg\n",
    "* EF<sub>NOx</sub> = 0,04\n",
    "\n",
    "#### **Omregning til CO<sub>2</sub>e:**\n",
    "\n",
    "$$CO_2e = N_2O_{gødning} \\cdot \\theta_{N_2O-CO_2}$$\n",
    "Hvor: \n",
    "\n",
    " * $\\theta$ N<sub>2</sub>O-CO<sub>2</sub></sub>: Omregningsfaktor N<sub>2</sub>O til CO<sub>2</sub> = 265\n",
    "\n",
    " ----\n",
    "\n",
    "## **Nitrifikationshæmmer**\n",
    "\n",
    "### **Beregning af N<sub>2</sub>O ved brug af nitrifikationshæmmer** \n",
    "\n",
    "Ved brug af nitrifikationshæmmer sænkes aftrykket fra gødningen i jorden med 40%. N<sub>2</sub>O<sub>jord</sub> i beregningen ovenfor genberegnes derfor som:\n",
    "\n",
    "$$N_2O_{jord} = N_2O_{jord} - (N_{nitri} \\cdot A \\cdot EF_{N_2O} \\cdot \\frac{44}{28} \\cdot 0,4)$$\n",
    "\n",
    "Hvor: \n",
    "\n",
    " * N<sub>nitri</sub>: Mængden af handels-, husdyr- eller anden organisk gødning som er tilsat nitrifikationshæmmere = brugerinput [kg]\n",
    "\n",
    "_OBS: N<sub>2</sub>O<sub>NH<sub>3</sub></sub> og N<sub>2</sub>O<sub>NOx</sub> genberegnes ikke ved tilsætning af nitrifikationshæmmer_\n",
    "\n",
    "_Der kan ikke anvendes nitrifikationshæmmer på gødning afsat under afgræsning_\n"
   ]
  },
  {
   "cell_type": "markdown",
   "metadata": {},
   "source": [
    "----\n",
    "\n",
    "## **Testcases**"
   ]
  },
  {
   "cell_type": "code",
   "execution_count": null,
   "metadata": {
    "dotnet_interactive": {
     "language": "csharp"
    }
   },
   "outputs": [],
   "source": [
    "// konstanter - nix pille\n",
    "double theta_N2O_CO2 = 265.0;\n",
    "double EF_N2O = 0.01;\n",
    "double EF_N2O_jord = 0.01;\n",
    "double EF_N2O_jord_afgr = 0.02;  \n",
    "double EF_NH3_handel = 0.05;\n",
    "double EF_NH3_hus = 0.08;  \n",
    "double EF_NH3_afgr = 0.084; \n",
    "double EF_NOx = 0.04;\n",
    "\n",
    "//funktioner\n",
    "double godning(double N_total, double EF_N2O_jord, double EF_N2O, double EF_NH3, double EF_NOx)\n",
    "{\n",
    "\n",
    "    double N2O_jord = N_total * EF_N2O_jord * (44.0 / 28.0);\n",
    "    double N2O_NH3 = N_total * EF_NH3 * EF_N2O * (44.0 / 28.0);\n",
    "    double N2O_NOx = N_total * EF_NOx / (46.0 / 14.0) * EF_N2O * (44.0 / 28.0);\n",
    "    double N2O_godning = N2O_jord + N2O_NH3 + N2O_NOx;\n",
    "\n",
    "return N2O_godning;\n",
    "}\n",
    "\n",
    "double nitri(double N_total, double N_nit, double EF_N2O_jord, double EF_N2O, double EF_NH3, double EF_NOx)\n",
    "{\n",
    "\n",
    "    double N2O_jord = (N_total * EF_N2O_jord * (44.0 / 28.0)) - (N_nit * EF_N2O_jord * (44.0 / 28.0) * 0.4);\n",
    "    double N2O_NH3 = N_total * EF_NH3 * EF_N2O * (44.0 / 28.0);\n",
    "    double N2O_NOx = N_total * EF_NOx / (46.0 / 14.0) * EF_N2O * (44.0 / 28.0);\n",
    "    double N2O_godning = N2O_jord + N2O_NH3 + N2O_NOx;\n",
    "\n",
    "return N2O_godning;\n",
    "}\n"
   ]
  },
  {
   "cell_type": "markdown",
   "metadata": {},
   "source": [
    "**Handelsgødning + nitrifikationshæmmer**"
   ]
  },
  {
   "cell_type": "code",
   "execution_count": null,
   "metadata": {
    "dotnet_interactive": {
     "language": "csharp"
    }
   },
   "outputs": [],
   "source": [
    "// Input - Test andre scenarier, ved at ændre i input-værdierne herunder\n",
    "double N_total = 122;\n",
    "double N_nit = 12;\n",
    "\n",
    "//Beregninger\n",
    "double N2O_godning = godning(N_total, EF_N2O_jord, EF_N2O, EF_NH3_handel, EF_NOx); \n",
    "double N2O_godning_nitri = nitri(N_total, N_nit, EF_N2O_jord, EF_N2O, EF_NH3_handel, EF_NOx); \n",
    "\n",
    "Console.WriteLine($\"N20 i handelsgødning: {N2O_godning}\");\n",
    "Console.WriteLine($\"Omregnet til CO2e: {N2O_godning * theta_N2O_CO2}\"); \n",
    "Console.WriteLine($\"Inklusiv {Math.Round(N_nit/N_total * 100,1)}% nitrifikationshæmmer: {N2O_godning_nitri}\");\n",
    "Console.WriteLine($\"Omregnet til CO2e: {N2O_godning_nitri * theta_N2O_CO2}\"); "
   ]
  },
  {
   "cell_type": "markdown",
   "metadata": {},
   "source": [
    "**Husdyr/anden organisk gødning + nitrifikationshæmmer**"
   ]
  },
  {
   "cell_type": "code",
   "execution_count": null,
   "metadata": {
    "dotnet_interactive": {
     "language": "csharp"
    }
   },
   "outputs": [],
   "source": [
    "// Input - Test andre scenarier, ved at ændre i input-værdierne herunder\n",
    "double N_total = 100;\n",
    "double N_nit = 50;\n",
    "\n",
    "//Beregninger\n",
    "double N2O_godning = godning(N_total, EF_N2O_jord, EF_N2O, EF_NH3_hus, EF_NOx);\n",
    "double N2O_godning_nitri = nitri(N_total, N_nit, EF_N2O_jord, EF_N2O, EF_NH3_hus, EF_NOx);  \n",
    "\n",
    "Console.WriteLine($\"N20 i handelsgødning: {N2O_godning}\");\n",
    "Console.WriteLine($\"Omregnet til CO2e: {N2O_godning * theta_N2O_CO2}\");\n",
    "Console.WriteLine($\"Inklusiv {Math.Round(N_nit/N_total * 100,1)}% nitrifikationshæmmer: {N2O_godning_nitri}\");\n",
    "Console.WriteLine($\"Omregnet til CO2e: {N2O_godning_nitri * theta_N2O_CO2}\");  "
   ]
  },
  {
   "cell_type": "markdown",
   "metadata": {},
   "source": [
    "**Gødning afsat under afgræsning**"
   ]
  },
  {
   "cell_type": "code",
   "execution_count": null,
   "metadata": {
    "dotnet_interactive": {
     "language": "csharp"
    }
   },
   "outputs": [],
   "source": [
    "// Input - Test andre scenarier, ved at ændre i input-værdierne herunder\n",
    "double N_total = 100;\n",
    "\n",
    "//Beregninger\n",
    "double N2O_godning = godning(N_total, EF_N2O_jord_afgr, EF_N2O, EF_NH3_afgr, EF_NOx);\n",
    "\n",
    "Console.WriteLine($\"N20 i gødning afsat ved afgræsning: {N2O_godning}\");\n",
    "Console.WriteLine($\"Omregnet til CO2e: {N2O_godning * theta_N2O_CO2}\");"
   ]
  }
 ],
 "metadata": {
  "kernelspec": {
   "display_name": ".NET (C#)",
   "language": "C#",
   "name": ".net-csharp"
  },
  "language_info": {
   "name": "polyglot-notebook"
  },
  "polyglot_notebook": {
   "kernelInfo": {
    "defaultKernelName": "csharp",
    "items": [
     {
      "aliases": [],
      "name": ".NET"
     },
     {
      "aliases": [
       "C#",
       "c#"
      ],
      "languageName": "C#",
      "name": "csharp"
     },
     {
      "aliases": [
       "F#",
       "f#"
      ],
      "languageName": "F#",
      "name": "fsharp"
     },
     {
      "aliases": [],
      "languageName": "HTML",
      "name": "html"
     },
     {
      "aliases": [
       "js"
      ],
      "languageName": "JavaScript",
      "name": "javascript"
     },
     {
      "aliases": [],
      "languageName": "KQL",
      "name": "kql"
     },
     {
      "aliases": [],
      "languageName": "Mermaid",
      "name": "mermaid"
     },
     {
      "aliases": [
       "powershell"
      ],
      "languageName": "PowerShell",
      "name": "pwsh"
     },
     {
      "aliases": [],
      "languageName": "SQL",
      "name": "sql"
     },
     {
      "aliases": [],
      "name": "value"
     },
     {
      "aliases": [
       "frontend"
      ],
      "name": "vscode"
     },
     {
      "aliases": [],
      "name": "webview"
     }
    ]
   }
  }
 },
 "nbformat": 4,
 "nbformat_minor": 2
}
