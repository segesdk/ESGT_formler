{
 "cells": [
  {
   "cell_type": "markdown",
   "metadata": {},
   "source": [
    "# **Gødning og nitrifikationshæmmer på marken**\n",
    "\n",
    "## **Gødning**\n",
    "\n",
    "### **Beregning af N<sub>2</sub>O fra handelsgødning, husdyrgødning og anden organisk gødning** \n",
    "\n",
    "$$N_2O_{gødning} = N_2O_{jord}  + N_2O_{NH_3}  + N_2O_{NOx}$$\n",
    "\n",
    "Hvor:\n",
    "\n",
    "$$N_2O_{jord} = N_{total} \\cdot EF_{N_2O} \\cdot \\frac{44}{28}$$\n",
    "\n",
    "$$N_2O_{NH_3} = N_{total} \\cdot EF_{NH_3} \\cdot  EF_{N_2O}\\cdot \\frac{44}{28}$$\n",
    "\n",
    "$$N_2O_{NOx} = \\frac{N_{total} \\cdot EF_{NOx}}{\\frac{46}{14}} \\cdot EF_{N_2O} \\cdot \\frac{44}{28}$$\n",
    "\n",
    "Og:\n",
    "* N<sub>total</sub> = fra MDB, kg N i gødningstypen pr. mark (summering af N i gødningstypen for alle handlingerne på marken) [kg]\n",
    "* EF<sub>N<sub>2</sub>O</sub> = 0,01\n",
    "* EF<sub>NH<sub>3</sub></sub> = 0,05 for handelsgødning og 0,08 for husdyrgødning/anden org gødning\n",
    "* EF<sub>NOx</sub> = 0,04\n",
    "\n",
    "### **Omregning til CO<sub>2</sub>e:**\n",
    "\n",
    "$$CO_2e = N_2O_{gødning} \\cdot \\theta_{N_2O-CO_2}$$\n",
    "Hvor: \n",
    "\n",
    " * $\\theta$ N<sub>2</sub>O-CO<sub>2</sub></sub>: Omregningsfaktor N<sub>2</sub>O til CO<sub>2</sub> = 298\n",
    "\n",
    " ----\n",
    "\n",
    "## **Nitrifikationshæmmer**\n",
    "\n",
    "### **Beregning af N<sub>2</sub>O ved brug af nitrifikationshæmmer** \n",
    "\n",
    "Ved brug af nitrifikationshæmmer sænkes aftrykket fra gødningen i jorden med 40%. N<sub>2</sub>O<sub>jord</sub> i beregningen ovenfor genberegnes derfor som:\n",
    "\n",
    "$$N_2O_{jord} = N_2O_{jord} - (N_{nitri} \\cdot EF_{N_2O} \\cdot \\frac{44}{28} \\cdot 0,4)$$\n",
    "\n",
    "Hvor: \n",
    "\n",
    " * N<sub>nitri</sub>: Mængden af handels-, husdyr- eller anden organisk gødning som er tilsat nitrifikationshæmmere = brugerinput [kg]\n",
    "\n",
    "_OBS: N<sub>2</sub>O<sub>NH<sub>3</sub></sub> og N<sub>2</sub>O<sub>NOx</sub> genberegnes ikke ved tilsætning af nitrifikationshæmmer_"
   ]
  },
  {
   "cell_type": "markdown",
   "metadata": {},
   "source": [
    "----\n",
    "\n",
    "## **Testcases**"
   ]
  },
  {
   "cell_type": "code",
   "execution_count": null,
   "metadata": {
    "dotnet_interactive": {
     "language": "csharp"
    },
    "vscode": {
     "languageId": "dotnet-interactive.csharp"
    }
   },
   "outputs": [],
   "source": [
    "// konstanter - nix pille\n",
    "double theta_N2O_CO2 = 298;\n",
    "double EF_N2O = 0.01; \n",
    "double EF_NH3_handel = 0.05;\n",
    "double EF_NH3_hus = 0.08;  \n",
    "double EF_NOx = 0.04;\n",
    "\n",
    "//funktioner\n",
    "double godning(double N_total, double EF_N2O, double EF_NH3, double EF_NOx)\n",
    "{\n",
    "\n",
    "    double N2O_jord = N_total * EF_N2O * 44.0 / 28.0;\n",
    "    double N2O_NH3 = N_total * EF_NH3 * EF_N2O * 44.0 / 28.0;\n",
    "    double N2O_NOx = N_total * EF_NOx / 46.0 / 14.0 * EF_N2O * 44.0 / 28.0;\n",
    "    double N2O_godning = N2O_jord + N2O_NH3 + N2O_NOx;\n",
    "\n",
    "return N2O_godning;\n",
    "}\n",
    "\n",
    "double nitri(double N_total, double N_nit, double EF_N2O, double EF_NH3, double EF_NOx)\n",
    "{\n",
    "\n",
    "    double N2O_jord = (N_total * EF_N2O * 44.0 / 28.0) - (N_nit * EF_N2O * 44.0 / 28.0 * 0.4);\n",
    "    double N2O_NH3 = N_total * EF_NH3 * EF_N2O * 44.0 / 28.0;\n",
    "    double N2O_NOx = N_total * EF_NOx / 46.0 / 14.0 * EF_N2O * 44.0 / 28.0;\n",
    "    double N2O_godning = N2O_jord + N2O_NH3 + N2O_NOx;\n",
    "\n",
    "return N2O_godning;\n",
    "}\n"
   ]
  },
  {
   "cell_type": "markdown",
   "metadata": {},
   "source": [
    "**Handelsgødning + nitrifikationshæmmer**"
   ]
  },
  {
   "cell_type": "code",
   "execution_count": null,
   "metadata": {
    "dotnet_interactive": {
     "language": "csharp"
    },
    "vscode": {
     "languageId": "dotnet-interactive.csharp"
    }
   },
   "outputs": [
    {
     "name": "stdout",
     "output_type": "stream",
     "text": [
      "N20 i handelsgødning: 2,013119077196096\r\n",
      "Omregnet til CO2e: 599,9094850044365\r\n",
      "Inklusiv 9,8% nitrifikationshæmmer: 1,9376905057675244\r\n",
      "Omregnet til CO2e: 577,4317707187223\r\n"
     ]
    }
   ],
   "source": [
    "// Input - Test andre scenarier, ved at ændre i input-værdierne herunder\n",
    "double N_total = 122;\n",
    "double N_nit = 12;\n",
    "\n",
    "//Beregninger\n",
    "double N2O_godning = godning(N_total, EF_N2O, EF_NH3_handel, EF_NOx); \n",
    "double N2O_godning_nitri = nitri(N_total, N_nit, EF_N2O, EF_NH3_handel, EF_NOx); \n",
    "\n",
    "Console.WriteLine($\"N20 i handelsgødning: {N2O_godning}\");\n",
    "Console.WriteLine($\"Omregnet til CO2e: {N2O_godning * theta_N2O_CO2}\"); \n",
    "Console.WriteLine($\"Inklusiv {Math.Round(N_nit/N_total * 100,1)}% nitrifikationshæmmer: {N2O_godning_nitri}\");\n",
    "Console.WriteLine($\"Omregnet til CO2e: {N2O_godning_nitri * theta_N2O_CO2}\"); "
   ]
  },
  {
   "cell_type": "markdown",
   "metadata": {},
   "source": [
    "**Husdyr/anden organisk gødning + nitrifikationshæmmer**"
   ]
  },
  {
   "cell_type": "code",
   "execution_count": null,
   "metadata": {
    "dotnet_interactive": {
     "language": "csharp"
    },
    "vscode": {
     "languageId": "dotnet-interactive.csharp"
    }
   },
   "outputs": [
    {
     "name": "stdout",
     "output_type": "stream",
     "text": [
      "N20 i handelsgødning: 1,697240461401952\r\n",
      "Omregnet til CO2e: 505,7776574977817\r\n",
      "Inklusiv 50% nitrifikationshæmmer: 1,3829547471162378\r\n",
      "Omregnet til CO2e: 412,1205146406389\r\n"
     ]
    }
   ],
   "source": [
    "// Input - Test andre scenarier, ved at ændre i input-værdierne herunder\n",
    "double N_total = 100;\n",
    "double N_nit = 50;\n",
    "\n",
    "//Beregninger\n",
    "double N2O_godning = godning(N_total, EF_N2O, EF_NH3_hus, EF_NOx);\n",
    "double N2O_godning_nitri = nitri(N_total, N_nit, EF_N2O, EF_NH3_hus, EF_NOx);  \n",
    "\n",
    "Console.WriteLine($\"N20 i handelsgødning: {N2O_godning}\");\n",
    "Console.WriteLine($\"Omregnet til CO2e: {N2O_godning * theta_N2O_CO2}\");\n",
    "Console.WriteLine($\"Inklusiv {Math.Round(N_nit/N_total * 100,1)}% nitrifikationshæmmer: {N2O_godning_nitri}\");\n",
    "Console.WriteLine($\"Omregnet til CO2e: {N2O_godning_nitri * theta_N2O_CO2}\");  "
   ]
  }
 ],
 "metadata": {
  "kernelspec": {
   "display_name": ".NET (C#)",
   "language": "C#",
   "name": ".net-csharp"
  },
  "language_info": {
   "file_extension": ".cs",
   "mimetype": "text/x-csharp",
   "name": "C#",
   "pygments_lexer": "csharp",
   "version": "9.0"
  },
  "orig_nbformat": 4,
  "vscode": {
   "interpreter": {
    "hash": "bdf001e0a405e8b8504014542464f4868d6e9f604bb794366dc2b084054cc945"
   }
  }
 },
 "nbformat": 4,
 "nbformat_minor": 2
}
