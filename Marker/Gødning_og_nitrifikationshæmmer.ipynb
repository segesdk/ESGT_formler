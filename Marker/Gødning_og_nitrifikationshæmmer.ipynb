{
 "cells": [
  {
   "cell_type": "markdown",
   "metadata": {},
   "source": [
    "# **Gødning og nitrifikationshæmmer på marken**\n",
    "\n",
    "## **Gødning**\n",
    "\n",
    "### **Beregning af N<sub>2</sub>O fra handelsgødning, husdyrgødning og anden organisk gødning** \n",
    "\n",
    "$$N_2O_{gødning} = N_2O_{jord}  + N_2O_{NH_3}  + N_2O_{NOx}$$\n",
    "\n",
    "Hvor:\n",
    "\n",
    "$$N_2O_{jord} = N_{total} \\cdot EF_{N_2O} \\cdot \\frac{44}{28}$$\n",
    "\n",
    "$$N_2O_{NH_3} = N_{total} \\cdot EF_{NH_3} \\cdot  EF_{N_2O}\\cdot \\frac{44}{28}$$\n",
    "\n",
    "$$N_2O_{NOx} = \\frac{N_{total} \\cdot EF_{NOx}}{\\frac{46}{14}} \\cdot EF_{N_2O} \\cdot \\frac{44}{28}$$\n",
    "\n",
    "Og:\n",
    "* N<sub>total</sub> = fra MDB, kg N i gødningstypen pr. mark (summering af N i gødningstypen for alle handlingerne på marken) [kg]\n",
    "* EF<sub>N<sub>2</sub>O</sub> = 0,01\n",
    "* EF<sub>NH<sub>3</sub></sub> = 0,05 for handelsgødning og 0,08 for husdyrgødning/anden org gødning\n",
    "* EF<sub>NOx</sub> = 0,04\n",
    "\n",
    "### **Omregning til CO<sub>2</sub>e:**\n",
    "\n",
    "$$CO_2e = N_2O_{gødning} \\cdot \\theta_{N_2O-CO_2}$$\n",
    "Hvor: \n",
    "\n",
    " * $\\theta$ N<sub>2</sub>O-CO<sub>2</sub></sub>: Omregningsfaktor N<sub>2</sub>O til CO<sub>2</sub> = 298\n",
    "\n",
    " ----\n",
    "\n",
    "## **Nitrifikationshæmmer**\n",
    "\n",
    "### **Beregning af N<sub>2</sub>O ved brug af nitrifikationshæmmer** \n",
    "\n",
    "Ved brug af nitrifikationshæmmer sænkes aftrykket fra gødningen i jorden med 40%. N<sub>2</sub>O<sub>jord</sub> i beregningen ovenfor genberegnes derfor som:\n",
    "\n",
    "$$N_2O_{jord} = N_2O_{jord} - (N_{nitri} \\cdot EF_{N_2O} \\cdot \\frac{44}{28} \\cdot 0,4)$$\n",
    "\n",
    "Hvor: \n",
    "\n",
    " * N<sub>nitri</sub>: Mængden af handels-, husdyr- eller anden organisk gødning som er tilsat nitrifikationshæmmere = brugerinput [kg]\n",
    "\n",
    "_OBS: N<sub>2</sub>O<sub>NH<sub>3</sub></sub> og N<sub>2</sub>O<sub>NOx</sub> genberegnes ikke ved tilsætning af nitrifikationshæmmer_"
   ]
  },
  {
   "cell_type": "code",
   "execution_count": 1,
   "metadata": {},
   "outputs": [
    {
     "name": "stdout",
     "output_type": "stream",
     "text": [
      "8\n"
     ]
    }
   ],
   "source": [
    "print(4 + 4)"
   ]
  }
 ],
 "metadata": {
  "kernelspec": {
   "display_name": "Python 3.9.10 64-bit",
   "language": "python",
   "name": "python3"
  },
  "language_info": {
   "name": "python",
   "version": "3.9.10"
  },
  "orig_nbformat": 4,
  "vscode": {
   "interpreter": {
    "hash": "bdf001e0a405e8b8504014542464f4868d6e9f604bb794366dc2b084054cc945"
   }
  }
 },
 "nbformat": 4,
 "nbformat_minor": 2
}
