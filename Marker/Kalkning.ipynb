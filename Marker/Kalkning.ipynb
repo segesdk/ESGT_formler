{
 "cells": [
  {
   "cell_type": "markdown",
   "metadata": {},
   "source": [
    "# **Kalkning på marken**\n",
    "\n",
    "### **Beregning af kg CO<sub>2</sub> fra kalkning pr år** \n",
    "\n",
    "$$CO_{2bedrift} = \\frac{A_{total} \\cdot X}{100,09}\\cdot 12,01 \\cdot \\frac{44}{12}$$\n",
    "\n",
    "Hvor\n",
    "* A<sub>total</sub> = summen af arealet for alle marker på bedriften [ha]\n",
    "* X = standard tal for forbrug af kalk (CaCO<sub>3</sub>) pr. ha/ år = 170 kg\n",
    "\n",
    "\n",
    "#### **Kalkning per mark**\n",
    "\n",
    "Vi kan endnu ikke kan fastlægge, hvilke marker, der modtager kalken, og derfor spredes det samlede CO<sub>2</sub>-bidrag fra kalk ligeligt ud på alle bedriftens marker\n",
    "\n",
    "$$CO_{2mark} = CO_{2bedrift} \\cdot \\frac{A}{A_{total}}\\cdot 100$$\n",
    "\n",
    "Hvor\n",
    "* A: markens areal = fra MarkOnline [ha]\n",
    "\n",
    "\n",
    "### **Transport at kalk** \n",
    "\n",
    "Mangler afklaring"
   ]
  },
  {
   "cell_type": "markdown",
   "metadata": {},
   "source": [
    " ----\n",
    "\n",
    " ## **Testcases**"
   ]
  },
  {
   "cell_type": "code",
   "execution_count": 5,
   "metadata": {},
   "outputs": [
    {
     "name": "stdout",
     "output_type": "stream",
     "text": [
      "kalkning på bedriften: 74944.60785293236 tons CO2\n",
      "kalkning på marken: 74795.01781729776 tons CO2\n"
     ]
    }
   ],
   "source": [
    "#konstanter - nix pille \n",
    "X = 170\n",
    "\n",
    "#Input - Test andre scenarier, ved at ændre i input-værdierne herunder\n",
    "A_total = 1002\n",
    "A = 10\n",
    "\n",
    "#Beregning\n",
    "CO2_bedrift = A_total * X / 100.09 * 12.01 * 44 / 12\n",
    "CO2_mark = CO2_bedrift * A / A_total * 100\n",
    "print(f'kalkning på bedriften: {CO2_bedrift} kg CO2')\n",
    "print(f'kalkning på marken: {CO2_mark} kg CO2')"
   ]
  }
 ],
 "metadata": {
  "kernelspec": {
   "display_name": "Python 3.9.10 64-bit",
   "language": "python",
   "name": "python3"
  },
  "language_info": {
   "codemirror_mode": {
    "name": "ipython",
    "version": 3
   },
   "file_extension": ".py",
   "mimetype": "text/x-python",
   "name": "python",
   "nbconvert_exporter": "python",
   "pygments_lexer": "ipython3",
   "version": "3.9.10"
  },
  "orig_nbformat": 4,
  "vscode": {
   "interpreter": {
    "hash": "bdf001e0a405e8b8504014542464f4868d6e9f604bb794366dc2b084054cc945"
   }
  }
 },
 "nbformat": 4,
 "nbformat_minor": 2
}
