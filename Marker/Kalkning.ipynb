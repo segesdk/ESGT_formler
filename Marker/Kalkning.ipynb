{
 "cells": [
  {
   "cell_type": "markdown",
   "metadata": {},
   "source": [
    "# **Kalkning på marken**\n",
    "\n",
    "### **Beregning af kg CO<sub>2</sub> fra kalkning pr år** \n",
    "\n",
    "$$CO_{2bedrift} = \\frac{A_{total} \\cdot X}{100,09}\\cdot 12,01 \\cdot \\frac{44}{12}$$\n",
    "\n",
    "Hvor\n",
    "* A<sub>total</sub>: summen af arealet for alle marker på bedriften = fås fra MarkOnline [ha]\n",
    "* X: standard tal for forbrug af kalk (CaCO<sub>3</sub>) pr. ha/ år = 170 kg\n",
    "\n",
    "\n",
    "#### **Kalkning per mark**\n",
    "\n",
    "Vi kan endnu ikke kan fastlægge, hvilke marker, der modtager kalken, og derfor spredes det samlede CO<sub>2</sub>-bidrag fra kalk ligeligt ud på alle bedriftens marker\n",
    "\n",
    "$$CO_{2mark} = CO_{2bedrift} \\cdot \\frac{A}{A_{total}}$$\n",
    "\n",
    "Hvor\n",
    "* A: markens areal = fra MarkOnline [ha]\n",
    "\n",
    "\n",
    "### **Transport at kalk** \n",
    "\n",
    "Mangler afklaring"
   ]
  },
  {
   "cell_type": "markdown",
   "metadata": {},
   "source": [
    " ----\n",
    "\n",
    " ## **Testcases**"
   ]
  },
  {
   "cell_type": "code",
   "execution_count": null,
   "metadata": {
    "dotnet_interactive": {
     "language": "csharp"
    },
    "vscode": {
     "languageId": "dotnet-interactive.csharp"
    }
   },
   "outputs": [
    {
     "name": "stdout",
     "output_type": "stream",
     "text": [
      "kalkning på bedriften: 7479,501781729777 kg CO2\r\n",
      "kalkning på marken: 747,9501781729776 kg CO2\r\n"
     ]
    }
   ],
   "source": [
    "// konstanter - nix pille \n",
    "double X = 170.0;\n",
    "\n",
    "// Input - Test andre scenarier, ved at ændre i input-værdierne herunder\n",
    "double A_total = 100;\n",
    "double A = 10;\n",
    "\n",
    "// Beregning\n",
    "double CO2_bedrift = A_total * X / 100.09 * 12.01 * 44 / 12;\n",
    "double CO2_mark = CO2_bedrift * A / A_total;\n",
    "Console.WriteLine($\"kalkning på bedriften: {CO2_bedrift} kg CO2\");\n",
    "Console.WriteLine($\"kalkning på marken: {CO2_mark} kg CO2\");"
   ]
  }
 ],
 "metadata": {
  "kernelspec": {
   "display_name": ".NET (C#)",
   "language": "C#",
   "name": ".net-csharp"
  },
  "language_info": {
   "file_extension": ".cs",
   "mimetype": "text/x-csharp",
   "name": "C#",
   "pygments_lexer": "csharp",
   "version": "9.0"
  },
  "orig_nbformat": 4,
  "vscode": {
   "interpreter": {
    "hash": "bdf001e0a405e8b8504014542464f4868d6e9f604bb794366dc2b084054cc945"
   }
  }
 },
 "nbformat": 4,
 "nbformat_minor": 2
}
