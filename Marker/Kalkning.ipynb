{
 "cells": [
  {
   "cell_type": "markdown",
   "metadata": {},
   "source": [
    "# **Kalkning på marken**\n",
    "\n",
    "### **Beregning af kg CO<sub>2</sub> fra kalkning pr år** \n",
    "\n",
    "$$CO_{2bedrift} = \\frac{A_{total} \\cdot X}{100,09}\\cdot 12,01 \\cdot \\frac{44}{12}$$\n",
    "\n",
    "Hvor\n",
    "* A<sub>total</sub>: summen af arealet for alle kalkede marker på bedriften = marker med 'ja' til kalkning [ha]\n",
    "* X: standard tal for forbrug af kalk (CaCO<sub>3</sub>) pr. ha/ år = 170 kg\n",
    "\n",
    "\n",
    "#### **Kalkning per mark**\n",
    "\n",
    "Vi kan endnu ikke kan fastlægge, hvilke marker, der modtager kalken, og derfor spredes det samlede CO<sub>2</sub>-bidrag fra kalk ligeligt ud på alle bedriftens marker\n",
    "\n",
    "$$CO_{2mark} = CO_{2bedrift} \\cdot \\frac{A}{A_{total}}$$\n",
    "\n",
    "Hvor\n",
    "* A: markens areal = fra MarkOnline [ha]\n",
    "\n",
    "\n",
    "### **Transport at kalk** \n",
    "\n",
    "Mangler afklaring"
   ]
  },
  {
   "cell_type": "markdown",
   "metadata": {},
   "source": [
    " ----\n",
    "\n",
    " ## **Testcases**"
   ]
  },
  {
   "cell_type": "code",
   "execution_count": null,
   "metadata": {
    "dotnet_interactive": {
     "language": "csharp"
    }
   },
   "outputs": [],
   "source": [
    "// konstanter - nix pille \n",
    "double X = 170.0;\n",
    "\n",
    "// Input - Test andre scenarier, ved at ændre i input-værdierne herunder\n",
    "double A_total = 100;\n",
    "double A = 10;\n",
    "\n",
    "// Beregning\n",
    "double CO2_bedrift = A_total * X / 100.09 * 12.01 * 44 / 12;\n",
    "double CO2_mark = CO2_bedrift * A / A_total;\n",
    "Console.WriteLine($\"kalkning på bedriften: {CO2_bedrift} kg CO2\");\n",
    "Console.WriteLine($\"kalkning på marken: {CO2_mark} kg CO2\");"
   ]
  }
 ],
 "metadata": {
  "kernelspec": {
   "display_name": ".NET (C#)",
   "language": "C#",
   "name": ".net-csharp"
  },
  "language_info": {
   "name": "polyglot-notebook"
  },
  "polyglot_notebook": {
   "kernelInfo": {
    "defaultKernelName": "csharp",
    "items": [
     {
      "aliases": [],
      "name": ".NET"
     },
     {
      "aliases": [
       "C#",
       "c#"
      ],
      "languageName": "C#",
      "name": "csharp"
     },
     {
      "aliases": [
       "F#",
       "f#"
      ],
      "languageName": "F#",
      "name": "fsharp"
     },
     {
      "aliases": [],
      "languageName": "HTML",
      "name": "html"
     },
     {
      "aliases": [
       "js"
      ],
      "languageName": "JavaScript",
      "name": "javascript"
     },
     {
      "aliases": [],
      "languageName": "KQL",
      "name": "kql"
     },
     {
      "aliases": [],
      "languageName": "Mermaid",
      "name": "mermaid"
     },
     {
      "aliases": [
       "powershell"
      ],
      "languageName": "PowerShell",
      "name": "pwsh"
     },
     {
      "aliases": [],
      "languageName": "SQL",
      "name": "sql"
     },
     {
      "aliases": [],
      "name": "value"
     },
     {
      "aliases": [
       "frontend"
      ],
      "name": "vscode"
     },
     {
      "aliases": [],
      "name": "webview"
     }
    ]
   }
  }
 },
 "nbformat": 4,
 "nbformat_minor": 2
}
