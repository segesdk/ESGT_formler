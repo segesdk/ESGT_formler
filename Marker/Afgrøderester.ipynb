{
 "cells": [
  {
   "attachments": {},
   "cell_type": "markdown",
   "metadata": {
    "dotnet_interactive": {
     "language": "csharp"
    },
    "polyglot_notebook": {
     "kernelName": "csharp"
    }
   },
   "source": [
    " # **Afgrøderester på marken**\n",
    "\n",
    "## **Intro**\n",
    "\n",
    "Beregning af afgrøderester på marken anvendes dels til opgørelse af emissionen af lattergas fra afgrøderest og dels til opgørelse af kulstofbalancen.\n",
    "Der skal både beregnes tørstof i afgrøderest, N i afgrøderest og C i afgrøderest.\n",
    "Uanset sammensætningen af afgrøderester, så regnes der kun med et N-indhold i overjordisk afgrøderest pr. afgrøde (tabellagt) og et N-indhold i underjordisk afgrøderest pr. afgrøde (tabellagt).\n",
    "\n",
    "\n",
    "_NB Der er to variable, som har indvirkning på beregningen af afgrøderester. Disse er:_\n",
    "\n",
    "* _X1: Halmnedmulding, ja/nej_. Oplysning om halmnedmulding hentes fra MO; men kan ændres af brugeren.\n",
    "* _X2: Udbytte nedmuldnes, ja/nej_. Gælder for efterafgrøder og mellemafgrøder, der ikke høstes.\n",
    "\n",
    "_Fagligt notat revideret februar 2023 kan læses [HER](https://seges.sharepoint.com/sites/GreenAction/Delte%20dokumenter/General/Mark/skh20230207_Afgr%C3%B8derester%20p%C3%A5%20marken.docx?web=1)_\n",
    "\n",
    "\n",
    "\n",
    "## **Beregninger**\n",
    "\n",
    "### **Beregning af N fra afgrøderester på marken** \n",
    "\n",
    "$$N_{afgrøderester} = \\frac{N_{A_{over}} + N_{A_{under}}}{O} \\cdot A$$\n",
    "\n",
    "Hvor:\n",
    "\n",
    "* N<sub>A<sub>over</sub></sub>: N i afgrøderester over jorden [kg N/kg ts]\n",
    "* N<sub>A<sub>under</sub></sub>: N i afgrøderester under jorden [kg N/kg ts]\n",
    "* O: Omlægningsfrekvens = Brugerinput el. [Tabelværdi](https://seges.sharepoint.com/:x:/r/sites/GreenAction/_layouts/15/Doc.aspx?sourcedoc=%7BA8797CF8-D09C-4577-B972-E4D9C79AF9FF%7D&file=Afgr%C3%B8der_data_g%C3%B8dnings%C3%A5r%202020-2021_FOREL%C3%98BIG.xlsx&activeCell=%27Data%27!N1&action=embedview)\n",
    "* A: Markens samlede areal = fra MO [ha]\n",
    "\n",
    "### **Beregning af N i afgrøderester over jorden, N<sub>A<sub>over</sub></sub>**\n",
    "\n",
    "$$N_{A_{over}} = A_{over} \\cdot N_{over} $$\n",
    "\n",
    "Hvor:\n",
    "\n",
    "* N<sub>over</sub>: N indhold i afgrøderester over jorden = [Tabelværdi](https://seges.sharepoint.com/:x:/r/sites/GreenAction/_layouts/15/Doc.aspx?sourcedoc=%7BA8797CF8-D09C-4577-B972-E4D9C79AF9FF%7D&file=Afgr%C3%B8der_data_g%C3%B8dnings%C3%A5r%202020-2021_FOREL%C3%98BIG.xlsx&activeCell=%27Data%27!O1&action=embedview) [kg N/kg ts]\n",
    "\n",
    "\n",
    "### **Beregning af tørstof i afgrøderester over jorden, A<sub>over</sub>**\n",
    "\n",
    "$$A_{over} = ((T + H_u) \\cdot S + I) \\cdot k_{græs} +  X1 \\cdot H_f \\cdot X1 \\cdot T + H_u + X2 \\cdot T$$\n",
    "\n",
    "Hvor:\n",
    "\n",
    "* X1: Indikerer om der nedmuldes halm (1/0) = input fra MO (OBS \"delvis halmnedmulding\" håndteres som true) ELLER input fra bruger\n",
    "* X2: Indikerer om udbyttet nedmuldes (1/0) = [Tabelværdi](https://seges.sharepoint.com/:x:/r/sites/GreenAction/_layouts/15/Doc.aspx?sourcedoc=%7BA8797CF8-D09C-4577-B972-E4D9C79AF9FF%7D&file=Afgr%C3%B8der_data_g%C3%B8dnings%C3%A5r%202020-2021_FOREL%C3%98BIG.xlsx&activeCell=%27Data%27!Y1&action=embedview)\n",
    "* T: Tørstof i alt (svarer til hovedudbytte * tørstofprocenten) = Læses fra MO [kg ts/ha]\n",
    "* H<sub>u</sub>: Fast halmudbytte i frøgræs = [Tabelværdi](https://seges.sharepoint.com/:x:/r/sites/GreenAction/_layouts/15/Doc.aspx?sourcedoc=%7BA8797CF8-D09C-4577-B972-E4D9C79AF9FF%7D&file=Afgr%C3%B8der_data_g%C3%B8dnings%C3%A5r%202020-2021_FOREL%C3%98BIG.xlsx&activeCell=%27Data%27!S1&action=embedview) [kg ts/ha]\n",
    "* S: Slope = [Tabelværdi](https://seges.sharepoint.com/:x:/r/sites/GreenAction/_layouts/15/Doc.aspx?sourcedoc=%7BA8797CF8-D09C-4577-B972-E4D9C79AF9FF%7D&file=Afgr%C3%B8der_data_g%C3%B8dnings%C3%A5r%202020-2021_FOREL%C3%98BIG.xlsx&activeCell=%27Data%27!L1&action=embedview)\n",
    "* I: Intercept = [Tabelværdi](https://seges.sharepoint.com/:x:/r/sites/GreenAction/_layouts/15/Doc.aspx?sourcedoc=%7BA8797CF8-D09C-4577-B972-E4D9C79AF9FF%7D&file=Afgr%C3%B8der_data_g%C3%B8dnings%C3%A5r%202020-2021_FOREL%C3%98BIG.xlsx&activeCell=%27Data%27!M1&action=embedview)\n",
    "* H<sub>f</sub>: Halmfraktion ift. udbytte = [Tabelværdi](https://seges.sharepoint.com/:x:/r/sites/GreenAction/_layouts/15/Doc.aspx?sourcedoc=%7BA8797CF8-D09C-4577-B972-E4D9C79AF9FF%7D&file=Afgr%C3%B8der_data_g%C3%B8dnings%C3%A5r%202020-2021_FOREL%C3%98BIG.xlsx&activeCell=%27Data%27!R1&action=embedview)\n",
    "* k<sub>græs</sub>: Korrektironsfaktor for afgrøderester, afhænger af N<sub>græs</sub>:\n",
    "\n",
    ">Hvis N<sub>græs</sub> ≥ 50 kg N/ha\n",
    "\n",
    " $$k_{græs} = 1,49 $$\n",
    "\n",
    ">Hvis 50 kg N/ha > N<sub>græs</sub> ≥ 10 kg N/ha\n",
    "\n",
    " $$k_{græs} = 1,24 $$\n",
    "\n",
    ">Hvis N<sub>græs</sub> < 10 kg N/ha\n",
    "\n",
    " $$k_{græs} = 1,0 $$\n",
    "\n",
    "* N<sub>græs</sub>: Mængden af N afsat under afgræsning = fra MO, kg N i gødningstypen pr. ha (summering af AppliedN i gødningstypen for alle handlingerne på marken) [kg N/ha]\n",
    "\n",
    "### **Beregning af N i afgrøderester under jorden, N<sub>A<sub>under</sub></sub>**\n",
    "\n",
    "$$N_{A_{under}} = A_{under} \\cdot N_{under} $$\n",
    "\n",
    "Hvor:\n",
    "\n",
    "* N<sub>under</sub>: N indhold i afgrøderester under jorden = [Tabelværdi](https://seges.sharepoint.com/:x:/r/sites/GreenAction/_layouts/15/Doc.aspx?sourcedoc=%7BA8797CF8-D09C-4577-B972-E4D9C79AF9FF%7D&file=Afgr%C3%B8der_data_g%C3%B8dnings%C3%A5r%202020-2021_FOREL%C3%98BIG.xlsx&activeCell=%27Data%27!P1&action=embedview) [kg N/kg ts]\n",
    "\n",
    "### **Beregning af tørstof i afgrøderester under jorden, A<sub>under</sub>**\n",
    "\n",
    "$$A_{under} = (T + H_f \\cdot T + H_u + ((T + H_u) \\cdot S + I) \\cdot k_{græs}) \\cdot F$$\n",
    "\n",
    "Hvor:\n",
    "\n",
    "* F: Forhold underjordisk biomasse til overjordisk biomasse = [Tabelværdi](https://seges.sharepoint.com/:x:/r/sites/GreenAction/_layouts/15/Doc.aspx?sourcedoc=%7BA8797CF8-D09C-4577-B972-E4D9C79AF9FF%7D&file=Afgr%C3%B8der_data_g%C3%B8dnings%C3%A5r%202020-2021_FOREL%C3%98BIG.xlsx&activeCell=%27Data%27!Q1&action=embedview)\n",
    "\n",
    "\n",
    "### **Omregning til CO<sub>2</sub>e**\n",
    "\n",
    "$$CO_2e = N_{afgrøderester}   \\cdot EF_{N_2O} \\cdot \\frac{44}{28} \\cdot \\theta_{N_2O-CO_2}$$\n",
    "Hvor: \n",
    "\n",
    " * EF<sub>N<sub>2</sub>O</sub>: Emissionsfaktor for N<sub>2</sub>O = 0,01\n",
    " * $\\theta$ N<sub>2</sub>O-CO<sub>2</sub></sub>: Omregningsfaktor N<sub>2</sub>O til CO<sub>2</sub> = 298,0\n",
    "\n",
    " ----\n",
    "\n",
    " ## **Testcases**\n"
   ]
  },
  {
   "cell_type": "code",
   "execution_count": 10,
   "metadata": {
    "dotnet_interactive": {
     "language": "csharp"
    },
    "vscode": {
     "languageId": "polyglot-notebook"
    }
   },
   "outputs": [],
   "source": [
    "// konstanter og funktioner - nix pille\n",
    "\n",
    "double EF_N2O = 0.01;\n",
    "double theta_N2O_CO2 = 298;\n",
    "\n",
    "public double A_over(bool X1, bool X2, double T, double H_u, double S, double I, double k_graes, double H_f)\n",
    "    {\n",
    "        double halmnedmulding = X1 ? 1.0 : 0.0;\n",
    "        double udbyttenedmulding = X2 ? 1.0 : 0.0;\n",
    "\n",
    "        return ((T + H_u) * S + I) * k_graes + halmnedmulding * H_f * T + halmnedmulding * H_u + udbyttenedmulding * T;\n",
    "    }\n",
    "\n",
    "\n",
    "public double A_under(double T, double H_u, double S, double I, double k_graes, double H_f, double F)\n",
    "\n",
    "    {\n",
    "        return (T + H_f * T + H_u + ((T + H_u) * S + I) * k_graes) * F;\n",
    "    }\n",
    "\n"
   ]
  },
  {
   "cell_type": "markdown",
   "metadata": {
    "dotnet_interactive": {
     "language": "csharp"
    },
    "polyglot_notebook": {
     "kernelName": "csharp"
    }
   },
   "source": [
    "**Beregning for vårbyg (Afgrødekode 1)**"
   ]
  },
  {
   "cell_type": "code",
   "execution_count": 25,
   "metadata": {
    "dotnet_interactive": {
     "language": "csharp"
    },
    "vscode": {
     "languageId": "polyglot-notebook"
    }
   },
   "outputs": [
    {
     "name": "stdout",
     "output_type": "stream",
     "text": [
      "Afgrøderester over jord: 4755 kg ts/ha\n",
      "Afgrøderester under jord: 2495,35 kg ts/ha\n",
      "N i afgrøderester over jord: 33,285000000000004 kg N/ha\n",
      "N i afgrøderester under jord: 34,9349 kg N/ha\n",
      "Afgrøderester for vårbyg marken: 68,2199 kg N\n",
      "Omregnet til N20: 1,072027 kg N20\n",
      "Omregnet til CO2e: 319,464046\n"
     ]
    }
   ],
   "source": [
    "// Input - Test andre scenarier, ved at ændre i input-værdierne herunder\n",
    "bool X1 = false;\n",
    "bool X2 = false;\n",
    "double A = 1.0;\n",
    "double k_graes = 1.0;\n",
    "// tabelværdier\n",
    "double O = 1.0;\n",
    "double N_over = 0.007;\n",
    "double N_under = 0.014;\n",
    "double H_f = 0.55;\n",
    "double T = 4250.0;\n",
    "double H_u = 0.0;\n",
    "double S = 0.98;\n",
    "double I = 590.0;\n",
    "double F = 0.22;\n",
    "\n",
    "// Beregning\n",
    "double A_over_ = A_over(X1, X2, T, H_u, S, I, k_graes, H_f);\n",
    "double A_under_ = A_under(T, H_u, S, I, k_graes, H_f, F);\n",
    "double N_A_over_ = A_over_ * N_over;\n",
    "double N_A_under_ = A_under_ * N_under;\n",
    "double N_afgroderester = (N_A_over_ + N_A_under_) / O * A;\n",
    "\n",
    "Console.WriteLine($\"Afgrøderester over jord: {A_over_} kg ts/ha\");\n",
    "Console.WriteLine($\"Afgrøderester under jord: {A_under_} kg ts/ha\");\n",
    "Console.WriteLine($\"N i afgrøderester over jord: {N_A_over_} kg N/ha\");\n",
    "Console.WriteLine($\"N i afgrøderester under jord: {N_A_under_} kg N/ha\");\n",
    "Console.WriteLine($\"Afgrøderester for vårbyg marken: {N_afgroderester} kg N\");\n",
    "Console.WriteLine($\"Omregnet til N20: {N_afgroderester * EF_N2O * 44 / 28} kg N20\");\n",
    "Console.WriteLine($\"Omregnet til CO2e: {N_afgroderester * EF_N2O * 44 / 28 * theta_N2O_CO2}\");\n"
   ]
  },
  {
   "cell_type": "markdown",
   "metadata": {
    "dotnet_interactive": {
     "language": "csharp"
    },
    "polyglot_notebook": {
     "kernelName": "csharp"
    }
   },
   "source": [
    "**Rajgræs, alm. (Afgrødekode 101)**"
   ]
  },
  {
   "cell_type": "code",
   "execution_count": 21,
   "metadata": {
    "dotnet_interactive": {
     "language": "csharp"
    },
    "vscode": {
     "languageId": "polyglot-notebook"
    }
   },
   "outputs": [
    {
     "name": "stdout",
     "output_type": "stream",
     "text": [
      "Afgrøderester over jord: 5921 kg ts/ha\n",
      "Afgrøderester under jord: 5792,8 kg ts/ha\n",
      "N i afgrøderester over jord: 88,815 kg N/ha\n",
      "N i afgrøderester under jord: 69,5136 kg N/ha\n",
      "Afgrøderester for rajgræs, alm. marken: 158,3286 kg N\n",
      "Omregnet til N20: 2,4880208571428573 kg N20\n",
      "Omregnet til CO2e: 741,4302154285715\n"
     ]
    }
   ],
   "source": [
    "// Input - Test andre scenarier, ved at ændre i input-værdierne herunder\n",
    "bool X1 = true;\n",
    "bool X2 = false;\n",
    "double A = 1.0;\n",
    "double k_graes = 1.0;\n",
    "// Tabelværdier\n",
    "double O = 1.0;\n",
    "double N_over = 0.015;\n",
    "double N_under = 0.012;\n",
    "double H_f = 0.0;\n",
    "double T = 1320.0;\n",
    "double H_u = 4250.0;\n",
    "double S = 0.3;\n",
    "double I = 0.0;\n",
    "double F = 0.8;\n",
    "\n",
    "// Beregning\n",
    "double A_over_ = A_over(X1, X2, T, H_u, S, I, k_graes, H_f);\n",
    "double A_under_ = A_under(T, H_u, S, I, k_graes, H_f, F);\n",
    "double N_A_over_ = A_over_ * N_over;\n",
    "double N_A_under_ = A_under_ * N_under;\n",
    "double N_afgroderester = (N_A_over_ + N_A_under_) / O * A;\n",
    "\n",
    "Console.WriteLine($\"Afgrøderester over jord: {A_over_} kg ts/ha\");\n",
    "Console.WriteLine($\"Afgrøderester under jord: {A_under_} kg ts/ha\");\n",
    "Console.WriteLine($\"N i afgrøderester over jord: {N_A_over_} kg N/ha\");\n",
    "Console.WriteLine($\"N i afgrøderester under jord: {N_A_under_} kg N/ha\");\n",
    "Console.WriteLine($\"Afgrøderester for rajgræs, alm. marken: {N_afgroderester} kg N\");\n",
    "Console.WriteLine($\"Omregnet til N20: {N_afgroderester * EF_N2O * 44 / 28} kg N20\");\n",
    "Console.WriteLine($\"Omregnet til CO2e: {N_afgroderester * EF_N2O * 44 / 28 * theta_N2O_CO2}\");"
   ]
  },
  {
   "cell_type": "markdown",
   "metadata": {
    "dotnet_interactive": {
     "language": "csharp"
    },
    "polyglot_notebook": {
     "kernelName": "csharp"
    }
   },
   "source": [
    "**Kløvergræs med over 50% kløver, udlæg/efterslæt efter korn o.l. (Afgrødekode 945)**"
   ]
  },
  {
   "cell_type": "code",
   "execution_count": 26,
   "metadata": {
    "dotnet_interactive": {
     "language": "csharp"
    },
    "vscode": {
     "languageId": "polyglot-notebook"
    }
   },
   "outputs": [
    {
     "name": "stdout",
     "output_type": "stream",
     "text": [
      "Afgrøderester over jord: 390,59999999999997 kg ts/ha\n",
      "Afgrøderester under jord: 1354,08 kg ts/ha\n",
      "N i afgrøderester over jord: 9,765 kg N/ha\n",
      "N i afgrøderester under jord: 21,66528 kg N/ha\n",
      "Afgrøderester for Kløvergræs med over 50% kløver, udlæg/efterslæt efter korn o.l.: 31,43028 kg N\n",
      "Omregnet til N20: 0,49390439999999997 kg N20\n",
      "Omregnet til CO2e: 147,1835112\n"
     ]
    }
   ],
   "source": [
    "// Input - Test andre scenarier, ved at ændre i input-værdierne herunder\n",
    "bool X1 = false;\n",
    "bool X2 = false;\n",
    "double A = 1.0;\n",
    "double k_graes = 1.0;\n",
    "// Tabelværdier\n",
    "double O = 1;\n",
    "double N_over = 0.025;\n",
    "double N_under = 0.016;\n",
    "double H_f = 0.0;\n",
    "double T = 1302.0;\n",
    "double H_u = 0.0;\n",
    "double S = 0.3;\n",
    "double I = 0.0;\n",
    "double F = 0.8;\n",
    "\n",
    "// Beregning\n",
    "double A_over_ = A_over(X1, X2, T, H_u, S, I, k_graes, H_f);\n",
    "double A_under_ = A_under(T, H_u, S, I, k_graes, H_f, F);\n",
    "double N_A_over_ = A_over_ * N_over;\n",
    "double N_A_under_ = A_under_ * N_under;\n",
    "double N_afgroderester = (N_A_over_ + N_A_under_) / O * A;\n",
    "\n",
    "Console.WriteLine($\"Afgrøderester over jord: {A_over_} kg ts/ha\");\n",
    "Console.WriteLine($\"Afgrøderester under jord: {A_under_} kg ts/ha\");\n",
    "Console.WriteLine($\"N i afgrøderester over jord: {N_A_over_} kg N/ha\");\n",
    "Console.WriteLine($\"N i afgrøderester under jord: {N_A_under_} kg N/ha\");\n",
    "Console.WriteLine($\"Afgrøderester for Kløvergræs med over 50% kløver, udlæg/efterslæt efter korn o.l.: {N_afgroderester} kg N\");\n",
    "Console.WriteLine($\"Omregnet til N20: {N_afgroderester * EF_N2O * 44 / 28} kg N20\");\n",
    "Console.WriteLine($\"Omregnet til CO2e: {N_afgroderester * EF_N2O * 44 / 28 * theta_N2O_CO2}\");"
   ]
  },
  {
   "cell_type": "markdown",
   "metadata": {
    "dotnet_interactive": {
     "language": "csharp"
    },
    "polyglot_notebook": {
     "kernelName": "csharp"
    }
   },
   "source": [
    "**Pligtige efterafgrøder (Afgrødekode 968)**"
   ]
  },
  {
   "cell_type": "code",
   "execution_count": 27,
   "metadata": {
    "dotnet_interactive": {
     "language": "csharp"
    },
    "vscode": {
     "languageId": "polyglot-notebook"
    }
   },
   "outputs": [
    {
     "name": "stdout",
     "output_type": "stream",
     "text": [
      "Afgrøderester over jord: 1950 kg ts/ha\n",
      "Afgrøderester under jord: 2760 kg ts/ha\n",
      "N i afgrøderester over jord: 29,25 kg N/ha\n",
      "N i afgrøderester under jord: 33,12 kg N/ha\n",
      "Afgrøderester for Pligtige efterafgrøder: 62,37 kg N\n",
      "Omregnet til N20: 0,9801000000000001 kg N20\n",
      "Omregnet til CO2e: 292,06980000000004\n"
     ]
    }
   ],
   "source": [
    "// Input - Test andre scenarier, ved at ændre i input-værdierne herunder\n",
    "bool X1 = true;\n",
    "bool X2 = false;\n",
    "double A = 1.0;\n",
    "double k_graes = 1.0;\n",
    "// Tabelværdier\n",
    "double O = 1.0;\n",
    "double N_over = 0.015;\n",
    "double N_under = 0.012;\n",
    "double H_f = 0.0;\n",
    "double T = 1500.0;\n",
    "double H_u = 0.0;\n",
    "double S = 1.3;\n",
    "double I = 0.0;\n",
    "double F = 0.8;\n",
    "\n",
    "// Beregning\n",
    "double A_over_ = A_over(X1, X2, T, H_u, S, I, k_graes, H_f);\n",
    "double A_under_ = A_under(T, H_u, S, I, k_graes, H_f, F);\n",
    "double N_A_over_ = A_over_ * N_over;\n",
    "double N_A_under_ = A_under_ * N_under;\n",
    "double N_afgroderester = (N_A_over_ + N_A_under_) / O * A;\n",
    "\n",
    "Console.WriteLine($\"Afgrøderester over jord: {A_over_} kg ts/ha\");\n",
    "Console.WriteLine($\"Afgrøderester under jord: {A_under_} kg ts/ha\");\n",
    "Console.WriteLine($\"N i afgrøderester over jord: {N_A_over_} kg N/ha\");\n",
    "Console.WriteLine($\"N i afgrøderester under jord: {N_A_under_} kg N/ha\");\n",
    "Console.WriteLine($\"Afgrøderester for Pligtige efterafgrøder: {N_afgroderester} kg N\");\n",
    "Console.WriteLine($\"Omregnet til N20: {N_afgroderester * EF_N2O * 44 / 28} kg N20\");\n",
    "Console.WriteLine($\"Omregnet til CO2e: {N_afgroderester * EF_N2O * 44 / 28 * theta_N2O_CO2}\");"
   ]
  }
 ],
 "metadata": {
  "kernelspec": {
   "display_name": ".NET (C#)",
   "language": "C#",
   "name": ".net-csharp"
  },
  "polyglot_notebook": {
   "kernelInfo": {
    "defaultKernelName": "csharp",
    "items": [
     {
      "aliases": [
       "c#",
       "C#"
      ],
      "languageName": "C#",
      "name": "csharp"
     },
     {
      "aliases": [],
      "languageName": null,
      "name": ".NET"
     },
     {
      "aliases": [
       "f#",
       "F#"
      ],
      "languageName": "F#",
      "name": "fsharp"
     },
     {
      "aliases": [],
      "languageName": "HTML",
      "name": "html"
     },
     {
      "aliases": [
       "js"
      ],
      "languageName": "JavaScript",
      "name": "javascript"
     },
     {
      "aliases": [],
      "languageName": "KQL",
      "name": "kql"
     },
     {
      "aliases": [],
      "languageName": "Mermaid",
      "name": "mermaid"
     },
     {
      "aliases": [
       "powershell"
      ],
      "languageName": "PowerShell",
      "name": "pwsh"
     },
     {
      "aliases": [],
      "languageName": "SQL",
      "name": "sql"
     },
     {
      "aliases": [],
      "name": "value"
     },
     {
      "aliases": [
       "frontend"
      ],
      "languageName": null,
      "name": "vscode"
     },
     {
      "aliases": [],
      "name": "webview"
     }
    ]
   }
  }
 },
 "nbformat": 4,
 "nbformat_minor": 2
}
