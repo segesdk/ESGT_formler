{
 "cells": [
  {
   "attachments": {},
   "cell_type": "markdown",
   "metadata": {
    "dotnet_interactive": {
     "language": "csharp"
    },
    "polyglot_notebook": {
     "kernelName": "csharp"
    }
   },
   "source": [
    " # **Afgrøderester på marken**\n",
    "\n",
    "## **Intro**\n",
    "\n",
    "Beregning af afgrøderester på marken anvendes dels til opgørelse af emissionen af lattergas fra af-grøderest og dels til opgørelse af kulstofbalancen.\n",
    "Der skal både beregnes tørstof i afgrøderest, N i afgrøderest og C i afgrøderest.\n",
    "Uanset sammensætningen af afgrøderester, så regnes der kun med et N-indhold i overjordisk afgrøde-rest pr. afgrøde (tabellagt) og et N-indhold i underjordisk afgrøderest pr. afgrøde (tabellagt).\n",
    "\n",
    "\n",
    "_NB Der er to variable, som har indvirkning på beregningen af afgrøderester. Disse er:_\n",
    "\n",
    "* _X1: Halmnedmulding, ja/nej_. Oplysning om halmnedmulding hentes fra MO; men kan ændres af brugeren.\n",
    "* _X2: Udbytte nedmuldnes, ja/nej_. Gælder for efterafgrøder og mellemafgrøder, der ikke høstes.\n",
    "\n",
    "_Fagligt notat revideret februar 2023 kan læses [HER](https://seges.sharepoint.com/sites/GreenAction/Delte%20dokumenter/General/Mark/skh20230207_Afgr%C3%B8derester%20p%C3%A5%20marken.docx?web=1)_\n",
    "\n",
    "\n",
    "\n",
    "## **Beregninger**\n",
    "\n",
    "### **Beregning af N fra afgrøderester på marken** \n",
    "\n",
    "$$N_{afgrøderester} = \\frac{N_{A_{over}} + N_{A_{under}}}{O} \\cdot A$$\n",
    "\n",
    "Hvor:\n",
    "\n",
    "* N<sub>A<sub>over</sub></sub>: N i afgrøderester over jorden [kg N/kg ts]\n",
    "* N<sub>A<sub>under</sub></sub>: N i afgrøderester under jorden [kg N/kg ts]\n",
    "* O: Omlægningsfrekvens = Brugerinput el. [Tabelværdi](https://seges.sharepoint.com/:x:/r/sites/GreenAction/_layouts/15/Doc.aspx?sourcedoc=%7BA8797CF8-D09C-4577-B972-E4D9C79AF9FF%7D&file=Afgr%C3%B8der_data_g%C3%B8dnings%C3%A5r%202020-2021_FOREL%C3%98BIG.xlsx&activeCell=%27Data%27!N1&action=embedview)\n",
    "* A: Markens samlede areal = fra MO [ha]\n",
    "\n",
    "### **Beregning af N i afgrøderester over jorden, N<sub>A<sub>over</sub></sub>, afhænger af afgrødetypen og afgræsningsmængden**\n",
    "\n",
    "$$N_{A_{over}} = A_{over} \\cdot N_{over} $$\n",
    "\n",
    "Hvor:\n",
    "\n",
    "* N<sub>over</sub>: N indhold i afgrøderester over jorden = [Tabelværdi](https://seges.sharepoint.com/:x:/r/sites/GreenAction/_layouts/15/Doc.aspx?sourcedoc=%7BA8797CF8-D09C-4577-B972-E4D9C79AF9FF%7D&file=Afgr%C3%B8der_data_g%C3%B8dnings%C3%A5r%202020-2021_FOREL%C3%98BIG.xlsx&activeCell=%27Data%27!O1&action=embedview) [kg N/kg ts]\n",
    "\n",
    "\n",
    "### **Beregning af afgrøderester over jorden, A<sub>over</sub>, afhænger af afgrødetypen NEEDS WORK**\n",
    "\n",
    ">Hvis X2 = 0\n",
    "\n",
    "$$A_{over} = (T \\cdot H_{frøgr} \\cdot S + I) \\cdot k_{græs} + (X1-1) \\cdot H_f \\cdot T \\cdot X1 \\cdot H_{frøgr}$$\n",
    "\n",
    ">Hvis X2 = 1\n",
    "\n",
    "$$A_{over} = (T \\cdot H_{frøgr} \\cdot S + I) \\cdot k_{græs} + (X1-1) \\cdot H_f \\cdot T \\cdot X1 \\cdot H_{frøgr} + T$$\n",
    "\n",
    "Hvor:\n",
    "\n",
    "* T: Tørstof i alt (svarer til hovedudbytte * tørstofprocenten) = Læses fra MO [kg ts/ha]\n",
    "* X3: Indikerer om udbytte + halmudbytte bruges til beregning af afgrøderest = [Tabelværdi](https://seges.sharepoint.com/:x:/r/sites/GreenAction/_layouts/15/Doc.aspx?sourcedoc=%7BA8797CF8-D09C-4577-B972-E4D9C79AF9FF%7D&file=Afgr%C3%B8der_data_g%C3%B8dnings%C3%A5r%202020-2021_FOREL%C3%98BIG.xlsx&activeCell=%27Data%27!U1&action=embedview)\n",
    "* S: Slope = [Tabelværdi](https://seges.sharepoint.com/:x:/r/sites/GreenAction/_layouts/15/Doc.aspx?sourcedoc=%7BA8797CF8-D09C-4577-B972-E4D9C79AF9FF%7D&file=Afgr%C3%B8der_data_g%C3%B8dnings%C3%A5r%202020-2021_FOREL%C3%98BIG.xlsx&activeCell=%27Data%27!L1&action=embedview)\n",
    "* I: Intercept = [Tabelværdi](https://seges.sharepoint.com/:x:/r/sites/GreenAction/_layouts/15/Doc.aspx?sourcedoc=%7BA8797CF8-D09C-4577-B972-E4D9C79AF9FF%7D&file=Afgr%C3%B8der_data_g%C3%B8dnings%C3%A5r%202020-2021_FOREL%C3%98BIG.xlsx&activeCell=%27Data%27!M1&action=embedview)\n",
    "* Korrektironsfaktor for afgrøderester, k<sub>græs</sub>, afhænger af N<sub>græs</sub>:\n",
    "\n",
    ">Hvis N<sub>græs</sub> ≥ 50 kg N/ha\n",
    "\n",
    " $$k_{græs} = 1,49 $$\n",
    "\n",
    ">Hvis 50 kg N/ha > N<sub>græs</sub> ≥ 10 kg N/ha\n",
    "\n",
    " $$k_{græs} = 1,24 $$\n",
    "\n",
    ">Hvis N<sub>græs</sub> < 10 kg N/ha\n",
    "\n",
    " $$k_{græs} = 1,0 $$\n",
    "\n",
    "* N<sub>græs</sub>: Mængden af N afsat under afgræsning = fra MO, kg N i gødningstypen pr. ha (summering af AppliedN i gødningstypen for alle handlingerne på marken) [kg N/ha]\n",
    "\n",
    "### **Beregning af N i afgrøderester under jorden, N<sub>A<sub>under</sub></sub>**\n",
    "\n",
    "$$N_{A_{under}} = A_{under} \\cdot N_{under} $$\n",
    "\n",
    "Hvor:\n",
    "\n",
    "* N<sub>under</sub>: N indhold i afgrøderester under jorden = [Tabelværdi](https://seges.sharepoint.com/:x:/r/sites/GreenAction/_layouts/15/Doc.aspx?sourcedoc=%7BA8797CF8-D09C-4577-B972-E4D9C79AF9FF%7D&file=Afgr%C3%B8der_data_g%C3%B8dnings%C3%A5r%202020-2021_FOREL%C3%98BIG.xlsx&activeCell=%27Data%27!P1&action=embedview) [kg N/kg ts]\n",
    "\n",
    "### **Beregning af afgrøderester under jorden, A<sub>under</sub>, afhænger af afgrødetypen NEEDS WORK**\n",
    "\n",
    "$$A_{under} = (T + H_f \\cdot T + H_{frøgr} + ((T + H_{frøgr}) \\cdot S + I) \\cdot k_{græs}) \\cdot F$$\n",
    "\n",
    "Hvor:\n",
    "\n",
    "* T: Tørstof i alt (svarer til hovedudbytte * tørstofprocenten) = Læses fra MO [kg ts/ha]\n",
    "* H<sub>f</sub>: Halmfraktion ift. udbytte = [Tabelværdi](https://seges.sharepoint.com/:x:/r/sites/GreenAction/_layouts/15/Doc.aspx?sourcedoc=%7BA8797CF8-D09C-4577-B972-E4D9C79AF9FF%7D&file=Afgr%C3%B8der_data_g%C3%B8dnings%C3%A5r%202020-2021_FOREL%C3%98BIG.xlsx&activeCell=%27Data%27!R1&action=embedview) [kg ts]\n",
    "* H<sub>frøgr</sub>: Fast halmudbytte i frøgræs = ? [kg ts]\n",
    "* F: Forhold underjordisk biomasse til overjordisk biomasse = [Tabelværdi](https://seges.sharepoint.com/:x:/r/sites/GreenAction/_layouts/15/Doc.aspx?sourcedoc=%7BA8797CF8-D09C-4577-B972-E4D9C79AF9FF%7D&file=Afgr%C3%B8der_data_g%C3%B8dnings%C3%A5r%202020-2021_FOREL%C3%98BIG.xlsx&activeCell=%27Data%27!Q1&action=embedview)\n",
    "\n",
    "\n",
    "### **Omregning til CO<sub>2</sub>e**\n",
    "\n",
    "$$CO_2e = N_{afgrøderester}   \\cdot EF_{N_2O} \\cdot \\frac{44}{28} \\cdot \\theta_{N_2O-CO_2}$$\n",
    "Hvor: \n",
    "\n",
    " * EF<sub>N<sub>2</sub>O</sub>: Emissionsfaktor for N<sub>2</sub>O = 0,01\n",
    " * $\\theta$ N<sub>2</sub>O-CO<sub>2</sub></sub>: Omregningsfaktor N<sub>2</sub>O til CO<sub>2</sub> = 298\n",
    "\n",
    " ----\n",
    "\n",
    " ## **Testcases**\n"
   ]
  },
  {
   "cell_type": "code",
   "execution_count": 31,
   "metadata": {
    "dotnet_interactive": {
     "language": "csharp"
    },
    "vscode": {
     "languageId": "polyglot-notebook"
    }
   },
   "outputs": [],
   "source": [
    "// konstanter og funktioner - nix pille\n",
    "\n",
    "double EF_N2O = 0.01;\n",
    "double theta_N2O_CO2 = 298;\n",
    "double k_graes = 1.0; //TODO implement in testcases\n",
    "\n",
    "public double A_over(bool X3, double T, double S, double I, double H_u)\n",
    "\n",
    "    => (X3) switch\n",
    "\n",
    "    {\n",
    "        (false) => (T * S + I) * k_graes,\n",
    "        (true) => ((T + H_u) * S + I) * k_graes\n",
    "    };\n",
    "\n",
    "\n",
    "public double N_A_over(bool X1, bool X2, bool X3, double A_over, double N_over, double H_f, double T, double H_u)\n",
    "\n",
    "    => (X1, X2, X3) switch\n",
    "\n",
    "    {\n",
    "        (true, _, false) => A_over * N_over,\n",
    "        (false, true, true) => A_over * N_over,\n",
    "        (true, true, true) => (A_over + H_u) * N_over,\n",
    "        (false, false, false) => (A_over - H_f * T) * N_over,\n",
    "        (false, true, false) => (A_over - H_u) * N_over,\n",
    "        (_, _, _) => 0.0\n",
    "    };\n",
    "\n",
    "\n",
    "public double N_A_under(bool X4, bool X3, double H_u, double T, double A_over, double F, double N_under)\n",
    "\n",
    "    => (X4, X3) switch\n",
    "\n",
    "    {\n",
    "        (false, false) => (T + A_over) * F * N_under,\n",
    "        (false, true) => (T + A_over + H_u) * F * N_under,\n",
    "        (true, _) => A_over * F * N_under\n",
    "    };\n",
    "\n"
   ]
  },
  {
   "cell_type": "markdown",
   "metadata": {
    "dotnet_interactive": {
     "language": "csharp"
    },
    "polyglot_notebook": {
     "kernelName": "csharp"
    }
   },
   "source": [
    "**Beregning for vårbyg (Afgrødekode 1)**"
   ]
  },
  {
   "cell_type": "code",
   "execution_count": 32,
   "metadata": {
    "dotnet_interactive": {
     "language": "csharp"
    },
    "vscode": {
     "languageId": "polyglot-notebook"
    }
   },
   "outputs": [
    {
     "name": "stdout",
     "output_type": "stream",
     "text": [
      "Afgrøderester over jord: 4165,59 kg ts/ha\n",
      "N i afgrøderester over jord: 12,796630000000002 kg N/ha\n",
      "N i afgrøderester under jord: 25,920017200000004 kg N/ha\n",
      "Afgrøderester for vårbyg marken: 38,716647200000004 kg N\n",
      "Omregnet til N20: 0,608404456 kg N20\n",
      "Omregnet til CO2e: 181,30452788800002\n"
     ]
    }
   ],
   "source": [
    "// Input - Test andre scenarier, ved at ændre i input-værdierne herunder\n",
    "bool X1 = false;\n",
    "bool X2 = false;\n",
    "bool X3 = false;\n",
    "bool X4 = false;   \n",
    "double H = 1.0;\n",
    "// tabelværdier\n",
    "double O = 1.0;\n",
    "double N_over = 0.007;\n",
    "double N_under = 0.014;\n",
    "double H_f = 0.55;\n",
    "double T = 4250.0;\n",
    "double H_u = 0.0;\n",
    "double S = 0.98;\n",
    "double I = 0.59;\n",
    "double F = 0.22;\n",
    "\n",
    "// Beregning\n",
    "double A_over_ = A_over(X3, T, S, I, H_u);\n",
    "double N_A_over_ = N_A_over(X1, X2, X3, A_over_, N_over, H_f, T, H_u);\n",
    "double N_A_under_ = N_A_under(X4, X3, H_u, T, A_over_, F, N_under);\n",
    "double N_afgroderester = (N_A_over_ + N_A_under_) / O * H;\n",
    "\n",
    "Console.WriteLine($\"Afgrøderester over jord: {A_over_} kg ts/ha\");\n",
    "Console.WriteLine($\"N i afgrøderester over jord: {N_A_over_} kg N/ha\");\n",
    "Console.WriteLine($\"N i afgrøderester under jord: {N_A_under_} kg N/ha\");\n",
    "Console.WriteLine($\"Afgrøderester for vårbyg marken: {N_afgroderester} kg N\");\n",
    "Console.WriteLine($\"Omregnet til N20: {N_afgroderester * EF_N2O * 44 / 28} kg N20\");\n",
    "Console.WriteLine($\"Omregnet til CO2e: {N_afgroderester * EF_N2O * 44 / 28 * theta_N2O_CO2}\");\n"
   ]
  },
  {
   "cell_type": "markdown",
   "metadata": {
    "dotnet_interactive": {
     "language": "csharp"
    },
    "polyglot_notebook": {
     "kernelName": "csharp"
    }
   },
   "source": [
    "**Rajgræs, alm. (Afgrødekode 101)**"
   ]
  },
  {
   "cell_type": "code",
   "execution_count": 33,
   "metadata": {
    "dotnet_interactive": {
     "language": "csharp"
    },
    "vscode": {
     "languageId": "polyglot-notebook"
    }
   },
   "outputs": [
    {
     "name": "stdout",
     "output_type": "stream",
     "text": [
      "Afgrøderester over jord: 1671 kg ts/ha\n",
      "N i afgrøderester over jord: 25,064999999999998 kg N/ha\n",
      "N i afgrøderester under jord: 69,5136 kg N/ha\n",
      "Afgrøderester for rajgræs, alm. marken: 47,2893 kg N\n",
      "Omregnet til N20: 0,7431175714285715 kg N20\n",
      "Omregnet til CO2e: 221,4490362857143\n"
     ]
    }
   ],
   "source": [
    "// Input - Test andre scenarier, ved at ændre i input-værdierne herunder\n",
    "bool X1 = false;\n",
    "bool X2 = true;\n",
    "bool X3 = true;\n",
    "bool X4 = false;\n",
    "double H = 1.0;\n",
    "// Tabelværdier\n",
    "double O = 2.0;\n",
    "double N_over = 0.015;\n",
    "double N_under = 0.012;\n",
    "double H_f = 0.0;\n",
    "double T = 1320.0;\n",
    "double H_u = 4250.0;\n",
    "double S = 0.3;\n",
    "double I = 0.0;\n",
    "double F = 0.8;\n",
    "\n",
    "// Beregning\n",
    "double A_over_ = A_over(X3, T, S, I, H_u);\n",
    "double N_A_over_ = N_A_over(X1, X2, X3, A_over_, N_over, H_f, T, H_u);\n",
    "double N_A_under_ = N_A_under(X4, X3, H_u, T, A_over_, F, N_under);\n",
    "double N_afgroderester = (N_A_over_ + N_A_under_) / O * H;\n",
    "\n",
    "Console.WriteLine($\"Afgrøderester over jord: {A_over_} kg ts/ha\");\n",
    "Console.WriteLine($\"N i afgrøderester over jord: {N_A_over_} kg N/ha\");\n",
    "Console.WriteLine($\"N i afgrøderester under jord: {N_A_under_} kg N/ha\");\n",
    "Console.WriteLine($\"Afgrøderester for rajgræs, alm. marken: {N_afgroderester} kg N\");\n",
    "Console.WriteLine($\"Omregnet til N20: {N_afgroderester * EF_N2O * 44 / 28} kg N20\");\n",
    "Console.WriteLine($\"Omregnet til CO2e: {N_afgroderester * EF_N2O * 44 / 28 * theta_N2O_CO2}\");"
   ]
  },
  {
   "cell_type": "markdown",
   "metadata": {
    "dotnet_interactive": {
     "language": "csharp"
    },
    "polyglot_notebook": {
     "kernelName": "csharp"
    }
   },
   "source": [
    "**Kløvergræs med over 50% kløver, udlæg/efterslæt efter korn o.l. (Afgrødekode 945)**"
   ]
  },
  {
   "cell_type": "code",
   "execution_count": 34,
   "metadata": {
    "dotnet_interactive": {
     "language": "csharp"
    },
    "vscode": {
     "languageId": "polyglot-notebook"
    }
   },
   "outputs": [
    {
     "name": "stdout",
     "output_type": "stream",
     "text": [
      "Afgrøderester over jord: 390,59999999999997 kg ts/ha\n",
      "N i afgrøderester over jord: 9,765 kg N/ha\n",
      "N i afgrøderester under jord: 21,66528 kg N/ha\n",
      "Afgrøderester for Kløvergræs med over 50% kløver, udlæg/efterslæt efter korn o.l.: 31,43028 kg N\n",
      "Omregnet til N20: 0,49390439999999997 kg N20\n",
      "Omregnet til CO2e: 147,1835112\n"
     ]
    }
   ],
   "source": [
    "// Input - Test andre scenarier, ved at ændre i input-værdierne herunder\n",
    "bool X1 = true;\n",
    "bool X2 = false;\n",
    "bool X3 = false;\n",
    "bool X4 = false;\n",
    "double H = 1.0;\n",
    "// Tabelværdier\n",
    "double O = 1;\n",
    "double N_over = 0.025;\n",
    "double N_under = 0.016;\n",
    "double H_f = 0.0;\n",
    "double T = 1302.0;\n",
    "double H_u = 0.0;\n",
    "double S = 0.3;\n",
    "double I = 0.0;\n",
    "double F = 0.8;\n",
    "\n",
    "// Beregning\n",
    "double A_over_ = A_over(X3, T, S, I, H_u);\n",
    "double N_A_over_ = N_A_over(X1, X2, X3, A_over_, N_over, H_f, T, H_u);\n",
    "double N_A_under_ = N_A_under(X4, X3, H_u, T, A_over_, F, N_under);\n",
    "double N_afgroderester = (N_A_over_ + N_A_under_) / O * H;\n",
    "\n",
    "Console.WriteLine($\"Afgrøderester over jord: {A_over_} kg ts/ha\");\n",
    "Console.WriteLine($\"N i afgrøderester over jord: {N_A_over_} kg N/ha\");\n",
    "Console.WriteLine($\"N i afgrøderester under jord: {N_A_under_} kg N/ha\");\n",
    "Console.WriteLine($\"Afgrøderester for Kløvergræs med over 50% kløver, udlæg/efterslæt efter korn o.l.: {N_afgroderester} kg N\");\n",
    "Console.WriteLine($\"Omregnet til N20: {N_afgroderester * EF_N2O * 44 / 28} kg N20\");\n",
    "Console.WriteLine($\"Omregnet til CO2e: {N_afgroderester * EF_N2O * 44 / 28 * theta_N2O_CO2}\");"
   ]
  },
  {
   "cell_type": "markdown",
   "metadata": {
    "dotnet_interactive": {
     "language": "csharp"
    },
    "polyglot_notebook": {
     "kernelName": "csharp"
    }
   },
   "source": [
    "**Pligtige efterafgrøder (Afgrødekode 968)**"
   ]
  },
  {
   "cell_type": "code",
   "execution_count": 35,
   "metadata": {
    "dotnet_interactive": {
     "language": "csharp"
    },
    "vscode": {
     "languageId": "polyglot-notebook"
    }
   },
   "outputs": [
    {
     "name": "stdout",
     "output_type": "stream",
     "text": [
      "Afgrøderester over jord: 1950 kg ts/ha\n",
      "N i afgrøderester over jord: 29,25 kg N/ha\n",
      "N i afgrøderester under jord: 18,72 kg N/ha\n",
      "Afgrøderester for Pligtige efterafgrøder: 47,97 kg N\n",
      "Omregnet til N20: 0,7538142857142857 kg N20\n",
      "Omregnet til CO2e: 224,63665714285713\n"
     ]
    }
   ],
   "source": [
    "// Input - Test andre scenarier, ved at ændre i input-værdierne herunder\n",
    "bool X1 = true;\n",
    "bool X2 = false;\n",
    "bool X3 = false;\n",
    "bool X4 = true;\n",
    "double H = 1.0;\n",
    "// Tabelværdier\n",
    "double O = 1.0;\n",
    "double N_over = 0.015;\n",
    "double N_under = 0.012;\n",
    "double H_f = 0.0;\n",
    "double T = 1500.0;\n",
    "double H_u = 0.0;\n",
    "double S = 1.3;\n",
    "double I = 0.0;\n",
    "double F = 0.8;\n",
    "\n",
    "// Beregning\n",
    "double A_over_ = A_over(X3, T, S, I, H_u);\n",
    "double N_A_over_ = N_A_over(X1, X2, X3, A_over_, N_over, H_f, T, H_u);\n",
    "double N_A_under_ = N_A_under(X4, X3, H_u, T, A_over_, F, N_under);\n",
    "double N_afgroderester = (N_A_over_ + N_A_under_) / O * H;\n",
    "\n",
    "Console.WriteLine($\"Afgrøderester over jord: {A_over_} kg ts/ha\");\n",
    "Console.WriteLine($\"N i afgrøderester over jord: {N_A_over_} kg N/ha\");\n",
    "Console.WriteLine($\"N i afgrøderester under jord: {N_A_under_} kg N/ha\");\n",
    "Console.WriteLine($\"Afgrøderester for Pligtige efterafgrøder: {N_afgroderester} kg N\");\n",
    "Console.WriteLine($\"Omregnet til N20: {N_afgroderester * EF_N2O * 44 / 28} kg N20\");\n",
    "Console.WriteLine($\"Omregnet til CO2e: {N_afgroderester * EF_N2O * 44 / 28 * theta_N2O_CO2}\");"
   ]
  }
 ],
 "metadata": {
  "kernelspec": {
   "display_name": ".NET (C#)",
   "language": "C#",
   "name": ".net-csharp"
  },
  "polyglot_notebook": {
   "kernelInfo": {
    "defaultKernelName": "csharp",
    "items": [
     {
      "aliases": [
       "c#",
       "C#"
      ],
      "languageName": "C#",
      "name": "csharp"
     },
     {
      "aliases": [],
      "languageName": null,
      "name": ".NET"
     },
     {
      "aliases": [
       "f#",
       "F#"
      ],
      "languageName": "F#",
      "name": "fsharp"
     },
     {
      "aliases": [],
      "languageName": "HTML",
      "name": "html"
     },
     {
      "aliases": [
       "js"
      ],
      "languageName": "JavaScript",
      "name": "javascript"
     },
     {
      "aliases": [],
      "languageName": "KQL",
      "name": "kql"
     },
     {
      "aliases": [],
      "languageName": "Mermaid",
      "name": "mermaid"
     },
     {
      "aliases": [
       "powershell"
      ],
      "languageName": "PowerShell",
      "name": "pwsh"
     },
     {
      "aliases": [],
      "languageName": "SQL",
      "name": "sql"
     },
     {
      "aliases": [],
      "name": "value"
     },
     {
      "aliases": [
       "frontend"
      ],
      "languageName": null,
      "name": "vscode"
     },
     {
      "aliases": [],
      "name": "webview"
     }
    ]
   }
  }
 },
 "nbformat": 4,
 "nbformat_minor": 2
}
