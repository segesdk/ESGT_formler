{
 "cells": [
  {
   "cell_type": "markdown",
   "metadata": {},
   "source": [
    "# **Afgrøderester på marken**\n",
    "\n",
    "## **Intro**\n",
    "\n",
    "_NB Der er fire variable, som har indvirkning på beregningen af afgrøderester. Disse er:_\n",
    "\n",
    "* _X1: Halmnedmulding, ja/nej_\n",
    "* _X2: Halm er hentet som direkte input, ja/nej_\n",
    "* _X3: Udbytte + halmudbytte anvendes til beregning af afgrøderest, ja/nej (for frøgræs og andre frøafgrøder kan X3 = ja, for alle andre afgrøder vil X3 = nej)_\n",
    "* _X4: Udbytte nedmuldnes, ja/nej_\n",
    "\n",
    "\n",
    "_Fagligt notat kan læses [HER](https://seges.sharepoint.com/sites/GreenAction/Delte%20dokumenter/General/Mark/majh20220718_afgr%C3%B8derester_esgreen%20tool_input%20parametre%20og%20variabler.docx?web=1)_\n",
    "\n",
    "## **Beregninger**\n",
    "\n",
    "### **Beregning af N fra afgrøderester på marken** \n",
    "\n",
    "$$N_{afgrøderester} = \\frac{N_{A_{over}} + N_{A_{under}}}{O} \\cdot H$$\n",
    "\n",
    "Hvor:\n",
    "\n",
    "* N<sub>A<sub>over</sub></sub>: N i afgrøderester over jorden [kg N/kg ts]\n",
    "* N<sub>A<sub>under</sub></sub>: N i afgrøderester under jorden [kg N/kg ts]\n",
    "* O: Omlægningsfrekvens = [Tabelværdi](https://seges.sharepoint.com/:x:/r/sites/GreenAction/_layouts/15/Doc.aspx?sourcedoc=%7BA8797CF8-D09C-4577-B972-E4D9C79AF9FF%7D&file=Afgr%C3%B8der_data_g%C3%B8dnings%C3%A5r%202020-2021_FOREL%C3%98BIG.xlsx&activeCell=%27Data%27!M1&action=embedview)\n",
    "* H: Antal ha på marken = fra MO\n",
    "\n",
    "### **Beregning af N i afgrøderester over jorden, N<sub>A<sub>over</sub></sub>, afhænger af afgrødetypen**\n",
    "\n",
    ">Hvis X1 = 1 _eller_ X1 = 0 _og_ X2 = 1 _og_ X3 = 1\n",
    "\n",
    "$$N_{A_{over}} = A_{over} \\cdot N_{over} $$\n",
    "\n",
    ">Hvis X1 = 0 _og_ X2 = 0\n",
    "\n",
    "$$N_{A_{over}} = (A_{over} - H_f \\cdot U \\cdot T) \\cdot N_{over} $$\n",
    "\n",
    ">Hvis X1 = 0 _og_ X2 = 1 _og_ X3 = 0\n",
    "\n",
    "$$N_{A_{over}} = (A_{over} - H_u) \\cdot N_{over} $$\n",
    "\n",
    "\n",
    "\n",
    "Hvor:\n",
    "\n",
    "* X1: Indikerer om der nedmuldes halm = [Tabelværdi](https://seges.sharepoint.com/:x:/r/sites/GreenAction/_layouts/15/Doc.aspx?sourcedoc=%7BA8797CF8-D09C-4577-B972-E4D9C79AF9FF%7D&file=Afgr%C3%B8der_data_g%C3%B8dnings%C3%A5r%202020-2021_FOREL%C3%98BIG.xlsx&activeCell=%27Data%27!G1&action=embedview)\n",
    "* X2: Indikerer om halm er angivet som direkte input = [Tabelværdi](https://seges.sharepoint.com/:x:/r/sites/GreenAction/_layouts/15/Doc.aspx?sourcedoc=%7BA8797CF8-D09C-4577-B972-E4D9C79AF9FF%7D&file=Afgr%C3%B8der_data_g%C3%B8dnings%C3%A5r%202020-2021_FOREL%C3%98BIG.xlsx&activeCell=%27Data%27!S1&action=embedview)\n",
    "* X3: Indikerer om udbytte + halmudbytte bruges til beregning af afgrøderest = [Tabelværdi](https://seges.sharepoint.com/:x:/r/sites/GreenAction/_layouts/15/Doc.aspx?sourcedoc=%7BA8797CF8-D09C-4577-B972-E4D9C79AF9FF%7D&file=Afgr%C3%B8der_data_g%C3%B8dnings%C3%A5r%202020-2021_FOREL%C3%98BIG.xlsx&activeCell=%27Data%27!T1&action=embedview)\n",
    "* N<sub>over</sub>: N indhold i afgrøderester over jorden = [Tabelværdi](https://seges.sharepoint.com/:x:/r/sites/GreenAction/_layouts/15/Doc.aspx?sourcedoc=%7BA8797CF8-D09C-4577-B972-E4D9C79AF9FF%7D&file=Afgr%C3%B8der_data_g%C3%B8dnings%C3%A5r%202020-2021_FOREL%C3%98BIG.xlsx&activeCell=%27Data%27!N1&action=embedview) [kg N/kg]\n",
    "* H<sub>f</sub>: Halmfraktion ift. udbytte = [Tabelværdi](https://seges.sharepoint.com/:x:/r/sites/GreenAction/_layouts/15/Doc.aspx?sourcedoc=%7BA8797CF8-D09C-4577-B972-E4D9C79AF9FF%7D&file=Afgr%C3%B8der_data_g%C3%B8dnings%C3%A5r%202020-2021_FOREL%C3%98BIG.xlsx&activeCell=%27Data%27!Q1&action=embedview) [ts]\n",
    "* U: Udbytte [kg ts/ha _eller_ FE/ha] = Læses fra MO ellers [Tabelværdi](https://seges.sharepoint.com/:x:/r/sites/GreenAction/_layouts/15/Doc.aspx?sourcedoc=%7BA8797CF8-D09C-4577-B972-E4D9C79AF9FF%7D&file=Afgr%C3%B8der_data_g%C3%B8dnings%C3%A5r%202020-2021_FOREL%C3%98BIG.xlsx&activeCell=%27Data%27!F1&action=embedview) [kg/ha, FE/ha]\n",
    "* T: Tørstoffraktion af høstet produkt = [Tabelværdi](https://seges.sharepoint.com/:x:/r/sites/GreenAction/_layouts/15/Doc.aspx?sourcedoc=%7BA8797CF8-D09C-4577-B972-E4D9C79AF9FF%7D&file=Afgr%C3%B8der_data_g%C3%B8dnings%C3%A5r%202020-2021_FOREL%C3%98BIG.xlsx&activeCell=%27Data%27!I1&action=embedview)\n",
    "* H<sub>u</sub>: Halmudbytte = [Tabelværdi](https://seges.sharepoint.com/:x:/r/sites/GreenAction/_layouts/15/Doc.aspx?sourcedoc=%7BA8797CF8-D09C-4577-B972-E4D9C79AF9FF%7D&file=Afgr%C3%B8der_data_g%C3%B8dnings%C3%A5r%202020-2021_FOREL%C3%98BIG.xlsx&activeCell=%27Data%27!R1&action=embedview) [kg ts]\n",
    "\n",
    "\n",
    "### **Beregning af afgrøderester over jorden, A<sub>over</sub>, afhænger af afgrødetypen**\n",
    "\n",
    "\n",
    ">Hvis X3 = 0\n",
    "\n",
    "$$A_{over} = U \\cdot T \\cdot S + I$$\n",
    "\n",
    ">Hvis X3 = 1\n",
    "\n",
    "$$A_{over} = (U \\cdot T + H_u) \\cdot S + I$$\n",
    "\n",
    "Hvor:\n",
    "\n",
    "* X3: Indikerer om udbytte + halmudbytte bruges til beregning af afgrøderest = [Tabelværdi](https://seges.sharepoint.com/:x:/r/sites/GreenAction/_layouts/15/Doc.aspx?sourcedoc=%7BA8797CF8-D09C-4577-B972-E4D9C79AF9FF%7D&file=Afgr%C3%B8der_data_g%C3%B8dnings%C3%A5r%202020-2021_FOREL%C3%98BIG.xlsx&activeCell=%27Data%27!T1&action=embedview)\n",
    "* S: Slope = [Tabelværdi](https://seges.sharepoint.com/:x:/r/sites/GreenAction/_layouts/15/Doc.aspx?sourcedoc=%7BA8797CF8-D09C-4577-B972-E4D9C79AF9FF%7D&file=Afgr%C3%B8der_data_g%C3%B8dnings%C3%A5r%202020-2021_FOREL%C3%98BIG.xlsx&activeCell=%27Data%27!K1&action=embedview)\n",
    "* I: Intercept = [Tabelværdi](https://seges.sharepoint.com/:x:/r/sites/GreenAction/_layouts/15/Doc.aspx?sourcedoc=%7BA8797CF8-D09C-4577-B972-E4D9C79AF9FF%7D&file=Afgr%C3%B8der_data_g%C3%B8dnings%C3%A5r%202020-2021_FOREL%C3%98BIG.xlsx&activeCell=%27Data%27!L1&action=embedview)\n",
    "\n",
    "### **Beregning af N i afgrøderester under jorden, N<sub>A<sub>under</sub></sub>, afhænger af afgrødetypen**\n",
    "\n",
    ">Hvis X4 = 0  _og_ X3 = 0\n",
    "\n",
    "$$N_{A_{under}} = (U \\cdot T + A_{over}) \\cdot F \\cdot N_{under} $$\n",
    "\n",
    ">Hvis X4 = 0  _og_ X3 = 1\n",
    "\n",
    "$$N_{A_{under}} = (U \\cdot T + A_{over} + H_u) \\cdot F \\cdot N_{under} $$\n",
    "\n",
    ">Hvis X4 = 1\n",
    "\n",
    "$$N_{A_{under}} = A_{over} \\cdot F \\cdot N_{under}$$\n",
    "\n",
    "\n",
    "Hvor:\n",
    "\n",
    "* X3: Indikerer om udbytte + halmudbytte bruges til beregning af afgrøderest = [Tabelværdi](https://seges.sharepoint.com/:x:/r/sites/GreenAction/_layouts/15/Doc.aspx?sourcedoc=%7BA8797CF8-D09C-4577-B972-E4D9C79AF9FF%7D&file=Afgr%C3%B8der_data_g%C3%B8dnings%C3%A5r%202020-2021_FOREL%C3%98BIG.xlsx&activeCell=%27Data%27!T1&action=embedview)\n",
    "* X4: Indikerer om udbyttet nedmuldes = [Tabelværdi](https://seges.sharepoint.com/:x:/r/sites/GreenAction/_layouts/15/Doc.aspx?sourcedoc=%7BA8797CF8-D09C-4577-B972-E4D9C79AF9FF%7D&file=Afgr%C3%B8der_data_g%C3%B8dnings%C3%A5r%202020-2021_FOREL%C3%98BIG.xlsx&activeCell=%27Data%27!X1&action=embedview)\n",
    "* F: Forhold underjordisk biomasse til overjordisk biomasse = [Tabelværdi](https://seges.sharepoint.com/:x:/r/sites/GreenAction/_layouts/15/Doc.aspx?sourcedoc=%7BA8797CF8-D09C-4577-B972-E4D9C79AF9FF%7D&file=Afgr%C3%B8der_data_g%C3%B8dnings%C3%A5r%202020-2021_FOREL%C3%98BIG.xlsx&activeCell=%27Data%27!P1&action=embedview)\n",
    "* N<sub>under</sub>: N indhold i afgrøderester under jorden = [Tabelværdi](https://seges.sharepoint.com/:x:/r/sites/GreenAction/_layouts/15/Doc.aspx?sourcedoc=%7BA8797CF8-D09C-4577-B972-E4D9C79AF9FF%7D&file=Afgr%C3%B8der_data_g%C3%B8dnings%C3%A5r%202020-2021_FOREL%C3%98BIG.xlsx&activeCell=%27Data%27!O1&action=embedview) [kg N/kg]\n",
    "\n",
    "\n",
    "### **Omregning til CO<sub>2</sub>e**\n",
    "\n",
    "$$CO_2e = N_{afgrøderester}   \\cdot EF_{N_2O} \\cdot \\frac{44}{28} \\cdot \\theta_{N_2O-CO_2}$$\n",
    "Hvor: \n",
    "\n",
    " * EF<sub>N<sub>2</sub>O</sub>: Emissionsfaktor for N<sub>2</sub>O = 0,01\n",
    " * $\\theta$ N<sub>2</sub>O-CO<sub>2</sub></sub>: Omregningsfaktor N<sub>2</sub>O til CO<sub>2</sub> = 298\n",
    "\n",
    " ----\n",
    "\n",
    " ## **Testcases**\n"
   ]
  },
  {
   "cell_type": "code",
   "execution_count": null,
   "metadata": {
    "dotnet_interactive": {
     "language": "csharp"
    },
    "vscode": {
     "languageId": "dotnet-interactive.csharp"
    }
   },
   "outputs": [],
   "source": [
    "// konstanter og funktioner - nix pille\n",
    "\n",
    "double EF_N2O = 0.01;\n",
    "double theta_N2O_CO2 = 298;\n",
    "\n",
    "public double A_over(bool X3, double U, double T, double S, double I, double H_u)\n",
    "{\n",
    "    var result = 0.0;\n",
    "    \n",
    "    if (X3 == false)\n",
    "    {\n",
    "        result = U * T * S + I;\n",
    "    }\n",
    "\n",
    "    else\n",
    "    {\n",
    "        result = (U * T + H_u) * S + I;\n",
    "    }\n",
    "\n",
    "    return result;\n",
    "}\n",
    "\n",
    "public double N_A_over(bool X1, bool X2, bool X3, double A_over, double N_over, double H_f, double U, double T, double H_u)\n",
    "{\n",
    "    var result = 0.0;\n",
    "    \n",
    "    if (X1 == true || (X1 == false && X2 == true && X3 == true)) \n",
    "    {\n",
    "        result = A_over * N_over;\n",
    "    }\n",
    "\n",
    "    else if (X1 == false && X2 == false)\n",
    "    {\n",
    "        result = (A_over - H_f * U * T) * N_over;\n",
    "    }\n",
    "\n",
    "    else if (X1 == false && X2 == true && X3 == false)\n",
    "    {\n",
    "        result = (A_over - H_u) * N_over;\n",
    "    }\n",
    "\n",
    "    return result;\n",
    "}\n",
    "\n",
    "public double N_A_under(bool X4, bool X3, double U, double T, double A_over, double H_u, double F, double N_under)\n",
    "{ \n",
    "    var result = 0.0;\n",
    "    \n",
    "    if (X4 == false && X3 == false)\n",
    "    {\n",
    "        result = (U * T + A_over) * F * N_under;\n",
    "    }\n",
    "\n",
    "    else if (X4 == false && X3 == true)\n",
    "    {\n",
    "        result = (U * T + A_over + H_u) * F * N_under;\n",
    "    }\n",
    "\n",
    "    else if (X4 == true) \n",
    "    {\n",
    "        result = A_over * F * N_under;\n",
    "    }\n",
    "\n",
    "    return result;\n",
    "}\n",
    "\n"
   ]
  },
  {
   "cell_type": "markdown",
   "metadata": {},
   "source": [
    "**Beregning for vårbyg (Afgrødekode 1)**"
   ]
  },
  {
   "cell_type": "code",
   "execution_count": null,
   "metadata": {
    "dotnet_interactive": {
     "language": "csharp"
    },
    "vscode": {
     "languageId": "dotnet-interactive.csharp"
    }
   },
   "outputs": [
    {
     "name": "stdout",
     "output_type": "stream",
     "text": [
      "Afgrøderester over jord: 4165,59 kg ts/ha\r\n",
      "N i afgrøderester over jord: 12,796630000000002 kg N/ha\r\n",
      "N i afgrøderester under jord: 0,002618 kg N/ha NEJJJJ\r\n",
      "Afgrøderester for vårbyg marken: 1279,9248000000002 kg N\r\n",
      "Omregnet til CO2e: 5993,704992000001\r\n"
     ]
    }
   ],
   "source": [
    "// Input - Test andre scenarier, ved at ændre i input-værdierne herunder\n",
    "bool X1 = false;\n",
    "bool X2 = false;\n",
    "bool X3 = false;\n",
    "bool X4 = false;   \n",
    "double H = 100.0;\n",
    "// tabelværdier\n",
    "double O = 1.0;\n",
    "double N_over = 0.007;\n",
    "double N_under = 0.014;\n",
    "double H_f = 0.55;\n",
    "double U = 5000.0;\n",
    "double T = 0.85;\n",
    "double H_u = 0.0;\n",
    "double S = 0.98;\n",
    "double I = 0.59;\n",
    "double F = 0.22;\n",
    "\n",
    "// Beregning\n",
    "double A_over_ = A_over(X3, U, T, S, I, H_u);\n",
    "double N_A_over_ = N_A_over(X1, X2, X3, A_over_, N_over, H_f, U, T, H_u);\n",
    "double N_A_under_ = N_A_under(X4, X3, H_u, U, T, A_over_, F, N_under);\n",
    "double N_afgroderester = (N_A_over_ + N_A_under_) / O * H;\n",
    "\n",
    "Console.WriteLine($\"Afgrøderester over jord: {A_over_} kg ts/ha\");\n",
    "Console.WriteLine($\"N i afgrøderester over jord: {N_A_over_} kg N/ha\");\n",
    "Console.WriteLine($\"N i afgrøderester under jord: {N_A_under_} kg N/ha NEJJJJ\");\n",
    "Console.WriteLine($\"Afgrøderester for vårbyg marken: {N_afgroderester} kg N\");\n",
    "Console.WriteLine($\"Omregnet til CO2e: {N_afgroderester * EF_N2O * 44 / 28 * theta_N2O_CO2}\");"
   ]
  },
  {
   "cell_type": "markdown",
   "metadata": {},
   "source": [
    "**Rajgræs, alm. (Afgrødekode 101)** stemmer ikke overens med regneark"
   ]
  },
  {
   "cell_type": "code",
   "execution_count": null,
   "metadata": {
    "dotnet_interactive": {
     "language": "csharp"
    },
    "vscode": {
     "languageId": "dotnet-interactive.csharp"
    }
   },
   "outputs": [
    {
     "name": "stdout",
     "output_type": "stream",
     "text": [
      "Afgrøderester over jord: 1671 kg ts/ha\r\n",
      "N i afgrøderester over jord: 25,064999999999998 kg N/ha\r\n",
      "N i afgrøderester under jord: 40,800000000000004 kg N/ha NEEEEJ\r\n",
      "Afgrøderester for rajgræs, alm. marken: 3293,2500000000005 kg N\r\n",
      "Omregnet til CO2e: 15421,819285714288\r\n"
     ]
    }
   ],
   "source": [
    "// Input - Test andre scenarier, ved at ændre i input-værdierne herunder\n",
    "bool X1 = true;\n",
    "bool X2 = true;\n",
    "bool X3 = true;\n",
    "bool X4 = false;\n",
    "double H = 100;\n",
    "// Tabelværdier\n",
    "double O = 2;\n",
    "double N_over = 0.015;\n",
    "double N_under = 0.012;\n",
    "double H_f = 0;\n",
    "double U = 1500;\n",
    "double T = 0.88;\n",
    "double H_u = 4250;\n",
    "double S = 0.3;\n",
    "double I = 0;\n",
    "double F = 0.8;\n",
    "\n",
    "// Beregning\n",
    "double A_over_ = A_over(X3, U, T, S, I, H_u);\n",
    "double N_A_over_ = N_A_over(X1, X2, X3, A_over_, N_over, H_f, U, T, H_u);\n",
    "double N_A_under_ = N_A_under(X3, X4, U, T, H_u, A_over_, F, N_under);\n",
    "double N_afgroderester = (N_A_over_ + N_A_under_) / O * H;\n",
    "\n",
    "Console.WriteLine($\"Afgrøderester over jord: {A_over_} kg ts/ha\");\n",
    "Console.WriteLine($\"N i afgrøderester over jord: {N_A_over_} kg N/ha\");\n",
    "Console.WriteLine($\"N i afgrøderester under jord: {N_A_under_} kg N/ha NEEEEJ\");\n",
    "Console.WriteLine($\"Afgrøderester for rajgræs, alm. marken: {N_afgroderester} kg N\");\n",
    "Console.WriteLine($\"Omregnet til CO2e: {N_afgroderester * EF_N2O * 44 / 28 * theta_N2O_CO2}\");"
   ]
  }
 ],
 "metadata": {
  "kernelspec": {
   "display_name": ".NET (C#)",
   "language": "C#",
   "name": ".net-csharp"
  },
  "language_info": {
   "file_extension": ".cs",
   "mimetype": "text/x-csharp",
   "name": "C#",
   "pygments_lexer": "csharp",
   "version": "9.0"
  },
  "orig_nbformat": 4,
  "vscode": {
   "interpreter": {
    "hash": "bdf001e0a405e8b8504014542464f4868d6e9f604bb794366dc2b084054cc945"
   }
  }
 },
 "nbformat": 4,
 "nbformat_minor": 2
}
