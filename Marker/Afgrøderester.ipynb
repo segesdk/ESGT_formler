{
 "cells": [
  {
   "attachments": {},
   "cell_type": "markdown",
   "metadata": {
    "dotnet_interactive": {
     "language": "csharp"
    },
    "polyglot_notebook": {
     "kernelName": "csharp"
    }
   },
   "source": [
    " # **Afgrøderester på marken**\n",
    "\n",
    "## **Intro**\n",
    "\n",
    "_NB1 Udbytter fra M.O., der er angivet i ton eller hkg skal omregnes til kg, før beregningen påbegyndes._ (Dette for at de stemmer overens med enhederne i [regnearket](https://seges.sharepoint.com/:x:/r/sites/GreenAction/_layouts/15/Doc.aspx?sourcedoc=%7BA8797CF8-D09C-4577-B972-E4D9C79AF9FF%7D&file=Afgr%C3%B8der_data_g%C3%B8dnings%C3%A5r%202020-2021_FOREL%C3%98BIG.xlsx&action=embedview))\n",
    "\n",
    "_NB2 Der er fire variable, som har indvirkning på beregningen af afgrøderester. Disse er:_\n",
    "\n",
    "* _X1: Halmnedmulding, ja/nej_\n",
    "* _X2: Halm er hentet som direkte input, ja/nej_\n",
    "* _X3: Udbytte + halmudbytte anvendes til beregning af afgrøderest, ja/nej (for frøgræs og andre frøafgrøder kan X3 = ja, for alle andre afgrøder vil X3 = nej)_\n",
    "* _X4: Udbytte nedmuldnes, ja/nej_\n",
    "\n",
    "\n",
    "_Fagligt notat kan læses [HER](https://seges.sharepoint.com/sites/GreenAction/Delte%20dokumenter/General/Mark/majh20220718_afgr%C3%B8derester_esgreen%20tool_input%20parametre%20og%20variabler.docx?web=1)_\n",
    "\n",
    "## **Beregninger**\n",
    "\n",
    "### **Beregning af N fra afgrøderester på marken** \n",
    "\n",
    "$$N_{afgrøderester} = \\frac{N_{A_{over}} + N_{A_{under}}}{O} \\cdot H$$\n",
    "\n",
    "Hvor:\n",
    "\n",
    "* N<sub>A<sub>over</sub></sub>: N i afgrøderester over jorden [kg N/kg ts]\n",
    "* N<sub>A<sub>under</sub></sub>: N i afgrøderester under jorden [kg N/kg ts]\n",
    "* O: Omlægningsfrekvens = Brugerinput el. [Tabelværdi](https://seges.sharepoint.com/:x:/r/sites/GreenAction/_layouts/15/Doc.aspx?sourcedoc=%7BA8797CF8-D09C-4577-B972-E4D9C79AF9FF%7D&file=Afgr%C3%B8der_data_g%C3%B8dnings%C3%A5r%202020-2021_FOREL%C3%98BIG.xlsx&activeCell=%27Data%27!N1&action=embedview)\n",
    "* H: Antal ha på marken = fra MO [ha]\n",
    "\n",
    "### **Beregning af N i afgrøderester over jorden, N<sub>A<sub>over</sub></sub>, afhænger af afgrødetypen**\n",
    "\n",
    ">Hvis X1 = 1 _og_ X3 = 0 _eller_ X1 = 0 _og_ X2 = 1 _og_ X3 = 1\n",
    "\n",
    "$$N_{A_{over}} = A_{over} \\cdot N_{over} $$\n",
    "\n",
    ">Hvis X1 = 0 _og_ X2 = 0\n",
    "\n",
    "$$N_{A_{over}} = (A_{over} - H_f \\cdot T) \\cdot N_{over} $$\n",
    "\n",
    ">Hvis X1 = 1 _og_ X2 = 1 _og_ X3 = 0\n",
    "\n",
    "$$N_{A_{over}} = (A_{over} - H_u) \\cdot N_{over} $$\n",
    "\n",
    "\n",
    "\n",
    "Hvor:\n",
    "\n",
    "* X1: Indikerer om der nedmuldes halm = input fra MO (OBS \"delvis halmnedmulding\" håndteres som true) ELLER input fra bruger\n",
    "* X2: Indikerer om halm er angivet som direkte input = [Tabelværdi](https://seges.sharepoint.com/:x:/r/sites/GreenAction/_layouts/15/Doc.aspx?sourcedoc=%7BA8797CF8-D09C-4577-B972-E4D9C79AF9FF%7D&file=Afgr%C3%B8der_data_g%C3%B8dnings%C3%A5r%202020-2021_FOREL%C3%98BIG.xlsx&activeCell=%27Data%27!T1&action=embedview)\n",
    "* X3: Indikerer om udbytte + halmudbytte bruges til beregning af afgrøderest = [Tabelværdi](https://seges.sharepoint.com/:x:/r/sites/GreenAction/_layouts/15/Doc.aspx?sourcedoc=%7BA8797CF8-D09C-4577-B972-E4D9C79AF9FF%7D&file=Afgr%C3%B8der_data_g%C3%B8dnings%C3%A5r%202020-2021_FOREL%C3%98BIG.xlsx&activeCell=%27Data%27!U1&action=embedview)\n",
    "* N<sub>over</sub>: N indhold i afgrøderester over jorden = [Tabelværdi](https://seges.sharepoint.com/:x:/r/sites/GreenAction/_layouts/15/Doc.aspx?sourcedoc=%7BA8797CF8-D09C-4577-B972-E4D9C79AF9FF%7D&file=Afgr%C3%B8der_data_g%C3%B8dnings%C3%A5r%202020-2021_FOREL%C3%98BIG.xlsx&activeCell=%27Data%27!O1&action=embedview) [kg N]\n",
    "* H<sub>f</sub>: Halmfraktion ift. udbytte = [Tabelværdi](https://seges.sharepoint.com/:x:/r/sites/GreenAction/_layouts/15/Doc.aspx?sourcedoc=%7BA8797CF8-D09C-4577-B972-E4D9C79AF9FF%7D&file=Afgr%C3%B8der_data_g%C3%B8dnings%C3%A5r%202020-2021_FOREL%C3%98BIG.xlsx&activeCell=%27Data%27!R1&action=embedview) [kg ts]\n",
    "* T: Tørstof i alt (svarer til udbytte * tørstofprocenten) = Læses fra MO [kg ts/ha]\n",
    "* H<sub>u</sub>: Halmudbytte = [Tabelværdi](https://seges.sharepoint.com/:x:/r/sites/GreenAction/_layouts/15/Doc.aspx?sourcedoc=%7BA8797CF8-D09C-4577-B972-E4D9C79AF9FF%7D&file=Afgr%C3%B8der_data_g%C3%B8dnings%C3%A5r%202020-2021_FOREL%C3%98BIG.xlsx&activeCell=%27Data%27!S1&action=embedview) [kg ts]\n",
    "\n",
    "\n",
    "### **Beregning af afgrøderester over jorden, A<sub>over</sub>, afhænger af afgrødetypen**\n",
    "\n",
    ">Hvis X3 = 0\n",
    "\n",
    "$$A_{over} = T \\cdot S + I$$\n",
    "\n",
    ">Hvis X3 = 1\n",
    "\n",
    "$$A_{over} = (T + H_u) \\cdot S + I$$\n",
    "\n",
    "Hvor:\n",
    "\n",
    "* X3: Indikerer om udbytte + halmudbytte bruges til beregning af afgrøderest = [Tabelværdi](https://seges.sharepoint.com/:x:/r/sites/GreenAction/_layouts/15/Doc.aspx?sourcedoc=%7BA8797CF8-D09C-4577-B972-E4D9C79AF9FF%7D&file=Afgr%C3%B8der_data_g%C3%B8dnings%C3%A5r%202020-2021_FOREL%C3%98BIG.xlsx&activeCell=%27Data%27!U1&action=embedview)\n",
    "* S: Slope = [Tabelværdi](https://seges.sharepoint.com/:x:/r/sites/GreenAction/_layouts/15/Doc.aspx?sourcedoc=%7BA8797CF8-D09C-4577-B972-E4D9C79AF9FF%7D&file=Afgr%C3%B8der_data_g%C3%B8dnings%C3%A5r%202020-2021_FOREL%C3%98BIG.xlsx&activeCell=%27Data%27!L1&action=embedview)\n",
    "* I: Intercept = [Tabelværdi](https://seges.sharepoint.com/:x:/r/sites/GreenAction/_layouts/15/Doc.aspx?sourcedoc=%7BA8797CF8-D09C-4577-B972-E4D9C79AF9FF%7D&file=Afgr%C3%B8der_data_g%C3%B8dnings%C3%A5r%202020-2021_FOREL%C3%98BIG.xlsx&activeCell=%27Data%27!M1&action=embedview)\n",
    "\n",
    "### **Beregning af N i afgrøderester under jorden, N<sub>A<sub>under</sub></sub>, afhænger af afgrødetypen**\n",
    "\n",
    ">Hvis X4 = 0  _og_ X3 = 0\n",
    "\n",
    "$$N_{A_{under}} = (T + A_{over}) \\cdot F \\cdot N_{under} $$\n",
    "\n",
    ">Hvis X4 = 0  _og_ X3 = 1\n",
    "\n",
    "$$N_{A_{under}} = (T + A_{over} + H_u) \\cdot F \\cdot N_{under} $$\n",
    "\n",
    ">Hvis X4 = 1\n",
    "\n",
    "$$N_{A_{under}} = A_{over} \\cdot F \\cdot N_{under}$$\n",
    "\n",
    "\n",
    "Hvor:\n",
    "\n",
    "* X3: Indikerer om udbytte + halmudbytte bruges til beregning af afgrøderest = [Tabelværdi](https://seges.sharepoint.com/:x:/r/sites/GreenAction/_layouts/15/Doc.aspx?sourcedoc=%7BA8797CF8-D09C-4577-B972-E4D9C79AF9FF%7D&file=Afgr%C3%B8der_data_g%C3%B8dnings%C3%A5r%202020-2021_FOREL%C3%98BIG.xlsx&activeCell=%27Data%27!U1&action=embedview)\n",
    "* X4: Indikerer om udbyttet nedmuldes = [Tabelværdi](https://seges.sharepoint.com/:x:/r/sites/GreenAction/_layouts/15/Doc.aspx?sourcedoc=%7BA8797CF8-D09C-4577-B972-E4D9C79AF9FF%7D&file=Afgr%C3%B8der_data_g%C3%B8dnings%C3%A5r%202020-2021_FOREL%C3%98BIG.xlsx&activeCell=%27Data%27!Y1&action=embedview)\n",
    "* F: Forhold underjordisk biomasse til overjordisk biomasse = [Tabelværdi](https://seges.sharepoint.com/:x:/r/sites/GreenAction/_layouts/15/Doc.aspx?sourcedoc=%7BA8797CF8-D09C-4577-B972-E4D9C79AF9FF%7D&file=Afgr%C3%B8der_data_g%C3%B8dnings%C3%A5r%202020-2021_FOREL%C3%98BIG.xlsx&activeCell=%27Data%27!P1&action=embedview)\n",
    "* N<sub>under</sub>: N indhold i afgrøderester under jorden = [Tabelværdi](https://seges.sharepoint.com/:x:/r/sites/GreenAction/_layouts/15/Doc.aspx?sourcedoc=%7BA8797CF8-D09C-4577-B972-E4D9C79AF9FF%7D&file=Afgr%C3%B8der_data_g%C3%B8dnings%C3%A5r%202020-2021_FOREL%C3%98BIG.xlsx&activeCell=%27Data%27!P1&action=embedview) [kg N/kg]\n",
    "\n",
    "\n",
    "### **Omregning til CO<sub>2</sub>e**\n",
    "\n",
    "$$CO_2e = N_{afgrøderester}   \\cdot EF_{N_2O} \\cdot \\frac{44}{28} \\cdot \\theta_{N_2O-CO_2}$$\n",
    "Hvor: \n",
    "\n",
    " * EF<sub>N<sub>2</sub>O</sub>: Emissionsfaktor for N<sub>2</sub>O = 0,01\n",
    " * $\\theta$ N<sub>2</sub>O-CO<sub>2</sub></sub>: Omregningsfaktor N<sub>2</sub>O til CO<sub>2</sub> = 298\n",
    "\n",
    " ----\n",
    "\n",
    " ## **Testcases**\n"
   ]
  },
  {
   "cell_type": "code",
   "execution_count": null,
   "metadata": {
    "dotnet_interactive": {
     "language": "csharp"
    },
    "vscode": {
     "languageId": "polyglot-notebook"
    }
   },
   "outputs": [],
   "source": [
    "// konstanter og funktioner - nix pille\n",
    "\n",
    "double EF_N2O = 0.01;\n",
    "double theta_N2O_CO2 = 298;\n",
    "\n",
    "public double A_over(bool X3, double U, double T, double S, double I, double H_u)\n",
    "\n",
    "    => (X3) switch\n",
    "\n",
    "    {\n",
    "        (false) => U * T * S + I,\n",
    "        (true) => (U * T + H_u) * S + I\n",
    "    };\n",
    "\n",
    "\n",
    "public double N_A_over(bool X1, bool X2, bool X3, double A_over, double N_over, double H_f, double U, double T, double H_u)\n",
    "\n",
    "    => (X1, X2, X3) switch\n",
    "\n",
    "    {\n",
    "        (true, _, false) => A_over * N_over,\n",
    "        (false, true, true) => A_over * N_over,\n",
    "        (true, true, true) => (A_over + H_u) * N_over,\n",
    "        (false, false, false) => (A_over - H_f * U * T) * N_over,\n",
    "        (false, true, false) => (A_over - H_u) * N_over,\n",
    "        (_, _, _) => 0.0\n",
    "    };\n",
    "\n",
    "\n",
    "public double N_A_under(bool X4, bool X3, double H_u, double U, double T, double A_over, double F, double N_under)\n",
    "\n",
    "    => (X4, X3) switch\n",
    "\n",
    "    {\n",
    "        (false, false) => (U * T + A_over) * F * N_under,\n",
    "        (false, true) => (U * T + A_over + H_u) * F * N_under,\n",
    "        (true, _) => A_over * F * N_under\n",
    "    };\n",
    "\n"
   ]
  },
  {
   "cell_type": "markdown",
   "metadata": {
    "dotnet_interactive": {
     "language": "csharp"
    },
    "polyglot_notebook": {
     "kernelName": "csharp"
    }
   },
   "source": [
    "**Beregning for vårbyg (Afgrødekode 1)**"
   ]
  },
  {
   "cell_type": "code",
   "execution_count": null,
   "metadata": {
    "dotnet_interactive": {
     "language": "csharp"
    },
    "vscode": {
     "languageId": "polyglot-notebook"
    }
   },
   "outputs": [],
   "source": [
    "// Input - Test andre scenarier, ved at ændre i input-værdierne herunder\n",
    "bool X1 = false;\n",
    "bool X2 = false;\n",
    "bool X3 = false;\n",
    "bool X4 = false;   \n",
    "double H = 1.0;\n",
    "// tabelværdier\n",
    "double O = 1.0;\n",
    "double N_over = 0.007;\n",
    "double N_under = 0.014;\n",
    "double H_f = 0.55;\n",
    "double U = 5000.0;\n",
    "double T = 0.85;\n",
    "double H_u = 0.0;\n",
    "double S = 0.98;\n",
    "double I = 0.59;\n",
    "double F = 0.22;\n",
    "\n",
    "// Beregning\n",
    "double A_over_ = A_over(X3, U, T, S, I, H_u);\n",
    "double N_A_over_ = N_A_over(X1, X2, X3, A_over_, N_over, H_f, U, T, H_u);\n",
    "double N_A_under_ = N_A_under(X4, X3, H_u, U, T, A_over_, F, N_under);\n",
    "double N_afgroderester = (N_A_over_ + N_A_under_) / O * H;\n",
    "\n",
    "Console.WriteLine($\"Afgrøderester over jord: {A_over_} kg ts/ha\");\n",
    "Console.WriteLine($\"N i afgrøderester over jord: {N_A_over_} kg N/ha\");\n",
    "Console.WriteLine($\"N i afgrøderester under jord: {N_A_under_} kg N/ha\");\n",
    "Console.WriteLine($\"Afgrøderester for vårbyg marken: {N_afgroderester} kg N\");\n",
    "Console.WriteLine($\"Omregnet til N20: {N_afgroderester * EF_N2O * 44 / 28} kg N20\");\n",
    "Console.WriteLine($\"Omregnet til CO2e: {N_afgroderester * EF_N2O * 44 / 28 * theta_N2O_CO2}\");\n"
   ]
  },
  {
   "cell_type": "markdown",
   "metadata": {
    "dotnet_interactive": {
     "language": "csharp"
    },
    "polyglot_notebook": {
     "kernelName": "csharp"
    }
   },
   "source": [
    "**Rajgræs, alm. (Afgrødekode 101)**"
   ]
  },
  {
   "cell_type": "code",
   "execution_count": null,
   "metadata": {
    "dotnet_interactive": {
     "language": "csharp"
    },
    "vscode": {
     "languageId": "polyglot-notebook"
    }
   },
   "outputs": [],
   "source": [
    "// Input - Test andre scenarier, ved at ændre i input-værdierne herunder\n",
    "bool X1 = false;\n",
    "bool X2 = true;\n",
    "bool X3 = true;\n",
    "bool X4 = false;\n",
    "double H = 1.0;\n",
    "// Tabelværdier\n",
    "double O = 2.0;\n",
    "double N_over = 0.015;\n",
    "double N_under = 0.012;\n",
    "double H_f = 0.0;\n",
    "double U = 1500.0;\n",
    "double T = 0.88;\n",
    "double H_u = 4250.0;\n",
    "double S = 0.3;\n",
    "double I = 0.0;\n",
    "double F = 0.8;\n",
    "\n",
    "// Beregning\n",
    "double A_over_ = A_over(X3, U, T, S, I, H_u);\n",
    "double N_A_over_ = N_A_over(X1, X2, X3, A_over_, N_over, H_f, U, T, H_u);\n",
    "double N_A_under_ = N_A_under(X4, X3, H_u, U, T, A_over_, F, N_under);\n",
    "double N_afgroderester = (N_A_over_ + N_A_under_) / O * H;\n",
    "\n",
    "Console.WriteLine($\"Afgrøderester over jord: {A_over_} kg ts/ha\");\n",
    "Console.WriteLine($\"N i afgrøderester over jord: {N_A_over_} kg N/ha\");\n",
    "Console.WriteLine($\"N i afgrøderester under jord: {N_A_under_} kg N/ha\");\n",
    "Console.WriteLine($\"Afgrøderester for rajgræs, alm. marken: {N_afgroderester} kg N\");\n",
    "Console.WriteLine($\"Omregnet til N20: {N_afgroderester * EF_N2O * 44 / 28} kg N20\");\n",
    "Console.WriteLine($\"Omregnet til CO2e: {N_afgroderester * EF_N2O * 44 / 28 * theta_N2O_CO2}\");"
   ]
  },
  {
   "cell_type": "markdown",
   "metadata": {
    "dotnet_interactive": {
     "language": "csharp"
    },
    "polyglot_notebook": {
     "kernelName": "csharp"
    }
   },
   "source": [
    "**Kløvergræs med over 50% kløver, udlæg/efterslæt efter korn o.l. (Afgrødekode 945)**"
   ]
  },
  {
   "cell_type": "code",
   "execution_count": null,
   "metadata": {
    "dotnet_interactive": {
     "language": "csharp"
    },
    "vscode": {
     "languageId": "polyglot-notebook"
    }
   },
   "outputs": [],
   "source": [
    "// Input - Test andre scenarier, ved at ændre i input-værdierne herunder\n",
    "bool X1 = true;\n",
    "bool X2 = false;\n",
    "bool X3 = false;\n",
    "bool X4 = false;\n",
    "double H = 1.0;\n",
    "// Tabelværdier\n",
    "double O = 1;\n",
    "double N_over = 0.025;\n",
    "double N_under = 0.016;\n",
    "double H_f = 0.0;\n",
    "double U = 1400;\n",
    "double T = 0.93;\n",
    "double H_u = 0.0;\n",
    "double S = 0.3;\n",
    "double I = 0.0;\n",
    "double F = 0.8;\n",
    "\n",
    "// Beregning\n",
    "double A_over_ = A_over(X3, U, T, S, I, H_u);\n",
    "double N_A_over_ = N_A_over(X1, X2, X3, A_over_, N_over, H_f, U, T, H_u);\n",
    "double N_A_under_ = N_A_under(X4, X3, H_u, U, T, A_over_, F, N_under);\n",
    "double N_afgroderester = (N_A_over_ + N_A_under_) / O * H;\n",
    "\n",
    "Console.WriteLine($\"Afgrøderester over jord: {A_over_} kg ts/ha\");\n",
    "Console.WriteLine($\"N i afgrøderester over jord: {N_A_over_} kg N/ha\");\n",
    "Console.WriteLine($\"N i afgrøderester under jord: {N_A_under_} kg N/ha\");\n",
    "Console.WriteLine($\"Afgrøderester for Kløvergræs med over 50% kløver, udlæg/efterslæt efter korn o.l.: {N_afgroderester} kg N\");\n",
    "Console.WriteLine($\"Omregnet til N20: {N_afgroderester * EF_N2O * 44 / 28} kg N20\");\n",
    "Console.WriteLine($\"Omregnet til CO2e: {N_afgroderester * EF_N2O * 44 / 28 * theta_N2O_CO2}\");"
   ]
  },
  {
   "cell_type": "markdown",
   "metadata": {
    "dotnet_interactive": {
     "language": "csharp"
    },
    "polyglot_notebook": {
     "kernelName": "csharp"
    }
   },
   "source": [
    "**Pligtige efterafgrøder (Afgrødekode 968)**"
   ]
  },
  {
   "cell_type": "code",
   "execution_count": null,
   "metadata": {
    "dotnet_interactive": {
     "language": "csharp"
    },
    "vscode": {
     "languageId": "polyglot-notebook"
    }
   },
   "outputs": [],
   "source": [
    "// Input - Test andre scenarier, ved at ændre i input-værdierne herunder\n",
    "bool X1 = true;\n",
    "bool X2 = false;\n",
    "bool X3 = false;\n",
    "bool X4 = true;\n",
    "double H = 1.0;\n",
    "// Tabelværdier\n",
    "double O = 1.0;\n",
    "double N_over = 0.015;\n",
    "double N_under = 0.012;\n",
    "double H_f = 0.0;\n",
    "double U = 1000;\n",
    "double T = 1.5;\n",
    "double H_u = 0.0;\n",
    "double S = 1.3;\n",
    "double I = 0.0;\n",
    "double F = 0.8;\n",
    "\n",
    "// Beregning\n",
    "double A_over_ = A_over(X3, U, T, S, I, H_u);\n",
    "double N_A_over_ = N_A_over(X1, X2, X3, A_over_, N_over, H_f, U, T, H_u);\n",
    "double N_A_under_ = N_A_under(X4, X3, H_u, U, T, A_over_, F, N_under);\n",
    "double N_afgroderester = (N_A_over_ + N_A_under_) / O * H;\n",
    "\n",
    "Console.WriteLine($\"Afgrøderester over jord: {A_over_} kg ts/ha\");\n",
    "Console.WriteLine($\"N i afgrøderester over jord: {N_A_over_} kg N/ha\");\n",
    "Console.WriteLine($\"N i afgrøderester under jord: {N_A_under_} kg N/ha\");\n",
    "Console.WriteLine($\"Afgrøderester for Pligtige efterafgrøder: {N_afgroderester} kg N\");\n",
    "Console.WriteLine($\"Omregnet til N20: {N_afgroderester * EF_N2O * 44 / 28} kg N20\");\n",
    "Console.WriteLine($\"Omregnet til CO2e: {N_afgroderester * EF_N2O * 44 / 28 * theta_N2O_CO2}\");"
   ]
  }
 ],
 "metadata": {
  "kernelspec": {
   "display_name": ".NET (C#)",
   "language": "C#",
   "name": ".net-csharp"
  },
  "polyglot_notebook": {
   "kernelInfo": {
    "defaultKernelName": "csharp",
    "items": [
     {
      "aliases": [
       "c#",
       "C#"
      ],
      "languageName": "C#",
      "name": "csharp"
     },
     {
      "aliases": [],
      "name": ".NET"
     },
     {
      "aliases": [
       "f#",
       "F#"
      ],
      "languageName": "F#",
      "name": "fsharp"
     },
     {
      "aliases": [],
      "languageName": "HTML",
      "name": "html"
     },
     {
      "aliases": [
       "js"
      ],
      "languageName": "JavaScript",
      "name": "javascript"
     },
     {
      "aliases": [],
      "languageName": "KQL",
      "name": "kql"
     },
     {
      "aliases": [],
      "languageName": "Mermaid",
      "name": "mermaid"
     },
     {
      "aliases": [
       "powershell"
      ],
      "languageName": "PowerShell",
      "name": "pwsh"
     },
     {
      "aliases": [],
      "languageName": "SQL",
      "name": "sql"
     },
     {
      "aliases": [],
      "name": "value"
     },
     {
      "aliases": [
       "frontend"
      ],
      "name": "vscode"
     },
     {
      "aliases": [],
      "name": "webview"
     }
    ]
   }
  }
 },
 "nbformat": 4,
 "nbformat_minor": 2
}
