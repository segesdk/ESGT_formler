{
 "cells": [
  {
   "cell_type": "markdown",
   "metadata": {
    "dotnet_interactive": {
     "language": "csharp"
    },
    "polyglot_notebook": {
     "kernelName": "csharp"
    }
   },
   "source": [
    "# **Nitratudvaskning på marken**\n",
    "\n",
    "### **Beregning af kg N<sub>2</sub>O fra nitratudvaskning** \n",
    "\n",
    "$$N_2O_{nitratudvaskning} = T \\cdot 0,0075 \\cdot \\frac{44}{28} \\cdot H$$\n",
    "\n",
    "Hvor:\n",
    "* T: typetal for nitratudvaskning = [Tabelværdi](https://seges.sharepoint.com/:x:/r/sites/GreenAction/_layouts/15/Doc.aspx?sourcedoc=%7BA8797CF8-D09C-4577-B972-E4D9C79AF9FF%7D&file=Afgr%C3%B8der_data_g%C3%B8dnings%C3%A5r%202020-2021_FOREL%C3%98BIG.xlsx&activeCell=%27Data%27!Y1&action=embedview)\n",
    "* H: Antal ha på marken\n",
    "\n",
    "### **Omregning til CO<sub>2</sub>e**\n",
    "\n",
    "$$CO_2e = N_2O_{nitratudvaskning} \\cdot \\theta_{N_2O-CO_2}$$\n",
    "Hvor: \n",
    "\n",
    " * $\\theta$ N<sub>2</sub>O-CO<sub>2</sub></sub>: Omregningsfaktor N<sub>2</sub>O til CO<sub>2</sub> = 298\n",
    "\n",
    "\n",
    "----\n",
    "\n",
    " ## **Testcases**"
   ]
  },
  {
   "cell_type": "code",
   "execution_count": 1,
   "metadata": {
    "dotnet_interactive": {
     "language": "csharp"
    },
    "vscode": {
     "languageId": "polyglot-notebook"
    }
   },
   "outputs": [],
   "source": [
    "// konstanter - nix pille\n",
    "double theta_N2O_CO2 = 298.0;\n",
    "double T_sol = 74.0; // typetal for solsikke\n",
    "double T_vaar = 63.0; // typetal for vårbyg\n",
    "double T_eft = -30.0; //typetal for pligtige efterafgrøder"
   ]
  },
  {
   "cell_type": "markdown",
   "metadata": {
    "dotnet_interactive": {
     "language": "csharp"
    },
    "polyglot_notebook": {
     "kernelName": "csharp"
    }
   },
   "source": [
    "**Beregning for vårbyg (afgrødekode 1)**"
   ]
  },
  {
   "cell_type": "code",
   "execution_count": 2,
   "metadata": {
    "dotnet_interactive": {
     "language": "csharp"
    },
    "vscode": {
     "languageId": "polyglot-notebook"
    }
   },
   "outputs": [
    {
     "name": "stdout",
     "output_type": "stream",
     "text": [
      "Nitratudvaskning for vårbyg marken: 74,25 kg N2O\n",
      "Omregnet til CO2e: 22126,5 kg CO2e\n"
     ]
    }
   ],
   "source": [
    "// Input - Test andre scenarier, ved at ændre i input-værdierne herunder\n",
    "double H = 100.0;\n",
    "\n",
    "// Beregning\n",
    "\n",
    "double N2O_nitratudvaskning = (T_vaar * 0.0075 * 44.0 / 28.0 * H);\n",
    "Console.WriteLine($\"Nitratudvaskning for vårbyg marken: {N2O_nitratudvaskning} kg N2O\");\n",
    "Console.WriteLine($\"Omregnet til CO2e: {N2O_nitratudvaskning * theta_N2O_CO2} kg CO2e\");"
   ]
  },
  {
   "cell_type": "markdown",
   "metadata": {
    "dotnet_interactive": {
     "language": "csharp"
    },
    "polyglot_notebook": {
     "kernelName": "csharp"
    }
   },
   "source": [
    "**Beregning for solsikke (afgrødekode 24)**"
   ]
  },
  {
   "cell_type": "code",
   "execution_count": 3,
   "metadata": {
    "dotnet_interactive": {
     "language": "csharp"
    },
    "vscode": {
     "languageId": "polyglot-notebook"
    }
   },
   "outputs": [
    {
     "name": "stdout",
     "output_type": "stream",
     "text": [
      "Nitratudvaskning for solsikke marken: 87,21428571428571 kg N2O\n",
      "Omregnet til CO2e: 25989,85714285714 kg CO2e\n"
     ]
    }
   ],
   "source": [
    "// Input - Test andre scenarier, ved at ændre i input-værdierne herunder\n",
    "double H = 100;\n",
    "\n",
    "// Beregning\n",
    "\n",
    "double N2O_nitratudvaskning = (T_sol * 0.0075 * 44.0 / 28.0 * H);\n",
    "Console.WriteLine($\"Nitratudvaskning for solsikke marken: {N2O_nitratudvaskning} kg N2O\");\n",
    "Console.WriteLine($\"Omregnet til CO2e: {N2O_nitratudvaskning * theta_N2O_CO2} kg CO2e\");"
   ]
  },
  {
   "attachments": {},
   "cell_type": "markdown",
   "metadata": {
    "dotnet_interactive": {
     "language": "csharp"
    },
    "polyglot_notebook": {
     "kernelName": "csharp"
    }
   },
   "source": [
    "**Beregning for vårbyg (afgrødekode 1) + Pligtige efterafgrøder (afgrødekode 968)**"
   ]
  },
  {
   "cell_type": "code",
   "execution_count": 4,
   "metadata": {
    "dotnet_interactive": {
     "language": "csharp"
    },
    "polyglot_notebook": {
     "kernelName": "csharp"
    },
    "vscode": {
     "languageId": "polyglot-notebook"
    }
   },
   "outputs": [
    {
     "name": "stdout",
     "output_type": "stream",
     "text": [
      "Nitratudvaskning for vårbyg m/ efterafgrøde: 38,892857142857146 kg N2O\n",
      "Omregnet til CO2e: 11590,07142857143 kg CO2e\n"
     ]
    }
   ],
   "source": [
    "// Input - Test andre scenarier, ved at ændre i input-værdierne herunder\n",
    "double H = 100;\n",
    "\n",
    "// Beregning\n",
    "\n",
    "double N2O_nitratudvaskning = (T_vaar * 0.0075 * 44.0 / 28.0 * H) + (T_eft * 0.0075 * 44.0 / 28.0 * H);\n",
    "Console.WriteLine($\"Nitratudvaskning for vårbyg m/ efterafgrøde: {N2O_nitratudvaskning} kg N2O\");\n",
    "Console.WriteLine($\"Omregnet til CO2e: {N2O_nitratudvaskning * theta_N2O_CO2} kg CO2e\");"
   ]
  }
 ],
 "metadata": {
  "kernelspec": {
   "display_name": ".NET (C#)",
   "language": "C#",
   "name": ".net-csharp"
  },
  "polyglot_notebook": {
   "kernelInfo": {
    "defaultKernelName": "csharp",
    "items": [
     {
      "aliases": [
       "c#",
       "C#"
      ],
      "languageName": "C#",
      "name": "csharp"
     },
     {
      "aliases": [],
      "name": ".NET"
     },
     {
      "aliases": [
       "f#",
       "F#"
      ],
      "languageName": "F#",
      "name": "fsharp"
     },
     {
      "aliases": [],
      "languageName": "HTML",
      "name": "html"
     },
     {
      "aliases": [],
      "languageName": "KQL",
      "name": "kql"
     },
     {
      "aliases": [],
      "languageName": "Mermaid",
      "name": "mermaid"
     },
     {
      "aliases": [
       "powershell"
      ],
      "languageName": "PowerShell",
      "name": "pwsh"
     },
     {
      "aliases": [],
      "languageName": "SQL",
      "name": "sql"
     },
     {
      "aliases": [],
      "name": "value"
     },
     {
      "aliases": [
       "frontend"
      ],
      "name": "vscode"
     },
     {
      "aliases": [
       "js"
      ],
      "languageName": "JavaScript",
      "name": "javascript"
     },
     {
      "aliases": [],
      "name": "webview"
     }
    ]
   }
  }
 },
 "nbformat": 4,
 "nbformat_minor": 2
}
