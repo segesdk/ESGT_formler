{
 "cells": [
  {
   "cell_type": "markdown",
   "metadata": {},
   "source": [
    "# **Nitratudvaskning på marken**\n",
    "\n",
    "### **Beregning af kg N<sub>2</sub>O fra nitratudvaskning** \n",
    "\n",
    "$$N_2O_{nitratudvaskning} = T \\cdot 0,0075 \\cdot \\frac{44}{28} \\cdot H$$\n",
    "\n",
    "Hvor:\n",
    "* T: typetal for nitratudvaskning = [Tabelværdi](https://seges.sharepoint.com/:x:/r/sites/GreenAction/_layouts/15/Doc.aspx?sourcedoc=%7BA8797CF8-D09C-4577-B972-E4D9C79AF9FF%7D&file=Afgr%C3%B8der_data_g%C3%B8dnings%C3%A5r%202020-2021_FOREL%C3%98BIG.xlsx&activeCell=%27Data%27!Y1&action=embedview)\n",
    "* H: Antal ha på marken\n",
    "\n",
    "### **Omregning til CO<sub>2</sub>e**\n",
    "\n",
    "$$CO_2e = N_2O_{nitratudvaskning} \\cdot \\theta_{N_2O-CO_2}$$\n",
    "Hvor: \n",
    "\n",
    " * $\\theta$ N<sub>2</sub>O-CO<sub>2</sub></sub>: Omregningsfaktor N<sub>2</sub>O til CO<sub>2</sub> = 298\n",
    "\n",
    "\n",
    "----\n",
    "\n",
    " ## **Testcases**"
   ]
  },
  {
   "cell_type": "code",
   "execution_count": 1,
   "metadata": {},
   "outputs": [],
   "source": [
    "# konstanter - nix pille\n",
    "theta_N2O_CO2 = 298\n",
    "T_sol = 74 #typetal for solsikke\n",
    "T_vaar = 63 #typetal for vårbyg"
   ]
  },
  {
   "cell_type": "markdown",
   "metadata": {},
   "source": [
    "**Beregning for vårbyg (afgrødekode 1)**"
   ]
  },
  {
   "cell_type": "code",
   "execution_count": 4,
   "metadata": {},
   "outputs": [
    {
     "name": "stdout",
     "output_type": "stream",
     "text": [
      "Nitratudvaskning for vårbyg marken: 74.25 kg N2O\n",
      "Omregnet til CO2e: 22126.5 kg CO2e\n"
     ]
    }
   ],
   "source": [
    "#Input - Test andre scenarier, ved at ændre i input-værdierne herunder\n",
    "H = 100\n",
    "\n",
    "#Beregning\n",
    "\n",
    "N2O_nitratudvaskning = (T_vaar * 0.0075 * 44 / 28 * H)\n",
    "print(f'Nitratudvaskning for vårbyg marken: {N2O_nitratudvaskning} kg N2O')\n",
    "print(f'Omregnet til CO2e: {N2O_nitratudvaskning * theta_N2O_CO2} kg CO2e')"
   ]
  },
  {
   "cell_type": "markdown",
   "metadata": {},
   "source": [
    "**Beregning for solsikke (afgrødekode 24)**"
   ]
  },
  {
   "cell_type": "code",
   "execution_count": 3,
   "metadata": {},
   "outputs": [
    {
     "name": "stdout",
     "output_type": "stream",
     "text": [
      "Nitratudvaskning for solsikke marken: 87.21428571428571 kg N2O\n",
      "Omregnet til CO2e: 25989.85714285714 kg CO2e\n"
     ]
    }
   ],
   "source": [
    "#Input - Test andre scenarier, ved at ændre i input-værdierne herunder\n",
    "H = 100\n",
    "\n",
    "#Beregning\n",
    "\n",
    "N2O_nitratudvaskning = (T_sol * 0.0075 * 44 / 28 * H)\n",
    "print(f'Nitratudvaskning for solsikke marken: {N2O_nitratudvaskning} kg N2O')\n",
    "print(f'Omregnet til CO2e: {N2O_nitratudvaskning * theta_N2O_CO2} kg CO2e')"
   ]
  }
 ],
 "metadata": {
  "kernelspec": {
   "display_name": "Python 3.9.10 64-bit",
   "language": "python",
   "name": "python3"
  },
  "language_info": {
   "codemirror_mode": {
    "name": "ipython",
    "version": 3
   },
   "file_extension": ".py",
   "mimetype": "text/x-python",
   "name": "python",
   "nbconvert_exporter": "python",
   "pygments_lexer": "ipython3",
   "version": "3.9.10"
  },
  "orig_nbformat": 4,
  "vscode": {
   "interpreter": {
    "hash": "bdf001e0a405e8b8504014542464f4868d6e9f604bb794366dc2b084054cc945"
   }
  }
 },
 "nbformat": 4,
 "nbformat_minor": 2
}
