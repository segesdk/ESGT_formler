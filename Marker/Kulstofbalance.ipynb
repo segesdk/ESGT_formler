{
 "cells": [
  {
   "attachments": {},
   "cell_type": "markdown",
   "metadata": {
    "dotnet_interactive": {
     "language": "csharp"
    },
    "polyglot_notebook": {
     "kernelName": "csharp"
    }
   },
   "source": [
    " \n",
    " \n",
    "# **Kulstofbalance**\n",
    "Kulstof input og forbrænding fra dyrkningsfladen beregnes, fordi den indgår i landbrugets drivhusgas emission. Når landbruget dyrker jorden, opstår der emissioner såsom lattergas emission, ammoniak emission, udvaskning af nitrat, samt ændring i kulstofbalancen i jorden.\n",
    "\n",
    "Hvordan kulstoffet der kommer fra planterester, husdyrgødningen, eller andre organiske kilder påvirker selve humusprocenten i jorden, afhænger af hvor meget kulstof, der allokeres til mere stabile humus forbindelser (Humified organic matter = HUM. Omsætning > 50 år) og den stabile del af jordens organiske materiale (Resilient organic matter =ROM. Omsætning > 100 år). Dette afhænger bl.a. af hvor meget humus, der allerede findes i jorden.\n",
    "\n",
    "For at ESGTool kan vurdere om sædskiftet bidrager til kulstofinput eller fjerner kulstof, er det valgt at beregne kulstof balance og sammenligne den med et gennemsnitligt dansk input, beregnet til 4093 kg C/ha svarerende til en hvedeafgrøde med delvis (50%) nedmuldning af halm. \n",
    "\n",
    "_OBS der beregnes ikke kulstofbalance for marker med JB11, da bidraget fra disse allerede beregnes i [Organogene jorde.ipynb](https://github.com/segesdk/ESGT_formler/blob/main/Marker/Organogene_jorde.ipynb)_\n",
    "\n",
    "## **Bedriftsaftryk**\n",
    "\n",
    "### **Beregning af kulstofbalancen, C<sub>kulstofbalance</sub>, afhænger af afgrødetypen**\n",
    "\n",
    ">Hvis R = 1\n",
    "\n",
    " $$C_{kulstofbalance} = ((C_{afgrøderest} + C_{organisk}) - \\mu_{DK}) \\cdot A$$\n",
    "\n",
    ">Hvis R = 0\n",
    "\n",
    " $$C_{kulstofbalance} = (C_{afgrøderest} + C_{organisk}) \\cdot A$$\n",
    "\n",
    ">Hvis R = 2\n",
    "\n",
    " $$C_{kulstofbalance} = 0 $$\n",
    "\n",
    "\n",
    "Hvor:\n",
    "\n",
    "* R: Indikerer, om afgrøden skal relativeres til DK gennemsnit (μ<sub>DK</sub>) = [Tabelværdi](https://seges.sharepoint.com/:x:/r/sites/GreenAction/_layouts/15/Doc.aspx?sourcedoc=%7BA8797CF8-D09C-4577-B972-E4D9C79AF9FF%7D&file=Afgr%C3%B8der_data_g%C3%B8dnings%C3%A5r%202020-2021_FOREL%C3%98BIG.xlsx&activeCell=%27Data%27!W1&action=embedview)\n",
    "* μ<sub>DK</sub>: Det gennemsnitlige danske input af kulstof fra en afgrøde (se intro) = 4093 [kg C/ha]\n",
    "* A: Markens samlede areal = fra MO [ha]\n",
    "\n",
    "### **Beregning af afgrøderester, C<sub>afgrøderest</sub>, afhænger af, om der halmnedmuldes**\n",
    "\n",
    ">Hvis X1 = 1\n",
    "\n",
    " $$C_{afgrøderest} = (N_{A_{over}} + N_{A_{under}}) \\cdot T\\%$$\n",
    "\n",
    " >Hvis X1 = 0\n",
    "\n",
    " $$C_{afgrøderest} = ((N_{A_{over}} + N_{A_{under}}) - (H_f \\cdot T)) \\cdot T\\%$$\n",
    "\n",
    "Hvor:\n",
    "\n",
    "* X1: Indikerer, om der nedmuldes halm = input fra MO (OBS \"delvis halmnedmulding\" håndteres som true) ELLER input fra bruger\n",
    "* N<sub>A<sub>over</sub></sub>: N i afgrøderester over jorden = beregnes i [Afgrøderester.ipynb](https://github.com/segesdk/ESGT_formler/blob/main/Marker/Afgr%C3%B8derester.ipynb) [kg N/ha]\n",
    "* N<sub>A<sub>under</sub></sub>: N i afgrøderester under jorden = beregnes i [Afgrøderester.ipynb](https://github.com/segesdk/ESGT_formler/blob/main/Marker/Afgr%C3%B8derester.ipynb) [kg N/ha]\n",
    "* H<sub>f</sub>: Halmfraktion ift. udbytte = [Tabelværdi](https://seges.sharepoint.com/:x:/r/sites/GreenAction/_layouts/15/Doc.aspx?sourcedoc=%7BA8797CF8-D09C-4577-B972-E4D9C79AF9FF%7D&file=Afgr%C3%B8der_data_g%C3%B8dnings%C3%A5r%202020-2021_FOREL%C3%98BIG.xlsx&activeCell=%27Data%27!R1&action=embedview) [kg ts]\n",
    "* T: Tørstof i alt (svarer til udbytte * tørstofprocenten) = Læses fra MO [kg ts/ha]\n",
    "* T%: Den antagede kulstofprocent i tørstof = 45 [%]\n",
    "\n",
    "### **Beregning af kulstof fra organisk gødning, C<sub>organisk</sub>**\n",
    "\n",
    " $$C_{organisk} = N_{hus} \\cdot f_{hus} $$\n",
    "\n",
    "Hvor:\n",
    "\n",
    "* N<sub>hus</sub>: Mængden af N i husdyrgødning = fra MO, kg N i gødningstypen pr. ha (summering af AppliedN i gødningstypen for alle handlingerne på marken) [kg N/ha]\n",
    "* f<sub>hus</sub>: Omregningsfaktor fra N til C for husdyrgødning = 8 [kg C/kg N]\n",
    "\n",
    "\n"
   ]
  }
 ],
 "metadata": {
  "kernelspec": {
   "display_name": ".NET (C#)",
   "language": "C#",
   "name": ".net-csharp"
  },
  "polyglot_notebook": {
   "kernelInfo": {
    "defaultKernelName": "csharp",
    "items": [
     {
      "aliases": [
       "c#",
       "C#"
      ],
      "languageName": "C#",
      "name": "csharp"
     },
     {
      "aliases": [
       "frontend"
      ],
      "languageName": null,
      "name": "vscode"
     },
     {
      "aliases": [],
      "name": ".NET"
     },
     {
      "aliases": [
       "f#",
       "F#"
      ],
      "languageName": "F#",
      "name": "fsharp"
     },
     {
      "aliases": [],
      "languageName": "HTML",
      "name": "html"
     },
     {
      "aliases": [],
      "languageName": "KQL",
      "name": "kql"
     },
     {
      "aliases": [],
      "languageName": "Mermaid",
      "name": "mermaid"
     },
     {
      "aliases": [
       "powershell"
      ],
      "languageName": "PowerShell",
      "name": "pwsh"
     },
     {
      "aliases": [],
      "languageName": "SQL",
      "name": "sql"
     },
     {
      "aliases": [],
      "name": "value"
     },
     {
      "aliases": [
       "js"
      ],
      "languageName": "JavaScript",
      "name": "javascript"
     },
     {
      "aliases": [],
      "name": "webview"
     }
    ]
   }
  }
 },
 "nbformat": 4,
 "nbformat_minor": 2
}
