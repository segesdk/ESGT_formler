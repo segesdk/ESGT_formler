{
 "cells": [
  {
   "attachments": {},
   "cell_type": "markdown",
   "metadata": {
    "dotnet_interactive": {
     "language": "csharp"
    },
    "polyglot_notebook": {
     "kernelName": "csharp"
    }
   },
   "source": [
    " \n",
    " \n",
    "# **Kulstofbalance**\n",
    "Kulstof input og forbrænding fra dyrkningsfladen beregnes, fordi den indgår i landbrugets drivhusgas emission. Når landbruget dyrker jorden, opstår der emissioner såsom lattergas emission, ammoniak emission, udvaskning af nitrat, samt ændring i kulstofbalancen i jorden.\n",
    "\n",
    "Hvordan kulstoffet der kommer fra planterester, husdyrgødningen, eller andre organiske kilder påvirker selve humusprocenten i jorden, afhænger af hvor meget kulstof, der allokeres til mere stabile humus forbindelser (Humified organic matter = HUM. Omsætning > 50 år) og den stabile del af jordens organiske materiale (Resilient organic matter =ROM. Omsætning > 100 år). Dette afhænger bl.a. af hvor meget humus, der allerede findes i jorden.\n",
    "\n",
    "For at ESGTool kan vurdere om sædskiftet bidrager til kulstofinput eller fjerner kulstof, er det valgt at beregne kulstof balance og sammenligne den med et gennemsnitligt dansk input, beregnet til 4093 kg C/ha svarerende til en hvedeafgrøde med delvis (50%) nedmuldning af halm. \n",
    "\n",
    "_OBS der beregnes ikke kulstofbalance for marker med JB11, da bidraget fra disse allerede beregnes i [Organogene jorde.ipynb](https://github.com/segesdk/ESGT_formler/blob/main/Marker/Organogene_jorde.ipynb)_\n",
    "\n",
    "## **Bedriftsaftryk**\n",
    "\n",
    "### **Beregning af kulstofbalancen, C<sub>kulstofbalance</sub>, afhænger af afgrødetypen**\n",
    "\n",
    ">Hvis R = 1\n",
    "\n",
    " $$C_{kulstofbalance} = (C_{afgrøderest} + C_{organisk} - \\mu_{DK}) \\cdot A$$\n",
    "\n",
    ">Hvis R = 0\n",
    "\n",
    " $$C_{kulstofbalance} = (C_{afgrøderest} + C_{organisk}) \\cdot A$$\n",
    "\n",
    ">Hvis R = 2\n",
    "\n",
    " $$C_{kulstofbalance} = 0 $$\n",
    "\n",
    "\n",
    "Hvor:\n",
    "\n",
    "* R: Indikerer, om afgrøden skal relativeres til DK gennemsnit (μ<sub>DK</sub>) = [Tabelværdi](https://seges.sharepoint.com/:x:/r/sites/GreenAction/_layouts/15/Doc.aspx?sourcedoc=%7BA8797CF8-D09C-4577-B972-E4D9C79AF9FF%7D&file=Afgr%C3%B8der_data_g%C3%B8dnings%C3%A5r%202020-2021_FOREL%C3%98BIG.xlsx&activeCell=%27Data%27!W1&action=embedview)\n",
    "* μ<sub>DK</sub>: Det gennemsnitlige danske input af kulstof fra en afgrøde (se intro) = 4093 [kg C/ha]\n",
    "* A: Markens samlede areal = fra MO [ha]\n",
    "\n",
    "### **Beregning af afgrøderester, C<sub>afgrøderest</sub>**\n",
    "\n",
    "\n",
    " $$C_{afgrøderest} = (A_{over} + A_{under}) \\cdot C_{frak}$$\n",
    "\n",
    "Hvor:\n",
    "\n",
    "* A<sub>over</sub>: Tørstof i afgrøderester over jorden = beregnes i [Afgrøderester.ipynb](https://github.com/segesdk/ESGT_formler/blob/main/Marker/Afgr%C3%B8derester.ipynb) [kg ts/ha]\n",
    "* A<sub>under</sub>: Tørstof i afgrøderester under jorden = beregnes i [Afgrøderester.ipynb](https://github.com/segesdk/ESGT_formler/blob/main/Marker/Afgr%C3%B8derester.ipynb) [kg ts/ha]\n",
    "* C<sub>frak</sub>: Den antagede kulstoffraktion i tørstof = 0.45 [kg C/kg ts]\n",
    "\n",
    "### **Beregning af kulstof fra organisk gødning, C<sub>organisk</sub>**\n",
    "\n",
    " $$C_{organisk} = N_{hus} \\cdot f_{hus} $$\n",
    "\n",
    "Hvor:\n",
    "\n",
    "* N<sub>hus</sub>: Mængden af N i husdyrgødning = fra MO, kg N i gødningstypen pr. ha (summering af AppliedN i gødningstypen for alle handlingerne på marken) [kg N/ha]\n",
    "* f<sub>hus</sub>: Omregningsfaktor fra N til C for husdyrgødning = 8 [kg C/kg N]\n",
    "\n",
    " ----\n",
    "\n",
    " ## **Testcases**"
   ]
  },
  {
   "cell_type": "code",
   "execution_count": 1,
   "metadata": {
    "dotnet_interactive": {
     "language": "csharp"
    },
    "polyglot_notebook": {
     "kernelName": "csharp"
    },
    "vscode": {
     "languageId": "polyglot-notebook"
    }
   },
   "outputs": [],
   "source": [
    "// konstanter - nix pille\n",
    "double C_frak = 0.45;\n",
    "double mu_DK = 4093.0;\n",
    "double f_hus = 8.0;"
   ]
  },
  {
   "attachments": {},
   "cell_type": "markdown",
   "metadata": {
    "dotnet_interactive": {
     "language": "csharp"
    },
    "polyglot_notebook": {
     "kernelName": "csharp"
    }
   },
   "source": [
    "**Beregning for vårbyg (Afgrødekode 1)**"
   ]
  },
  {
   "cell_type": "code",
   "execution_count": 2,
   "metadata": {
    "dotnet_interactive": {
     "language": "csharp"
    },
    "polyglot_notebook": {
     "kernelName": "csharp"
    },
    "vscode": {
     "languageId": "polyglot-notebook"
    }
   },
   "outputs": [
    {
     "name": "stdout",
     "output_type": "stream",
     "text": [
      "C i afgrøderester: 3262,6575000000003 kg C/ha\n",
      "C i organisk materiale: 56 kg C/ha\n",
      "Kulstofbalance for vårbyg: -774,3424999999997\n"
     ]
    }
   ],
   "source": [
    "// Input - Test andre scenarier, ved at ændre i input-værdierne herunder\n",
    "double A_over = 4755.0;\n",
    "double A_under = 2495.35;\n",
    "double N_hus = 7.0;\n",
    "double A = 1.0;\n",
    "\n",
    "// Beregning\n",
    "double C_afgroderest = (A_over + A_under) * C_frak;\n",
    "double C_organisk = N_hus * f_hus;\n",
    "double C_kulstofbalance = (C_afgroderest + C_organisk - mu_DK) * A;\n",
    "\n",
    "Console.WriteLine($\"C i afgrøderester: {C_afgroderest} kg C/ha\");\n",
    "Console.WriteLine($\"C i organisk materiale: {C_organisk} kg C/ha\");\n",
    "Console.WriteLine($\"Kulstofbalance for vårbyg (1): {C_kulstofbalance}\");"
   ]
  },
  {
   "cell_type": "code",
   "execution_count": 4,
   "metadata": {
    "dotnet_interactive": {
     "language": "csharp"
    },
    "polyglot_notebook": {
     "kernelName": "csharp"
    },
    "vscode": {
     "languageId": "polyglot-notebook"
    }
   },
   "outputs": [
    {
     "name": "stdout",
     "output_type": "stream",
     "text": [
      "C i afgrøderester: 785,106 kg C/ha\n",
      "C i organisk materiale: 56 kg C/ha\n",
      "Kulstofbalance for kløvergræs (945): 841,106\n"
     ]
    }
   ],
   "source": [
    "// Input - Test andre scenarier, ved at ændre i input-værdierne herunder\n",
    "double A_over = 390.59999999999997;\n",
    "double A_under = 1354.08;\n",
    "double N_hus = 7.0;\n",
    "double A = 1.0;\n",
    "\n",
    "// Beregning\n",
    "double C_afgroderest = (A_over + A_under) * C_frak;\n",
    "double C_organisk = N_hus * f_hus;\n",
    "double C_kulstofbalance = (C_afgroderest + C_organisk) * A;\n",
    "\n",
    "Console.WriteLine($\"C i afgrøderester: {C_afgroderest} kg C/ha\");\n",
    "Console.WriteLine($\"C i organisk materiale: {C_organisk} kg C/ha\");\n",
    "Console.WriteLine($\"Kulstofbalance for kløvergræs (945): {C_kulstofbalance}\");"
   ]
  }
 ],
 "metadata": {
  "kernelspec": {
   "display_name": ".NET (C#)",
   "language": "C#",
   "name": ".net-csharp"
  },
  "polyglot_notebook": {
   "kernelInfo": {
    "defaultKernelName": "csharp",
    "items": [
     {
      "aliases": [
       "c#",
       "C#"
      ],
      "languageName": "C#",
      "name": "csharp"
     },
     {
      "aliases": [
       "frontend"
      ],
      "languageName": null,
      "name": "vscode"
     },
     {
      "aliases": [],
      "languageName": null,
      "name": ".NET"
     },
     {
      "aliases": [
       "f#",
       "F#"
      ],
      "languageName": "F#",
      "name": "fsharp"
     },
     {
      "aliases": [],
      "languageName": "HTML",
      "name": "html"
     },
     {
      "aliases": [],
      "languageName": "KQL",
      "name": "kql"
     },
     {
      "aliases": [],
      "languageName": "Mermaid",
      "name": "mermaid"
     },
     {
      "aliases": [
       "powershell"
      ],
      "languageName": "PowerShell",
      "name": "pwsh"
     },
     {
      "aliases": [],
      "languageName": "SQL",
      "name": "sql"
     },
     {
      "aliases": [],
      "name": "value"
     },
     {
      "aliases": [
       "js"
      ],
      "languageName": "JavaScript",
      "name": "javascript"
     },
     {
      "aliases": [],
      "name": "webview"
     }
    ]
   }
  }
 },
 "nbformat": 4,
 "nbformat_minor": 2
}
