{
 "cells": [
  {
   "attachments": {},
   "cell_type": "markdown",
   "metadata": {},
   "source": [
    "# **Dødelighed for høns**\n",
    "\n",
    "## **Indledning**\n",
    "\n",
    "Antallet af udsatte høner i slutningen af et holds produktionsperiode benyttes til at fordele aftrykket fra diverse udledningskilder, samt til at udregne antallet af årshøner.\n",
    "\n",
    "### **Beregning af antal udsatte høner** \n",
    "\n",
    "$$A = A_{hønnike} - D \\cdot A_{hønnike}$$\n",
    "\n",
    "Hvor:\n",
    "\n",
    "* A<sub>hønnike</sub>: antallet af indsatte hønniker på holdet = input fra bruger [stk]\n",
    "* D: Dødelighedsprocenten på holdet = input fra bruger [%]\n",
    "\n"
   ]
  }
 ],
 "metadata": {
  "kernelspec": {
   "display_name": ".NET (C#)",
   "language": "C#",
   "name": ".net-csharp"
  },
  "language_info": {
   "name": "polyglot-notebook"
  },
  "polyglot_notebook": {
   "kernelInfo": {
    "defaultKernelName": "csharp",
    "items": [
     {
      "aliases": [],
      "name": ".NET"
     },
     {
      "aliases": [
       "C#",
       "c#"
      ],
      "languageName": "C#",
      "name": "csharp"
     },
     {
      "aliases": [
       "F#",
       "f#"
      ],
      "languageName": "F#",
      "name": "fsharp"
     },
     {
      "aliases": [],
      "languageName": "HTML",
      "name": "html"
     },
     {
      "aliases": [],
      "languageName": "KQL",
      "name": "kql"
     },
     {
      "aliases": [],
      "languageName": "Mermaid",
      "name": "mermaid"
     },
     {
      "aliases": [
       "powershell"
      ],
      "languageName": "PowerShell",
      "name": "pwsh"
     },
     {
      "aliases": [],
      "languageName": "SQL",
      "name": "sql"
     },
     {
      "aliases": [],
      "name": "value"
     },
     {
      "aliases": [
       "frontend"
      ],
      "name": "vscode"
     }
    ]
   }
  }
 },
 "nbformat": 4,
 "nbformat_minor": 2
}
