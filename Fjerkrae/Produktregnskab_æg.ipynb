{
 "cells": [
  {
   "attachments": {},
   "cell_type": "markdown",
   "metadata": {},
   "source": [
    "# **Produkt- og bedriftsregnskab for æg**\n",
    "\n",
    "## **Intro**\n",
    "Klimaaftrykket for æg findes ved at summere alle slagtehønens udledninger, fratrække slagtehønens bidrag og fordele det resterende CO2 på mængden af æg.\n",
    "\n",
    "Se Fig 1 for et grafisk overblik over hvilke emissionskilder, der indgår i beregningen af et ægs produktaftryk.\n",
    "\n",
    "## **Beregning af æggets produktaftryk**\n",
    "Af fig. 1 ses hvordan produktaftrykket udregnes for et givent hold. Generelt kan produktaftrykket, P, for et hold, h, skrives som:\n",
    "\n",
    "$$P_h = \\frac{CO_2e_{tot} - CO_2e_{slagt}}{M_{æg}}$$\n",
    "\n",
    "Hvor: \n",
    "* CO<sub>2</sub>e<sub>tot</sub>: den totale mængde CO2e fra én årshøne inkl. æg [kg]:\n",
    "$$CO_2e_{tot} = \\sum_{i=1}^{n}CO_2e_{i}$$\n",
    "\n",
    "* n: antallet af emissionskilder inkluderet i beregningen \n",
    "* CO<sub>2</sub>e<sub>i</sub>: CO<sub>2</sub>e udledningen fra den i'te emissionskilde [kg]\n",
    "\n",
    "Beregningerne af de enkelte emissionskilder findes i:\n",
    "\n",
    "1. [El](https://github.com/segesdk/ESGT_formler/blob/main/Fjerkrae/El.ipynb)\n",
    "2. [Enterisk metan](https://github.com/segesdk/ESGT_formler/blob/main/Fjerkrae/Enterisk_metan.ipynb)\n",
    "3. [Foder](https://github.com/segesdk/ESGT_formler/blob/main/Fjerkrae/Foder.ipynb)\n",
    "4. [Indkøb af hønniker](https://github.com/segesdk/ESGT_formler/blob/main/Fjerkrae/Indk%C3%B8b_af_dyr.ipynb)\n",
    "5. [Udledning fra lageret](https://github.com/segesdk/ESGT_formler/blob/main/Fjerkrae/Lager.ipynb)\n",
    "6. [Udledning fra stalden](https://github.com/segesdk/ESGT_formler/blob/main/Fjerkrae/Stald.ipynb)\n",
    "7. [Strøelse](https://github.com/segesdk/ESGT_formler/blob/main/Fjerkrae/Str%C3%B8else.ipynb)\n",
    "8. [Varme](https://github.com/segesdk/ESGT_formler/blob/main/Fjerkrae/Varme.ipynb)\n",
    "\n",
    "* CO<sub>2</sub>e<sub>slagt</sub>: CO<sub>2</sub>e udledningen fra en slagtehøne [kg] = beregnes i [Slagtehøns](https://github.com/segesdk/ESGT_formler/blob/main/Fjerkrae/H%C3%B8ns_til_slagtning.ipynb)\n",
    "* M<sub>æg</sub>: mængden af æg produceret pr årshøne [kg]:\n",
    "$$M_{æg} = \\frac{A_{æg} \\cdot \\frac{V_{æg}}{1000}}{A_{høns}}$$\n",
    "* A<sub>æg</sub>: antal æg produceret på holdet i alt = input fra bruger [stk]\n",
    "* V<sub>æg</sub>: gns. vægt for et æg = input fra bruger [g]\n",
    "* A<sub>høns</sub>: antal høns i alt på holdet = input fra bruger [stk]\n",
    "\n",
    "---\n",
    "Fig 1: _Emissionskilder og beregningsrækkefølge for æggets produktaftryk_. Klik [HER](https://viewer.diagrams.net/?tags=%7B%7D&highlight=0000ff&edit=_blank&layers=1&nav=1&title=Untitled%20Diagram.drawio#R7V1bs5s2EP4tffBM%2B%2BAMd9uPPpc006bTTDOdJo8yyJgYIyrL59j99V0hcTWckMRYJtF5OIbdlRBafSvpgx0m9v3u%2BCtF6eYPEuB4YhnBcWI%2FTCzLMjwPfrjkJCS2s5gJSUijQMjMUvA%2B%2Bg9LoSGlhyjA%2B5ohIyRmUVoX%2BiRJsM9qMkQpea6brUlcv2qKQnwmeO%2Bj%2BFz6TxSwjZDOrVkpf4OjcJNf2fQWQrNDubG8k%2F0GBeS5IrIfJ%2FY9JYSJo93xHse89%2FJ%2BEeVed2iLhlGcsD4Fwt%2BP2%2BMyTP9km992%2B%2BW7bTx9PZW1PKH4IG94Ynkx1He3JlAttJqdZFd4%2Fx5IrpjuM0ctwcC2U%2FD2XamHo5D%2F3r%2F5C9QL%2FpfXCY0T1QoL2S%2FFFSxKDkmAeXtNUD9vIobfp8jn2mcYXyDbsF0s1SiOwgSOfbh%2FTIvqnjBl%2BNjZR2bR8zBmMdlhRk9gIgssjFeuKCPH69QyZ9J%2Fz6X7TXO2yA03Fe970hTJQRcWFyj9AgfSNV%2FgJuub3WQ6HW7axyhkeHuK4ygJs5oQQAQKDOI0XpMEuW0P5sSGC415iwtzt1b9B00axn%2F29%2Bq%2FdRTH9yQmNKvLDhCer33eKkbJFlc0nj%2FHq%2FWP43FHe%2FwH87g7nMc3k3t7cjdP9lipr80VMrHV5mvD8B6Xr2UNFfk6%2B2sbA9z7ESyzllKxIoyR3TUHhzm%2F5ujwzjyDA1hoylNC2YaEJEHxYym9K31nwFlp85aQVHrsE2bsJF2GDozU%2FYmPEftQOf7Iq4KFizh7OMqas5NTfpLA7X6onlRK8dOyWHaWlxP3x2%2FqZa9BH5AD9fELfSXX1gzRELOXVkV2%2BzCgOEYseqo35OIenQ2Hd76JGkcoHxbGzcU4QNZVHOXnGse9cbwYBY4XA%2BI4wTSMeBdEcXYJusOgQzsOzGS1T4WtRvo50mczSzHScwZqkCW8WMYpGAnXYU3MRRtrcl33fTu11ek%2B2IBB33W5S4j3KUpaL%2BILtPEL0HCFfoZOgTs0Gj%2B%2FZFUZWYvWaBfFJ1FkRxKyF94u9GWLjY4GTyy3SdK60JdcmhGQxVnet27WuyB54MecWXR5%2F7ngks%2FZmoVtPoS%2BqhqrrEa4sNDwf7yPQSBd6eb9nNuI%2B88NRAfB2TIzzdzKdXXL7CwUx40ttltsst1s61VeP7uXvBF56bLl9VYVyOUCMzOtoJcLM%2FxyeYbg0qxAMRdxyNSuIsHbxwOFquj8Es4uB3RhOSudZZxKMURmu6IR8C6rr5aSMC%2BUWbulDuBeyMNKC5qDIzstRkhVWB%2B30u5sgBcQFXAcc0S1Z6ojqqXXvr3XvqY9isWvOSAzvSY0EMTVJxzvsV7otuPacFTj2tG47o9rdxy4HpCNXsP8SvlSFFp2gN%2Fg7d%2F3GtztfNXMVA3u0RDPlwTpOBhks5tC7tw99gVplARbMfmuGEy9r%2BF8jxg%2FNPKnSUm0re1ih1sijxC49lw1cNUwzTcww46DNjYH5I1zelBPqbfILBYv9N38lHoDaC5e2rxtNOcVa7Z4otlizRZrtlgvhYsJVznx7La9THn9GfiSs2Jfdti1lM6K3exw2jpbQQDE03xMZNkBHOEdk8yFdrrFy5GT%2FD2LLB4nWSzuQLQQr2hTAobpVXDv%2B9jNXow8w73t2Qs74Linvqxg0ScK7KIgiPFlooCdv%2FtQ7oe9llW32xIEnMFSINSw1Dewgh4H42wNyDgDSATI9XOkzml6Zi9U74uVUs3lXvhjRTM41dx7JleMzvlw6CyzEzZEJCcsVWDUMFwDt06phmE%2B3N1%2FEUa78hgugt06ci3DOp9bXe%2BqyF2oRO7IGC3b6Il4x1OJ%2BLyZOj9hqEl4Zt5igoJtnjlBY7mzs6xxYNkaEMs6R%2BGr0a4%2BScEe8P297ytJoc1%2F6p8l2gPmievnTvq5k37upJ87XTekKn9aZLt6Adx%2FAeyNYwHsDTdN6jSFfsBWnqeQRxYN7D7Ano8D2APy0jpP4Qt4K%2BWJCvZoOOgLotQZB5fsdHPJOlFBNXKVZyo4ahhn9XOsMw72OG%2BmzlS49pJZOb3o2GOZVG8Bzs444KwpY00Za8pYU8Z6MXyD7LPbltN9%2FSn4ktNiX4rYVTstdlPEOlfhO85VWOQvut1QroKjhqm%2BgSX0OFhnZ0DWWecq9HlxSnmygqOUblaUrNB7KlcLT3fAZPzzZAUlbzf2SFa4iU8pzJqZgDeQreB285nnq6SebEWTrOhiKd7g%2BAnz3m5lKYpRJxXiolyTELpDcUX3hGiE4Bd8htiB8k%2BcvWjno7TL5LmyhnUMETKMGOIQplPOqPDF5VlJQtMNSmSVlpDBMGFTObyWWR1rVtFEMPoTVudjhIZRqGoNtefXSSSLA2Mk%2BwJb5SLPhAb1ZhV1wZ2sthFUx%2BsUwJjKUVazy6A3lWRR88aywgH2CYVIRZIp20T%2BNsF72YooiVjUZVtx2It2lbFTs1vHBLFmHwTRPo3RKTfn2w44%2BCnapTCBoIS1hql3lASHLUNrAMx20nyGbaT0Ffzf8q%2F%2F8Hi29MJsMNBJ%2BdCsPRurbWsRRE%2B9dhs1u%2BbcGcdRusefj4ton4rP9K2jI4%2BlzcCIzcDFs7bAuPBmNvL4xg2tcHyH%2FG2YReTcRPa40MIgw7ShuUA4dI3mZmNhtiR8tG02CuHl42H3zlfHQx0PdTzU8XCoeGia1lUD4kTS46WuQozbj%2F8D) for at se billedet i fuld opløsning\n",
    "\n",
    "![Produktaftryk for æg](Produktaftryk_aeg.PNG)\n"
   ]
  }
 ],
 "metadata": {
  "kernelspec": {
   "display_name": ".NET (C#)",
   "language": "C#",
   "name": ".net-csharp"
  },
  "language_info": {
   "name": "python",
   "version": "3.10.9"
  },
  "orig_nbformat": 4,
  "polyglot_notebook": {
   "kernelInfo": {
    "defaultKernelName": "csharp",
    "items": [
     {
      "aliases": [],
      "name": "csharp"
     }
    ]
   }
  },
  "vscode": {
   "interpreter": {
    "hash": "26de051ba29f2982a8de78e945f0abaf191376122a1563185a90213a26c5da77"
   }
  }
 },
 "nbformat": 4,
 "nbformat_minor": 2
}
