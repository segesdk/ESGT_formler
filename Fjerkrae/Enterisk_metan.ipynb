{
 "cells": [
  {
   "cell_type": "markdown",
   "metadata": {},
   "source": [
    "# **Enterisk metan på fjerkræ**\n",
    "\n",
    "### **Beregning af CH<sub>4</sub> fra fordøjelsen** \n",
    "\n",
    "$$CH_{4_{enterisk}} = \\frac{E_{CH_4} \\cdot A}{\\lambda_{fjer}} $$\n",
    "\n",
    "Hvor:\n",
    "* E<sub>CH<sub>4</sub></sub>: typetal for den enteriske metan udledning pr dyre/staldtype = [Tabelværdi](https://seges.sharepoint.com/:x:/s/GreenAction/ESKC8rIvb2JMshs9ouF1fsYBHGGv4XqMEDLaMGvPhidEfA?e=JxA3xP) (kolonne BA)\n",
    "* A : Antal dyr opstaldet på staldtypen = input fra bruger\n",
    "* $\\lambda$<sub>fjer</sub>: typetal = 1000.0 for slagtekyllinger og 100.0 for hønniker/høns. (Dette skyldes at emissioner i regnearket er angivet pr. 1000 slagtekyllinger, pr. 100 høns og pr. 100 hønniker)\n",
    "\n",
    "### **Omregning til CO<sub>2</sub>e**\n",
    "\n",
    "$$CO_2e = CH_{4_{enterisk}} \\cdot \\theta_{CH_4-CO_2} $$\n",
    "\n",
    "Hvor: \n",
    "\n",
    "* $\\theta$<sub>CH<sub>4</sub>-CO<sub>2</sub></sub>: Omregningsfaktor CH<sub>4</sub> til CO<sub>2</sub> = 25.0\n",
    "\n",
    "\n",
    "----\n",
    "\n",
    " ## **Testcases**"
   ]
  },
  {
   "cell_type": "code",
   "execution_count": 10,
   "metadata": {
    "dotnet_interactive": {
     "language": "csharp"
    },
    "vscode": {
     "languageId": "dotnet-interactive.csharp"
    }
   },
   "outputs": [],
   "source": [
    "// konstanter - nix pille\n",
    "double lambda_slagt = 1000.0;\n",
    "double lambda_hons = 100.0;"
   ]
  },
  {
   "cell_type": "markdown",
   "metadata": {},
   "source": [
    "**Slagtekyllinger** - Tilvækstkategori 1. Produktionstid 30 dage (levende vægt ved slagtning 1,75 kg)\n"
   ]
  },
  {
   "cell_type": "code",
   "execution_count": 14,
   "metadata": {
    "dotnet_interactive": {
     "language": "csharp"
    },
    "vscode": {
     "languageId": "dotnet-interactive.csharp"
    }
   },
   "outputs": [
    {
     "name": "stdout",
     "output_type": "stream",
     "text": [
      "Enterisk metan: 1,77735\r\n",
      "Omregnet til CO2e: 8,323076142857143 kg CO2e\r\n"
     ]
    }
   ],
   "source": [
    "double E_CH4 = 1.77735;\n",
    "double A_slagt = 1000.0;\n",
    "\n",
    "double CH4_enterisk = E_CH4 * A_slagt / lambda_slagt;\n",
    "Console.WriteLine($\"Enterisk metan: {CH4_enterisk}\");\n",
    "Console.WriteLine($\"Omregnet til CO2e: {CH4_enterisk * 0.01 * 44/28 * 298} kg CO2e\");"
   ]
  },
  {
   "cell_type": "markdown",
   "metadata": {},
   "source": [
    "**Høns** - Friland, konsumæg, gulvdrift+gødningskummer\n"
   ]
  },
  {
   "cell_type": "code",
   "execution_count": 15,
   "metadata": {
    "dotnet_interactive": {
     "language": "csharp"
    },
    "vscode": {
     "languageId": "dotnet-interactive.csharp"
    }
   },
   "outputs": [
    {
     "name": "stdout",
     "output_type": "stream",
     "text": [
      "Enterisk metan: 2,286553125\r\n",
      "Omregnet til CO2e: 10,707601633928572 kg CO2e\r\n"
     ]
    }
   ],
   "source": [
    "double E_CH4 = 2.286553125;\n",
    "double A_hons = 100.0;\n",
    "\n",
    "double CH4_enterisk = E_CH4 * A_hons / lambda_hons;\n",
    "Console.WriteLine($\"Enterisk metan: {CH4_enterisk}\");\n",
    "Console.WriteLine($\"Omregnet til CO2e: {CH4_enterisk * 0.01 * 44/28 * 298} kg CO2e\");"
   ]
  },
  {
   "cell_type": "markdown",
   "metadata": {},
   "source": [
    "**Hønniker** - Konsum, gulvdrift, produktionstid 119 dage\n"
   ]
  },
  {
   "cell_type": "code",
   "execution_count": 16,
   "metadata": {
    "dotnet_interactive": {
     "language": "csharp"
    },
    "vscode": {
     "languageId": "dotnet-interactive.csharp"
    }
   },
   "outputs": [
    {
     "name": "stdout",
     "output_type": "stream",
     "text": [
      "Enterisk metan: 0,3478625\r\n",
      "Omregnet til CO2e: 1,628990392857143 kg CO2e\r\n"
     ]
    }
   ],
   "source": [
    "double E_CH4 = 0.3478625;\n",
    "double A_honniker = 100.0;\n",
    "\n",
    "double CH4_enterisk = E_CH4 * A_honniker / lambda_hons;\n",
    "Console.WriteLine($\"Enterisk metan: {CH4_enterisk}\");\n",
    "Console.WriteLine($\"Omregnet til CO2e: {CH4_enterisk * 0.01 * 44/28 * 298} kg CO2e\");"
   ]
  }
 ],
 "metadata": {
  "kernelspec": {
   "display_name": ".NET (C#)",
   "language": "C#",
   "name": ".net-csharp"
  },
  "language_info": {
   "file_extension": ".cs",
   "mimetype": "text/x-csharp",
   "name": "C#",
   "pygments_lexer": "csharp",
   "version": "9.0"
  },
  "orig_nbformat": 4,
  "vscode": {
   "interpreter": {
    "hash": "26de051ba29f2982a8de78e945f0abaf191376122a1563185a90213a26c5da77"
   }
  }
 },
 "nbformat": 4,
 "nbformat_minor": 2
}
