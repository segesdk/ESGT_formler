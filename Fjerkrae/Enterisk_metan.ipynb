{
 "cells": [
  {
   "attachments": {},
   "cell_type": "markdown",
   "metadata": {},
   "source": [
    "# **Enterisk metan på fjerkræ**\n",
    "\n",
    "### **Beregning af CH<sub>4</sub> fra fordøjelsen** \n",
    "\n",
    "$$CH_{4_{enterisk}} = \\frac{E_{CH_4}}{\\lambda_{fjer}} $$\n",
    "\n",
    "Hvor:\n",
    "* E<sub>CH<sub>4</sub></sub>: typetal for den enteriske metan udledning pr dyre/staldtype = [Tabelværdi](https://seges.sharepoint.com/:x:/r/sites/GreenAction/_layouts/15/Doc.aspx?sourcedoc=%7B6f7ea27f-56d0-4e93-958d-813e05fc9ee0%7D&activeCell=%27Endelig%27!BH1&action=embedview) (kolonne BH)\n",
    "* $\\lambda$<sub>fjer</sub>: typetal = 1000.0 for slagtekyllinger og 100.0 for hønniker/høns. (Dette skyldes at emissioner i regnearket er angivet pr. 1000 slagtekyllinger, pr. 100 høns og pr. 100 hønniker)\n",
    "\n",
    "### **Omregning til CO<sub>2</sub>e**\n",
    "\n",
    "$$CO_2e = CH_{4_{enterisk}} \\cdot \\theta_{CH_4-CO_2} $$\n",
    "\n",
    "Hvor: \n",
    "\n",
    "* $\\theta$<sub>CH<sub>4</sub>-CO<sub>2</sub></sub>: Omregningsfaktor CH<sub>4</sub> til CO<sub>2</sub> = 25.0\n",
    "\n",
    "\n",
    "----\n",
    "\n",
    " ## **Testcases**"
   ]
  },
  {
   "cell_type": "code",
   "execution_count": null,
   "metadata": {
    "dotnet_interactive": {
     "language": "csharp"
    }
   },
   "outputs": [],
   "source": [
    "// konstanter - nix pille\n",
    "double lambda_slagt = 1000.0;\n",
    "double lambda_hons = 100.0;"
   ]
  },
  {
   "attachments": {},
   "cell_type": "markdown",
   "metadata": {},
   "source": [
    "**Slagtekyllinger** - Tilvækstkategori 1. Produktionstid 30 dage (levende vægt ved slagtning 1,75 kg)\n"
   ]
  },
  {
   "cell_type": "code",
   "execution_count": null,
   "metadata": {
    "dotnet_interactive": {
     "language": "csharp"
    }
   },
   "outputs": [],
   "source": [
    "double E_CH4 = 1.77735;\n",
    "double A_slagt = 1000.0;\n",
    "\n",
    "double CH4_enterisk = E_CH4 * A_slagt / lambda_slagt;\n",
    "Console.WriteLine($\"Enterisk metan: {CH4_enterisk}\");\n",
    "Console.WriteLine($\"Omregnet til CO2e: {CH4_enterisk * 0.01 * 44/28 * 298} kg CO2e\");"
   ]
  },
  {
   "attachments": {},
   "cell_type": "markdown",
   "metadata": {},
   "source": [
    "**Høns** - Friland, konsumæg, gulvdrift+gødningskummer\n"
   ]
  },
  {
   "cell_type": "code",
   "execution_count": null,
   "metadata": {
    "dotnet_interactive": {
     "language": "csharp"
    }
   },
   "outputs": [],
   "source": [
    "double E_CH4 = 2.286553125;\n",
    "double A_hons = 100.0;\n",
    "\n",
    "double CH4_enterisk = E_CH4 * A_hons / lambda_hons;\n",
    "Console.WriteLine($\"Enterisk metan: {CH4_enterisk}\");\n",
    "Console.WriteLine($\"Omregnet til CO2e: {CH4_enterisk * 0.01 * 44/28 * 298} kg CO2e\");"
   ]
  },
  {
   "attachments": {},
   "cell_type": "markdown",
   "metadata": {},
   "source": [
    "**Hønniker** - Konsum, gulvdrift, produktionstid 119 dage\n"
   ]
  },
  {
   "cell_type": "code",
   "execution_count": null,
   "metadata": {
    "dotnet_interactive": {
     "language": "csharp"
    }
   },
   "outputs": [],
   "source": [
    "double E_CH4 = 0.3478625;\n",
    "double A_honniker = 100.0;\n",
    "\n",
    "double CH4_enterisk = E_CH4 * A_honniker / lambda_hons;\n",
    "Console.WriteLine($\"Enterisk metan: {CH4_enterisk}\");\n",
    "Console.WriteLine($\"Omregnet til CO2e: {CH4_enterisk * 0.01 * 44/28 * 298} kg CO2e\");"
   ]
  }
 ],
 "metadata": {
  "kernelspec": {
   "display_name": ".NET (C#)",
   "language": "C#",
   "name": ".net-csharp"
  },
  "language_info": {
   "name": "polyglot-notebook"
  },
  "polyglot_notebook": {
   "kernelInfo": {
    "defaultKernelName": "csharp",
    "items": [
     {
      "aliases": [],
      "name": ".NET"
     },
     {
      "aliases": [
       "C#",
       "c#"
      ],
      "languageName": "C#",
      "name": "csharp"
     },
     {
      "aliases": [
       "F#",
       "f#"
      ],
      "languageName": "F#",
      "name": "fsharp"
     },
     {
      "aliases": [],
      "languageName": "HTML",
      "name": "html"
     },
     {
      "aliases": [
       "js"
      ],
      "languageName": "JavaScript",
      "name": "javascript"
     },
     {
      "aliases": [],
      "languageName": "KQL",
      "name": "kql"
     },
     {
      "aliases": [],
      "languageName": "Mermaid",
      "name": "mermaid"
     },
     {
      "aliases": [
       "powershell"
      ],
      "languageName": "PowerShell",
      "name": "pwsh"
     },
     {
      "aliases": [],
      "languageName": "SQL",
      "name": "sql"
     },
     {
      "aliases": [],
      "name": "value"
     },
     {
      "aliases": [
       "frontend"
      ],
      "name": "vscode"
     },
     {
      "aliases": [],
      "name": "webview"
     }
    ]
   }
  }
 },
 "nbformat": 4,
 "nbformat_minor": 2
}
