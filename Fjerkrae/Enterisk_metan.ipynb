{
 "cells": [
  {
   "cell_type": "markdown",
   "metadata": {},
   "source": [
    "# **Enterisk metan på fjerkræ**\n",
    "\n",
    "### **Beregning af CH<sub>4</sub> fra fordøjelsen** \n",
    "\n",
    "$$CH_{4_{enterisk}} = E \\cdot A $$\n",
    "\n",
    "Hvor:\n",
    "* E: typetal for metan udledning pr dyre/staldtype = [Tabelværdi](https://seges.sharepoint.com/:x:/s/GreenAction/ESKC8rIvb2JMshs9ouF1fsYBHGGv4XqMEDLaMGvPhidEfA?e=JxA3xP) (kolonne BA)\n",
    "* A : Antal dyr opstaldet på staldtypen = input fra bruger (Hvis det er høns eller hønniker, skal tallet fra brugerfladen divideres med 100. Hvis det er slagtekyllinger, skal der divideres med 1000. Dette skyldes at emissioner for metan i regnearket er angivet pr. 1000 slagtekyllinger, pr. 100 høns og pr. 100 hønniker)\n",
    "\n",
    "### **Omregning til CO<sub>2</sub>e**\n",
    "\n",
    "$$CO_2e = CH_{4_{enterisk}} \\cdot \\theta_{CH_4-CO_2} $$\n",
    "\n",
    "Hvor: \n",
    "\n",
    "* $\\theta$<sub>CH<sub>4</sub>-CO<sub>2</sub></sub>: Omregningsfaktor CH<sub>4</sub> til CO<sub>2</sub> = 25.0\n",
    "\n",
    "\n",
    "----\n",
    "\n",
    " ## **Testcases**"
   ]
  }
 ],
 "metadata": {
  "kernelspec": {
   "display_name": "Python 3.10.8 64-bit",
   "language": "python",
   "name": "python3"
  },
  "language_info": {
   "name": "python",
   "version": "3.10.8"
  },
  "orig_nbformat": 4,
  "vscode": {
   "interpreter": {
    "hash": "26de051ba29f2982a8de78e945f0abaf191376122a1563185a90213a26c5da77"
   }
  }
 },
 "nbformat": 4,
 "nbformat_minor": 2
}
