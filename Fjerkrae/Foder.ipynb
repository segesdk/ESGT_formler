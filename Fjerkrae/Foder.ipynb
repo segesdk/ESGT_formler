{
 "cells": [
  {
   "attachments": {},
   "cell_type": "markdown",
   "metadata": {},
   "source": [
    "# **Foder til fjerkræ**\n",
    "\n",
    "### **Beregning af CO<sub>2</sub> fra foder, afhænger af dyretypen** \n",
    "\n",
    "> Slagtekyllinger\n",
    "\n",
    "$$CO_2e_{slagtekyllingefoder} = F_{fuld} + F_{tilskud} + F_{indkøb} - F_{hjemme} $$\n",
    "\n",
    "Hvor CO<sub>2</sub>e mængden fra fodertyperne, F, m/u dLUC beregnes:\n",
    "\n",
    "$$F_{fuld} = T_{total} \\cdot A_{fuld} \\cdot CO_2e_{fuld}$$\n",
    "$$F_{tilskud} = T_{total} \\cdot A_{tilskud} \\cdot CO_2e_{tilskud}$$\n",
    "$$F_{indkøb} = T_{total} \\cdot A_{hvede}\\cdot A_{indkøb} \\cdot CO_2e_{indkøb}$$\n",
    "$$F_{hjemme} = (T_{total} \\cdot A_{hvede} -T_{total} \\cdot A_{hvede}\\cdot A_{indkøb}) \\cdot CO_2e_{hjemme}$$\n",
    "\n",
    "Hvor:\n",
    "\n",
    "* T<sub>X</sub>: Den tildelte mængde af fodertype X = standard eller input fra bruger [kg]\n",
    "* A<sub>X</sub> : Andelen af fodertype X = standard eller input fra bruger [%] OBS på at A<sub>X</sub> for alle fodertyper skal summere til 100%\n",
    "* CO<sub>2</sub>e<sub>X</sub>: Mængden af CO<sub>2</sub>e i fodertype X m/u dLUC = standard eller input fra bruger [kg]\n",
    "\n",
    "OBS: *\"fuld\" = fuldfoder, \"tilskud\" = tilskudsfoder, \"hvede\" = hel hvede, \"indkøb\" = indkøbt hel hvede, \"hjemme\" = hjemmeavlet hel hvede, \"total\" = den totale mængde tildelt foder*\n",
    "\n",
    "> Hønniker\n",
    "\n",
    "$$CO_2e_{opdrætsfoder} = F_{fuld} + F_{tilskud} + F_{indkøb} - F_{hjemme} $$\n",
    "\n",
    "Hvor CO<sub>2</sub>e mængden fra fodertyperne, F, m/u dLUC beregnes:\n",
    "\n",
    "$$F_{fuld} = T_{total} \\cdot A_{fuld} \\cdot CO_2e_{fuld}$$\n",
    "$$F_{tilskud} = T_{total} \\cdot A_{tilskud} \\cdot CO_2e_{tilskud}$$\n",
    "$$F_{indkøb} = T_{total} \\cdot A_{rå}\\cdot A_{indkøb} \\cdot CO_2e_{indkøb}$$\n",
    "$$F_{hjemme} = (T_{total} \\cdot A_{rå} - T_{total} \\cdot A_{rå}\\cdot A_{inkøb}) \\cdot CO_2e_{hjemme}$$\n",
    "\n",
    "Hvor:\n",
    "\n",
    "* T<sub>X</sub>: Den tildelte mængde af fodertype X = standard eller input fra bruger [kg]\n",
    "* A<sub>X</sub> : Andelen af fodertype X = standard eller input fra bruger [%] OBS på at A<sub>X</sub> for alle fodertyper skal summere til 100%\n",
    "* CO<sub>2</sub>e<sub>X</sub>: Mængden af CO<sub>2</sub>e i fodertype X m/u dLUC = standard eller input fra bruger [kg]\n",
    "\n",
    "OBS: *\"fuld\" = fuldfoder, \"tilskud\" = tilskudsfoder, \"rå\" = råvarer, \"indkøb\" = indkøbte råvarer, \"hjemme\" = hjemmeavlede råvarer, \"total\" = den totale mængde tildelt foder*\n",
    "\n",
    "> Høns\n",
    "\n",
    "$$CO_2e_{æglæggerfoder} = F_{fuld} + F_{tilskud} + F_{skaller} + F_{indkøb} - F_{hjemme} $$\n",
    "\n",
    "Hvor CO<sub>2</sub>e mængden fra fodertyperne, F, m/u dLUC beregnes:\n",
    "\n",
    "$$F_{fuld} = T_{total} \\cdot A_{fuld} \\cdot CO_2e_{fuld}$$\n",
    "$$F_{tilskud} = T_{total} \\cdot A_{tilskud} \\cdot CO_2e_{tilskud}$$\n",
    "$$F_{skaller} = T_{total} \\cdot A_{skaller} \\cdot CO_2e_{skaller}$$\n",
    "$$F_{indkøb} = T_{total} \\cdot A_{rå}\\cdot A_{indkøb} \\cdot CO_2e_{indkøb}$$\n",
    "$$F_{hjemme} = (T_{total} \\cdot A_{rå} -T_{total} \\cdot A_{rå}\\cdot A_{indkøb}) \\cdot CO_2e_{hjemme}$$\n",
    "\n",
    "Hvor:\n",
    "\n",
    "* T<sub>X</sub>: Den tildelte mængde af fodertype X = standard eller input fra bruger [kg]\n",
    "* A<sub>X</sub> : Andelen af fodertype X = standard eller input fra bruger [%]. OBS på at A<sub>X</sub> for alle fodertyper skal summere til 100%\n",
    "* CO<sub>2</sub>e<sub>X</sub>: Mængden af CO<sub>2</sub>e i fodertype X m/u dLUC = standard eller input fra bruger [kg]\n",
    "\n",
    "OBS: *\"fuld\" = fuldfoder, \"tilskud\" = tilskudsfoder, \"skaller\" = æggeskaller, \"rå\" = råvarer, \"indkøb\" = indkøbte råvarer, \"hjemme\" = hjemmeavlede råvarer, \"total\" = den totale mængde tildelt foder*\n",
    "\n",
    "----\n",
    "\n",
    " ## **Testcases**"
   ]
  },
  {
   "cell_type": "code",
   "execution_count": 7,
   "metadata": {
    "dotnet_interactive": {
     "language": "csharp"
    },
    "polyglot_notebook": {
     "kernelName": "csharp"
    },
    "vscode": {
     "languageId": "polyglot-notebook"
    }
   },
   "outputs": [],
   "source": [
    "// konstanter - nix pille\n",
    "double CO2e_fuld = 0.6635;\n",
    "double CO2e_tilskud = 0.6605;\n",
    "double CO2e_indkob = 0.4000;\n",
    "double CO2e_hjemme = 0.074;"
   ]
  },
  {
   "attachments": {},
   "cell_type": "markdown",
   "metadata": {},
   "source": [
    "**Slagtekyllinger** - Tilvækstkategori 1. Produktionstid 30 dage (levende vægt ved slagtning 1,75 kg)"
   ]
  },
  {
   "cell_type": "code",
   "execution_count": 8,
   "metadata": {
    "dotnet_interactive": {
     "language": "csharp"
    },
    "polyglot_notebook": {
     "kernelName": "csharp"
    },
    "vscode": {
     "languageId": "polyglot-notebook"
    }
   },
   "outputs": [
    {
     "name": "stdout",
     "output_type": "stream",
     "text": [
      "Slagtekyllingefoder: 1,6480505 kg CO2e\r\n"
     ]
    },
    {
     "data": {
      "text/html": [
       "<div class=\"dni-plaintext\"><pre>&lt;null&gt;</pre></div><style>\r\n",
       ".dni-code-hint {\r\n",
       "    font-style: italic;\r\n",
       "    overflow: hidden;\r\n",
       "    white-space: nowrap;\r\n",
       "}\r\n",
       ".dni-treeview {\r\n",
       "    white-space: nowrap;\r\n",
       "}\r\n",
       ".dni-treeview td {\r\n",
       "    vertical-align: top;\r\n",
       "    text-align: start;\r\n",
       "}\r\n",
       "details.dni-treeview {\r\n",
       "    padding-left: 1em;\r\n",
       "}\r\n",
       "table td {\r\n",
       "    text-align: start;\r\n",
       "}\r\n",
       "table tr { \r\n",
       "    vertical-align: top; \r\n",
       "    margin: 0em 0px;\r\n",
       "}\r\n",
       "table tr td pre \r\n",
       "{ \r\n",
       "    vertical-align: top !important; \r\n",
       "    margin: 0em 0px !important;\r\n",
       "} \r\n",
       "table th {\r\n",
       "    text-align: start;\r\n",
       "}\r\n",
       "</style>"
      ]
     },
     "metadata": {},
     "output_type": "display_data"
    }
   ],
   "source": [
    "// Input - Test andre scenarier, ved at ændre i input-værdierne herunder\n",
    "double T_total = 2.83;\n",
    "double A_fuld = 0.0;\n",
    "double A_tilskud = 0.70;\n",
    "double A_hvede = 0.30;\n",
    "double A_indkob = 1.0;\n",
    "\n",
    "if (A_fuld + A_tilskud + A_hvede != 1.0) {\n",
    "    Console.WriteLine(\"OBS A_fuld + A_tilskud + A_hvede skal give 100%\");\n",
    "    return;\n",
    "}\n",
    "\n",
    "// beregninger\n",
    "\n",
    "double F_fuld = T_total * A_fuld * CO2e_fuld;\n",
    "double F_tilskud = T_total * A_tilskud * CO2e_tilskud;\n",
    "double F_indkob = T_total * A_hvede * A_indkob * CO2e_indkob;\n",
    "double F_hjemme = (T_total * A_hvede - T_total * A_hvede * A_indkob) * CO2e_hjemme;\n",
    "\n",
    "double CO2e_slagtekyllingefoder = F_fuld + F_tilskud + F_indkob - F_hjemme;\n",
    "Console.WriteLine($\"Slagtekyllingefoder: {CO2e_slagtekyllingefoder} kg CO2e\");"
   ]
  }
 ],
 "metadata": {
  "kernelspec": {
   "display_name": "Python 3.10.8 64-bit",
   "language": "python",
   "name": "python3"
  },
  "language_info": {
   "name": "python",
   "version": "3.10.9 (tags/v3.10.9:1dd9be6, Dec  6 2022, 20:01:21) [MSC v.1934 64 bit (AMD64)]"
  },
  "orig_nbformat": 4,
  "vscode": {
   "interpreter": {
    "hash": "26de051ba29f2982a8de78e945f0abaf191376122a1563185a90213a26c5da77"
   }
  }
 },
 "nbformat": 4,
 "nbformat_minor": 2
}
