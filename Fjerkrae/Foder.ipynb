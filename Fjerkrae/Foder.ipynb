{
 "cells": [
  {
   "attachments": {},
   "cell_type": "markdown",
   "metadata": {},
   "source": [
    "# **Foder til fjerkræ**\n",
    "\n",
    "### **Beregning af CO<sub>2</sub> fra foder, afhænger af dyretypen** \n",
    "\n",
    "> Slagtekyllinger\n",
    "\n",
    "$$CO_2e_{slagtekyllingefoder} = F_{fuld} + F_{til} + F_{hvede} + F_{grov}$$\n",
    "\n",
    "Hvor CO<sub>2</sub>e mængden fra fodertyperne, F, m/u dLUC beregnes:\n",
    "\n",
    "$$F_{fuld} = T_{total} \\cdot A_{fuld} \\cdot CO_2e_{fuld}$$\n",
    "$$F_{til} = T_{total} \\cdot A_{til} \\cdot CO_2e_{til}$$\n",
    "$$F_{hvede} = T_{total} \\cdot A_{hvede} \\cdot (100\\% - I_{hvede}) \\cdot CO_2e_{egen} + T_{total} \\cdot A_{hvede} \\cdot I_{hvede} \\cdot CO_2e_{ind}$$\n",
    "$$F_{grov} = T_{total} \\cdot A_{grov} \\cdot CO_2e_{grov}$$\n",
    "\n",
    "Hvor:\n",
    "\n",
    "* T<sub>total</sub>: Den totale mængde foder pr indsat slagtekylling = standard eller input fra bruger [kg]\n",
    "* A<sub>X</sub> : Andelen af fodertype X = standard eller input fra bruger [%] OBS på at A<sub>X</sub> for alle fodertyper skal summere til 100%\n",
    "* I<sub>hvede</sub>: Andelen af indkøbt hel hvede = standard eller input fra bruger [%]\n",
    "* CO<sub>2</sub>e<sub>X</sub>: Mængden af CO<sub>2</sub>e i fodertype X m/u dLUC = standard eller input fra bruger [kg]\n",
    "\n",
    "X: *\"fuld\" = fuldfoder, \"til\" = tilskudsfoder, \"hvede\" = hel hvede, \"egen\" = egenproduceret hel hvede, \"ind\" = indkøbt hel hvede, \"grov\" = grovfoder*\n",
    "\n",
    "> Hønniker\n",
    "\n",
    "Indgår endnu ikke i programmet\n",
    "\n",
    "> Høner\n",
    "\n",
    "$$CO_2e_{æglæggerfoder} = \\frac{F_{fuld} + F_{til} + F_{skal} + F_{korn} + F_{grov}}{A_{høne}}$$\n",
    "\n",
    "Hvor\n",
    "* A<sub>høne</sub>: antal høner producert på holdet i alt = Beregnes i [dødelighed for høns](https://github.com/segesdk/ESGT_formler/blob/main/Fjerkrae/D%C3%B8delighed_for_h%C3%B8ns.ipynb) [stk]\n",
    "* CO<sub>2</sub>e mængden fra fodertyperne, F, m/u dLUC beregnes:\n",
    "\n",
    "$$F_{fuld} = M_{fuld} \\cdot CO_2e_{fuld}$$\n",
    "$$F_{til} = M_{til} \\cdot CO_2e_{til}$$\n",
    "$$F_{skal} = M_{skaller} \\cdot CO_2e_{skaller}$$\n",
    "$$F_{korn} = M_{korn} \\cdot (100\\% - I_{korn}) \\cdot CO_2e_{egen} + M_{rå} \\cdot I_{rå} \\cdot CO_2e_{ind}$$\n",
    "$$F_{grov} = M_{grov} \\cdot CO_2e_{grov}$$\n",
    "\n",
    "Hvor:\n",
    "\n",
    "* M<sub>X</sub>: Mængden af fodertype X = standard eller input fra bruger [kg]\n",
    "* I<sub>rå</sub>: Mængden af indkøbt korn = standard eller input fra bruger [kg]\n",
    "* CO<sub>2</sub>e<sub>X</sub>: Mængden af CO<sub>2</sub>e i fodertype X m/u dLUC = standard eller input fra bruger [kg]\n",
    "\n",
    "X: *\"fuld\" = fuldfoder, \"til\" = tilskudsfoder, \"skal\" = æggeskaller, \"korn\" = korn, \"egen\" = egenproduceret korn, \"ind\" = indkøbte råvarer, \"grov\" = grovfoder*\n",
    "\n",
    "----\n",
    "\n",
    " ## **Testcases**"
   ]
  },
  {
   "attachments": {},
   "cell_type": "markdown",
   "metadata": {},
   "source": [
    "**Slagtekyllinger** - Tilvækstkategori 1. Produktionstid 30 dage (levende vægt ved slagtning 1,75 kg)"
   ]
  },
  {
   "cell_type": "code",
   "execution_count": 3,
   "metadata": {
    "dotnet_interactive": {
     "language": "csharp"
    },
    "polyglot_notebook": {
     "kernelName": "csharp"
    },
    "vscode": {
     "languageId": "polyglot-notebook"
    }
   },
   "outputs": [
    {
     "name": "stdout",
     "output_type": "stream",
     "text": [
      "Fuldfoder: 0 kg CO2e\n",
      "Tilskudsfoder: 1.3870499999999997 kg CO2e\n",
      "Hel hvede: 0.36 kg CO2e\n",
      "Slagtekyllingefoder pr slagtekylling: 1.7470499999999998 kg CO2e\n",
      "Bedrift: 1.7470499999999998 kg CO2e\n"
     ]
    },
    {
     "data": {
      "text/html": [
       "<div class=\"dni-plaintext\"><pre>&lt;null&gt;</pre></div><style>\r\n",
       ".dni-code-hint {\r\n",
       "    font-style: italic;\r\n",
       "    overflow: hidden;\r\n",
       "    white-space: nowrap;\r\n",
       "}\r\n",
       ".dni-treeview {\r\n",
       "    white-space: nowrap;\r\n",
       "}\r\n",
       ".dni-treeview td {\r\n",
       "    vertical-align: top;\r\n",
       "    text-align: start;\r\n",
       "}\r\n",
       "details.dni-treeview {\r\n",
       "    padding-left: 1em;\r\n",
       "}\r\n",
       "table td {\r\n",
       "    text-align: start;\r\n",
       "}\r\n",
       "table tr { \r\n",
       "    vertical-align: top; \r\n",
       "    margin: 0em 0px;\r\n",
       "}\r\n",
       "table tr td pre \r\n",
       "{ \r\n",
       "    vertical-align: top !important; \r\n",
       "    margin: 0em 0px !important;\r\n",
       "} \r\n",
       "table th {\r\n",
       "    text-align: start;\r\n",
       "}\r\n",
       "</style>"
      ]
     },
     "metadata": {},
     "output_type": "display_data"
    }
   ],
   "source": [
    "// Input - Test andre scenarier, ved at ændre i input-værdierne herunder\n",
    "double T_total = 3;\n",
    "double A_fuld = 0.0;\n",
    "double A_til = 0.70;\n",
    "double A_hvede = 0.30;\n",
    "double I_hvede = 1.0;\n",
    "double CO2e_fuld = 0.6635;\n",
    "double CO2e_til = 0.6605;\n",
    "double CO2e_egen = 0.074;\n",
    "double CO2e_ind = 0.4000;\n",
    "\n",
    "if (A_fuld + A_til + A_hvede != 1.0) {\n",
    "    Console.WriteLine(\"OBS A_fuld + A_tilskud + A_hvede skal give 100%\");\n",
    "    return;\n",
    "}\n",
    "\n",
    "// beregninger\n",
    "\n",
    "double F_fuld = T_total * A_fuld * CO2e_fuld;\n",
    "double F_til = T_total * A_til * CO2e_til;\n",
    "double F_hvede = T_total * A_hvede * (1 - I_hvede) * CO2e_egen + T_total * A_hvede * I_hvede * CO2e_ind;\n",
    "\n",
    "double CO2e_slagtekyllingefoder = F_fuld + F_til + F_hvede;\n",
    "Console.WriteLine($\"Fuldfoder: {F_fuld} kg CO2e\");\n",
    "Console.WriteLine($\"Tilskudsfoder: {F_til} kg CO2e\");\n",
    "Console.WriteLine($\"Hel hvede: {F_hvede} kg CO2e\");\n",
    "Console.WriteLine($\"Slagtekyllingefoder pr slagtekylling: {CO2e_slagtekyllingefoder} kg CO2e\");\n",
    "\n",
    "\n",
    "Console.WriteLine($\"Bedrift: {CO2e_slagtekyllingefoder - T_total * A_hvede * (1 - I_hvede) * CO2e_egen} kg CO2e\");"
   ]
  },
  {
   "cell_type": "markdown",
   "metadata": {},
   "source": [
    "**Høns** "
   ]
  },
  {
   "cell_type": "code",
   "execution_count": 16,
   "metadata": {
    "dotnet_interactive": {
     "language": "csharp"
    },
    "polyglot_notebook": {
     "kernelName": "csharp"
    },
    "vscode": {
     "languageId": "polyglot-notebook"
    }
   },
   "outputs": [
    {
     "name": "stdout",
     "output_type": "stream",
     "text": [
      "Fuldfoder: 1.5 kg CO2e\n",
      "Tilskudsfoder: 0 kg CO2e\n",
      "Grovfoder: 1.25 kg CO2e\n",
      "Skaller: 2.25 kg CO2e\n",
      "Råvarer: 8.4875 kg CO2e\n",
      "Æglæggerfoder pr holdhøne: 13.4875 kg CO2e\n",
      "Bedrift: 12.875 kg CO2e\n"
     ]
    },
    {
     "data": {
      "text/html": [
       "<div class=\"dni-plaintext\"><pre>&lt;null&gt;</pre></div><style>\r\n",
       ".dni-code-hint {\r\n",
       "    font-style: italic;\r\n",
       "    overflow: hidden;\r\n",
       "    white-space: nowrap;\r\n",
       "}\r\n",
       ".dni-treeview {\r\n",
       "    white-space: nowrap;\r\n",
       "}\r\n",
       ".dni-treeview td {\r\n",
       "    vertical-align: top;\r\n",
       "    text-align: start;\r\n",
       "}\r\n",
       "details.dni-treeview {\r\n",
       "    padding-left: 1em;\r\n",
       "}\r\n",
       "table td {\r\n",
       "    text-align: start;\r\n",
       "}\r\n",
       "table tr { \r\n",
       "    vertical-align: top; \r\n",
       "    margin: 0em 0px;\r\n",
       "}\r\n",
       "table tr td pre \r\n",
       "{ \r\n",
       "    vertical-align: top !important; \r\n",
       "    margin: 0em 0px !important;\r\n",
       "} \r\n",
       "table th {\r\n",
       "    text-align: start;\r\n",
       "}\r\n",
       "</style>"
      ]
     },
     "metadata": {},
     "output_type": "display_data"
    }
   ],
   "source": [
    "// Input - Test andre scenarier, ved at ændre i input-værdierne herunder\n",
    "double T_total = 25;\n",
    "\n",
    "double A_fuld = 0.1;\n",
    "double A_til = 0.0;\n",
    "double A_grov = 0.1;\n",
    "double A_skal = 0.1;\n",
    "double A_raa = 0.7;\n",
    "double I_raa = 0.5;\n",
    "\n",
    "double CO2e_fuld = 0.6;\n",
    "double CO2e_til = 0.7;\n",
    "double CO2e_grov = 0.5;\n",
    "double CO2e_skal = 0.9;\n",
    "double CO2e_egen_raa = 0.07;\n",
    "double CO2e_ind_raa = 0.9;\n",
    "\n",
    "if (A_fuld + A_til + A_grov + A_skal + A_raa != 1.0) {\n",
    "    Console.WriteLine(\"OBS A_fuld + A_tilskud + A_hvede + A_skal + A_raa skal give 100%\");\n",
    "    return;\n",
    "}\n",
    "\n",
    "// beregninger\n",
    "\n",
    "double F_fuld = T_total * A_fuld * CO2e_fuld;\n",
    "double F_til = T_total * A_til * CO2e_til;\n",
    "double F_grov = T_total * A_grov * CO2e_grov;\n",
    "double F_skal = T_total * A_skal * CO2e_skal;\n",
    "double F_raa = T_total * A_raa * (1 - I_raa) * CO2e_egen_raa + T_total * A_raa * I_raa * CO2e_ind_raa;\n",
    "\n",
    "double CO2e_aeglaeggerfoder = F_fuld + F_til + F_raa + F_skal + F_grov;\n",
    "Console.WriteLine($\"Fuldfoder: {F_fuld} kg CO2e\");\n",
    "Console.WriteLine($\"Tilskudsfoder: {F_til} kg CO2e\");\n",
    "Console.WriteLine($\"Grovfoder: {F_grov} kg CO2e\");\n",
    "Console.WriteLine($\"Skaller: {F_skal} kg CO2e\");\n",
    "Console.WriteLine($\"Råvarer: {F_raa} kg CO2e\");\n",
    "Console.WriteLine($\"Æglæggerfoder pr holdhøne: {CO2e_aeglaeggerfoder} kg CO2e\");\n",
    "\n",
    "\n",
    "Console.WriteLine($\"Bedrift: {CO2e_aeglaeggerfoder - T_total * A_raa * (1 - I_raa) * CO2e_egen_raa} kg CO2e\");"
   ]
  }
 ],
 "metadata": {
  "kernelspec": {
   "display_name": ".NET (C#)",
   "language": "C#",
   "name": ".net-csharp"
  },
  "language_info": {
   "name": "python",
   "version": "3.10.9 (tags/v3.10.9:1dd9be6, Dec  6 2022, 20:01:21) [MSC v.1934 64 bit (AMD64)]"
  },
  "orig_nbformat": 4,
  "polyglot_notebook": {
   "kernelInfo": {
    "defaultKernelName": "csharp",
    "items": [
     {
      "aliases": [],
      "name": "csharp"
     }
    ]
   }
  },
  "vscode": {
   "interpreter": {
    "hash": "26de051ba29f2982a8de78e945f0abaf191376122a1563185a90213a26c5da77"
   }
  }
 },
 "nbformat": 4,
 "nbformat_minor": 2
}
