{
 "cells": [
  {
   "attachments": {},
   "cell_type": "markdown",
   "metadata": {},
   "source": [
    "# **Foder til fjerkræ**\n",
    "\n",
    "### **Beregning af CO<sub>2</sub> fra foder, afhænger af dyretypen** \n",
    "\n",
    "> Slagtekyllinger\n",
    "\n",
    "$$CO_2e_{slagtekyllingefoder} = F_{fuld} + F_{til} + F_{hvede} + F_{grov}$$\n",
    "\n",
    "Hvor CO<sub>2</sub>e mængden fra fodertyperne, F, m/u dLUC beregnes:\n",
    "\n",
    "$$F_{fuld} = T_{total} \\cdot A_{fuld} \\cdot CO_2e_{fuld}$$\n",
    "$$F_{til} = T_{total} \\cdot A_{til} \\cdot CO_2e_{til}$$\n",
    "$$F_{hvede} = T_{total} \\cdot A_{hvede} \\cdot (100\\% - I_{hvede}) \\cdot CO_2e_{egen} + T_{total} \\cdot A_{hvede} \\cdot I_{hvede} \\cdot CO_2e_{ind}$$\n",
    "$$F_{grov} = T_{total} \\cdot A_{grov} \\cdot CO_2e_{grov}$$\n",
    "\n",
    "Hvor:\n",
    "\n",
    "* T<sub>total</sub>: Den totale mængde foder pr indsat slagtekylling = standard eller input fra bruger [kg]\n",
    "* A<sub>X</sub> : Andelen af fodertype X = standard eller input fra bruger [%] OBS på at A<sub>X</sub> for alle fodertyper skal summere til 100%\n",
    "* I<sub>hvede</sub>: Andelen af indkøbt hel hvede = standard eller input fra bruger [%]\n",
    "* CO<sub>2</sub>e<sub>X</sub>: Mængden af CO<sub>2</sub>e i fodertype X m/u dLUC = standard eller input fra bruger [kg]\n",
    "\n",
    "X: *\"fuld\" = fuldfoder, \"til\" = tilskudsfoder, \"hvede\" = hel hvede, \"egen\" = egenproduceret hel hvede, \"ind\" = indkøbt hel hvede, \"grov\" = grovfoder*\n",
    "\n",
    "> Hønniker\n",
    "\n",
    "$$CO_2e_{hønnikefoder} = F_{fuld} + F_{til} + F_{rå} + F_{grov}$$\n",
    "\n",
    "Hvor CO<sub>2</sub>e mængden fra fodertyperne, F, m/u dLUC beregnes:\n",
    "\n",
    "$$F_{fuld} = T_{total} \\cdot A_{fuld} \\cdot CO_2e_{fuld}$$\n",
    "$$F_{til} = T_{total} \\cdot A_{til} \\cdot CO_2e_{til}$$\n",
    "$$F_{rå} = T_{total} \\cdot A_{rå} \\cdot (100\\% - I_{rå}) \\cdot CO_2e_{egen} + T_{total} \\cdot A_{rå} \\cdot I_{rå} \\cdot CO_2e_{ind}$$\n",
    "$$F_{grov} = T_{total} \\cdot A_{grov} \\cdot CO_2e_{grov}$$\n",
    "\n",
    "Hvor:\n",
    "\n",
    "* T<sub>total</sub>: Den totale mængde foder pr indsat hønnike = standard eller input fra bruger [kg]\n",
    "* A<sub>X</sub> : Andelen af fodertype X = standard eller input fra bruger [%] OBS på at A<sub>X</sub> for alle fodertyper skal summere til 100%\n",
    "* I<sub>rå</sub>: Andelen af indkøbte råvarer = standard eller input fra bruger [%]\n",
    "* CO<sub>2</sub>e<sub>X</sub>: Mængden af CO<sub>2</sub>e i fodertype X m/u dLUC = standard eller input fra bruger [kg]\n",
    "\n",
    "X: *\"fuld\" = fuldfoder, \"til\" = tilskudsfoder, \"rå\" = råvarer, \"egen\" = egenproducerede råvarer, \"ind\" = indkøbte råvarer, \"grov\" = grovfoder*\n",
    "\n",
    "> Høns\n",
    "\n",
    "$$CO_2e_{æglæggerfoder} = F_{fuld} + F_{til} + F_{skal} + F_{rå} + F_{grov}$$\n",
    "\n",
    "Hvor CO<sub>2</sub>e mængden fra fodertyperne, F, m/u dLUC beregnes:\n",
    "\n",
    "$$F_{fuld} = T_{total} \\cdot A_{fuld} \\cdot CO_2e_{fuld}$$\n",
    "$$F_{til} = T_{total} \\cdot A_{til} \\cdot CO_2e_{til}$$\n",
    "$$F_{skal} = T_{total} \\cdot A_{skaller} \\cdot CO_2e_{skaller}$$\n",
    "$$F_{rå} = T_{total} \\cdot A_{rå} \\cdot (100\\% - I_{rå}) \\cdot CO_2e_{egen} + T_{total} \\cdot A_{rå} \\cdot I_{rå} \\cdot CO_2e_{ind}$$\n",
    "$$F_{grov} = T_{total} \\cdot A_{grov} \\cdot CO_2e_{grov}$$\n",
    "\n",
    "Hvor:\n",
    "\n",
    "* T<sub>total</sub>: Den totale mængde foder pr holdhøne = standard eller input fra bruger [kg]\n",
    "* A<sub>X</sub> : Andelen af fodertype X = standard eller input fra bruger [%] OBS på at A<sub>X</sub> for alle fodertyper skal summere til 100%\n",
    "* I<sub>rå</sub>: Andelen af indkøbte råvarer = standard eller input fra bruger [%]\n",
    "* CO<sub>2</sub>e<sub>X</sub>: Mængden af CO<sub>2</sub>e i fodertype X m/u dLUC = standard eller input fra bruger [kg]\n",
    "\n",
    "X: *\"fuld\" = fuldfoder, \"til\" = tilskudsfoder, \"skal\" = æggeskaller, \"rå\" = råvarer, \"egen\" = egenproducerede råvarer, \"ind\" = indkøbte råvarer, \"grov\" = grovfoder*\n",
    "\n",
    "----\n",
    "\n",
    " ## **Testcases**"
   ]
  },
  {
   "attachments": {},
   "cell_type": "markdown",
   "metadata": {},
   "source": [
    "**Slagtekyllinger** - Tilvækstkategori 1. Produktionstid 30 dage (levende vægt ved slagtning 1,75 kg)"
   ]
  },
  {
   "cell_type": "code",
   "execution_count": 3,
   "metadata": {
    "dotnet_interactive": {
     "language": "csharp"
    },
    "polyglot_notebook": {
     "kernelName": "csharp"
    },
    "vscode": {
     "languageId": "polyglot-notebook"
    }
   },
   "outputs": [
    {
     "name": "stdout",
     "output_type": "stream",
     "text": [
      "Fuldfoder: 0 kg CO2e\n",
      "Tilskudsfoder: 1.3084505 kg CO2e\n",
      "Hel hvede: 0.3396 kg CO2e\n",
      "Grovfoder: 0 kg CO2e\n",
      "Slagtekyllingefoder pr slagtekylling: 1.6480505 kg CO2e\n"
     ]
    },
    {
     "data": {
      "text/html": [
       "<div class=\"dni-plaintext\"><pre>&lt;null&gt;</pre></div><style>\r\n",
       ".dni-code-hint {\r\n",
       "    font-style: italic;\r\n",
       "    overflow: hidden;\r\n",
       "    white-space: nowrap;\r\n",
       "}\r\n",
       ".dni-treeview {\r\n",
       "    white-space: nowrap;\r\n",
       "}\r\n",
       ".dni-treeview td {\r\n",
       "    vertical-align: top;\r\n",
       "    text-align: start;\r\n",
       "}\r\n",
       "details.dni-treeview {\r\n",
       "    padding-left: 1em;\r\n",
       "}\r\n",
       "table td {\r\n",
       "    text-align: start;\r\n",
       "}\r\n",
       "table tr { \r\n",
       "    vertical-align: top; \r\n",
       "    margin: 0em 0px;\r\n",
       "}\r\n",
       "table tr td pre \r\n",
       "{ \r\n",
       "    vertical-align: top !important; \r\n",
       "    margin: 0em 0px !important;\r\n",
       "} \r\n",
       "table th {\r\n",
       "    text-align: start;\r\n",
       "}\r\n",
       "</style>"
      ]
     },
     "metadata": {},
     "output_type": "display_data"
    }
   ],
   "source": [
    "// Input - Test andre scenarier, ved at ændre i input-værdierne herunder\n",
    "double T_total = 2.83;\n",
    "double A_fuld = 0.0;\n",
    "double A_til = 0.70;\n",
    "double A_hvede = 0.30;\n",
    "double I_hvede = 1.0;\n",
    "double A_grov = 0.0;\n",
    "double CO2e_fuld = 0.6635;\n",
    "double CO2e_til = 0.6605;\n",
    "double CO2e_egen = 0.074;\n",
    "double CO2e_ind = 0.4000;\n",
    "double CO2e_grov = 0.009;\n",
    "\n",
    "if (A_fuld + A_til + A_hvede + A_grov != 1.0) {\n",
    "    Console.WriteLine(\"OBS A_fuld + A_tilskud + A_hvede skal give 100%\");\n",
    "    return;\n",
    "}\n",
    "\n",
    "// beregninger\n",
    "\n",
    "double F_fuld = T_total * A_fuld * CO2e_fuld;\n",
    "double F_til = T_total * A_til * CO2e_til;\n",
    "double F_hvede = T_total * A_hvede * (1 - I_hvede) * CO2e_egen + T_total * A_hvede * I_hvede * CO2e_ind;\n",
    "double F_grov = T_total * A_grov * CO2e_grov;\n",
    "\n",
    "double CO2e_slagtekyllingefoder = F_fuld + F_til + F_hvede + F_grov;\n",
    "Console.WriteLine($\"Fuldfoder: {F_fuld} kg CO2e\");\n",
    "Console.WriteLine($\"Tilskudsfoder: {F_til} kg CO2e\");\n",
    "Console.WriteLine($\"Hel hvede: {F_hvede} kg CO2e\");\n",
    "Console.WriteLine($\"Grovfoder: {F_grov} kg CO2e\");\n",
    "Console.WriteLine($\"Slagtekyllingefoder pr slagtekylling: {CO2e_slagtekyllingefoder} kg CO2e\");"
   ]
  }
 ],
 "metadata": {
  "kernelspec": {
   "display_name": ".NET (C#)",
   "language": "C#",
   "name": ".net-csharp"
  },
  "language_info": {
   "name": "python",
   "version": "3.10.9 (tags/v3.10.9:1dd9be6, Dec  6 2022, 20:01:21) [MSC v.1934 64 bit (AMD64)]"
  },
  "orig_nbformat": 4,
  "polyglot_notebook": {
   "kernelInfo": {
    "defaultKernelName": "csharp",
    "items": [
     {
      "aliases": [],
      "name": "csharp"
     }
    ]
   }
  },
  "vscode": {
   "interpreter": {
    "hash": "26de051ba29f2982a8de78e945f0abaf191376122a1563185a90213a26c5da77"
   }
  }
 },
 "nbformat": 4,
 "nbformat_minor": 2
}
