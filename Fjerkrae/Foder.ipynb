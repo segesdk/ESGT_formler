{
 "cells": [
  {
   "attachments": {},
   "cell_type": "markdown",
   "metadata": {},
   "source": [
    "# **Foder til fjerkræ**\n",
    "\n",
    "### **Beregning af CO<sub>2</sub> fra foder, afhænger af dyretypen** \n",
    "\n",
    "> Slagtekyllinger\n",
    "\n",
    "$$CO_2e_{slagtekyllingefoder} = F_{fuld} + F_{tilskud} + F_{indkøb} - F_{hjemme} $$\n",
    "\n",
    "Hvor CO<sub>2</sub>e mængden fra fodertyperne, F, m/u dLUC beregnes:\n",
    "\n",
    "$$F_{fuld} = T_{total} \\cdot A_{fuld} \\cdot CO_2e_{fuld}$$\n",
    "$$F_{tilskud} = T_{total} \\cdot A_{tilskud} \\cdot CO_2e_{tilskud}$$\n",
    "$$F_{indkøb} = T_{total} \\cdot A_{hvede}\\cdot A_{indkøb} \\cdot CO_2e_{indkøb}$$\n",
    "$$F_{hjemme} = (T_{total} \\cdot A_{hvede} -T_{total} \\cdot A_{hvede}\\cdot A_{indkøb}) \\cdot CO_2e_{hjemme}$$\n",
    "\n",
    "Hvor:\n",
    "\n",
    "* T<sub>X</sub>: Den tildelte mængde af fodertype X = standard eller input fra bruger [kg]\n",
    "* A<sub>X</sub> : Andelen af fodertype X = standard eller input fra bruger [%] OBS på at A<sub>X</sub> for alle fodertyper skal summere til 100%\n",
    "* CO<sub>2</sub>e<sub>X</sub>: Mængden af CO<sub>2</sub>e i fodertype X m/u dLUC = standard eller input fra bruger [kg]\n",
    "\n",
    "OBS: *\"fuld\" = fuldfoder, \"tilskud\" = tilskudsfoder, \"hvede\" = hel hvede, \"indkøb\" = indkøbt hel hvede, \"hjemme\" = hjemmeavlet hel hvede, \"total\" = den totale mængde tildelt foder*\n",
    "\n",
    "> Hønniker\n",
    "\n",
    "$$CO_2e_{opdrætsfoder} = F_{fuld} + F_{tilskud} + F_{indkøb} - F_{hjemme} $$\n",
    "\n",
    "Hvor CO<sub>2</sub>e mængden fra fodertyperne, F, m/u dLUC beregnes:\n",
    "\n",
    "$$F_{fuld} = T_{total} \\cdot A_{fuld} \\cdot CO_2e_{fuld}$$\n",
    "$$F_{tilskud} = T_{total} \\cdot A_{tilskud} \\cdot CO_2e_{tilskud}$$\n",
    "$$F_{indkøb} = T_{total} \\cdot A_{rå}\\cdot A_{indkøb} \\cdot CO_2e_{indkøb}$$\n",
    "$$F_{hjemme} = (T_{total} \\cdot A_{rå} - T_{total} \\cdot A_{rå}\\cdot A_{inkøb}) \\cdot CO_2e_{hjemme}$$\n",
    "\n",
    "Hvor:\n",
    "\n",
    "* T<sub>X</sub>: Den tildelte mængde af fodertype X = standard eller input fra bruger [kg]\n",
    "* A<sub>X</sub> : Andelen af fodertype X = standard eller input fra bruger [%] OBS på at A<sub>X</sub> for alle fodertyper skal summere til 100%\n",
    "* CO<sub>2</sub>e<sub>X</sub>: Mængden af CO<sub>2</sub>e i fodertype X m/u dLUC = standard eller input fra bruger [kg]\n",
    "\n",
    "OBS: *\"fuld\" = fuldfoder, \"tilskud\" = tilskudsfoder, \"rå\" = råvarer, \"indkøb\" = indkøbte råvarer, \"hjemme\" = hjemmeavlede råvarer, \"total\" = den totale mængde tildelt foder*\n",
    "\n",
    "> Høns\n",
    "\n",
    "$$CO_2e_{æglæggerfoder} = F_{fuld} + F_{tilskud} + F_{skaller} + F_{indkøb} - F_{hjemme} $$\n",
    "\n",
    "Hvor CO<sub>2</sub>e mængden fra fodertyperne, F, m/u dLUC beregnes:\n",
    "\n",
    "$$F_{fuld} = T_{total} \\cdot A_{fuld} \\cdot CO_2e_{fuld}$$\n",
    "$$F_{tilskud} = T_{total} \\cdot A_{tilskud} \\cdot CO_2e_{tilskud}$$\n",
    "$$F_{skaller} = T_{total} \\cdot A_{skaller} \\cdot CO_2e_{skaller}$$\n",
    "$$F_{indkøb} = T_{total} \\cdot A_{rå}\\cdot A_{indkøb} \\cdot CO_2e_{indkøb}$$\n",
    "$$F_{hjemme} = (T_{total} \\cdot A_{rå} -T_{total} \\cdot A_{rå}\\cdot A_{indkøb}) \\cdot CO_2e_{hjemme}$$\n",
    "\n",
    "Hvor:\n",
    "\n",
    "* T<sub>X</sub>: Den tildelte mængde af fodertype X = standard eller input fra bruger [kg]\n",
    "* A<sub>X</sub> : Andelen af fodertype X = standard eller input fra bruger [%]. OBS på at A<sub>X</sub> for alle fodertyper skal summere til 100%\n",
    "* CO<sub>2</sub>e<sub>X</sub>: Mængden af CO<sub>2</sub>e i fodertype X m/u dLUC = standard eller input fra bruger [kg]\n",
    "\n",
    "OBS: *\"fuld\" = fuldfoder, \"tilskud\" = tilskudsfoder, \"skaller\" = æggeskaller, \"rå\" = råvarer, \"indkøb\" = indkøbte råvarer, \"hjemme\" = hjemmeavlede råvarer, \"total\" = den totale mængde tildelt foder*\n",
    "\n",
    "----\n",
    "\n",
    " ## **Testcases**"
   ]
  }
 ],
 "metadata": {
  "kernelspec": {
   "display_name": "Python 3.10.8 64-bit",
   "language": "python",
   "name": "python3"
  },
  "language_info": {
   "name": "python",
   "version": "3.10.9 (tags/v3.10.9:1dd9be6, Dec  6 2022, 20:01:21) [MSC v.1934 64 bit (AMD64)]"
  },
  "orig_nbformat": 4,
  "vscode": {
   "interpreter": {
    "hash": "26de051ba29f2982a8de78e945f0abaf191376122a1563185a90213a26c5da77"
   }
  }
 },
 "nbformat": 4,
 "nbformat_minor": 2
}
