{
 "cells": [
  {
   "cell_type": "markdown",
   "metadata": {
    "dotnet_interactive": {
     "language": "csharp"
    },
    "polyglot_notebook": {
     "kernelName": "csharp"
    }
   },
   "source": [
    "# **Indkøb af dyr**\n",
    "\n",
    "### **Beregning af CO<sub>2</sub> fra indkøb af dyr, afhænger af dyretypen** \n",
    "\n",
    "> Slagtekyllinger\n",
    "\n",
    "$$CO_2e_{indkøb} = A_{slagt} \\cdot \\theta_{slagt} + A_{rugeæg} \\cdot \\theta_{rugeæg} $$\n",
    "\n",
    "Hvor:\n",
    "\n",
    "* A<sub>slagt</sub>: antal indkøbte daggamle slagtekyllinger = input fra bruger\n",
    "* $\\theta$<sub>slagt</sub> : gns. klimaværdi for daggamle slagtekyllinger = 0.5 [kg]\n",
    "* A<sub>rugeæg</sub>: antal indkøbte rugeæg = input fra bruger\n",
    "* $\\theta$<sub>rugeæg</sub> : gns. klimaværdi for rugeæg = 0.5 [kg]\n",
    "\n",
    "> Hønniker\n",
    "\n",
    "$$CO_2e_{indkøb} = A_{konsum} \\cdot \\theta_{konsum} + A_{leve} \\cdot \\theta_{leve} $$\n",
    "\n",
    "Hvor:\n",
    "\n",
    "* A<sub>konsum</sub>: antal indkøbte daggamle levekyllinger til konsumægsproduktion = input fra bruger\n",
    "* $\\theta$<sub>konsum</sub> : gns. klimaværdi for daggamle levekyllinger til konsumægsproduktion = 0.5 [kg]\n",
    "* A<sub>leve</sub>:  antal indkøbte daggamle levekyllinger til rugeægsproduktion = input fra bruger\n",
    "* $\\theta$<sub>leve</sub> : gns. klimaværdi for daggamle levekyllinger til rugeægsproduktion = 0.5 [kg]\n",
    "\n",
    "> Høns\n",
    "\n",
    "$$CO_2e_{indkøb} = A_{hønniker} \\cdot \\theta_{hønniker} $$\n",
    "\n",
    "Hvor:\n",
    "\n",
    "* A<sub>hønniker</sub>: antal indkøbte hønniker = input fra bruger\n",
    "* $\\theta$<sub>hønniker</sub> : gns. klimaværdi for hønniker = 4.75 [kg]\n",
    "\n",
    "----\n",
    "\n",
    " ## **Testcases**"
   ]
  },
  {
   "cell_type": "code",
   "execution_count": null,
   "metadata": {
    "dotnet_interactive": {
     "language": "csharp"
    },
    "vscode": {
     "languageId": "polyglot-notebook"
    }
   },
   "outputs": [],
   "source": []
  },
  {
   "cell_type": "markdown",
   "metadata": {
    "dotnet_interactive": {
     "language": "csharp"
    },
    "polyglot_notebook": {
     "kernelName": "csharp"
    }
   },
   "source": [
    "**Slagtekyllinger**"
   ]
  }
 ],
 "metadata": {
  "kernelspec": {
   "display_name": ".NET (C#)",
   "language": "C#",
   "name": ".net-csharp"
  },
  "polyglot_notebook": {
   "kernelInfo": {
    "defaultKernelName": "csharp",
    "items": [
     {
      "aliases": [
       "c#",
       "C#"
      ],
      "languageName": "C#",
      "name": "csharp"
     },
     {
      "aliases": [],
      "languageName": "Mermaid",
      "name": "mermaid"
     },
     {
      "aliases": [],
      "name": ".NET"
     },
     {
      "aliases": [
       "f#",
       "F#"
      ],
      "languageName": "F#",
      "name": "fsharp"
     },
     {
      "aliases": [],
      "languageName": "HTML",
      "name": "html"
     },
     {
      "aliases": [],
      "languageName": "KQL",
      "name": "kql"
     },
     {
      "aliases": [
       "powershell"
      ],
      "languageName": "PowerShell",
      "name": "pwsh"
     },
     {
      "aliases": [],
      "languageName": "SQL",
      "name": "sql"
     },
     {
      "aliases": [],
      "name": "value"
     },
     {
      "aliases": [
       "frontend"
      ],
      "languageName": null,
      "name": "vscode"
     }
    ]
   }
  }
 },
 "nbformat": 4,
 "nbformat_minor": 2
}
