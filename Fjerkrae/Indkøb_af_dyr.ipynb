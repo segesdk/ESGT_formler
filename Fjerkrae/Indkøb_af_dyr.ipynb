{
 "cells": [
  {
   "attachments": {},
   "cell_type": "markdown",
   "metadata": {},
   "source": [
    "# **Indkøb af dyr**\n",
    "\n",
    "### **Beregning af CO<sub>2</sub> fra indkøb af dyr, afhænger af dyretypen** \n",
    "\n",
    "> Slagtekyllinger\n",
    "\n",
    "$$CO_2e_{indkøb} = \\frac{A_{daggamle} \\cdot \\theta_{daggamle} + A_{rugeæg} \\cdot \\theta_{rugeæg}}{A_{slagt}} $$\n",
    "\n",
    "Hvor:\n",
    "\n",
    "* A<sub>daggamle</sub>: antal indkøbte daggamle slagtekyllinger = input fra bruger\n",
    "* $\\theta$<sub>daggamle</sub> : gns. klimaværdi for daggamle slagtekyllinger = 0.5 [kg]\n",
    "* A<sub>rugeæg</sub>: antal indkøbte rugeæg = input fra bruger\n",
    "* $\\theta$<sub>rugeæg</sub> : gns. klimaværdi for rugeæg = 0.5 [kg]\n",
    "* A<sub>slagt</sub>: det totale antal producerede slagtekyllinger = input fra bruger\n",
    "\n",
    "> Hønniker\n",
    "\n",
    "$$CO_2e_{indkøb} = \\frac{A_{konsum} \\cdot \\theta_{konsum} + A_{leve} \\cdot \\theta_{leve}}{A_{hønnike}} $$\n",
    "\n",
    "Hvor:\n",
    "\n",
    "* A<sub>konsum</sub>: antal indkøbte daggamle levekyllinger til konsumægsproduktion = input fra bruger\n",
    "* $\\theta$<sub>konsum</sub> : gns. klimaværdi for daggamle levekyllinger til konsumægsproduktion = 0.5 [kg]\n",
    "* A<sub>leve</sub>:  antal indkøbte daggamle levekyllinger til rugeægsproduktion = input fra bruger\n",
    "* $\\theta$<sub>leve</sub> : gns. klimaværdi for daggamle levekyllinger til rugeægsproduktion = 0.5 [kg]\n",
    "* A<sub>hønnike</sub>: det totale antal producerede hønniker = input fra bruger\n",
    "\n",
    "> Høns\n",
    "\n",
    "$$CO_2e_{indkøb} = \\frac{A_{hønniker} \\cdot \\theta_{hønniker}}{A_{høns}} $$\n",
    "\n",
    "Hvor:\n",
    "\n",
    "* A<sub>hønniker</sub>: antal indkøbte hønniker = input fra bruger\n",
    "* $\\theta$<sub>hønniker</sub> : gns. klimaværdi for hønniker = 4.75 [kg]\n",
    "* A<sub>høns</sub>: det totale antal producerede høns = beregnes i [dødelighed for høns](https://github.com/segesdk/ESGT_formler/blob/main/Fjerkrae/D%C3%B8delighed_for_h%C3%B8ns.ipynb)\n",
    "\n",
    "----\n",
    "\n",
    " ## **Testcases**"
   ]
  },
  {
   "cell_type": "code",
   "execution_count": 2,
   "metadata": {
    "dotnet_interactive": {
     "language": "csharp"
    },
    "polyglot_notebook": {
     "kernelName": "csharp"
    }
   },
   "outputs": [],
   "source": [
    "// konstanter - nix pille\n",
    "double theta_daggamle = 0.5;\n",
    "double theta_rugeaeg = 0.5;\n"
   ]
  },
  {
   "attachments": {},
   "cell_type": "markdown",
   "metadata": {},
   "source": [
    "**Slagtekyllinger** - Tilvækstkategori 1. Produktionstid 30 dage (levende vægt ved slagtning 1,75 kg)"
   ]
  },
  {
   "cell_type": "code",
   "execution_count": 3,
   "metadata": {
    "dotnet_interactive": {
     "language": "csharp"
    },
    "polyglot_notebook": {
     "kernelName": "csharp"
    }
   },
   "outputs": [
    {
     "name": "stdout",
     "output_type": "stream",
     "text": [
      "indkøbte dyr til slagtekyllingeproduktion: 0.8699437449772301 kg CO2e\r\n"
     ]
    },
    {
     "data": {
      "text/html": [
       "<div class=\"dni-plaintext\"><pre>&lt;null&gt;</pre></div><style>\r\n",
       ".dni-code-hint {\r\n",
       "    font-style: italic;\r\n",
       "    overflow: hidden;\r\n",
       "    white-space: nowrap;\r\n",
       "}\r\n",
       ".dni-treeview {\r\n",
       "    white-space: nowrap;\r\n",
       "}\r\n",
       ".dni-treeview td {\r\n",
       "    vertical-align: top;\r\n",
       "    text-align: start;\r\n",
       "}\r\n",
       "details.dni-treeview {\r\n",
       "    padding-left: 1em;\r\n",
       "}\r\n",
       "table td {\r\n",
       "    text-align: start;\r\n",
       "}\r\n",
       "table tr { \r\n",
       "    vertical-align: top; \r\n",
       "    margin: 0em 0px;\r\n",
       "}\r\n",
       "table tr td pre \r\n",
       "{ \r\n",
       "    vertical-align: top !important; \r\n",
       "    margin: 0em 0px !important;\r\n",
       "} \r\n",
       "table th {\r\n",
       "    text-align: start;\r\n",
       "}\r\n",
       "</style>"
      ]
     },
     "metadata": {},
     "output_type": "display_data"
    }
   ],
   "source": [
    "// Input - Test andre scenarier, ved at ændre i input-værdierne herunder\n",
    "double A_daggamle = 450.0;\n",
    "double A_rugeaeg = 6045.0;\n",
    "int A_slagt = 3733;\n",
    "\n",
    "if (A_slagt > A_daggamle + A_rugeaeg) {\n",
    "    Console.WriteLine(\"Det virker usandsynligt, at du har produceret flere slagtekyllinger end du har indkøbt daggamle kyllinger og rugeæg tilsammen. Prøv igen :)\");\n",
    "    return;\n",
    "}\n",
    "\n",
    "\n",
    "double CO2e_indkob = (A_daggamle * theta_daggamle + A_rugeaeg * theta_rugeaeg) / A_slagt;\n",
    "Console.WriteLine($\"indkøbte dyr til slagtekyllingeproduktion: {CO2e_indkob} kg CO2e\");\n"
   ]
  },
  {
   "cell_type": "markdown",
   "metadata": {},
   "source": [
    "**Høns**"
   ]
  },
  {
   "cell_type": "code",
   "execution_count": 7,
   "metadata": {
    "dotnet_interactive": {
     "language": "csharp"
    },
    "polyglot_notebook": {
     "kernelName": "csharp"
    }
   },
   "outputs": [
    {
     "name": "stdout",
     "output_type": "stream",
     "text": [
      "indkøbte dyr til ægproduktion: 6 kg CO2e\r\n"
     ]
    },
    {
     "data": {
      "text/html": [
       "<div class=\"dni-plaintext\"><pre>&lt;null&gt;</pre></div><style>\r\n",
       ".dni-code-hint {\r\n",
       "    font-style: italic;\r\n",
       "    overflow: hidden;\r\n",
       "    white-space: nowrap;\r\n",
       "}\r\n",
       ".dni-treeview {\r\n",
       "    white-space: nowrap;\r\n",
       "}\r\n",
       ".dni-treeview td {\r\n",
       "    vertical-align: top;\r\n",
       "    text-align: start;\r\n",
       "}\r\n",
       "details.dni-treeview {\r\n",
       "    padding-left: 1em;\r\n",
       "}\r\n",
       "table td {\r\n",
       "    text-align: start;\r\n",
       "}\r\n",
       "table tr { \r\n",
       "    vertical-align: top; \r\n",
       "    margin: 0em 0px;\r\n",
       "}\r\n",
       "table tr td pre \r\n",
       "{ \r\n",
       "    vertical-align: top !important; \r\n",
       "    margin: 0em 0px !important;\r\n",
       "} \r\n",
       "table th {\r\n",
       "    text-align: start;\r\n",
       "}\r\n",
       "</style>"
      ]
     },
     "metadata": {},
     "output_type": "display_data"
    }
   ],
   "source": [
    "// Input - Test andre scenarier, ved at ændre i input-værdierne herunder\n",
    "double A_honnike = 1000;\n",
    "double A_hons = 1000;\n",
    "double theta_honnike = 6;\n",
    "\n",
    "if (A_hons > A_honnike) {\n",
    "    Console.WriteLine(\"Det virker usandsynligt, at du har produceret flere høner end du har indkøbte/indsatte hønniker Prøv igen :)\");\n",
    "    return;\n",
    "}\n",
    "\n",
    "\n",
    "double CO2e_indkob = A_honnike * theta_honnike / A_hons;\n",
    "Console.WriteLine($\"indkøbte dyr til ægproduktion: {CO2e_indkob} kg CO2e\");"
   ]
  }
 ],
 "metadata": {
  "kernelspec": {
   "display_name": ".NET (C#)",
   "language": "C#",
   "name": ".net-csharp"
  },
  "language_info": {
   "name": "polyglot-notebook"
  },
  "polyglot_notebook": {
   "kernelInfo": {
    "defaultKernelName": "csharp",
    "items": [
     {
      "aliases": [],
      "name": ".NET"
     },
     {
      "aliases": [
       "C#",
       "c#"
      ],
      "languageName": "C#",
      "name": "csharp"
     },
     {
      "aliases": [
       "F#",
       "f#"
      ],
      "languageName": "F#",
      "name": "fsharp"
     },
     {
      "aliases": [],
      "languageName": "HTML",
      "name": "html"
     },
     {
      "aliases": [],
      "languageName": "KQL",
      "name": "kql"
     },
     {
      "aliases": [],
      "languageName": "Mermaid",
      "name": "mermaid"
     },
     {
      "aliases": [
       "powershell"
      ],
      "languageName": "PowerShell",
      "name": "pwsh"
     },
     {
      "aliases": [],
      "languageName": "SQL",
      "name": "sql"
     },
     {
      "aliases": [],
      "name": "value"
     },
     {
      "aliases": [
       "frontend"
      ],
      "name": "vscode"
     }
    ]
   }
  }
 },
 "nbformat": 4,
 "nbformat_minor": 2
}
