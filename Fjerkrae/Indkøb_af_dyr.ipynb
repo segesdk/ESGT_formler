{
 "cells": [
  {
   "attachments": {},
   "cell_type": "markdown",
   "metadata": {},
   "source": [
    "# **Indkøb af dyr**\n",
    "\n",
    "### **Beregning af CO<sub>2</sub> fra indkøb af dyr, afhænger af dyretypen** \n",
    "\n",
    "> Slagtekyllinger\n",
    "\n",
    "$$CO_2e_{indkøb} = \\frac{A_{daggamle} \\cdot \\theta_{daggamle} + A_{rugeæg} \\cdot \\theta_{rugeæg}}{A_{slagt}} $$\n",
    "\n",
    "Hvor:\n",
    "\n",
    "* A<sub>daggamle</sub>: antal indkøbte daggamle slagtekyllinger = input fra bruger\n",
    "* $\\theta$<sub>daggamle</sub> : gns. klimaværdi for daggamle slagtekyllinger = 0.5 [kg]\n",
    "* A<sub>rugeæg</sub>: antal indkøbte rugeæg = input fra bruger\n",
    "* $\\theta$<sub>rugeæg</sub> : gns. klimaværdi for rugeæg = 0.5 [kg]\n",
    "* A<sub>slagt</sub>: det totale antal producerede slagtekyllinger = input fra bruger\n",
    "\n",
    "> Hønniker\n",
    "\n",
    "$$CO_2e_{indkøb} = \\frac{A_{konsum} \\cdot \\theta_{konsum} + A_{leve} \\cdot \\theta_{leve}}{A_{hønnike}} $$\n",
    "\n",
    "Hvor:\n",
    "\n",
    "* A<sub>konsum</sub>: antal indkøbte daggamle levekyllinger til konsumægsproduktion = input fra bruger\n",
    "* $\\theta$<sub>konsum</sub> : gns. klimaværdi for daggamle levekyllinger til konsumægsproduktion = 0.5 [kg]\n",
    "* A<sub>leve</sub>:  antal indkøbte daggamle levekyllinger til rugeægsproduktion = input fra bruger\n",
    "* $\\theta$<sub>leve</sub> : gns. klimaværdi for daggamle levekyllinger til rugeægsproduktion = 0.5 [kg]\n",
    "* A<sub>hønnike</sub>: det totale antal producerede hønniker = input fra bruger\n",
    "\n",
    "> Høns\n",
    "\n",
    "$$CO_2e_{indkøb} = \\frac{A_{hønniker} \\cdot \\theta_{hønniker}}{A_{høns}} $$\n",
    "\n",
    "Hvor:\n",
    "\n",
    "* A<sub>hønniker</sub>: antal indkøbte hønniker = input fra bruger\n",
    "* $\\theta$<sub>hønniker</sub> : gns. klimaværdi for hønniker = 4.75 [kg]\n",
    "* A<sub>høns</sub>: det totale antal producerede høns = input fra bruger\n",
    "\n",
    "----\n",
    "\n",
    " ## **Testcases**"
   ]
  },
  {
   "cell_type": "code",
   "execution_count": null,
   "metadata": {
    "dotnet_interactive": {
     "language": "csharp"
    }
   },
   "outputs": [],
   "source": []
  },
  {
   "attachments": {},
   "cell_type": "markdown",
   "metadata": {},
   "source": [
    "**Slagtekyllinger**"
   ]
  }
 ],
 "metadata": {
  "kernelspec": {
   "display_name": ".NET (C#)",
   "language": "C#",
   "name": ".net-csharp"
  },
  "language_info": {
   "name": "polyglot-notebook"
  },
  "polyglot_notebook": {
   "kernelInfo": {
    "defaultKernelName": "csharp",
    "items": [
     {
      "aliases": [],
      "name": ".NET"
     },
     {
      "aliases": [
       "C#",
       "c#"
      ],
      "languageName": "C#",
      "name": "csharp"
     },
     {
      "aliases": [
       "F#",
       "f#"
      ],
      "languageName": "F#",
      "name": "fsharp"
     },
     {
      "aliases": [],
      "languageName": "HTML",
      "name": "html"
     },
     {
      "aliases": [],
      "languageName": "KQL",
      "name": "kql"
     },
     {
      "aliases": [],
      "languageName": "Mermaid",
      "name": "mermaid"
     },
     {
      "aliases": [
       "powershell"
      ],
      "languageName": "PowerShell",
      "name": "pwsh"
     },
     {
      "aliases": [],
      "languageName": "SQL",
      "name": "sql"
     },
     {
      "aliases": [],
      "name": "value"
     },
     {
      "aliases": [
       "frontend"
      ],
      "name": "vscode"
     }
    ]
   }
  }
 },
 "nbformat": 4,
 "nbformat_minor": 2
}
