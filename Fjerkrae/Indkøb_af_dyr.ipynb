{
 "cells": [
  {
   "cell_type": "markdown",
   "metadata": {},
   "source": [
    "# **Indkøb af dyr**\n",
    "\n",
    "### **Beregning af CO<sub>2</sub> fra indkøb af dyr, afhænger af dyretypen** \n",
    "\n",
    "> Slagtekyllinger\n",
    "\n",
    "$$CO_2e_{indkøb} = A_{slagt} \\cdot \\theta_{slagt} + A_{rugeæg} \\cdot \\theta_{rugeæg} $$\n",
    "\n",
    "Hvor:\n",
    "\n",
    "* A<sub>slagt</sub>: antal indkøbte daggamle slagtekyllinger = input fra bruger\n",
    "* $\\theta$<sub>slagt</sub> : gns. klimaværdi for daggamle slagtekyllinger = 0.5 [kg]\n",
    "* A<sub>rugeæg</sub>: antal indkøbte rugeæg = input fra bruger\n",
    "* $\\theta$<sub>rugeæg</sub> : gns. klimaværdi for rugeæg = 0.5 [kg]\n",
    "\n",
    "> Hønniker\n",
    "\n",
    "$$CO_2e_{indkøb} = A_{konsum} \\cdot \\theta_{konsum} + A_{leve} \\cdot \\theta_{leve} $$\n",
    "\n",
    "Hvor:\n",
    "\n",
    "* A<sub>konsum</sub>: antal indkøbte daggamle levekyllinger til konsumægsproduktion = input fra bruger\n",
    "* $\\theta$<sub>konsum</sub> : gns. klimaværdi for daggamle levekyllinger til konsumægsproduktion = 0.5 [kg]\n",
    "* A<sub>leve</sub>:  antal indkøbte daggamle levekyllinger til rugeægsproduktion = input fra bruger\n",
    "* $\\theta$<sub>leve</sub> : gns. klimaværdi for daggamle levekyllinger til rugeægsproduktion = 0.5 [kg]\n",
    "\n",
    "> Høns\n",
    "\n",
    "$$CO_2e_{indkøb} = A_{hønniker} \\cdot \\theta_{hønniker} $$\n",
    "\n",
    "Hvor:\n",
    "\n",
    "* A<sub>hønniker</sub>: antal indkøbte hønniker = input fra bruger\n",
    "* $\\theta$<sub>hønniker</sub> : gns. klimaværdi for hønniker = 4.75 [kg]\n",
    "\n",
    "----\n",
    "\n",
    " ## **Testcases**"
   ]
  }
 ],
 "metadata": {
  "kernelspec": {
   "display_name": "Python 3.10.8 64-bit",
   "language": "python",
   "name": "python3"
  },
  "language_info": {
   "name": "python",
   "version": "3.10.8"
  },
  "orig_nbformat": 4,
  "vscode": {
   "interpreter": {
    "hash": "26de051ba29f2982a8de78e945f0abaf191376122a1563185a90213a26c5da77"
   }
  }
 },
 "nbformat": 4,
 "nbformat_minor": 2
}
