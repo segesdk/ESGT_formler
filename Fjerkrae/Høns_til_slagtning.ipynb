{
 "cells": [
  {
   "attachments": {},
   "cell_type": "markdown",
   "metadata": {},
   "source": [
    "# **Høns til slagtning**\n",
    "\n",
    "## **Indledning**\n",
    "\n",
    "Produktaftrykket for æg findes ved at lægge alle udledningkilderne for holdhønerne sammen og fordele aftrykket på den samlede mængde æg. \n",
    "\n",
    "Der er imidlertid en mindre del af aftrykket, som kan tilskrives slagtehønsene. Denne del findes af lave en økonomisk allokering mellem slagtehønsene og æggene.\n",
    "\n",
    "Høns der sendes sendes til ChickPulp/Daka tæller ikke med på nuværende tidspunkt\n",
    "\n",
    "### **Beregning af CO<sub>2</sub>e fra høns til slagtning** \n",
    "\n",
    "$$CO_2e_{slagt} = \\frac{S_{slagt} \\cdot T_{slagt}}{S_{æg} \\cdot T_{æg}} \\cdot CO_2e_{tot}$$\n",
    "\n",
    "Hvor:\n",
    "\n",
    "* S<sub>slagt</sub>: gns. salgspris pr kg høne = input fra bruger [kr]\n",
    "* T<sub>slagt</sub>: den totale mængde høner leveret til slagtning = input fra bruger [kg]\n",
    "* S<sub>æg</sub>: gns. salgspris pr kg æg = input fra bruger [kr]\n",
    "* T<sub>æg</sub>: den totale mængde æg produceret på holdet [kg]. Beregnes som:\n",
    "$$T_{æg} = A_{æg} \\cdot \\frac{V_{æg}}{1000}$$\n",
    "* A<sub>æg</sub>: antal æg produceret på holdet i alt = input fra bruger [stk]\n",
    "* V<sub>æg</sub>: gns. vægt for et æg = input fra bruger [g]\n",
    "* CO<sub>2</sub>e<sub>tot</sub>: Mængden af CO2e udledt fra produktionen af en holdhøne inkl. æg = beregnes i [Produktaftrykket for æg](https://github.com/segesdk/ESGT_formler/blob/main/Fjerkrae/Produkt_og_bedriftsregnskab_%C3%A6g.ipynb) [kg]\n",
    "\n",
    "----\n",
    "\n",
    " ## **Testcases**"
   ]
  },
  {
   "cell_type": "code",
   "execution_count": 22,
   "metadata": {
    "dotnet_interactive": {
     "language": "csharp"
    },
    "polyglot_notebook": {
     "kernelName": "csharp"
    }
   },
   "outputs": [
    {
     "name": "stdout",
     "output_type": "stream",
     "text": [
      "CO2e til slagtehøns: -0.0005709431438253799 kg CO2e\r\n"
     ]
    }
   ],
   "source": [
    "// konstanter - nix pille\n",
    "double CO2_aeg = 79.60374782785358;\n",
    "\n",
    "// Input - Test andre scenarier, ved at ændre i input-værdierne herunder\n",
    "double S_slagt = 2;\n",
    "double S_aeg = 44;\n",
    "double V_aeg = 19.5;\n",
    "double A_aeg = 5000;\n",
    "double T_slagt = 1.5;\n",
    "\n",
    "// beregninger\n",
    "\n",
    "double hons = S_slagt * T_slagt;\n",
    "double aeg = S_aeg * A_aeg * (V_aeg/1000.0);\n",
    "\n",
    "double CO2e_slagt = - (hons/aeg * CO2_aeg);\n",
    "\n",
    "Console.WriteLine($\"CO2e til slagtehøns: {CO2e_slagt/(A_aeg * (V_aeg/1000))} kg CO2e\");"
   ]
  },
  {
   "cell_type": "code",
   "execution_count": null,
   "metadata": {
    "dotnet_interactive": {
     "language": "csharp"
    },
    "polyglot_notebook": {
     "kernelName": "csharp"
    }
   },
   "outputs": [],
   "source": []
  }
 ],
 "metadata": {
  "kernelspec": {
   "display_name": ".NET (C#)",
   "language": "C#",
   "name": ".net-csharp"
  },
  "language_info": {
   "name": "polyglot-notebook"
  },
  "polyglot_notebook": {
   "kernelInfo": {
    "defaultKernelName": "csharp",
    "items": [
     {
      "aliases": [],
      "name": ".NET"
     },
     {
      "aliases": [
       "C#",
       "c#"
      ],
      "languageName": "C#",
      "name": "csharp"
     },
     {
      "aliases": [
       "F#",
       "f#"
      ],
      "languageName": "F#",
      "name": "fsharp"
     },
     {
      "aliases": [],
      "languageName": "HTML",
      "name": "html"
     },
     {
      "aliases": [],
      "languageName": "KQL",
      "name": "kql"
     },
     {
      "aliases": [],
      "languageName": "Mermaid",
      "name": "mermaid"
     },
     {
      "aliases": [
       "powershell"
      ],
      "languageName": "PowerShell",
      "name": "pwsh"
     },
     {
      "aliases": [],
      "languageName": "SQL",
      "name": "sql"
     },
     {
      "aliases": [],
      "name": "value"
     },
     {
      "aliases": [
       "frontend"
      ],
      "name": "vscode"
     }
    ]
   }
  }
 },
 "nbformat": 4,
 "nbformat_minor": 2
}
