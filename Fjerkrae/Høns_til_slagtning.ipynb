{
 "cells": [
  {
   "attachments": {},
   "cell_type": "markdown",
   "metadata": {},
   "source": [
    "# **Høns til slagtning**\n",
    "\n",
    "### **Beregning af CO<sub>2</sub>e fra høns til slagtning** \n",
    "\n",
    "$$CO_2e_{slagt} = \\frac{S_{slagt}}{E \\cdot S_{æg}} \\cdot E \\cdot CO_2e_{æg}$$\n",
    "\n",
    "Hvor:\n",
    "\n",
    "* S<sub>slagt</sub>: gns. salgspris for en slagtehøne = input fra bruger [kr]\n",
    "* E: gns. kg æg produceret pr høne. Beregnes som:\n",
    "$$\\frac{A_{æg} \\cdot V_{æg} \\cdot 1000}{A_{høns}}$$\n",
    "* A<sub>æg</sub>: antal æg produceret på holdet i alt = input fra bruger [stk]\n",
    "* V<sub>æg</sub>: gns. vægt for et æg = input fra bruger [g]\n",
    "* A<sub>høns</sub>: antal høns i alt på holdet = input fra bruger [stk]\n",
    "* S<sub>æg</sub>: gns. salgspris for et kg æg = input fra bruger [kr]\n",
    "* CO<sub>2</sub>e<sub>æg</sub>: Mængden af CO2e udledt fra produktionen af et kg æg [kg]\n",
    "* V<sub>slagt</sub>: gns. vægt for en slagtehøne = input fra bruger [kg]\n",
    "\n",
    "----\n",
    "\n",
    " ## **Testcases**"
   ]
  },
  {
   "cell_type": "code",
   "execution_count": 17,
   "metadata": {
    "dotnet_interactive": {
     "language": "csharp"
    },
    "polyglot_notebook": {
     "kernelName": "csharp"
    }
   },
   "outputs": [
    {
     "name": "stdout",
     "output_type": "stream",
     "text": [
      "CO2e fra slagtehøns: 0.13100487804878047 kg CO2e\r\n"
     ]
    }
   ],
   "source": [
    "// konstanter - nix pille\n",
    "double CO2_aeg = 1.8;\n",
    "\n",
    "// Input - Test andre scenarier, ved at ændre i input-værdierne herunder\n",
    "double S_slagt = 1.492;\n",
    "double S_aeg = 20.5;\n",
    "double V_aeg = 19.5;\n",
    "double V_slagt = 1.5;\n",
    "\n",
    "// beregninger\n",
    "\n",
    "double CO2e_slagt = S_slagt / (V_aeg * S_aeg) * V_aeg * CO2_aeg;\n",
    "\n",
    "Console.WriteLine($\"CO2e fra slagtehøns: {CO2e_slagt} kg CO2e\");"
   ]
  },
  {
   "cell_type": "code",
   "execution_count": null,
   "metadata": {
    "dotnet_interactive": {
     "language": "csharp"
    },
    "polyglot_notebook": {
     "kernelName": "csharp"
    }
   },
   "outputs": [],
   "source": []
  }
 ],
 "metadata": {
  "kernelspec": {
   "display_name": ".NET (C#)",
   "language": "C#",
   "name": ".net-csharp"
  },
  "language_info": {
   "name": "polyglot-notebook"
  },
  "polyglot_notebook": {
   "kernelInfo": {
    "defaultKernelName": "csharp",
    "items": [
     {
      "aliases": [],
      "name": ".NET"
     },
     {
      "aliases": [
       "C#",
       "c#"
      ],
      "languageName": "C#",
      "name": "csharp"
     },
     {
      "aliases": [
       "F#",
       "f#"
      ],
      "languageName": "F#",
      "name": "fsharp"
     },
     {
      "aliases": [],
      "languageName": "HTML",
      "name": "html"
     },
     {
      "aliases": [],
      "languageName": "KQL",
      "name": "kql"
     },
     {
      "aliases": [],
      "languageName": "Mermaid",
      "name": "mermaid"
     },
     {
      "aliases": [
       "powershell"
      ],
      "languageName": "PowerShell",
      "name": "pwsh"
     },
     {
      "aliases": [],
      "languageName": "SQL",
      "name": "sql"
     },
     {
      "aliases": [],
      "name": "value"
     },
     {
      "aliases": [
       "frontend"
      ],
      "name": "vscode"
     }
    ]
   }
  }
 },
 "nbformat": 4,
 "nbformat_minor": 2
}
