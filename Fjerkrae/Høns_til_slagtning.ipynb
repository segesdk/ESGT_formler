{
 "cells": [
  {
   "attachments": {},
   "cell_type": "markdown",
   "metadata": {},
   "source": [
    "# **Høns til slagtning**\n",
    "\n",
    "### **Beregning af CO<sub>2</sub>e fra en høne sendt til slagtning** \n",
    "\n",
    "$$CO_2e_{slagtehøne} = \\frac{S_{slagtehøne}}{V_{æg} \\cdot S_{æg}} \\cdot V_{æg} \\cdot CO_2e_{æg}$$\n",
    "\n",
    "Hvor:\n",
    "\n",
    "* S<sub>slagtehøne</sub>: den gns. salgspris for en slagtehøne = input fra bruger [kr]\n",
    "* V<sub>æg</sub>: gns. mængde æg produceret pr årshøne = input fra bruger [kg]\n",
    "* V<sub>slagtehøne</sub>: gns. vægt for en slagtehøne = input fra bruger [kg]\n",
    "* S<sub>æg</sub>: den gns. salgspris for et kg æg = input fra bruger [kr]\n",
    "* CO<sub>2</sub>e<sub>æg</sub>: Mængden af CO2e udledt fra produktionen af et kg æg [kg]\n",
    "\n",
    "----\n",
    "\n",
    " ## **Testcases**"
   ]
  },
  {
   "cell_type": "code",
   "execution_count": 17,
   "metadata": {},
   "outputs": [
    {
     "name": "stdout",
     "output_type": "stream",
     "text": [
      "CO2e fra slagtehøns: 0.13100487804878047 kg CO2e\r\n"
     ]
    }
   ],
   "source": [
    "// konstanter - nix pille\n",
    "double CO2_aeg = 1.8;\n",
    "\n",
    "// Input - Test andre scenarier, ved at ændre i input-værdierne herunder\n",
    "double S_slagt = 1.492;\n",
    "double S_aeg = 20.5;\n",
    "double V_aeg = 19.5;\n",
    "double V_slagt = 1.5;\n",
    "\n",
    "// beregninger\n",
    "\n",
    "double CO2e_slagt = S_slagt / (V_aeg * S_aeg) * V_aeg * CO2_aeg;\n",
    "\n",
    "Console.WriteLine($\"CO2e fra slagtehøns: {CO2e_slagt} kg CO2e\");"
   ]
  },
  {
   "cell_type": "code",
   "execution_count": null,
   "metadata": {},
   "outputs": [],
   "source": []
  }
 ],
 "metadata": {
  "kernelspec": {
   "display_name": ".NET (C#)",
   "language": "C#",
   "name": ".net-csharp"
  },
  "language_info": {
   "name": "polyglot-notebook"
  },
  "polyglot_notebook": {
   "kernelInfo": {
    "defaultKernelName": "csharp",
    "items": [
     {
      "aliases": [],
      "name": ".NET"
     },
     {
      "aliases": [
       "C#",
       "c#"
      ],
      "languageName": "C#",
      "name": "csharp"
     },
     {
      "aliases": [
       "F#",
       "f#"
      ],
      "languageName": "F#",
      "name": "fsharp"
     },
     {
      "aliases": [],
      "languageName": "HTML",
      "name": "html"
     },
     {
      "aliases": [],
      "languageName": "KQL",
      "name": "kql"
     },
     {
      "aliases": [],
      "languageName": "Mermaid",
      "name": "mermaid"
     },
     {
      "aliases": [
       "powershell"
      ],
      "languageName": "PowerShell",
      "name": "pwsh"
     },
     {
      "aliases": [],
      "languageName": "SQL",
      "name": "sql"
     },
     {
      "aliases": [],
      "name": "value"
     },
     {
      "aliases": [
       "frontend"
      ],
      "name": "vscode"
     }
    ]
   }
  }
 },
 "nbformat": 4,
 "nbformat_minor": 2
}
