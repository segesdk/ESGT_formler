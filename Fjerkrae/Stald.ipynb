{
 "cells": [
  {
   "attachments": {},
   "cell_type": "markdown",
   "metadata": {},
   "source": [
    "# **Staldudledning fra fjerkræ**\n",
    "\n",
    "## **Intro**\n",
    "\n",
    "Udledningen fra stalden findes ved at summere udledningen fra de tre gasarter ammoniak (NH<sub>3</sub>), lattergas (N<sub>2</sub>O) og metan (CH<sub>4</sub>).\n",
    "\n",
    "De tre gasarter skal beregnes hver for sig og gemmes, så deres andel kan præsenteres i brugerfladen.\n",
    "\n",
    "### **Ammoniak** \n",
    "\n",
    "$$NH_{3_{stald}} = \\frac{S_{NH_3}}{\\lambda_{fjer}}*$$\n",
    "\n",
    "Hvor:\n",
    "\n",
    "* S<sub>NH<sub>3</sub></sub>: typetal for ammoniak udledning på stalden pr dyre/staldtype = [Tabelværdi](https://seges.sharepoint.com/:x:/r/sites/GreenAction/_layouts/15/Doc.aspx?sourcedoc=%7B6f7ea27f-56d0-4e93-958d-813e05fc9ee0%7D&activeCell=%27Endelig%27!AN1&action=embedview) (kolonne AN) \n",
    "* $\\lambda$<sub>fjer</sub>: typetal = 1000.0 for slagtekyllinger og 100.0 for hønniker/høns. (Dette skyldes at emissioner i regnearket er angivet pr. 1000 slagtekyllinger, pr. 100 høns og pr. 100 hønniker)\n",
    "\n",
    "### **Omregning til CO<sub>2</sub>e:**\n",
    "\n",
    "$$CO_2e = NH_{3_{stald}} \\cdot \\frac{44}{28} \\cdot 0.01 \\cdot \\theta_{N_2O-CO_2}$$\n",
    "\n",
    "Hvor: \n",
    "\n",
    " * $\\theta$<sub>N<sub>2</sub>O-CO<sub>2</sub></sub>: Omregningsfaktor N<sub>2</sub>O til CO<sub>2</sub> = 298.0\n",
    "\n",
    "----\n",
    "\n",
    "### **Lattergas** \n",
    "\n",
    "$$N_2O_{stald} = \\frac{S_{N_2O}}{\\lambda_{fjer}}$$\n",
    "\n",
    "Hvor:\n",
    "\n",
    "* S<sub>N<sub>2</sub>O</sub>: typetal for lattergas udledning på stalden pr dyre/staldtype = [Tabelværdi](https://seges.sharepoint.com/:x:/r/sites/GreenAction/_layouts/15/Doc.aspx?sourcedoc=%7B6f7ea27f-56d0-4e93-958d-813e05fc9ee0%7D&activeCell=%27Endelig%27!AP1&action=embedview) (kolonne AP)\n",
    "* $\\lambda$<sub>fjer</sub>: typetal = 1000.0 for slagtekyllinger og 100.0 for hønniker/høns. (Dette skyldes at emissioner i regnearket er angivet pr. 1000 slagtekyllinger, pr. 100 høns og pr. 100 hønniker)\n",
    "\n",
    "### **Omregning til CO<sub>2</sub>e:**\n",
    "\n",
    "$$CO_2e = N_2O_{stald} \\cdot \\frac{44}{28} \\cdot \\theta_{N_2O-CO_2}$$\n",
    "\n",
    "Hvor: \n",
    "\n",
    " * $\\theta$<sub>N<sub>2</sub>O-CO<sub>2</sub></sub>: Omregningsfaktor N<sub>2</sub>O til CO<sub>2</sub> = 298.0\n",
    "\n",
    "----\n",
    "\n",
    "### **Metan** \n",
    "\n",
    "$$CH_{4_{stald}} = \\frac{S_{CH_4}}{\\lambda_{fjer}}$$\n",
    "\n",
    "Hvor:\n",
    "\n",
    "* S<sub>CH<sub>4</sub></sub>: typetal for metan udledning på stalden pr dyre/staldtype = [Tabelværdi](https://seges.sharepoint.com/:x:/r/sites/GreenAction/_layouts/15/Doc.aspx?sourcedoc=%7B6f7ea27f-56d0-4e93-958d-813e05fc9ee0%7D&activeCell=%27Endelig%27!BR1&action=embedview) (kolonne BR)\n",
    "* $\\lambda$<sub>fjer</sub>: typetal = 1000.0 for slagtekyllinger og 100.0 for hønniker/høns. (Dette skyldes at emissioner i regnearket er angivet pr. 1000 slagtekyllinger, pr. 100 høns og pr. 100 hønniker)\n",
    "\n",
    "### **Omregning til CO<sub>2</sub>e:**\n",
    " $$CO_2e = CH_{4_{stald}} \\cdot \\theta_{CH_4-CO_2}$$\n",
    "\n",
    "Hvor: \n",
    "\n",
    "* $\\theta$<sub>CH<sub>4</sub>-CO<sub>2</sub></sub>: Omregningsfaktor CH<sub>4</sub> til CO<sub>2</sub> = 25.0\n",
    "\n",
    "\n",
    "----\n",
    "\n",
    " ## **Testcases**"
   ]
  },
  {
   "cell_type": "code",
   "execution_count": 9,
   "metadata": {
    "dotnet_interactive": {
     "language": "csharp"
    },
    "polyglot_notebook": {
     "kernelName": "csharp"
    }
   },
   "outputs": [],
   "source": [
    "// konstanter - nix pille\n",
    "double lambda_slagtekylling = 1000.0;\n",
    "double lambda_høns = 100.0;"
   ]
  },
  {
   "attachments": {},
   "cell_type": "markdown",
   "metadata": {},
   "source": [
    "**Slagtekyllinger** - Tilvækstkategori 1. Produktionstid 30 dage (levende vægt ved slagtning 1,75 kg)"
   ]
  },
  {
   "cell_type": "code",
   "execution_count": 10,
   "metadata": {
    "dotnet_interactive": {
     "language": "csharp"
    },
    "polyglot_notebook": {
     "kernelName": "csharp"
    }
   },
   "outputs": [
    {
     "name": "stdout",
     "output_type": "stream",
     "text": [
      "NH3 fra stald: 0,0034 kg\n",
      "N2O fra stald: 0 kg\n",
      "CH4 fra stald: 0,000963 kg\n",
      "NH3 omregnet til CO2e: 0,015921714285714286 kg CO2e\n",
      "N2O omregnet til CO2e: 0 kg CO2e\n",
      "CH4 omregnet til CO2e: 0,024075 kg CO2e\n",
      "I alt på stald: 0,03999671428571429 kg CO2e\n"
     ]
    }
   ],
   "source": [
    "// Input - Test andre scenarier, ved at ændre i input-værdierne herunder\n",
    "double S_NH3 = 3.40;\n",
    "double S_N2O = 0.0;\n",
    "double S_CH4 = 0.9630;\n",
    "\n",
    "// beregninger\n",
    "double NH3_stald = S_NH3 / lambda_slagtekylling;\n",
    "double N20_stald = S_N2O/ lambda_slagtekylling;\n",
    "double CH4_stald = S_CH4 / lambda_slagtekylling;\n",
    "\n",
    "Console.WriteLine($\"NH3 fra stald: {NH3_stald} kg\");\n",
    "Console.WriteLine($\"N2O fra stald: {N20_stald} kg\");\n",
    "Console.WriteLine($\"CH4 fra stald: {CH4_stald} kg\");\n",
    "Console.WriteLine($\"NH3 omregnet til CO2e: {NH3_stald * 44.0/28.0 * 0.01 * 298.0} kg CO2e\");\n",
    "Console.WriteLine($\"N2O omregnet til CO2e: {N20_stald * 44.0/28.0 * 298.0} kg CO2e\");\n",
    "Console.WriteLine($\"CH4 omregnet til CO2e: {CH4_stald * 25.0} kg CO2e\");\n",
    "Console.WriteLine($\"I alt på stald: {NH3_stald * 44.0/28.0 * 0.01 * 298.0 + N20_stald * 44.0/28.0 * 298.0 + CH4_stald * 25.0} kg CO2e\");"
   ]
  }
 ],
 "metadata": {
  "kernelspec": {
   "display_name": ".NET (C#)",
   "language": "C#",
   "name": ".net-csharp"
  },
  "language_info": {
   "name": "polyglot-notebook"
  },
  "polyglot_notebook": {
   "kernelInfo": {
    "defaultKernelName": "csharp",
    "items": [
     {
      "aliases": [],
      "name": ".NET"
     },
     {
      "aliases": [
       "C#",
       "c#"
      ],
      "languageName": "C#",
      "name": "csharp"
     },
     {
      "aliases": [
       "F#",
       "f#"
      ],
      "languageName": "F#",
      "name": "fsharp"
     },
     {
      "aliases": [],
      "languageName": "HTML",
      "name": "html"
     },
     {
      "aliases": [
       "js"
      ],
      "languageName": "JavaScript",
      "name": "javascript"
     },
     {
      "aliases": [],
      "languageName": "KQL",
      "name": "kql"
     },
     {
      "aliases": [],
      "languageName": "Mermaid",
      "name": "mermaid"
     },
     {
      "aliases": [
       "powershell"
      ],
      "languageName": "PowerShell",
      "name": "pwsh"
     },
     {
      "aliases": [],
      "languageName": "SQL",
      "name": "sql"
     },
     {
      "aliases": [],
      "name": "value"
     },
     {
      "aliases": [
       "frontend"
      ],
      "name": "vscode"
     },
     {
      "aliases": [],
      "name": "webview"
     }
    ]
   }
  }
 },
 "nbformat": 4,
 "nbformat_minor": 2
}
