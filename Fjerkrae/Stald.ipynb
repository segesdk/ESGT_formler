{
 "cells": [
  {
   "attachments": {},
   "cell_type": "markdown",
   "metadata": {
    "dotnet_interactive": {
     "language": "csharp"
    },
    "polyglot_notebook": {
     "kernelName": "csharp"
    }
   },
   "source": [
    "# **Staldudledning fra fjerkræ**\n",
    "\n",
    "## **Intro**\n",
    "\n",
    "Udledningen fra stalden findes ved at summere udledningen fra de tre gasarter ammoniak (NH<sub>3</sub>), lattergas (N<sub>2</sub>O) og metan (CH<sub>4</sub>).\n",
    "\n",
    "De tre gasarter skal beregnes hver for sig og gemmes, så deres andel kan præsenteres i brugerfladen.\n",
    "\n",
    "### **Ammoniak** \n",
    "\n",
    "$$NH_{3_{stald}} = \\frac{S_{NH_3} \\cdot A}{\\lambda_{fjer}} $$\n",
    "\n",
    "Hvor:\n",
    "\n",
    "* S<sub>NH<sub>3</sub></sub>: typetal for ammoniak udledning på stalden pr dyre/staldtype = [Tabelværdi](https://seges.sharepoint.com/:x:/r/sites/GreenAction/_layouts/15/Doc.aspx?sourcedoc=%7B6f7ea27f-56d0-4e93-958d-813e05fc9ee0%7D&activeCell=%27Endelig%27!AN1&action=embedview) (kolonne AN) \n",
    "\n",
    "\n",
    "        \n",
    "\n",
    "* A : Antal dyr opstaldet på staldtypen = input fra bruger\n",
    "* $\\lambda$<sub>fjer</sub>: typetal = 1000.0 for slagtekyllinger og 100.0 for hønniker/høns. (Dette skyldes at emissioner i regnearket er angivet pr. 1000 slagtekyllinger, pr. 100 høns og pr. 100 hønniker)\n",
    "\n",
    "### **Omregning til CO<sub>2</sub>e:**\n",
    "\n",
    "$$CO_2e = NH_{3_{stald}} \\cdot \\frac{44}{28} \\cdot 0.01 \\cdot \\theta_{N_2O-CO_2}$$\n",
    "\n",
    "Hvor: \n",
    "\n",
    " * $\\theta$<sub>N<sub>2</sub>O-CO<sub>2</sub></sub>: Omregningsfaktor N<sub>2</sub>O til CO<sub>2</sub> = 298.0\n",
    "\n",
    "----\n",
    "\n",
    "### **Lattergas** \n",
    "\n",
    "$$N_2O_{stald} = \\frac{S_{N_2O} \\cdot A}{\\lambda_{fjer}} $$\n",
    "\n",
    "Hvor:\n",
    "\n",
    "* S<sub>N<sub>2</sub>O</sub>: typetal for lattergas udledning på stalden pr dyre/staldtype = [Tabelværdi](https://seges.sharepoint.com/:x:/r/sites/GreenAction/_layouts/15/Doc.aspx?sourcedoc=%7B6f7ea27f-56d0-4e93-958d-813e05fc9ee0%7D&activeCell=%27Endelig%27!AP1&action=embedview) (kolonne AP)\n",
    "* A : Antal dyr opstaldet på staldtypen = input fra bruger\n",
    "* $\\lambda$<sub>fjer</sub>: typetal = 1000.0 for slagtekyllinger og 100.0 for hønniker/høns. (Dette skyldes at emissioner i regnearket er angivet pr. 1000 slagtekyllinger, pr. 100 høns og pr. 100 hønniker)\n",
    "\n",
    "### **Omregning til CO<sub>2</sub>e:**\n",
    "\n",
    "$$CO_2e = N_2O_{stald} \\cdot \\frac{44}{28} \\cdot \\theta_{N_2O-CO_2} $$\n",
    "\n",
    "Hvor: \n",
    "\n",
    " * $\\theta$<sub>N<sub>2</sub>O-CO<sub>2</sub></sub>: Omregningsfaktor N<sub>2</sub>O til CO<sub>2</sub> = 298.0\n",
    "\n",
    "----\n",
    "\n",
    "### **Metan** \n",
    "\n",
    "$$CH_{4_{stald}} = \\frac{S_{CH_4} \\cdot A}{\\lambda_{fjer}} $$\n",
    "\n",
    "Hvor:\n",
    "\n",
    "* S<sub>CH<sub>4</sub></sub>: typetal for metan udledning på stalden pr dyre/staldtype = [Tabelværdi](https://seges.sharepoint.com/:x:/r/sites/GreenAction/_layouts/15/Doc.aspx?sourcedoc=%7B6f7ea27f-56d0-4e93-958d-813e05fc9ee0%7D&activeCell=%27Endelig%27!BR1&action=embedview) (kolonne BR)\n",
    "* A : Antal dyr opstaldet på staldtypen = input fra bruger\n",
    "* $\\lambda$<sub>fjer</sub>: typetal = 1000.0 for slagtekyllinger og 100.0 for hønniker/høns. (Dette skyldes at emissioner i regnearket er angivet pr. 1000 slagtekyllinger, pr. 100 høns og pr. 100 hønniker)\n",
    "\n",
    "### **Omregning til CO<sub>2</sub>e:**\n",
    " $$CO_2e = CH_{4_{stald}} \\cdot \\theta_{CH_4-CO_2} $$\n",
    "\n",
    "Hvor: \n",
    "\n",
    "* $\\theta$<sub>CH<sub>4</sub>-CO<sub>2</sub></sub>: Omregningsfaktor CH<sub>4</sub> til CO<sub>2</sub> = 25.0\n",
    "\n",
    "\n",
    "----\n",
    "\n",
    " ## **Testcases**"
   ]
  }
 ],
 "metadata": {
  "kernelspec": {
   "display_name": ".NET (C#)",
   "language": "C#",
   "name": ".net-csharp"
  },
  "polyglot_notebook": {
   "kernelInfo": {
    "defaultKernelName": "csharp",
    "items": [
     {
      "aliases": [
       "c#",
       "C#"
      ],
      "languageName": "C#",
      "name": "csharp"
     },
     {
      "aliases": [
       "frontend"
      ],
      "name": "vscode"
     },
     {
      "aliases": [],
      "name": ".NET"
     },
     {
      "aliases": [
       "f#",
       "F#"
      ],
      "languageName": "F#",
      "name": "fsharp"
     },
     {
      "aliases": [],
      "languageName": "HTML",
      "name": "html"
     },
     {
      "aliases": [
       "js"
      ],
      "languageName": "JavaScript",
      "name": "javascript"
     },
     {
      "aliases": [],
      "languageName": "KQL",
      "name": "kql"
     },
     {
      "aliases": [],
      "languageName": "Mermaid",
      "name": "mermaid"
     },
     {
      "aliases": [
       "powershell"
      ],
      "languageName": "PowerShell",
      "name": "pwsh"
     },
     {
      "aliases": [],
      "languageName": "SQL",
      "name": "sql"
     },
     {
      "aliases": [],
      "name": "value"
     },
     {
      "aliases": [],
      "name": "webview"
     }
    ]
   }
  }
 },
 "nbformat": 4,
 "nbformat_minor": 2
}
