{
 "cells": [
  {
   "attachments": {},
   "cell_type": "markdown",
   "metadata": {},
   "source": [
    "# **Hjemmeavlet hel hvede/råvarer**\n",
    "\n",
    "## **Intro**\n",
    "I ESGreen Tool skal brugeren oplyse pr hold, hvor stor en andel hel hvede/råvarer i deres foderblandinger, de selv dyrker. Denne andel skal nemlig trækkes fra foderets aftryk, når det opgøres på bedriftsniveau.\n",
    "\n",
    "### **Beregning af CO<sub>2</sub> fra hjemmeavlet hel hvede/råvarer afhænger af dyretypen** \n",
    "\n",
    "**Slagtekyllinger:**\n",
    "\n",
    "$$CO_2e_{hjemme} = T_{total} \\cdot A_{X} \\cdot (100\\% - I_{X})\\cdot CO_2e_{X}$$\n",
    "\n",
    "Hvor:\n",
    "\n",
    "* T<sub>total</sub>: Den totale mængde foder pr dyr = standard eller input fra bruger [kg]\n",
    "* A<sub>X</sub> : Andelen af hel hvede/råvarer i foderet = standard eller input fra bruger [%]\n",
    "* I<sub>X</sub> : Andelen af indkøbt hel hvede/råvarer i foderet (resterende antages som værende hjemmeavlet) = standard eller input fra bruger [%]\n",
    "* CO<sub>2</sub>e<sub>X</sub>: Mængden af CO<sub>2</sub>e i hjemmeavlet hel hvede/råvarer m/u dLUC = standard eller input fra bruger [kg]\n",
    "\n",
    "**Høner:**\n",
    "\n",
    "$$CO_2e_{hjemme} = \\frac{(M_{korn} - I_{korn}) \\cdot CO_2e_{korn}}{A_{høne}}$$\n",
    "\n",
    "Hvor:\n",
    "\n",
    "* M<sub>korn</sub> : Mængden af korn = standard eller input fra bruger [kg]\n",
    "* I<sub>korn</sub> : Mængden af indkøbt korn = standard eller input fra bruger [kg]\n",
    "* CO<sub>2</sub>e<sub>korn</sub>: Mængden af CO<sub>2</sub>e i hjemmeavlet korn m/u dLUC = standard eller input fra bruger [kg]\n",
    "* A<sub>høne</sub>: antal høner producert på holdet i alt = Beregnes i [dødelighed for høns](https://github.com/segesdk/ESGT_formler/blob/main/Fjerkrae/D%C3%B8delighed_for_h%C3%B8ns.ipynb) [stk]\n",
    "\n",
    "\n",
    "----\n",
    "\n",
    " ## **Testcases**"
   ]
  },
  {
   "cell_type": "markdown",
   "metadata": {},
   "source": [
    "**Slagtekyllinger**"
   ]
  },
  {
   "cell_type": "code",
   "execution_count": 5,
   "metadata": {
    "dotnet_interactive": {
     "language": "csharp"
    },
    "polyglot_notebook": {
     "kernelName": "csharp"
    },
    "vscode": {
     "languageId": "polyglot-notebook"
    }
   },
   "outputs": [
    {
     "name": "stdout",
     "output_type": "stream",
     "text": [
      "CO2e fra hjemmeavlet foder: 9.24 kg CO2e\r\n"
     ]
    }
   ],
   "source": [
    "// Input - Test andre scenarier, ved at ændre i input-værdierne herunder\n",
    "double T_total = 55;\n",
    "double A_hvede = 0.50;\n",
    "double I_hvede = 0.40;\n",
    "double CO2e_egen = 0.56;\n",
    "\n",
    "double CO2_hjemme = T_total * A_hvede * (1 - I_hvede) * CO2e_egen;\n",
    "Console.WriteLine($\"CO2e fra hjemmeavlet foder: {CO2_hjemme} kg CO2e\");"
   ]
  },
  {
   "cell_type": "markdown",
   "metadata": {},
   "source": [
    "**Høner**"
   ]
  },
  {
   "cell_type": "code",
   "execution_count": 1,
   "metadata": {
    "polyglot_notebook": {
     "kernelName": "csharp"
    },
    "vscode": {
     "languageId": "polyglot-notebook"
    }
   },
   "outputs": [
    {
     "name": "stdout",
     "output_type": "stream",
     "text": [
      "CO2e fra hjemmeavlet foder: 0.5226666666666667 kg CO2e\r\n"
     ]
    }
   ],
   "source": [
    "// Input - Test andre scenarier, ved at ændre i input-værdierne herunder\n",
    "double M_korn = 3000;\n",
    "double I_korn = 1600;\n",
    "double CO2e_egen = 0.56;\n",
    "double A_hone = 1500.0;\n",
    "\n",
    "double CO2_hjemme = (M_korn - I_korn) * CO2e_egen / A_hone;\n",
    "Console.WriteLine($\"CO2e fra hjemmeavlet foder: {CO2_hjemme} kg CO2e\");"
   ]
  }
 ],
 "metadata": {
  "kernelspec": {
   "display_name": ".NET (C#)",
   "language": "C#",
   "name": ".net-csharp"
  },
  "language_info": {
   "name": "python",
   "version": "3.10.9 (tags/v3.10.9:1dd9be6, Dec  6 2022, 20:01:21) [MSC v.1934 64 bit (AMD64)]"
  },
  "orig_nbformat": 4,
  "polyglot_notebook": {
   "kernelInfo": {
    "defaultKernelName": "csharp",
    "items": [
     {
      "aliases": [],
      "name": "csharp"
     }
    ]
   }
  },
  "vscode": {
   "interpreter": {
    "hash": "26de051ba29f2982a8de78e945f0abaf191376122a1563185a90213a26c5da77"
   }
  }
 },
 "nbformat": 4,
 "nbformat_minor": 2
}
