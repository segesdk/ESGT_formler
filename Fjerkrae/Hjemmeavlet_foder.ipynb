{
 "cells": [
  {
   "attachments": {},
   "cell_type": "markdown",
   "metadata": {},
   "source": [
    "# **Hjemmeavlet hel hvede/råvarer**\n",
    "\n",
    "## **Intro**\n",
    "I ESGreen Tool skal brugeren oplyse pr hold, hvor stor en andel hel hvede/råvarer i deres foderblandinger, de selv dyrker. Denne andel skal nemlig trækkes fra foderets aftryk, når det opgøres på bedriftsniveau.\n",
    "\n",
    "### **Beregning af CO<sub>2</sub> fra hjemmeavlet hel hvede/råvarer pr dyr** \n",
    "\n",
    "$$CO_2e_{hjemme} = (T_{total} \\cdot A_{X} - T_{total} \\cdot A_{X} \\cdot I_{X}) \\cdot CO_2e_{X}$$\n",
    "\n",
    "Hvor:\n",
    "\n",
    "* T<sub>total</sub>: Den totale mængde foder pr dyr = standard eller input fra bruger [kg]\n",
    "* A<sub>X</sub> : Andelen af hel hvede/råvarer i foderet = standard eller input fra bruger [%]\n",
    "* I<sub>X</sub> : Andelen af indkøbt hel hvede/råvarer i foderet (resterende antages som værende hjemmeavlet) = standard eller input fra bruger [%]\n",
    "* CO<sub>2</sub>e<sub>X</sub>: Mængden af CO<sub>2</sub>e i hjemmeavlet hel hvede/råvarer m/u dLUC = standard eller input fra bruger [kg]\n",
    "\n",
    "----\n",
    "\n",
    " ## **Testcases**"
   ]
  },
  {
   "cell_type": "code",
   "execution_count": 1,
   "metadata": {
    "dotnet_interactive": {
     "language": "csharp"
    },
    "polyglot_notebook": {
     "kernelName": "csharp"
    },
    "vscode": {
     "languageId": "polyglot-notebook"
    }
   },
   "outputs": [],
   "source": [
    "// konstanter - nix pille"
   ]
  },
  {
   "attachments": {},
   "cell_type": "markdown",
   "metadata": {},
   "source": [
    "**Slagtekyllinger** - Tilvækstkategori 1. Produktionstid 30 dage (levende vægt ved slagtning 1,75 kg)"
   ]
  },
  {
   "cell_type": "code",
   "execution_count": 2,
   "metadata": {
    "dotnet_interactive": {
     "language": "csharp"
    },
    "polyglot_notebook": {
     "kernelName": "csharp"
    },
    "vscode": {
     "languageId": "polyglot-notebook"
    }
   },
   "outputs": [],
   "source": [
    "// Input - Test andre scenarier, ved at ændre i input-værdierne herunder\n",
    "double T_total = 2.83;\n",
    "double A_hvede = 0.0;\n",
    "double I_hvede = 1.0;\n",
    "double CO2e_egen = 1.4;"
   ]
  }
 ],
 "metadata": {
  "kernelspec": {
   "display_name": ".NET (C#)",
   "language": "C#",
   "name": ".net-csharp"
  },
  "language_info": {
   "name": "python",
   "version": "3.10.9 (tags/v3.10.9:1dd9be6, Dec  6 2022, 20:01:21) [MSC v.1934 64 bit (AMD64)]"
  },
  "orig_nbformat": 4,
  "polyglot_notebook": {
   "kernelInfo": {
    "defaultKernelName": "csharp",
    "items": [
     {
      "aliases": [],
      "name": "csharp"
     }
    ]
   }
  },
  "vscode": {
   "interpreter": {
    "hash": "26de051ba29f2982a8de78e945f0abaf191376122a1563185a90213a26c5da77"
   }
  }
 },
 "nbformat": 4,
 "nbformat_minor": 2
}
