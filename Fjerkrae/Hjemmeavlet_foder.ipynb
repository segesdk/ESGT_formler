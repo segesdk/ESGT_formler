{
 "cells": [
  {
   "attachments": {},
   "cell_type": "markdown",
   "metadata": {},
   "source": [
    "# **Hjemmeavlet hel hvede/råvarer**\n",
    "\n",
    "## **Intro**\n",
    "I ESGreen Tool skal brugeren oplyse pr hold, hvor stor en andel hel hvede/råvarer i deres foderblandinger, de selv dyrker. Denne andel skal nemlig trækkes fra foderets aftryk, når det opgøres på bedriftsniveau.\n",
    "\n",
    "### **Beregning af CO<sub>2</sub> fra hjemmeavlet hel hvede/råvarer pr dyr** \n",
    "\n",
    "$$CO_2e_{hjemme} = (T_{total} \\cdot A_{X} - T_{total} \\cdot A_{X} \\cdot I_{X}) \\cdot CO_2e_{X}$$\n",
    "\n",
    "Hvor:\n",
    "\n",
    "* T<sub>total</sub>: Den totale mængde foder pr dyr = standard eller input fra bruger [kg]\n",
    "* A<sub>X</sub> : Andelen af hel hvede/råvarer i foderet = standard eller input fra bruger [%]\n",
    "* I<sub>X</sub> : Andelen af indkøbt hel hvede/råvarer i foderet (resterende antages som værende hjemmeavlet) = standard eller input fra bruger [%]\n",
    "* CO<sub>2</sub>e<sub>X</sub>: Mængden af CO<sub>2</sub>e i hjemmeavlet hel hvede/råvarer m/u dLUC = standard eller input fra bruger [kg]\n",
    "\n",
    "----\n",
    "\n",
    " ## **Testcases**"
   ]
  },
  {
   "cell_type": "code",
   "execution_count": 5,
   "metadata": {
    "dotnet_interactive": {
     "language": "csharp"
    },
    "polyglot_notebook": {
     "kernelName": "csharp"
    },
    "vscode": {
     "languageId": "polyglot-notebook"
    }
   },
   "outputs": [],
   "source": [
    "// konstanter - nix pille\n",
    "double CO2e_fuld = 0.6635;\n",
    "double CO2e_tilskud = 0.6605;\n",
    "double CO2e_indkob = 0.4000;\n",
    "double CO2e_hjemme = 0.074;"
   ]
  },
  {
   "attachments": {},
   "cell_type": "markdown",
   "metadata": {},
   "source": [
    "**Slagtekyllinger** - Tilvækstkategori 1. Produktionstid 30 dage (levende vægt ved slagtning 1,75 kg)"
   ]
  },
  {
   "cell_type": "code",
   "execution_count": 6,
   "metadata": {
    "dotnet_interactive": {
     "language": "csharp"
    },
    "polyglot_notebook": {
     "kernelName": "csharp"
    },
    "vscode": {
     "languageId": "polyglot-notebook"
    }
   },
   "outputs": [
    {
     "name": "stdout",
     "output_type": "stream",
     "text": [
      "Fuldfoder: 0 kg CO2e\n",
      "Tilskudsfoder: 1.3084505 kg CO2e\n",
      "Indkøbt hvede: 0.3396 kg CO2e\n",
      "Hjemmeavlet hel hvede: 0 kg CO2e\n",
      "Slagtekyllingefoder pr slagtekylling: 1.6480505 kg CO2e\n"
     ]
    },
    {
     "data": {
      "text/html": [
       "<div class=\"dni-plaintext\"><pre>&lt;null&gt;</pre></div><style>\r\n",
       ".dni-code-hint {\r\n",
       "    font-style: italic;\r\n",
       "    overflow: hidden;\r\n",
       "    white-space: nowrap;\r\n",
       "}\r\n",
       ".dni-treeview {\r\n",
       "    white-space: nowrap;\r\n",
       "}\r\n",
       ".dni-treeview td {\r\n",
       "    vertical-align: top;\r\n",
       "    text-align: start;\r\n",
       "}\r\n",
       "details.dni-treeview {\r\n",
       "    padding-left: 1em;\r\n",
       "}\r\n",
       "table td {\r\n",
       "    text-align: start;\r\n",
       "}\r\n",
       "table tr { \r\n",
       "    vertical-align: top; \r\n",
       "    margin: 0em 0px;\r\n",
       "}\r\n",
       "table tr td pre \r\n",
       "{ \r\n",
       "    vertical-align: top !important; \r\n",
       "    margin: 0em 0px !important;\r\n",
       "} \r\n",
       "table th {\r\n",
       "    text-align: start;\r\n",
       "}\r\n",
       "</style>"
      ]
     },
     "metadata": {},
     "output_type": "display_data"
    }
   ],
   "source": [
    "// Input - Test andre scenarier, ved at ændre i input-værdierne herunder\n",
    "double T_total = 2.83;\n",
    "double A_fuld = 0.0;\n",
    "double A_tilskud = 0.70;\n",
    "double A_hvede = 0.30;\n",
    "double A_indkob = 1.0;\n",
    "\n",
    "if (A_fuld + A_tilskud + A_hvede != 1.0) {\n",
    "    Console.WriteLine(\"OBS A_fuld + A_tilskud + A_hvede skal give 100%\");\n",
    "    return;\n",
    "}\n",
    "\n",
    "// beregninger\n",
    "\n",
    "double F_fuld = T_total * A_fuld * CO2e_fuld;\n",
    "double F_tilskud = T_total * A_tilskud * CO2e_tilskud;\n",
    "double F_indkob = T_total * A_hvede * A_indkob * CO2e_indkob;\n",
    "double F_hjemme = (T_total * A_hvede - T_total * A_hvede * A_indkob) * CO2e_hjemme;\n",
    "\n",
    "double CO2e_slagtekyllingefoder = F_fuld + F_tilskud + F_indkob - F_hjemme;\n",
    "Console.WriteLine($\"Fuldfoder: {F_fuld} kg CO2e\");\n",
    "Console.WriteLine($\"Tilskudsfoder: {F_tilskud} kg CO2e\");\n",
    "Console.WriteLine($\"Indkøbt hvede: {F_indkob} kg CO2e\");\n",
    "Console.WriteLine($\"Hjemmeavlet hel hvede: {F_hjemme} kg CO2e\");\n",
    "Console.WriteLine($\"Slagtekyllingefoder pr slagtekylling: {CO2e_slagtekyllingefoder} kg CO2e\");"
   ]
  }
 ],
 "metadata": {
  "kernelspec": {
   "display_name": "Python 3.10.8 64-bit",
   "language": "python",
   "name": "python3"
  },
  "language_info": {
   "name": "python",
   "version": "3.10.9 (tags/v3.10.9:1dd9be6, Dec  6 2022, 20:01:21) [MSC v.1934 64 bit (AMD64)]"
  },
  "orig_nbformat": 4,
  "vscode": {
   "interpreter": {
    "hash": "26de051ba29f2982a8de78e945f0abaf191376122a1563185a90213a26c5da77"
   }
  }
 },
 "nbformat": 4,
 "nbformat_minor": 2
}
