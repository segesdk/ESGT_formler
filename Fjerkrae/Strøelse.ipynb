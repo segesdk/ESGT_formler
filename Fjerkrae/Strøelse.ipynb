{
 "cells": [
  {
   "cell_type": "markdown",
   "metadata": {},
   "source": [
    "# **Strøelse til fjerkræ**\n",
    "\n",
    "### **Beregning af CO<sub>2</sub> fra strøelse** \n",
    "\n",
    "$$CO_2e_{strøelse} = V_{h} \\cdot \\theta_{h} + V_{s} \\cdot \\theta_{s} $$\n",
    "\n",
    "Hvor:\n",
    "\n",
    "* V<sub>h</sub>: mængden af indkøbt halm = input fra bruger [ton]\n",
    "* $\\theta$<sub>h</sub> : omregningsfaktor for halm = 51.0 [kg/ton]\n",
    "* V<sub>s</sub>: mængden af indkøbt spåner/savsmuld = input fra bruger [ton]\n",
    "* $\\theta$<sub>s</sub> : omregningsfaktor for spåner/savsmuld = 15.0 [kg/ton]\n",
    "\n",
    "\n",
    "----\n",
    "\n",
    " ## **Testcases**"
   ]
  },
  {
   "cell_type": "code",
   "execution_count": null,
   "metadata": {
    "dotnet_interactive": {
     "language": "csharp"
    },
    "vscode": {
     "languageId": "dotnet-interactive.csharp"
    }
   },
   "outputs": [],
   "source": []
  }
 ],
 "metadata": {
  "kernelspec": {
   "display_name": ".NET (C#)",
   "language": "C#",
   "name": ".net-csharp"
  },
  "language_info": {
   "file_extension": ".cs",
   "mimetype": "text/x-csharp",
   "name": "C#",
   "pygments_lexer": "csharp",
   "version": "9.0"
  },
  "orig_nbformat": 4,
  "vscode": {
   "interpreter": {
    "hash": "26de051ba29f2982a8de78e945f0abaf191376122a1563185a90213a26c5da77"
   }
  }
 },
 "nbformat": 4,
 "nbformat_minor": 2
}
