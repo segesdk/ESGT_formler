{
 "cells": [
  {
   "attachments": {},
   "cell_type": "markdown",
   "metadata": {},
   "source": [
    "# **Strøelse til fjerkræ**\n",
    "\n",
    "### **Beregning af CO<sub>2</sub> fra strøelse** \n",
    "\n",
    "$$CO_2e_{strøelse} = \\frac{V_{h} \\cdot \\theta_{h} + V_{s} \\cdot \\theta_{s}}{A_{fjær}} $$\n",
    "\n",
    "Hvor:\n",
    "\n",
    "* V<sub>h</sub>: mængden af halm = input fra bruger [ton]\n",
    "* $\\theta$<sub>h</sub> : omregningsfaktor for halm = 51.0 [kg/ton]\n",
    "* V<sub>s</sub>: mængden af spåner/savsmuld = input fra bruger [ton]\n",
    "* $\\theta$<sub>s</sub> : omregningsfaktor for spåner/savsmuld = 15.0 [kg/ton]\n",
    "* A<sub>fjær</sub>: det totale antal producerede fjærkræ som strøelsen skal fordeles på = input fra bruger\n",
    "\n",
    "\n",
    "----\n",
    "\n",
    " ## **Testcases**"
   ]
  },
  {
   "cell_type": "code",
   "execution_count": null,
   "metadata": {
    "dotnet_interactive": {
     "language": "csharp"
    }
   },
   "outputs": [],
   "source": []
  }
 ],
 "metadata": {
  "kernelspec": {
   "display_name": ".NET (C#)",
   "language": "C#",
   "name": ".net-csharp"
  },
  "language_info": {
   "name": "polyglot-notebook"
  },
  "polyglot_notebook": {
   "kernelInfo": {
    "defaultKernelName": "csharp",
    "items": [
     {
      "aliases": [],
      "name": ".NET"
     },
     {
      "aliases": [
       "C#",
       "c#"
      ],
      "languageName": "C#",
      "name": "csharp"
     },
     {
      "aliases": [
       "F#",
       "f#"
      ],
      "languageName": "F#",
      "name": "fsharp"
     },
     {
      "aliases": [],
      "languageName": "HTML",
      "name": "html"
     },
     {
      "aliases": [],
      "languageName": "KQL",
      "name": "kql"
     },
     {
      "aliases": [],
      "languageName": "Mermaid",
      "name": "mermaid"
     },
     {
      "aliases": [
       "powershell"
      ],
      "languageName": "PowerShell",
      "name": "pwsh"
     },
     {
      "aliases": [],
      "languageName": "SQL",
      "name": "sql"
     },
     {
      "aliases": [],
      "name": "value"
     },
     {
      "aliases": [
       "frontend"
      ],
      "name": "vscode"
     }
    ]
   }
  }
 },
 "nbformat": 4,
 "nbformat_minor": 2
}
