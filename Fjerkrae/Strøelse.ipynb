{
 "cells": [
  {
   "attachments": {},
   "cell_type": "markdown",
   "metadata": {},
   "source": [
    "# **Strøelse til fjerkræ**\n",
    "\n",
    "## **Indledning**\n",
    "\n",
    "Udledning fra strøelse til fjerkræ deles op i scope 1 og scope 3:\n",
    "\n",
    "Halm, spåner og spagnum udleder alle CO2e ved produktion og transport (scope 3).\n",
    "Derudover udleder spagnum CO2 ved nedbrydning i stalden (scope1)\n",
    "\n",
    "### **Beregning af CO<sub>2</sub> fra strøelse (scope 1)** \n",
    "\n",
    "$$CO_2e_{strøelse} = \\frac{V_{sp} \\cdot \\theta_{sp1}}{A_{fjer}}$$\n",
    "\n",
    "Hvor:\n",
    "\n",
    "* V<sub>sp</sub>: mængden af spagnum = input fra bruger [ton]\n",
    "* $\\theta$<sub>sp1</sub> : omregningsfaktor for spagnum nedbrydning = 815 [kg CO2e/ton]\n",
    "* A<sub>fjer</sub>: det totale antal producerede fjerkræ som strøelsen skal fordeles på = input fra bruger\n",
    "\n",
    "\n",
    "### **Beregning af CO<sub>2</sub> fra strøelse (scope 3)** \n",
    "\n",
    "$$CO_2e_{strøelse} = \\frac{V_{h} \\cdot \\theta_{h} + V_{s} \\cdot \\theta_{s} + V_{sp} \\cdot \\theta_{sp3}}{A_{fjer}}$$\n",
    "\n",
    "Hvor:\n",
    "\n",
    "* V<sub>h</sub>: mængden af halm = input fra bruger [ton]\n",
    "* $\\theta$<sub>h</sub> : omregningsfaktor for halm = 51.0 [kg CO2e/ton]\n",
    "* V<sub>s</sub>: mængden af spåner/savsmuld = input fra bruger [ton]\n",
    "* $\\theta$<sub>s</sub> : omregningsfaktor for spåner/savsmuld = 122.0 [kg CO2e/ton]\n",
    "* V<sub>sp</sub>: mængden af spagnum = input fra bruger [ton]\n",
    "* A<sub>fjer</sub>: det totale antal producerede fjærkræ som strøelsen skal fordeles på = input fra bruger\n",
    "* $\\theta$<sub>sp3</sub> : omregningsfaktor for spagnum produktion og transport [kg CO2e/ton]. Beregnes<sup>1</sup> som:\n",
    "\n",
    "$$\\theta_{sp} = 154 + \\frac{199}{1000} \\cdot \\theta_{CH_4-CO_2} + \\frac{14}{1000} \\cdot \\theta_{N_2O-CO_2}$$\n",
    "\n",
    "* $\\theta$<sub>CH<sub>4</sub>-CO<sub>2</sub></sub>: Omregningsfaktor CH<sub>4</sub> til CO<sub>2</sub> = 28.0\n",
    "* $\\theta$<sub>N<sub>2</sub>O-CO<sub>2</sub></sub>: Omregningsfaktor N<sub>2</sub>O til CO<sub>2</sub> = 265.0\n",
    "\n",
    "\n",
    "[1] *Boldrin, A., Hartling, K. R., Laugen, M., & Christensen, T. H. (2010). Environmental inventory modelling of the use of compost and peat in growth media preparation. Resources, Conservation and Recycling, 54(12), 1250-\n",
    "1260. https://doi.org/10.1016/j.resconrec.2010.04.003* (pg. 13)\n",
    "\n",
    "\n",
    "----\n",
    "\n",
    " ## **Testcases**"
   ]
  },
  {
   "cell_type": "code",
   "execution_count": 13,
   "metadata": {
    "dotnet_interactive": {
     "language": "csharp"
    }
   },
   "outputs": [],
   "source": [
    "// konstanter - nix pille\n",
    "double lambda_h = 51.0;\n",
    "double lambda_s = 122.0;\n",
    "double lambda_sp1 = 815.0;\n",
    "double lambda_sp3 = 154.0 + 199.0/1000.0 * 28.0 + 14.0/1000.0 * 265.0;"
   ]
  },
  {
   "attachments": {},
   "cell_type": "markdown",
   "metadata": {},
   "source": [
    "**Slagtekyllinger** - Tilvækstkategori 1. Produktionstid 30 dage (levende vægt ved slagtning 1,75 kg)"
   ]
  },
  {
   "cell_type": "code",
   "execution_count": 14,
   "metadata": {
    "dotnet_interactive": {
     "language": "csharp"
    },
    "polyglot_notebook": {
     "kernelName": "csharp"
    }
   },
   "outputs": [
    {
     "name": "stdout",
     "output_type": "stream",
     "text": [
      "CO2e fra strøelse scope 1: 12.225 kg CO2e\n",
      "CO2e fra strøelse scope 3: 10.216716 kg CO2e\n"
     ]
    }
   ],
   "source": [
    "// Input - Test andre scenarier, ved at ændre i input-værdierne herunder\n",
    "double A_fjer = 1000;\n",
    "double V_h = 150.0;\n",
    "double V_s = 0.9630;\n",
    "double V_sp = 15.0;\n",
    "\n",
    "// beregninger\n",
    "\n",
    "double CO2e_stroelse_scope1 = V_sp * lambda_sp1 / A_fjer;\n",
    "double CO2e_stroelse_scope3 = (V_h * lambda_h + V_s * lambda_s + V_sp * lambda_sp3) / A_fjer;\n",
    "\n",
    "Console.WriteLine($\"CO2e fra strøelse scope 1: {CO2e_stroelse_scope1} kg CO2e\");\n",
    "Console.WriteLine($\"CO2e fra strøelse scope 3: {CO2e_stroelse_scope3} kg CO2e\");"
   ]
  },
  {
   "attachments": {},
   "cell_type": "markdown",
   "metadata": {},
   "source": []
  }
 ],
 "metadata": {
  "kernelspec": {
   "display_name": ".NET (C#)",
   "language": "C#",
   "name": ".net-csharp"
  },
  "language_info": {
   "name": "polyglot-notebook"
  },
  "polyglot_notebook": {
   "kernelInfo": {
    "defaultKernelName": "csharp",
    "items": [
     {
      "aliases": [],
      "name": ".NET"
     },
     {
      "aliases": [
       "C#",
       "c#"
      ],
      "languageName": "C#",
      "name": "csharp"
     },
     {
      "aliases": [
       "F#",
       "f#"
      ],
      "languageName": "F#",
      "name": "fsharp"
     },
     {
      "aliases": [],
      "languageName": "HTML",
      "name": "html"
     },
     {
      "aliases": [],
      "languageName": "KQL",
      "name": "kql"
     },
     {
      "aliases": [],
      "languageName": "Mermaid",
      "name": "mermaid"
     },
     {
      "aliases": [
       "powershell"
      ],
      "languageName": "PowerShell",
      "name": "pwsh"
     },
     {
      "aliases": [],
      "languageName": "SQL",
      "name": "sql"
     },
     {
      "aliases": [],
      "name": "value"
     },
     {
      "aliases": [
       "frontend"
      ],
      "name": "vscode"
     }
    ]
   }
  }
 },
 "nbformat": 4,
 "nbformat_minor": 2
}
