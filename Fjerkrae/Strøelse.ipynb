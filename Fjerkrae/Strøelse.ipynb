{
 "cells": [
  {
   "cell_type": "markdown",
   "metadata": {},
   "source": [
    "# **Strøelse til fjerkræ**\n",
    "\n",
    "### **Beregning af CO<sub>2</sub> fra strøelse** \n",
    "\n",
    "$$CO_2e_{strøelse} = V_{h} \\cdot \\theta_{h} + V_{s} \\cdot \\theta_{s} $$\n",
    "\n",
    "Hvor:\n",
    "\n",
    "* V<sub>h</sub>: mængden af indkøbt halm = input fra bruger [ton]\n",
    "* $\\theta$<sub>h</sub> : omregningsfaktor for halm = 51.0 [kg/ton]\n",
    "* V<sub>s</sub>: mængden af indkøbt spåner/savsmuld = input fra bruger [ton]\n",
    "* $\\theta$<sub>s</sub> : omregningsfaktor for spåner/savsmuld = 15.0 [kg/ton]\n",
    "\n",
    "\n",
    "----\n",
    "\n",
    " ## **Testcases**"
   ]
  }
 ],
 "metadata": {
  "kernelspec": {
   "display_name": "Python 3.10.8 64-bit",
   "language": "python",
   "name": "python3"
  },
  "language_info": {
   "name": "python",
   "version": "3.10.8"
  },
  "orig_nbformat": 4,
  "vscode": {
   "interpreter": {
    "hash": "26de051ba29f2982a8de78e945f0abaf191376122a1563185a90213a26c5da77"
   }
  }
 },
 "nbformat": 4,
 "nbformat_minor": 2
}
