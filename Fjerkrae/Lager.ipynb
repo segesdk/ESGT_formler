{
 "cells": [
  {
   "attachments": {},
   "cell_type": "markdown",
   "metadata": {},
   "source": [
    "# **Lagerudledning fra fjerkræ**\n",
    "\n",
    "## **Intro**\n",
    "\n",
    "Udledningen fra lageret findes ved at summere udledningen fra de tre gasarter ammoniak (NH<sub>3</sub>), lattergas (N<sub>2</sub>O) og metan (CH<sub>4</sub>).\n",
    "\n",
    "De tre gasarter skal beregnes hver for sig og gemmes, så deres andel kan præsenteres i brugerfladen.\n",
    "\n",
    "### **Ammoniak** \n",
    "\n",
    "$$NH_{3_{lager}} = \\frac{L_{NH_3}}{\\lambda_{fjer}} \\cdot D \\cdot F$$\n",
    "\n",
    "Hvor:\n",
    "\n",
    "* L<sub>NH<sub>3</sub></sub>: typetal for ammoniak udledning på lageret pr dyre/staldtype = [Tabelværdi](https://seges.sharepoint.com/:x:/r/sites/GreenAction/_layouts/15/Doc.aspx?sourcedoc=%7B6f7ea27f-56d0-4e93-958d-813e05fc9ee0%7D&activeCell=%27Endelig%27!BA1&action=embedview) (kolonne BA)\n",
    "* $\\lambda$<sub>fjer</sub>: typetal = 1000.0 for slagtekyllinger og 100.0 for hønniker/høns. (Dette skyldes at emissioner i regnearket er angivet pr. 1000 slagtekyllinger, pr. 100 høns og pr. 100 hønniker)\n",
    "* D: andelen af dybstrøelse kørt på lager frem for til biogas eller ud på marken = brugerinput [%]\n",
    "* F: fast låg på gylletank = brugerinput [ja/nej]. Hvis \"ja\" og staldsystemet bruger dybstrøelse + gylle reduceres med 31%. Hvis \"ja\" og stalsystemet benytter ren gylle reduceres med 50%. Hvis \"nej\" ganges med 1\n",
    "\n",
    "\n",
    "### **Omregning til CO<sub>2</sub>e:**\n",
    "\n",
    "$$CO_2e = NH_{3_{lager}} \\cdot \\frac{44}{28} \\cdot 0.01 \\cdot \\theta_{N_2O-CO_2}$$\n",
    "\n",
    "Hvor: \n",
    "\n",
    " * $\\theta$<sub>N<sub>2</sub>O-CO<sub>2</sub></sub>: Omregningsfaktor N<sub>2</sub>O til CO<sub>2</sub> = 265.0\n",
    "\n",
    "----\n",
    "\n",
    "### **Lattergas** \n",
    "\n",
    "$$N_2O_{lager} = \\frac{L_{N_2O}}{\\lambda_{fjer}} \\cdot D$$\n",
    "\n",
    "Hvor:\n",
    "\n",
    "* L<sub>N<sub>2</sub>O</sub>: typetal for lattergas udledning på lageret pr dyre/staldtype = [Tabelværdi](https://seges.sharepoint.com/:x:/r/sites/GreenAction/_layouts/15/Doc.aspx?sourcedoc=%7B6f7ea27f-56d0-4e93-958d-813e05fc9ee0%7D&activeCell=%27Endelig%27!BC1&action=embedview) (kolonne BC)\n",
    "* $\\lambda$<sub>fjer</sub>: typetal = 1000.0 for slagtekyllinger og 100.0 for hønniker/høns. (Dette skyldes at emissioner i regnearket er angivet pr. 1000 slagtekyllinger, pr. 100 høns og pr. 100 hønniker)\n",
    "* D: andelen af dybstrøelse kørt på lager frem for til biogas eller ud på marken = brugerinput [%]\n",
    "\n",
    "### **Omregning til CO<sub>2</sub>e:**\n",
    "\n",
    "$$CO_2e = N_2O_{lager} \\cdot \\frac{44}{28} \\cdot \\theta_{N_2O-CO_2}$$\n",
    "\n",
    "Hvor: \n",
    "\n",
    " * $\\theta$<sub>N<sub>2</sub>O-CO<sub>2</sub></sub>: Omregningsfaktor N<sub>2</sub>O til CO<sub>2</sub> = 265.0\n",
    "\n",
    "----\n",
    "\n",
    "### **Metan** \n",
    "\n",
    "$$CH_{4_{lage}} = \\frac{L_{CH_4}}{\\lambda_{fjer}} \\cdot D $$\n",
    "\n",
    "Hvor:\n",
    "\n",
    "* L<sub>CH<sub>4</sub></sub>: typetal for metan udledning på lageret pr dyre/staldtype = [Tabelværdi](https://seges.sharepoint.com/:x:/r/sites/GreenAction/_layouts/15/Doc.aspx?sourcedoc=%7B6f7ea27f-56d0-4e93-958d-813e05fc9ee0%7D&activeCell=%27Endelig%27!BS1&action=embedview) (kolonne BS)\n",
    "* $\\lambda$<sub>fjer</sub>: typetal = 1000.0 for slagtekyllinger og 100.0 for hønniker/høns. (Dette skyldes at emissioner i regnearket er angivet pr. 1000 slagtekyllinger, pr. 100 høns og pr. 100 hønniker)\n",
    "* D: andelen af dybstrøelse kørt på lager frem for til biogas eller ud på marken = brugerinput [%]\n",
    "\n",
    "### **Omregning til CO<sub>2</sub>e:**\n",
    " $$CO_2e = CH_{4_{lager}} \\cdot \\theta_{CH_4-CO_2}$$\n",
    "\n",
    "Hvor: \n",
    "\n",
    "* $\\theta$<sub>CH<sub>4</sub>-CO<sub>2</sub></sub>: Omregningsfaktor CH<sub>4</sub> til CO<sub>2</sub> = 28.0\n",
    "\n",
    "\n",
    "----\n",
    "\n",
    " ## **Testcases**"
   ]
  },
  {
   "cell_type": "code",
   "execution_count": 1,
   "metadata": {
    "dotnet_interactive": {
     "language": "csharp"
    },
    "polyglot_notebook": {
     "kernelName": "csharp"
    }
   },
   "outputs": [],
   "source": [
    "// konstanter - nix pille\n",
    "double lambda_slagtekylling = 1000.0;\n",
    "double lambda_hons = 100.0;\n",
    "double CO2_lattergas = 265.0;\n",
    "double CO2_metan = 28.0;"
   ]
  },
  {
   "attachments": {},
   "cell_type": "markdown",
   "metadata": {},
   "source": [
    "**Slagtekyllinger** - Tilvækstkategori 1. Produktionstid 30 dage (levende vægt ved slagtning 1,75 kg)"
   ]
  },
  {
   "cell_type": "code",
   "execution_count": 2,
   "metadata": {
    "dotnet_interactive": {
     "language": "csharp"
    },
    "polyglot_notebook": {
     "kernelName": "csharp"
    }
   },
   "outputs": [
    {
     "name": "stdout",
     "output_type": "stream",
     "text": [
      "NH3 fra lager: 0.00052275 kg\n",
      "N2O fra lager: 6.5343750000000004E-06 kg\n",
      "CH4 fra lager: 0.00024075 kg\n",
      "NH3 omregnet til CO2e: 0.0021768803571428573 kg CO2e\n",
      "N2O omregnet til CO2e: 0.002721100446428572 kg CO2e\n",
      "CH4 omregnet til CO2e: 0.006741 kg CO2e\n",
      "I alt på lager: 0.011638980803571428 kg CO2e\n"
     ]
    }
   ],
   "source": [
    "// Input - Test andre scenarier, ved at ændre i input-værdierne herunder\n",
    "double L_NH3 = 2.091;\n",
    "double L_N2O = 0.0261375;\n",
    "double L_CH4 = 0.9630;\n",
    "double D = 0.25;\n",
    "\n",
    "// beregninger\n",
    "\n",
    "double NH3_lager = L_NH3 / lambda_slagtekylling * D;\n",
    "double N20_lager = L_N2O/ lambda_slagtekylling * D;\n",
    "double CH4_lager = L_CH4 / lambda_slagtekylling * D;\n",
    "\n",
    "double NH3_lager_CO2 = NH3_lager * 44.0/28.0 * 0.01 * CO2_lattergas;\n",
    "double N20_lager_CO2 = N20_lager * 44.0/28.0 * CO2_lattergas;\n",
    "double CH4_lager_CO2 = CH4_lager * CO2_metan;\n",
    "\n",
    "Console.WriteLine($\"NH3 fra lager: {NH3_lager} kg\");\n",
    "Console.WriteLine($\"N2O fra lager: {N20_lager} kg\");\n",
    "Console.WriteLine($\"CH4 fra lager: {CH4_lager} kg\");\n",
    "Console.WriteLine($\"NH3 omregnet til CO2e: {NH3_lager_CO2} kg CO2e\");\n",
    "Console.WriteLine($\"N2O omregnet til CO2e: {N20_lager_CO2} kg CO2e\");\n",
    "Console.WriteLine($\"CH4 omregnet til CO2e: {CH4_lager_CO2} kg CO2e\");\n",
    "Console.WriteLine($\"I alt på lager: {NH3_lager_CO2 + N20_lager_CO2 + CH4_lager_CO2} kg CO2e\");\n"
   ]
  },
  {
   "cell_type": "markdown",
   "metadata": {},
   "source": [
    "**Høns** - Friland: gulv + gødningskummer, dybstrøelse + fast"
   ]
  },
  {
   "cell_type": "code",
   "execution_count": 4,
   "metadata": {
    "dotnet_interactive": {
     "language": "csharp"
    },
    "polyglot_notebook": {
     "kernelName": "csharp"
    }
   },
   "outputs": [
    {
     "name": "stdout",
     "output_type": "stream",
     "text": [
      "NH3 fra lager: 0.0060835625 kg\n",
      "N2O fra lager: 1.0625E-06 kg\n",
      "CH4 fra lager: 0.0199846486125 kg\n",
      "NH3 omregnet til CO2e: 0.025333692410714287 kg CO2e\n",
      "N2O omregnet til CO2e: 0.0004424553571428571 kg CO2e\n",
      "CH4 omregnet til CO2e: 0.55957016115 kg CO2e\n",
      "I alt på lager: 0.5853463089178572 kg CO2e\n"
     ]
    }
   ],
   "source": [
    "// Input - Test andre scenarier, ved at ændre i input-værdierne herunder\n",
    "double L_NH3 = 1.2167125;//1.4431515;//2.0986575;//2.022315;\n",
    "double L_N2O = 0.00010625;//0.01080975;//0.04197315;//0.0404463;\n",
    "double L_CH4 = 1.99846486125;//2.1266;\n",
    "double D = 1;\n",
    "double F = 0.5;\n",
    "\n",
    "// beregninger\n",
    "\n",
    "double NH3_lager = L_NH3 / lambda_hons * D * F;\n",
    "double N20_lager = L_N2O/ lambda_hons * D;\n",
    "double CH4_lager = L_CH4 / lambda_hons * D;\n",
    "\n",
    "double NH3_lager_CO2 = NH3_lager * 44.0/28.0 * 0.01 * CO2_lattergas;\n",
    "double N20_lager_CO2 = N20_lager * 44.0/28.0 * CO2_lattergas;\n",
    "double CH4_lager_CO2 = CH4_lager * CO2_metan;\n",
    "\n",
    "Console.WriteLine($\"NH3 fra lager: {NH3_lager} kg\");\n",
    "Console.WriteLine($\"N2O fra lager: {N20_lager} kg\");\n",
    "Console.WriteLine($\"CH4 fra lager: {CH4_lager} kg\");\n",
    "Console.WriteLine($\"NH3 omregnet til CO2e: {NH3_lager_CO2} kg CO2e\");\n",
    "Console.WriteLine($\"N2O omregnet til CO2e: {N20_lager_CO2} kg CO2e\");\n",
    "Console.WriteLine($\"CH4 omregnet til CO2e: {CH4_lager_CO2} kg CO2e\");\n",
    "Console.WriteLine($\"I alt på lager: {NH3_lager_CO2 + N20_lager_CO2 + CH4_lager_CO2} kg CO2e\");"
   ]
  }
 ],
 "metadata": {
  "kernelspec": {
   "display_name": ".NET (C#)",
   "language": "C#",
   "name": ".net-csharp"
  },
  "language_info": {
   "name": "polyglot-notebook"
  },
  "polyglot_notebook": {
   "kernelInfo": {
    "defaultKernelName": "csharp",
    "items": [
     {
      "aliases": [
       "C#",
       "c#"
      ],
      "languageName": "C#",
      "name": "csharp"
     },
     {
      "aliases": [
       "frontend"
      ],
      "name": "vscode"
     }
    ]
   }
  }
 },
 "nbformat": 4,
 "nbformat_minor": 2
}
