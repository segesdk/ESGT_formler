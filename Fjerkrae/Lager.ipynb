{
 "cells": [
  {
   "attachments": {},
   "cell_type": "markdown",
   "metadata": {},
   "source": [
    "# **Lagerudledning fra fjerkræ**\n",
    "\n",
    "## **Intro**\n",
    "\n",
    "Udledningen fra lageret findes ved at summere udledningen fra de tre gasarter ammoniak (NH<sub>3</sub>), lattergas (N<sub>2</sub>O) og metan (CH<sub>4</sub>).\n",
    "\n",
    "De tre gasarter skal beregnes hver for sig og gemmes, så deres andel kan præsenteres i brugerfladen.\n",
    "\n",
    "### **Ammoniak** \n",
    "\n",
    "$$NH_{3_{lager}} = \\frac{L_{NH_3}}{\\lambda_{fjer}}*DB $$\n",
    "\n",
    "Hvor:\n",
    "\n",
    "* L<sub>NH<sub>3</sub></sub>: typetal for ammoniak udledning på lageret pr dyre/staldtype = [Tabelværdi](https://seges.sharepoint.com/:x:/r/sites/GreenAction/_layouts/15/Doc.aspx?sourcedoc=%7B6f7ea27f-56d0-4e93-958d-813e05fc9ee0%7D&activeCell=%27Endelig%27!BA1&action=embedview) (kolonne BA)\n",
    "* $\\lambda$<sub>fjer</sub>: typetal = 1000.0 for slagtekyllinger og 100.0 for hønniker/høns. (Dette skyldes at emissioner i regnearket er angivet pr. 1000 slagtekyllinger, pr. 100 høns og pr. 100 hønniker)\n",
    "* DB er dybstrøelse kørt til biogas eller ud på marken. 0, 0,25, 0,50, 0,75, 1/n"
    "\n",
    "\n",
    "### **Omregning til CO<sub>2</sub>e:**\n",
    "\n",
    "$$CO_2e = NH_{3_{lager}} \\cdot \\frac{44}{28} \\cdot 0.01 \\cdot \\theta_{N_2O-CO_2}$$\n",
    "\n",
    "Hvor: \n",
    "\n",
    " * $\\theta$<sub>N<sub>2</sub>O-CO<sub>2</sub></sub>: Omregningsfaktor N<sub>2</sub>O til CO<sub>2</sub> = 298.0\n",
    "\n",
    "----\n",
    "\n",
    "### **Lattergas** \n",
    "\n",
    "$$N_2O_{lager} = \\frac{L_{N_2O}}{\\lambda_{fjer}} $$\n",
    "\n",
    "Hvor:\n",
    "\n",
    "* L<sub>N<sub>2</sub>O</sub>: typetal for lattergas udledning på lageret pr dyre/staldtype = [Tabelværdi](https://seges.sharepoint.com/:x:/r/sites/GreenAction/_layouts/15/Doc.aspx?sourcedoc=%7B6f7ea27f-56d0-4e93-958d-813e05fc9ee0%7D&activeCell=%27Endelig%27!BC1&action=embedview) (kolonne BC)\n",
    "* $\\lambda$<sub>fjer</sub>: typetal = 1000.0 for slagtekyllinger og 100.0 for hønniker/høns. (Dette skyldes at emissioner i regnearket er angivet pr. 1000 slagtekyllinger, pr. 100 høns og pr. 100 hønniker)\n",
    "\n",
    "\n",
    "### **Omregning til CO<sub>2</sub>e:**\n",
    "\n",
    "$$CO_2e = N_2O_{lager} \\cdot \\frac{44}{28} \\cdot \\theta_{N_2O-CO_2}$$\n",
    "\n",
    "Hvor: \n",
    "\n",
    " * $\\theta$<sub>N<sub>2</sub>O-CO<sub>2</sub></sub>: Omregningsfaktor N<sub>2</sub>O til CO<sub>2</sub> = 298.0\n",
    "\n",
    "----\n",
    "\n",
    "### **Metan** \n",
    "\n",
    "$$CH_{4_{lage}} = \\frac{L_{CH_4}}{\\lambda_{fjer}}$$\n",
    "\n",
    "Hvor:\n",
    "\n",
    "* L<sub>CH<sub>4</sub></sub>: typetal for metan udledning på lageret pr dyre/staldtype = [Tabelværdi](https://seges.sharepoint.com/:x:/r/sites/GreenAction/_layouts/15/Doc.aspx?sourcedoc=%7B6f7ea27f-56d0-4e93-958d-813e05fc9ee0%7D&activeCell=%27Endelig%27!BS1&action=embedview) (kolonne BS)\n",
    "* $\\lambda$<sub>fjer</sub>: typetal = 1000.0 for slagtekyllinger og 100.0 for hønniker/høns. (Dette skyldes at emissioner i regnearket er angivet pr. 1000 slagtekyllinger, pr. 100 høns og pr. 100 hønniker)\n",
    "\n",
    "### **Omregning til CO<sub>2</sub>e:**\n",
    " $$CO_2e = CH_{4_{lager}} \\cdot \\theta_{CH_4-CO_2}$$\n",
    "\n",
    "Hvor: \n",
    "\n",
    "* $\\theta$<sub>CH<sub>4</sub>-CO<sub>2</sub></sub>: Omregningsfaktor CH<sub>4</sub> til CO<sub>2</sub> = 25.0\n",
    "\n",
    "\n",
    "----\n",
    "\n",
    " ## **Testcases**"
   ]
  },
  {
   "cell_type": "code",
   "execution_count": 20,
   "metadata": {
    "dotnet_interactive": {
     "language": "csharp"
    },
    "polyglot_notebook": {
     "kernelName": "csharp"
    }
   },
   "outputs": [],
   "source": [
    "// konstanter - nix pille\n",
    "double lambda_slagtekylling = 1000.0;\n",
    "double lambda_høns = 100.0;"
   ]
  },
  {
   "attachments": {},
   "cell_type": "markdown",
   "metadata": {},
   "source": [
    "**Slagtekyllinger** - Tilvækstkategori 1. Produktionstid 30 dage (levende vægt ved slagtning 1,75 kg)"
   ]
  },
  {
   "cell_type": "code",
   "execution_count": 21,
   "metadata": {
    "dotnet_interactive": {
     "language": "csharp"
    },
    "polyglot_notebook": {
     "kernelName": "csharp"
    }
   },
   "outputs": [
    {
     "name": "stdout",
     "output_type": "stream",
     "text": [
      "NH3 fra lager: 0,00177735 kg\n",
      "N2O fra lager: 2,2216875E-05 kg\n",
      "CH4 fra lager: 0,000963 kg\n",
      "NH3 omregnet til CO2e: 0,008323076142857143 kg CO2e\n",
      "N2O omregnet til CO2e: 0,010403845178571429 kg CO2e\n",
      "CH4 omregnet til CO2e: 0,024075 kg CO2e\n",
      "I alt på lager: 0,04280192132142857 kg CO2e\n"
     ]
    }
   ],
   "source": [
    "// Input - Test andre scenarier, ved at ændre i input-værdierne herunder\n",
    "double L_NH3 = 1.77735;\n",
    "double L_N2O = 0.022216875;\n",
    "double L_CH4 = 0.9630;\n",
    "\n",
    "// beregninger\n",
    "\n",
    "double NH3_lager = L_NH3 / lambda_slagtekylling;\n",
    "double N20_lager = L_N2O/ lambda_slagtekylling;\n",
    "double CH4_lager = L_CH4 / lambda_slagtekylling;\n",
    "\n",
    "Console.WriteLine($\"NH3 fra lager: {NH3_lager} kg\");\n",
    "Console.WriteLine($\"N2O fra lager: {N20_lager} kg\");\n",
    "Console.WriteLine($\"CH4 fra lager: {CH4_lager} kg\");\n",
    "Console.WriteLine($\"NH3 omregnet til CO2e: {NH3_lager * 44.0/28.0 * 0.01 * 298.0} kg CO2e\");\n",
    "Console.WriteLine($\"N2O omregnet til CO2e: {N20_lager * 44.0/28.0 * 298.0} kg CO2e\");\n",
    "Console.WriteLine($\"CH4 omregnet til CO2e: {CH4_lager * 25.0} kg CO2e\");\n",
    "Console.WriteLine($\"I alt på lager: {NH3_lager * 44.0/28.0 * 0.01 * 298.0 + N20_lager * 44.0/28.0 * 298.0 + CH4_lager * 25.0} kg CO2e\");\n"
   ]
  }
 ],
 "metadata": {
  "kernelspec": {
   "display_name": ".NET (C#)",
   "language": "C#",
   "name": ".net-csharp"
  },
  "language_info": {
   "name": "polyglot-notebook"
  },
  "polyglot_notebook": {
   "kernelInfo": {
    "defaultKernelName": "csharp",
    "items": [
     {
      "aliases": [
       "C#",
       "c#"
      ],
      "languageName": "C#",
      "name": "csharp"
     },
     {
      "aliases": [
       "frontend"
      ],
      "name": "vscode"
     }
    ]
   }
  }
 },
 "nbformat": 4,
 "nbformat_minor": 2
}
