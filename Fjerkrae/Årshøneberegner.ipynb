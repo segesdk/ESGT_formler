{
 "cells": [
  {
   "attachments": {},
   "cell_type": "markdown",
   "metadata": {},
   "source": [
    "# **Årshøneberegner**\n",
    "\n",
    "### **Antallet af årshøner, H, på CHR nummeret beregnes som** \n",
    "\n",
    "$$H = \\sum_{i=1}^{n} (I_i + U_i) \\cdot 0,5 \\cdot \\frac{D_i}{365} $$\n",
    "\n",
    "Hvor:\n",
    "\n",
    "* n: det totale antal hold på CHR-nummeret på et år (regnet fra 1.1 til 31.12)\n",
    "* I<sub>i</sub>: antal indsatte høns på det i'te hold (hvis holdet forløber over nytår, regnes med antallet af dyr pr 1.1)\n",
    "* U<sub>i</sub>: antal udsatte høns på det i'te hold (hvis holdet forløber over nytår, regnes med antallet af dyr pr 31.12)\n",
    "* D<sub>i</sub>: dage i perioden t.o.m 31/12 på det i'te hold\n"
   ]
  }
 ],
 "metadata": {
  "kernelspec": {
   "display_name": ".NET (C#)",
   "language": "C#",
   "name": ".net-csharp"
  },
  "language_info": {
   "name": "polyglot-notebook"
  },
  "polyglot_notebook": {
   "kernelInfo": {
    "defaultKernelName": "csharp",
    "items": [
     {
      "aliases": [],
      "name": ".NET"
     },
     {
      "aliases": [
       "C#",
       "c#"
      ],
      "languageName": "C#",
      "name": "csharp"
     },
     {
      "aliases": [
       "F#",
       "f#"
      ],
      "languageName": "F#",
      "name": "fsharp"
     },
     {
      "aliases": [],
      "languageName": "HTML",
      "name": "html"
     },
     {
      "aliases": [],
      "languageName": "KQL",
      "name": "kql"
     },
     {
      "aliases": [],
      "languageName": "Mermaid",
      "name": "mermaid"
     },
     {
      "aliases": [
       "powershell"
      ],
      "languageName": "PowerShell",
      "name": "pwsh"
     },
     {
      "aliases": [],
      "languageName": "SQL",
      "name": "sql"
     },
     {
      "aliases": [],
      "name": "value"
     },
     {
      "aliases": [
       "frontend"
      ],
      "name": "vscode"
     }
    ]
   }
  }
 },
 "nbformat": 4,
 "nbformat_minor": 2
}
