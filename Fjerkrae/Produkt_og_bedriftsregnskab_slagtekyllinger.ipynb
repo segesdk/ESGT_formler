{
 "cells": [
  {
   "attachments": {},
   "cell_type": "markdown",
   "metadata": {},
   "source": [
    "# **Produkt- og bedriftsregnskab for slagtekyllinger**\n",
    "\n",
    "## **Intro**\n",
    "Klimaaftrykket for slagtekyllinger findes ved at summere alle kyllingens udledninger og fordele CO2 mængden pr kg levende slagtekylling produceret.\n",
    "\n",
    "Se Fig 1 for et grafisk overblik over hvilke emissionskilder, der indgår i beregningen af slagtekyllingens produktaftryk.\n",
    "\n",
    "## **Beregning af slagtekyllingens produktaftryk**\n",
    "Af fig. 1 ses hvordan produktaftrykket udregnes for et givent hold. Generelt kan produktaftrykket, P, for et hold, h, skrives som:\n",
    "\n",
    "$$P_h = \\frac{CO_2e_{tot}}{V_{slagt} \\cdot 1000 }$$\n",
    "\n",
    "Hvor: \n",
    "\n",
    "* V<sub>slagt</sub>: gennemsnitlig levende vægt for en slagtekylling på holdet = input fra bruger [g]\n",
    "* CO<sub>2</sub>e<sub>tot</sub>: den totale mængde CO2e fra produktion af én slagtekylling [kg]:\n",
    "$$CO_2e_{tot} = \\sum_{i=1}^{n}CO_2e_{i}$$\n",
    "\n",
    "* n: antallet af emissionskilder inkluderet i beregningen \n",
    "* CO<sub>2</sub>e<sub>i</sub>: CO<sub>2</sub>e udledningen fra den i'te emissionskilde [kg]\n",
    "\n",
    "Beregningerne af de enkelte emissionskilder findes i:\n",
    "\n",
    "1. [El](https://github.com/segesdk/ESGT_formler/blob/main/Fjerkrae/El.ipynb)\n",
    "2. [Enterisk metan](https://github.com/segesdk/ESGT_formler/blob/main/Fjerkrae/Enterisk_metan.ipynb)\n",
    "3. [Foder](https://github.com/segesdk/ESGT_formler/blob/main/Fjerkrae/Foder.ipynb)\n",
    "4. [Indkøb af rugeæg og daggamle slagtekyllinger](https://github.com/segesdk/ESGT_formler/blob/main/Fjerkrae/Indk%C3%B8b_af_dyr.ipynb)\n",
    "5. [Udledning fra lageret](https://github.com/segesdk/ESGT_formler/blob/main/Fjerkrae/Lager.ipynb)\n",
    "6. [Udledning fra stalden](https://github.com/segesdk/ESGT_formler/blob/main/Fjerkrae/Stald.ipynb)\n",
    "7. [Strøelse](https://github.com/segesdk/ESGT_formler/blob/main/Fjerkrae/Str%C3%B8else.ipynb)\n",
    "8. [Varme](https://github.com/segesdk/ESGT_formler/blob/main/Fjerkrae/Varme.ipynb)\n",
    "\n",
    "\n",
    "---\n",
    "Fig 1: _Emissionskilder og beregningsrækkefølge for slagtekyllingens produktaftryk_. Klik [HER](https://app.diagrams.net/?tags=%7B%7D&lightbox=1&highlight=0000ff&edit=_blank&layers=1&nav=1#Hsegesdk%2FESGT_formler%2Fmain%2FFjerkrae%2FFlowcharts%2Fproduktaftryk_slagtekyllinger.drawio) for at se billedet i fuld opløsning\n",
    "\n",
    "![Produktaftryk for slagtekyllinger](Flowcharts/Produktaftryk_slagtekyllinger.png)\n",
    "\n",
    "## **Beregning af slagtekyllingens bedriftsaftryk**\n",
    "\n",
    "Bedriftsaftrykket for slagtekyllinger udregnes pr kalenderår.\n",
    "\n",
    "Aftrykket findes ved at gange antallet af producerede slagtekyllinger med produktaftrykket.\n",
    "\n",
    "Aftrykket fra de hjemmeavlede råvarer trækkes fra, da dette aftryk tilskrives marken\n",
    "\n",
    "$$B = \\sum_{i=1}^{n_s}\\sum_{j=1}^{n_h}(P_{h_{j,i}} - CO_2e_{hjemme_{j,i}}) \\cdot A_{slagt_{j,i}}$$\n",
    "\n",
    "Hvor: \n",
    "\n",
    "* n<sub>s</sub>: antallet af stalde på det givne år\n",
    "* n<sub>h</sub>: antallet af hold på den givne stald\n",
    "* P<sub>h<sub>i,j</sub></sub>: produktresultatet for det i'te hold, på den j'te stald = defineret ovenfor\n",
    "* CO<sub>2</sub>e<sub>hjemme<sub>i,j</sub></sub>: CO2e aftrykket fra de hjemmeavlede råvarer for det i'te hold, på den j'te stald = beregnes i [hjemmeavlet foder](https://github.com/segesdk/ESGT_formler/blob/main/Fjerkrae/Hjemmeavlet_foder.ipynb)\n",
    "* A<sub>slagt<sub>i,j</sub></sub>: antallet af slagtekyllinger på det i'te hold, på den j'te stald = input fra bruger [stk]\n",
    "\n",
    "\n"
   ]
  }
 ],
 "metadata": {
  "kernelspec": {
   "display_name": ".NET (C#)",
   "language": "C#",
   "name": ".net-csharp"
  },
  "language_info": {
   "name": "python",
   "version": "3.10.9"
  },
  "orig_nbformat": 4,
  "polyglot_notebook": {
   "kernelInfo": {
    "defaultKernelName": "csharp",
    "items": [
     {
      "aliases": [],
      "name": "csharp"
     }
    ]
   }
  },
  "vscode": {
   "interpreter": {
    "hash": "26de051ba29f2982a8de78e945f0abaf191376122a1563185a90213a26c5da77"
   }
  }
 },
 "nbformat": 4,
 "nbformat_minor": 2
}
