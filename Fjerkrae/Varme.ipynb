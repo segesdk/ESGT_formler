{
 "cells": [
  {
   "cell_type": "markdown",
   "metadata": {},
   "source": [
    "# **Varme til fjerkræ**\n",
    "\n",
    "### **Beregning af CO<sub>2</sub> fra varme** \n",
    "\n",
    "$$CO_2e_{varme} = V_{o} \\cdot \\theta_{o} + V_{n} \\cdot \\theta_{n} + V_{h} \\cdot \\theta_{h} + V_{tp} \\cdot \\theta_{tp} + V_{tf} \\cdot \\theta_{tf}$$\n",
    "\n",
    "Hvor:\n",
    "\n",
    "* V<sub>o</sub>: mængden af olie brugt til opvarmning = input fra bruger [L]\n",
    "* $\\theta$<sub>o</sub> : omregningsfaktor for olie = 2.626 [kg/L]\n",
    "* V<sub>n</sub>: mængden af naturgas brugt til opvarmning = input fra bruger [N3]\n",
    "* $\\theta$<sub>n</sub> : omregningsfaktor for naturgas = 0.03881 [kg/N3]\n",
    "* V<sub>h</sub>: mængden af halm brugt til opvarmning = input fra bruger [ton]\n",
    "* $\\theta$<sub>h</sub> : omregningsfaktor for halm = 51.0 [kg/ton]\n",
    "* V<sub>tp</sub>: mængden af træpiller brugt til opvarmning = input fra bruger [ton]\n",
    "* $\\theta$<sub>tp</sub> : omregningsfaktor for træpiller = 1960.0 [kg/ton]\n",
    "* V<sub>tf</sub>: mængden af træflis brugt til opvarmning = input fra bruger [ton]\n",
    "* $\\theta$<sub>tf</sub> : omregningsfaktor for træflis = 1041.6 [kg/ton]\n",
    "\n",
    "\n",
    "----\n",
    "\n",
    " ## **Testcases**"
   ]
  }
 ],
 "metadata": {
  "kernelspec": {
   "display_name": "Python 3.10.8 64-bit",
   "language": "python",
   "name": "python3"
  },
  "language_info": {
   "name": "python",
   "version": "3.10.8"
  },
  "orig_nbformat": 4,
  "vscode": {
   "interpreter": {
    "hash": "26de051ba29f2982a8de78e945f0abaf191376122a1563185a90213a26c5da77"
   }
  }
 },
 "nbformat": 4,
 "nbformat_minor": 2
}
