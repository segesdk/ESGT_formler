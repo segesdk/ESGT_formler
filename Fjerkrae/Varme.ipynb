{
 "cells": [
  {
   "attachments": {},
   "cell_type": "markdown",
   "metadata": {},
   "source": [
    "# **Varme til fjerkræ**\n",
    "\n",
    "### **Beregning af CO<sub>2</sub> fra varme** \n",
    "\n",
    "$$CO_2e_{varme} = \\frac{V_{o} \\cdot \\theta_{o} + V_{n} \\cdot \\theta_{n} + V_{h} \\cdot \\theta_{h} + V_{tp} \\cdot \\theta_{tp} + V_{tf} \\cdot \\theta_{tf}}{A_{fjær}}$$\n",
    "\n",
    "Hvor:\n",
    "\n",
    "* V<sub>o</sub>: mængden af olie brugt til opvarmning = input fra bruger [L]\n",
    "* $\\theta$<sub>o</sub> : omregningsfaktor for olie = 2.626 [kg/L]\n",
    "* V<sub>n</sub>: mængden af naturgas brugt til opvarmning = input fra bruger [N3]\n",
    "* $\\theta$<sub>n</sub> : omregningsfaktor for naturgas = 0.03881 [kg/N3]\n",
    "* V<sub>h</sub>: mængden af halm brugt til opvarmning = input fra bruger [ton]\n",
    "* $\\theta$<sub>h</sub> : omregningsfaktor for halm = 51.0 [kg/ton]\n",
    "* V<sub>tp</sub>: mængden af træpiller brugt til opvarmning = input fra bruger [ton]\n",
    "* $\\theta$<sub>tp</sub> : omregningsfaktor for træpiller = 1960.0 [kg/ton]\n",
    "* V<sub>tf</sub>: mængden af træflis brugt til opvarmning = input fra bruger [ton]\n",
    "* $\\theta$<sub>tf</sub> : omregningsfaktor for træflis = 1041.6 [kg/ton]\n",
    "* A<sub>fjær</sub>: det totale antal producerede fjærkræ som varmen skal fordeles på = input fra bruger\n",
    "\n",
    "\n",
    "----\n",
    "\n",
    " ## **Testcases**"
   ]
  },
  {
   "cell_type": "code",
   "execution_count": 1,
   "metadata": {
    "dotnet_interactive": {
     "language": "csharp"
    },
    "polyglot_notebook": {
     "kernelName": "csharp"
    }
   },
   "outputs": [],
   "source": [
    "//konstanter"
   ]
  }
 ],
 "metadata": {
  "kernelspec": {
   "display_name": ".NET (C#)",
   "language": "C#",
   "name": ".net-csharp"
  },
  "language_info": {
   "name": "polyglot-notebook"
  },
  "polyglot_notebook": {
   "kernelInfo": {
    "defaultKernelName": "csharp",
    "items": [
     {
      "aliases": [],
      "name": ".NET"
     },
     {
      "aliases": [
       "C#",
       "c#"
      ],
      "languageName": "C#",
      "name": "csharp"
     },
     {
      "aliases": [
       "F#",
       "f#"
      ],
      "languageName": "F#",
      "name": "fsharp"
     },
     {
      "aliases": [],
      "languageName": "HTML",
      "name": "html"
     },
     {
      "aliases": [],
      "languageName": "KQL",
      "name": "kql"
     },
     {
      "aliases": [],
      "languageName": "Mermaid",
      "name": "mermaid"
     },
     {
      "aliases": [
       "powershell"
      ],
      "languageName": "PowerShell",
      "name": "pwsh"
     },
     {
      "aliases": [],
      "languageName": "SQL",
      "name": "sql"
     },
     {
      "aliases": [],
      "name": "value"
     },
     {
      "aliases": [
       "frontend"
      ],
      "name": "vscode"
     }
    ]
   }
  }
 },
 "nbformat": 4,
 "nbformat_minor": 2
}
