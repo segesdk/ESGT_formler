{
 "cells": [
  {
   "attachments": {},
   "cell_type": "markdown",
   "metadata": {},
   "source": [
    "# **Varme til fjerkræ**\n",
    "\n",
    "### **Beregning af CO<sub>2</sub> fra varme** \n",
    "\n",
    "$$CO_2e_{varme} = \\frac{V_{o} \\cdot \\theta_{o} + V_{n} \\cdot \\theta_{n} + V_{h} \\cdot \\theta_{h} + V_{tp} \\cdot \\theta_{tp} + V_{tf} \\cdot \\theta_{tf}}{A_{fjer}}$$\n",
    "\n",
    "Hvor:\n",
    "\n",
    "* V<sub>o</sub>: mængden af olie brugt til opvarmning = input fra bruger [L]\n",
    "* $\\theta$<sub>o</sub> : omregningsfaktor for olie = [Tabelværdi](https://seges.sharepoint.com/:x:/r/sites/GreenAction/_layouts/15/Doc.aspx?sourcedoc=%7B9A7C8AFB-287A-47A1-A82C-6B52646CF928%7D&file=GlobalCoefficients.xlsx&activeCell=%27Coefficients%27!B13&action=embedview) [kg/L]\n",
    "* V<sub>n</sub>: mængden af naturgas brugt til opvarmning = input fra bruger [N3]\n",
    "* $\\theta$<sub>n</sub> : omregningsfaktor for naturgas = [Tabelværdi](https://seges.sharepoint.com/:x:/r/sites/GreenAction/_layouts/15/Doc.aspx?sourcedoc=%7B9A7C8AFB-287A-47A1-A82C-6B52646CF928%7D&file=GlobalCoefficients.xlsx&activeCell=%27Coefficients%27!B14&action=embedview) [kg/N3]\n",
    "* V<sub>h</sub>: mængden af halm brugt til opvarmning = input fra bruger [ton]\n",
    "* $\\theta$<sub>h</sub> : omregningsfaktor for halm = [Tabelværdi](https://seges.sharepoint.com/:x:/r/sites/GreenAction/_layouts/15/Doc.aspx?sourcedoc=%7B9A7C8AFB-287A-47A1-A82C-6B52646CF928%7D&file=GlobalCoefficients.xlsx&activeCell=%27Coefficients%27!B11&action=embedview) [kg/ton]\n",
    "* V<sub>tp</sub>: mængden af træpiller brugt til opvarmning = input fra bruger [ton]\n",
    "* $\\theta$<sub>tp</sub> : omregningsfaktor for træpiller = [Tabelværdi](https://seges.sharepoint.com/:x:/r/sites/GreenAction/_layouts/15/Doc.aspx?sourcedoc=%7B9A7C8AFB-287A-47A1-A82C-6B52646CF928%7D&file=GlobalCoefficients.xlsx&activeCell=%27Coefficients%27!B15&action=embedview) [kg/ton]\n",
    "* V<sub>tf</sub>: mængden af træflis brugt til opvarmning = input fra bruger [ton]\n",
    "* $\\theta$<sub>tf</sub> : omregningsfaktor for træflis = [Tabelværdi](https://seges.sharepoint.com/:x:/r/sites/GreenAction/_layouts/15/Doc.aspx?sourcedoc=%7B9A7C8AFB-287A-47A1-A82C-6B52646CF928%7D&file=GlobalCoefficients.xlsx&activeCell=%27Coefficients%27!B16&action=embedview) [kg/ton]\n",
    "* A<sub>fjer</sub>: det totale antal producerede fjærkræ som varmen skal fordeles på = input fra bruger - for høner beregnes antallet i [dødelighed for høns](https://github.com/segesdk/ESGT_formler/blob/main/Fjerkrae/D%C3%B8delighed_for_h%C3%B8ns.ipynb)\n",
    "\n",
    "----\n",
    "\n",
    " ## **Testcases**"
   ]
  },
  {
   "cell_type": "code",
   "execution_count": 4,
   "metadata": {
    "dotnet_interactive": {
     "language": "csharp"
    },
    "polyglot_notebook": {
     "kernelName": "csharp"
    }
   },
   "outputs": [],
   "source": [
    "// konstanter - nix pille\n",
    "double lambda_olie = 3.14;\n",
    "double lambda_naturgas = 2.21;\n",
    "double lambda_halm = 51.0;\n",
    "double lambda_traepiller = 309.0;\n",
    "double lambda_traeflis = 122.0;"
   ]
  },
  {
   "attachments": {},
   "cell_type": "markdown",
   "metadata": {},
   "source": [
    "**Slagtekyllinger** - Tilvækstkategori 1. Produktionstid 30 dage (levende vægt ved slagtning 1,75 kg)"
   ]
  },
  {
   "cell_type": "code",
   "execution_count": 5,
   "metadata": {
    "dotnet_interactive": {
     "language": "csharp"
    },
    "polyglot_notebook": {
     "kernelName": "csharp"
    }
   },
   "outputs": [
    {
     "name": "stdout",
     "output_type": "stream",
     "text": [
      "udledning fra varme: 15.23329 kg CO2e\r\n"
     ]
    }
   ],
   "source": [
    "// Input - Test andre scenarier, ved at ændre i input-værdierne herunder\n",
    "double V_o = 45.0;\n",
    "double V_n = 19.0;\n",
    "double V_h = 150.0;\n",
    "double V_tp = 20.0;\n",
    "double V_tf = 10.0;\n",
    "double A_fjaer = 1000.0;\n",
    "\n",
    "// beregninger\n",
    "\n",
    "double olie = V_o * lambda_olie;\n",
    "double naturgas = V_n * lambda_naturgas;\n",
    "double halm = V_h * lambda_halm;\n",
    "double traepiller = V_tp * lambda_traepiller;\n",
    "double traeflis = V_tf * lambda_traeflis;\n",
    "\n",
    "Console.WriteLine($\"udledning fra varme: {(olie + naturgas + halm + traepiller + traeflis ) / A_fjaer} kg CO2e\");"
   ]
  }
 ],
 "metadata": {
  "kernelspec": {
   "display_name": ".NET (C#)",
   "language": "C#",
   "name": ".net-csharp"
  },
  "language_info": {
   "name": "polyglot-notebook"
  },
  "polyglot_notebook": {
   "kernelInfo": {
    "defaultKernelName": "csharp",
    "items": [
     {
      "aliases": [],
      "name": ".NET"
     },
     {
      "aliases": [
       "C#",
       "c#"
      ],
      "languageName": "C#",
      "name": "csharp"
     },
     {
      "aliases": [
       "F#",
       "f#"
      ],
      "languageName": "F#",
      "name": "fsharp"
     },
     {
      "aliases": [],
      "languageName": "HTML",
      "name": "html"
     },
     {
      "aliases": [],
      "languageName": "KQL",
      "name": "kql"
     },
     {
      "aliases": [],
      "languageName": "Mermaid",
      "name": "mermaid"
     },
     {
      "aliases": [
       "powershell"
      ],
      "languageName": "PowerShell",
      "name": "pwsh"
     },
     {
      "aliases": [],
      "languageName": "SQL",
      "name": "sql"
     },
     {
      "aliases": [],
      "name": "value"
     },
     {
      "aliases": [
       "frontend"
      ],
      "name": "vscode"
     }
    ]
   }
  }
 },
 "nbformat": 4,
 "nbformat_minor": 2
}
