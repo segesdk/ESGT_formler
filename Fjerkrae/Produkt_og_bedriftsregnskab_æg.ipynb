{
 "cells": [
  {
   "attachments": {},
   "cell_type": "markdown",
   "metadata": {},
   "source": [
    "# **Produkt- og bedriftsregnskab for æg**\n",
    "\n",
    "## **Intro**\n",
    "Klimaaftrykket for æg findes ved at summere alle hønens udledninger, fratrække udsætterhønens bidrag og fordele det resterende CO2 på mængden af æg.\n",
    "\n",
    "Se Fig 1 for et grafisk overblik over hvilke emissionskilder, der indgår i beregningen af et ægs produktaftryk.\n",
    "\n",
    "## **Beregning af æggets produktaftryk**\n",
    "Af fig. 1 ses hvordan produktaftrykket udregnes pr holdhøne på et givent hold. Generelt kan produktaftrykket, P, for et hold, h, skrives som:\n",
    "\n",
    "$$P_h = CO_2e_{tot} - CO_2e_{slagt}$$\n",
    "\n",
    "Hvor: \n",
    "* CO<sub>2</sub>e<sub>tot</sub>: den totale mængde CO2e fra én holdhøne inkl. æg [kg]:\n",
    "$$CO_2e_{tot} = \\sum_{i=1}^{n}CO_2e_{i}$$\n",
    "\n",
    "* n: antallet af emissionskilder inkluderet i beregningen \n",
    "* CO<sub>2</sub>e<sub>i</sub>: CO<sub>2</sub>e udledningen fra den i'te emissionskilde [kg]\n",
    "\n",
    "Beregningerne af de enkelte emissionskilder findes i:\n",
    "\n",
    "1. [El](https://github.com/segesdk/ESGT_formler/blob/main/Fjerkrae/El.ipynb)\n",
    "2. [Enterisk metan](https://github.com/segesdk/ESGT_formler/blob/main/Fjerkrae/Enterisk_metan.ipynb)\n",
    "3. [Foder](https://github.com/segesdk/ESGT_formler/blob/main/Fjerkrae/Foder.ipynb)\n",
    "4. [Indkøb af hønniker](https://github.com/segesdk/ESGT_formler/blob/main/Fjerkrae/Indk%C3%B8b_af_dyr.ipynb)\n",
    "5. [Udledning fra lageret](https://github.com/segesdk/ESGT_formler/blob/main/Fjerkrae/Lager.ipynb)\n",
    "6. [Udledning fra stalden](https://github.com/segesdk/ESGT_formler/blob/main/Fjerkrae/Stald.ipynb)\n",
    "7. [Strøelse](https://github.com/segesdk/ESGT_formler/blob/main/Fjerkrae/Str%C3%B8else.ipynb)\n",
    "8. [Varme](https://github.com/segesdk/ESGT_formler/blob/main/Fjerkrae/Varme.ipynb)\n",
    "\n",
    "* CO<sub>2</sub>e<sub>slagt</sub>: CO<sub>2</sub>e udledningen fra en slagtehøne [kg] = beregnes i [Slagtehøns](https://github.com/segesdk/ESGT_formler/blob/main/Fjerkrae/H%C3%B8ns_til_slagtning.ipynb)\n",
    "\n",
    "**For at finde produktaftrykket pr kg æg, divideres med mængden af producerede æg pr holdhøne:**\n",
    "\n",
    "$$P_{æg} = \\frac{P_h}{\\frac{V_{æg}}{1000} \\cdot A_{æg}}$$\n",
    "\n",
    "* V<sub>æg</sub>: gns. vægt for et æg = input fra bruger [g]\n",
    "* A<sub>æg</sub>: antal æg produceret per holdhøne i hele holdets løbetid = input fra bruger [stk]\n",
    "\n",
    "---\n",
    "Fig 1: _Emissionskilder og beregningsrækkefølge for æggets produktaftryk_. Klik [HER](https://viewer.diagrams.net/?tags=%7B%7D&lightbox=1&highlight=0000ff&edit=_blank&layers=1&nav=1&title=produktaftryk_aeg.drawio#Uhttps%3A%2F%2Fraw.githubusercontent.com%2Fsegesdk%2FESGT_formler%2Fmain%2FFjerkrae%2FFlowcharts%2Fproduktaftryk_aeg.drawio) for at se billedet i fuld opløsning\n",
    "\n",
    "![Produktaftryk for æg](Flowcharts/Produktaftryk_aeg.png)\n",
    "\n",
    "## **Beregning af æggets bedriftsaftryk**\n",
    "\n",
    "Bedriftsaftrykket for æg udregnes pr kalenderår.\n",
    "\n",
    "Aftrykket findes ved at gange antallet af årshøner med produktaftrykket for det givne år.\n",
    "\n",
    "Aftrykket fra de hjemmeavlede råvarer trækkes fra, da dette aftryk tilskrives marken\n",
    "\n",
    "$$B = \\sum_{i=1}^{n_s}\\sum_{j=1}^{n_h}(P_{h_{j,i}} - CO_2e_{hjemme_{j,i}}) \\cdot A_{års_{j,i}}$$\n",
    "\n",
    "Hvor: \n",
    "\n",
    "* n<sub>s</sub>: antallet af stalde på det givne år\n",
    "* n<sub>h</sub>: antallet af hold på den givne stald\n",
    "* P<sub>h<sub>i,j</sub></sub>: produktresultatet for det i'te hold, på den j'te stald = defineret ovenfor\n",
    "* CO<sub>2</sub>e<sub>hjemme<sub>i,j</sub></sub>: CO2e aftrykket fra de hjemmeavlede råvarer for det i'te hold, på den j'te stald = beregnes i [hjemmeavlet foder](https://github.com/segesdk/ESGT_formler/blob/main/Fjerkrae/Hjemmeavlet_foder.ipynb)\n",
    "* A<sub>års<sub>i,j</sub></sub>: antallet af årshøner på det i'te hold, på den j'te stald = beregnes i [årshøneberegneren](https://github.com/segesdk/ESGT_formler/blob/main/Fjerkrae/%C3%85rsh%C3%B8neberegner.ipynb)\n",
    "\n",
    "\n"
   ]
  }
 ],
 "metadata": {
  "kernelspec": {
   "display_name": ".NET (C#)",
   "language": "C#",
   "name": ".net-csharp"
  },
  "language_info": {
   "name": "python",
   "version": "3.10.9"
  },
  "orig_nbformat": 4,
  "polyglot_notebook": {
   "kernelInfo": {
    "defaultKernelName": "csharp",
    "items": [
     {
      "aliases": [],
      "name": "csharp"
     }
    ]
   }
  },
  "vscode": {
   "interpreter": {
    "hash": "26de051ba29f2982a8de78e945f0abaf191376122a1563185a90213a26c5da77"
   }
  }
 },
 "nbformat": 4,
 "nbformat_minor": 2
}
