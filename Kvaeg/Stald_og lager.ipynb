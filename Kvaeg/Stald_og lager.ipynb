{
 "cells": [
  {
   "cell_type": "markdown",
   "metadata": {},
   "source": [
    "# **Stald og lager**\n",
    "\n",
    "### **Beregning af CO<sub>2</sub>e fra stald og lager** \n",
    "_NB aftrykket fra strøelsen i stalden indgår i beregningen_\n",
    "\n",
    "$$CO_{2_{stald-lager}} = \\frac{S_{CO_2e}}{\\theta_{mælk}} \\cdot (FPCM + \\varphi) \\cdot N_{ko}$$\n",
    "\n",
    "Hvor:\n",
    "* S<sub>CO<sub>2</sub>e</sub>: Udledning fra stald og lager omregnet til CO2e = _'Farm_KPIManureStorageCO2eq'_ fra ARLA API [kg CO2e/kg FPCM]\n",
    "* θ<sub>mælk</sub>: Allokeringsfaktor for mælk = _'Farm_KPIAllocKeyMilk'_ fra ARLA API\n",
    "* FPCM: Mælkeproduktion pr ko, leveret til mejeri = _'Farm_KPIFatProteinCorrectedMilkPerCow'_ fra ARLA API [kg]\n",
    "* φ: Antaget spildprocent på gården = 5%\n",
    "* N<sub>ko</sub>: Antallet af køer = _'Farm_KPICowsNHeads'_ fra ARLA API\n",
    "\n",
    " ## **Testcases**"
   ]
  },
  {
   "cell_type": "code",
   "execution_count": 2,
   "metadata": {
    "dotnet_interactive": {
     "language": "csharp"
    },
    "polyglot_notebook": {
     "kernelName": "csharp"
    },
    "vscode": {
     "languageId": "polyglot-notebook"
    }
   },
   "outputs": [
    {
     "name": "stdout",
     "output_type": "stream",
     "text": [
      "Stald og lager: 68781.4900862069 kg (68.7814900862069 ton) CO2e\r\n"
     ]
    }
   ],
   "source": [
    "double S_CO2e = 0.05;\n",
    "double theta_maelk = 0.87;\n",
    "double FPCM = 10456.95;\n",
    "double phi = 1.05;\n",
    "double N_ko = 109;\n",
    "\n",
    "\n",
    "double CO2_stald_lager = S_CO2e / theta_maelk * FPCM * phi * N_ko;\n",
    "Console.WriteLine($\"Stald og lager: {CO2_stald_lager} kg ({CO2_stald_lager / 1000} ton) CO2e\");"
   ]
  }
 ],
 "metadata": {
  "kernelspec": {
   "display_name": ".NET (C#)",
   "language": "C#",
   "name": ".net-csharp"
  },
  "language_info": {
   "name": "python"
  },
  "polyglot_notebook": {
   "kernelInfo": {
    "defaultKernelName": "csharp",
    "items": [
     {
      "aliases": [],
      "name": "csharp"
     }
    ]
   }
  }
 },
 "nbformat": 4,
 "nbformat_minor": 2
}
