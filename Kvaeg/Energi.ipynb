{
 "cells": [
  {
   "cell_type": "markdown",
   "metadata": {},
   "source": [
    "# **Energi**\n",
    "\n",
    "## **Intro**\n",
    "\n",
    "Vi får en samlet mængde energi for hele bedriften fra MF. \n",
    "For ikke at regne dobbelt bør vi derfor benytte det største af de to tal\n",
    "\n",
    "### **Beregning af CO<sub>2</sub>e fra energi**\n",
    "\n",
    "$$CO_{2_{energi}} = \\frac{E_{CO_2e} - E_{ESGT}}{\\theta_{mælk}} \\cdot (FPCM + \\varphi) \\cdot N_{ko}$$\n",
    "\n",
    "Hvor:\n",
    "* E<sub>CO<sub>2</sub>e</sub>: Energi på bedriften omregnet til CO2e = _'Farm_KPIEnergyCO2eq'_ fra ARLA API [kg CO2e/kg FPCM]\n",
    "* E<sub>ESGT</sub>: Energi mængde opgivet på marken omregnet til CO2 = _'Farm_KPIEnergyCO2eq'_ fra ARLA API [kg CO2e/kg FPCM]\n",
    "* θ<sub>mælk</sub>: Allokeringsfaktor for mælk = _'Farm_KPIAllocKeyMilk'_ fra ARLA API\n",
    "* FPCM: Mælkeproduktion pr ko, leveret til mejeri = _'Farm_KPIFatProteinCorrectedMilkPerCow'_ fra ARLA API [kg]\n",
    "* φ: Antaget spildprocent på gården = 5%\n",
    "* N<sub>ko</sub>: Antallet af køer = _'Farm_KPICowsNHeads'_ fra ARLA API\n",
    "\n",
    " ## **Testcases**"
   ]
  },
  {
   "cell_type": "code",
   "execution_count": null,
   "metadata": {
    "dotnet_interactive": {
     "language": "csharp"
    },
    "polyglot_notebook": {
     "kernelName": "csharp"
    },
    "vscode": {
     "languageId": "polyglot-notebook"
    }
   },
   "outputs": [
    {
     "name": "stdout",
     "output_type": "stream",
     "text": [
      "Importeret foder: 62686.066153531756 kg (62.686066153531755 ton) CO2e\r\n"
     ]
    }
   ],
   "source": [
    "double E_CO2e = 0.04556899398004064;\n",
    "double E_ESGT = 0.7;\n",
    "double theta_maelk = 0.87;\n",
    "double FPCM = 10456.95;\n",
    "double phi = 1.05;\n",
    "double N_ko = 109\n",
    "\n",
    "double CO2_enterisk = (E_CO2e - E_ESGT) / theta_maelk * FPCM * phi * N_ko;\n",
    "Console.WriteLine($\"Importeret foder: {CO2_enterisk} kg ({CO2_enterisk / 1000} ton) CO2e\");"
   ]
  }
 ],
 "metadata": {
  "kernelspec": {
   "display_name": ".NET (C#)",
   "language": "C#",
   "name": ".net-csharp"
  },
  "language_info": {
   "name": "python"
  },
  "polyglot_notebook": {
   "kernelInfo": {
    "defaultKernelName": "csharp",
    "items": [
     {
      "aliases": [],
      "name": "csharp"
     }
    ]
   }
  }
 },
 "nbformat": 4,
 "nbformat_minor": 2
}
