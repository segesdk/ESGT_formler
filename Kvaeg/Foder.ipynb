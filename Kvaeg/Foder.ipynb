{
 "cells": [
  {
   "cell_type": "markdown",
   "metadata": {},
   "source": [
    "# **Foder**\n",
    "\n",
    "## **Indledning**\n",
    "I ESGT regnes kun på det foder, der er importeret til bedriften. \n",
    "Det skyldes, at egenproduceret grovfoders aftryk antages at ligge i marken, og derfor ikke skal regnes dobbelt på bedriftsaftrykket\n",
    "\n",
    "### **Beregning af CO<sub>2</sub>e fra importeret foder** \n",
    "\n",
    "$$CO_{2_{importeret_foder}} = \\frac{F_{CO_2e}}{\\theta_{mælk}} \\cdot (FPCM + \\varphi) \\cdot N_{ko}$$\n",
    "\n",
    "Hvor:\n",
    "* F<sub>CO<sub>2</sub>e</sub>: Importeret foder omregnet til CO2e = _'Farm_KPIPurchasedFeedCO2eq'_ fra ARLA API [kg CO2e/kg FPCM]\n",
    "* θ<sub>mælk</sub>: Allokeringsfaktor for mælk = _'Farm_KPIAllocKeyMilk'_ fra ARLA API\n",
    "* FPCM: Mælkeproduktion pr ko, leveret til mejeri = _'Farm_KPIFatProteinCorrectedMilkPerCow'_ fra ARLA API [kg]\n",
    "* φ: Antaget spildprocent på gården = 5%\n",
    "* N<sub>ko</sub>: Antallet af køer = _'Farm_KPICowsNHeads'_ fra ARLA API\n",
    "\n",
    " ## **Testcases**"
   ]
  },
  {
   "cell_type": "code",
   "execution_count": 2,
   "metadata": {
    "dotnet_interactive": {
     "language": "csharp"
    },
    "polyglot_notebook": {
     "kernelName": "csharp"
    },
    "vscode": {
     "languageId": "polyglot-notebook"
    }
   },
   "outputs": [
    {
     "name": "stdout",
     "output_type": "stream",
     "text": [
      "Importeret foder: 275125.9603448276 kg (275.1259603448276 ton) CO2e\r\n"
     ]
    }
   ],
   "source": [
    "double F_CO2e = 0.2;\n",
    "double theta_maelk = 0.87;\n",
    "double FPCM = 10456.95;\n",
    "double phi = 1.05;\n",
    "double N_ko = 109;\n",
    "\n",
    "\n",
    "double CO2_enterisk = F_CO2e / theta_maelk * FPCM * phi * N_ko;\n",
    "Console.WriteLine($\"Importeret foder: {CO2_enterisk} kg ({CO2_enterisk / 1000} ton) CO2e\");"
   ]
  }
 ],
 "metadata": {
  "kernelspec": {
   "display_name": ".NET (C#)",
   "language": "C#",
   "name": ".net-csharp"
  },
  "language_info": {
   "name": "python"
  },
  "polyglot_notebook": {
   "kernelInfo": {
    "defaultKernelName": "csharp",
    "items": [
     {
      "aliases": [],
      "name": "csharp"
     }
    ]
   }
  }
 },
 "nbformat": 4,
 "nbformat_minor": 2
}
