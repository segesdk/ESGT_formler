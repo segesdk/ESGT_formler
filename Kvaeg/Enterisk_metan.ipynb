{
 "cells": [
  {
   "cell_type": "markdown",
   "metadata": {},
   "source": [
    "# **Enterisk metan**\n",
    "\n",
    "### **Beregning af CO<sub>2</sub>e fra fordøjelsen** \n",
    "\n",
    "$$CO_{2_{enterisk}} = \\frac{E_{CO_2e}}{\\theta_{mælk}} \\cdot FPCM \\cdot \\varphi \\cdot N_{ko}$$\n",
    "\n",
    "Hvor:\n",
    "* E<sub>CO<sub>2</sub>e</sub>: Enterisk metan fra fordøjelsen omregnet til CO2e = _'Farm_KPICH4EntericCO2eq'_ fra ARLA API [kg CO2e/kg FPCM]\n",
    "* θ<sub>mælk</sub>: Allokeringsfaktor for mælk = _'Farm_KPIAllocKeyMilk'_ fra ARLA API\n",
    "* FPCM: Mælkeproduktion pr ko, leveret til mejeri = _'Farm_KPIFatProteinCorrectedMilkPerCow'_ fra ARLA API [kg]\n",
    "* φ: Antaget spildprocent på gården = [Tabelværdi](https://seges.sharepoint.com/:x:/r/sites/GreenAction/_layouts/15/Doc.aspx?sourcedoc=%7B43CD42A8-78AF-440B-9B42-C6366867BDB9%7D&file=DairyCoefficients.xlsx&activeCell=%27Coefficients%27!B4&action=embedview)\n",
    "* N<sub>ko</sub>: Antallet af køer = _'Farm_KPICowsNHeads'_ fra ARLA API\n",
    "\n",
    " ## **Testcases**"
   ]
  },
  {
   "cell_type": "code",
   "execution_count": 3,
   "metadata": {
    "dotnet_interactive": {
     "language": "csharp"
    },
    "polyglot_notebook": {
     "kernelName": "csharp"
    },
    "vscode": {
     "languageId": "polyglot-notebook"
    }
   },
   "outputs": [
    {
     "name": "stdout",
     "output_type": "stream",
     "text": [
      "Enterisk metan: 481470.4306034483 kg (481.4704306034483 ton) CO2e\r\n"
     ]
    }
   ],
   "source": [
    "double E_CO2e = 0.35;\n",
    "double theta_maelk = 0.87;\n",
    "double FPCM = 10456.95;\n",
    "double phi = 1.05;\n",
    "double N_ko = 109;\n",
    "\n",
    "\n",
    "double CO2_enterisk = E_CO2e / theta_maelk * FPCM * phi * N_ko;\n",
    "Console.WriteLine($\"Enterisk metan: {CO2_enterisk} kg ({CO2_enterisk / 1000} ton) CO2e\");"
   ]
  }
 ],
 "metadata": {
  "kernelspec": {
   "display_name": ".NET (C#)",
   "language": "C#",
   "name": ".net-csharp"
  },
  "language_info": {
   "name": "python"
  },
  "polyglot_notebook": {
   "kernelInfo": {
    "defaultKernelName": "csharp",
    "items": [
     {
      "aliases": [],
      "name": "csharp"
     }
    ]
   }
  }
 },
 "nbformat": 4,
 "nbformat_minor": 2
}
