{
 "cells": [
  {
   "cell_type": "markdown",
   "metadata": {},
   "source": [
    "# **Enterisk metan**\n",
    "\n",
    "### **Beregning af CH<sub>4</sub> fra fordøjelsen** \n",
    "\n",
    "$$CO_{2_{enterisk}} = \\frac{E_{CO_2e}}{\\theta_{mælk}} \\cdot (FPCM + \\varphi) \\cdot N_{ko}$$\n",
    "\n",
    "Hvor:\n",
    "* E<sub>CO<sub>2</sub>e</sub>: Enterisk metan fra fordøjelsen omregnet til CO2e = _'Farm_KPICH4EntericCO2eq'_ fra ARLA API [kg CO2e/kg FPCM]\n",
    "* θ<sub>mælk</sub>: Allokeringsfaktor for mælk = _'Farm_KPIAllocKeyMilk'_ fra ARLA API\n",
    "* FPCM: Mælkeproduktion pr ko, leveret til mejeri = _'Farm_KPIFatProteinCorrectedMilkPerCow'_ fra ARLA API [kg]\n",
    "* φ: Antaget spildprocent på gården = 5%\n",
    "* N<sub>ko</sub>: Antallet af køer = _'Farm_KPICowsNHeads'_ fra ARLA API\n",
    "\n",
    " ## **Testcases**"
   ]
  },
  {
   "cell_type": "code",
   "execution_count": 4,
   "metadata": {
    "dotnet_interactive": {
     "language": "csharp"
    },
    "polyglot_notebook": {
     "kernelName": "csharp"
    },
    "vscode": {
     "languageId": "polyglot-notebook"
    }
   },
   "outputs": [
    {
     "name": "stdout",
     "output_type": "stream",
     "text": [
      "Enterisk metan: 3222148.266346154 kg (3222.148266346154 ton) CO2e\r\n"
     ]
    }
   ],
   "source": [
    "double E_CO2e = 0.35;\n",
    "double theta_maelk = 0.13;\n",
    "double FPCM = 10456.95;\n",
    "double phi = 1.05;\n",
    "double N_ko = 109;\n",
    "\n",
    "\n",
    "double CO2_enterisk = E_CO2e / theta_maelk * FPCM * phi * N_ko;\n",
    "Console.WriteLine($\"Enterisk metan: {CO2_enterisk} kg ({CO2_enterisk / 1000} ton) CO2e\");"
   ]
  }
 ],
 "metadata": {
  "kernelspec": {
   "display_name": ".NET (C#)",
   "language": "C#",
   "name": ".net-csharp"
  },
  "language_info": {
   "name": "python"
  },
  "polyglot_notebook": {
   "kernelInfo": {
    "defaultKernelName": "csharp",
    "items": [
     {
      "aliases": [],
      "name": "csharp"
     }
    ]
   }
  }
 },
 "nbformat": 4,
 "nbformat_minor": 2
}
