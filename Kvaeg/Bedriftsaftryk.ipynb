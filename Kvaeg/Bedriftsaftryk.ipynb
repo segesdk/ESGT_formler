{
 "cells": [
  {
   "cell_type": "markdown",
   "metadata": {},
   "source": [
    "# **Bedriftsaftryk for kvæg**\n",
    "\n",
    "## **Intro**\n",
    "\n",
    "Bedriftsaftrykket for kvæg beregnes ved at kombinere data fra ARLA's FarmAhead beregninger med data fra markmodulet i ESGreenTool\n",
    "Fra FarmAhead tages data om udledning fra stald og lager, fordøjelse, importerede dyr og importeret foder\n",
    "Fra ESGreenTool tages data om udledninger fra marken til produktionen af grovfoder samt eventuelle salgsafgrøder på bedriften. Dvs. aftrykket for alt egenproduceret foder antages at ligge i \"mark\" delen af bedriftsresultatet\n",
    "\n",
    "![Bedriftsaftryk for kvæg](Bedriftsaftryk_kvaeg.png)\n"
   ]
  }
 ],
 "metadata": {
  "kernelspec": {
   "display_name": ".NET (C#)",
   "language": "C#",
   "name": ".net-csharp"
  },
  "language_info": {
   "name": "python"
  },
  "polyglot_notebook": {
   "kernelInfo": {
    "defaultKernelName": "csharp",
    "items": [
     {
      "aliases": [],
      "name": "csharp"
     }
    ]
   }
  }
 },
 "nbformat": 4,
 "nbformat_minor": 2
}
