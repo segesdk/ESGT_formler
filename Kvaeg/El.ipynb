{
 "cells": [
  {
   "cell_type": "markdown",
   "metadata": {},
   "source": [
    "# **El**\n",
    "\n",
    "## **Intro**\n",
    "\n",
    "Vi får en samlet mængde el for kvægbedriften fra MF. Derudover opgives der i ESGT et totalt elforbrug for markerne.\n",
    "\n",
    "For ikke at regne dobbelt benyttes et standard tal for elforbrug pr ko i ESGreenTool\n",
    "\n",
    "### **Beregning af CO<sub>2</sub>e fra el**\n",
    "\n",
    "$$CO_{2_{el}} = N_{ko} \\cdot E_{ko} \\cdot O_{el}$$\n",
    "\n",
    "\n",
    "Hvor:\n",
    "* N<sub>ko</sub>: Antallet af køer = _'Farm_KPICowsNHeads'_ fra ARLA API\n",
    "* E<sub>ko</sub>: standard elforbrug pr ko = [Tabelværdi](https://seges.sharepoint.com/:x:/r/sites/GreenAction/_layouts/15/Doc.aspx?sourcedoc=%7B43CD42A8-78AF-440B-9B42-C6366867BDB9%7D&file=DairyCoefficients.xlsx&activeCell=%27Coefficients%27!B2&action=embedview) [kWh/ko] \n",
    "* O<sub>el</sub>: omregningsfaktor for el = [Tabelværdi](https://seges.sharepoint.com/:x:/r/sites/GreenAction/_layouts/15/Doc.aspx?sourcedoc=%7B9A7C8AFB-287A-47A1-A82C-6B52646CF928%7D&file=GlobalCoefficients.xlsx&activeCell=%27Coefficients%27!B7&action=embedview) [kg CO2/kWh]\n",
    "\n",
    " ## **Testcases**"
   ]
  },
  {
   "cell_type": "code",
   "execution_count": null,
   "metadata": {
    "dotnet_interactive": {
     "language": "csharp"
    },
    "polyglot_notebook": {
     "kernelName": "csharp"
    },
    "vscode": {
     "languageId": "polyglot-notebook"
    }
   },
   "outputs": [
    {
     "ename": "Error",
     "evalue": "(6,18): error CS1002: ; expected",
     "output_type": "error",
     "traceback": [
      "(6,18): error CS1002: ; expected"
     ]
    }
   ],
   "source": []
  }
 ],
 "metadata": {
  "kernelspec": {
   "display_name": ".NET (C#)",
   "language": "C#",
   "name": ".net-csharp"
  },
  "language_info": {
   "name": "python"
  },
  "polyglot_notebook": {
   "kernelInfo": {
    "defaultKernelName": "csharp",
    "items": [
     {
      "aliases": [],
      "name": "csharp"
     }
    ]
   }
  }
 },
 "nbformat": 4,
 "nbformat_minor": 2
}
