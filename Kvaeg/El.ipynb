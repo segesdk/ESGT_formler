{
 "cells": [
  {
   "cell_type": "markdown",
   "metadata": {},
   "source": [
    "# **El**\n",
    "\n",
    "## **Intro**\n",
    "\n",
    "Vi får en samlet mængde energi for kvægbedriften fra MF. Derudover opgives der i ESGT et totalt elforbrug for markerne.\n",
    "\n",
    "Da energiforbruget fra MF antages primært af være brugt på marken, trækkes ESGT's mark forbrug fra, så der ikke regnes dobbelt. Hvis der er opgivet et større elforbrug i ESGT end i  MF, sættes udledningen til 0.\n",
    "\n",
    "### **Beregning af CO<sub>2</sub>e fra energi**\n",
    "\n",
    "$$CO_{2_{energi}} = max(E_{MF} \\cdot (FPCM + \\varphi) \\cdot N_{ko} - max(E_{ind} - E_{egen},0),0) * O_{el}$$\n",
    "\n",
    "Hvor:\n",
    "* E<sub>MF</sub>: Totalt elforbrug pr ko fra MF = _'Farm_KPIElectricityUsePerMilkFPCM'_ fra ARLA API [kwh/kg FPCM]\n",
    "* FPCM: Mælkeproduktion pr ko, leveret til mejeri = _'Farm_KPIFatProteinCorrectedMilkPerCow'_ fra ARLA API [kg]\n",
    "* φ: Antaget spildprocent på gården = 5%\n",
    "* N<sub>ko</sub>: Antallet af køer = _'Farm_KPICowsNHeads'_ fra ARLA API\n",
    "* E<sub>ind</sub>: indkøbt el fra ESGT = indtastes af bruger [kWh]\n",
    "* E<sub>egen</sub>: egenproduceret el fra ESGT= indtastes af bruger [kWh] (OBS hvis E<sub>egen</sub> > E<sub>ind</sub>, sættes strømforbruget til 0, da man ellers risikerer greenwashing)\n",
    "* O<sub>el</sub>: omregningsfaktor for el = [Tabelværdi](https://seges.sharepoint.com/:x:/r/sites/GreenAction/_layouts/15/Doc.aspx?sourcedoc=%7B9A7C8AFB-287A-47A1-A82C-6B52646CF928%7D&file=GlobalCoefficients.xlsx&activeCell=%27Coefficients%27!B7&action=embedview) [kg CO2/kWh]\n",
    "\n",
    " ## **Testcases**"
   ]
  },
  {
   "cell_type": "code",
   "execution_count": 1,
   "metadata": {
    "dotnet_interactive": {
     "language": "csharp"
    },
    "polyglot_notebook": {
     "kernelName": "csharp"
    },
    "vscode": {
     "languageId": "polyglot-notebook"
    }
   },
   "outputs": [
    {
     "ename": "Error",
     "evalue": "(6,18): error CS1002: ; expected",
     "output_type": "error",
     "traceback": [
      "(6,18): error CS1002: ; expected"
     ]
    }
   ],
   "source": [
    "double E_CO2e = 0.04556899398004064;\n",
    "double E_ESGT = 0.7;\n",
    "double theta_maelk = 0.87;\n",
    "double FPCM = 10456.95;\n",
    "double phi = 1.05;\n",
    "double N_ko = 109\n",
    "\n",
    "double CO2_enterisk = (E_CO2e - E_ESGT) / theta_maelk * FPCM * phi * N_ko;\n",
    "Console.WriteLine($\"Importeret foder: {CO2_enterisk} kg ({CO2_enterisk / 1000} ton) CO2e\");"
   ]
  }
 ],
 "metadata": {
  "kernelspec": {
   "display_name": ".NET (C#)",
   "language": "C#",
   "name": ".net-csharp"
  },
  "language_info": {
   "name": "python"
  },
  "polyglot_notebook": {
   "kernelInfo": {
    "defaultKernelName": "csharp",
    "items": [
     {
      "aliases": [],
      "name": "csharp"
     }
    ]
   }
  }
 },
 "nbformat": 4,
 "nbformat_minor": 2
}
